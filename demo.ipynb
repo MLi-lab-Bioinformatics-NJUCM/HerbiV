{
 "cells": [
  {
   "cell_type": "code",
   "execution_count": 1,
   "outputs": [],
   "source": [
    "from herbiv import analysis"
   ],
   "metadata": {
    "collapsed": false,
    "ExecuteTime": {
     "end_time": "2023-05-28T10:05:08.077603600Z",
     "start_time": "2023-05-28T10:05:07.416924800Z"
    }
   }
  },
  {
   "cell_type": "markdown",
   "source": [
    "# 经典的正向网络药理学分析"
   ],
   "metadata": {
    "collapsed": false
   }
  },
  {
   "cell_type": "markdown",
   "source": [
    "## 对中药的分析"
   ],
   "metadata": {
    "collapsed": false
   }
  },
  {
   "cell_type": "code",
   "execution_count": 2,
   "outputs": [],
   "source": [
    "tcm, tcm_chem_links, chem, chem_protein_links, proteins = analysis.from_tcm_or_formula(['HVM0367', 'HVM1695'])"
   ],
   "metadata": {
    "collapsed": false,
    "ExecuteTime": {
     "end_time": "2023-05-28T10:05:39.074310300Z",
     "start_time": "2023-05-28T10:05:35.148361800Z"
    }
   }
  },
  {
   "cell_type": "code",
   "execution_count": 3,
   "outputs": [
    {
     "data": {
      "text/plain": "     HVMID cn_name pinyin_name                   en_name          latin_name  \\\n0  HVM0367      柴胡     CHAI HU  root of Chinese Thorowax      Radix Bupleuri   \n1  HVM1695      黄芩   HUANG QIN   root of Baikal skullcap  Radix Scutellariae   \n\n                    Properties  \\\n0  Minor cold; Pungent; Bitter   \n1                 Cold; Bitter   \n\n                                           Meridians UsePart  \\\n0                                 Liver; Gallbladder    root   \n1  Lung; Large Intestine; Stomach; Small Intestin...    root   \n\n                                            Function  \\\n0  To relieve fever, to soothe the liver, and to ...   \n1  To remove damp-heat, to quench fire and counte...   \n\n                                          Indication Toxicity  \\\n0  Common cold, influenza, malaria, acute pancrea...      NaN   \n1  Chest oppression with retching, diarrhea, jaun...      NaN   \n\n                             Clinical_manifestations  \\\n0  1. Increasing the hypotic effect of barbital i...   \n1  1. Possessing a broad-spectrum bacteriostatic ...   \n\n                         Therapeutic_en_class Therapeutic_cn_class  \\\n0                   Pungent Cool Diaphoretics                辛凉解表药   \n1  Heat-Clearing And Dampnessdrying Medicinal                清热燥湿药   \n\n      HERB_id   TCMID_id  TCM_ID_id  SymMap_id  TCMSP_id  Importance Score  \n0  HERB000638  SMHB00058     3396.0       58.0      80.0               1.0  \n1  HERB002563  SMHB00188     6700.0      188.0     371.0               1.0  ",
      "text/html": "<div>\n<style scoped>\n    .dataframe tbody tr th:only-of-type {\n        vertical-align: middle;\n    }\n\n    .dataframe tbody tr th {\n        vertical-align: top;\n    }\n\n    .dataframe thead th {\n        text-align: right;\n    }\n</style>\n<table border=\"1\" class=\"dataframe\">\n  <thead>\n    <tr style=\"text-align: right;\">\n      <th></th>\n      <th>HVMID</th>\n      <th>cn_name</th>\n      <th>pinyin_name</th>\n      <th>en_name</th>\n      <th>latin_name</th>\n      <th>Properties</th>\n      <th>Meridians</th>\n      <th>UsePart</th>\n      <th>Function</th>\n      <th>Indication</th>\n      <th>Toxicity</th>\n      <th>Clinical_manifestations</th>\n      <th>Therapeutic_en_class</th>\n      <th>Therapeutic_cn_class</th>\n      <th>HERB_id</th>\n      <th>TCMID_id</th>\n      <th>TCM_ID_id</th>\n      <th>SymMap_id</th>\n      <th>TCMSP_id</th>\n      <th>Importance Score</th>\n    </tr>\n  </thead>\n  <tbody>\n    <tr>\n      <th>0</th>\n      <td>HVM0367</td>\n      <td>柴胡</td>\n      <td>CHAI HU</td>\n      <td>root of Chinese Thorowax</td>\n      <td>Radix Bupleuri</td>\n      <td>Minor cold; Pungent; Bitter</td>\n      <td>Liver; Gallbladder</td>\n      <td>root</td>\n      <td>To relieve fever, to soothe the liver, and to ...</td>\n      <td>Common cold, influenza, malaria, acute pancrea...</td>\n      <td>NaN</td>\n      <td>1. Increasing the hypotic effect of barbital i...</td>\n      <td>Pungent Cool Diaphoretics</td>\n      <td>辛凉解表药</td>\n      <td>HERB000638</td>\n      <td>SMHB00058</td>\n      <td>3396.0</td>\n      <td>58.0</td>\n      <td>80.0</td>\n      <td>1.0</td>\n    </tr>\n    <tr>\n      <th>1</th>\n      <td>HVM1695</td>\n      <td>黄芩</td>\n      <td>HUANG QIN</td>\n      <td>root of Baikal skullcap</td>\n      <td>Radix Scutellariae</td>\n      <td>Cold; Bitter</td>\n      <td>Lung; Large Intestine; Stomach; Small Intestin...</td>\n      <td>root</td>\n      <td>To remove damp-heat, to quench fire and counte...</td>\n      <td>Chest oppression with retching, diarrhea, jaun...</td>\n      <td>NaN</td>\n      <td>1. Possessing a broad-spectrum bacteriostatic ...</td>\n      <td>Heat-Clearing And Dampnessdrying Medicinal</td>\n      <td>清热燥湿药</td>\n      <td>HERB002563</td>\n      <td>SMHB00188</td>\n      <td>6700.0</td>\n      <td>188.0</td>\n      <td>371.0</td>\n      <td>1.0</td>\n    </tr>\n  </tbody>\n</table>\n</div>"
     },
     "execution_count": 3,
     "metadata": {},
     "output_type": "execute_result"
    }
   ],
   "source": [
    "tcm.head()"
   ],
   "metadata": {
    "collapsed": false,
    "ExecuteTime": {
     "end_time": "2023-05-28T10:05:40.846446700Z",
     "start_time": "2023-05-28T10:05:40.799119300Z"
    }
   }
  },
  {
   "cell_type": "code",
   "execution_count": 4,
   "outputs": [
    {
     "data": {
      "text/plain": "     HVMID             HVCID\n0  CHAI HU           uridine\n1  CHAI HU       1,8-cineole\n2  CHAI HU  palmitoleic acid\n3  CHAI HU           xylitol\n4  CHAI HU    D-()-arabinose",
      "text/html": "<div>\n<style scoped>\n    .dataframe tbody tr th:only-of-type {\n        vertical-align: middle;\n    }\n\n    .dataframe tbody tr th {\n        vertical-align: top;\n    }\n\n    .dataframe thead th {\n        text-align: right;\n    }\n</style>\n<table border=\"1\" class=\"dataframe\">\n  <thead>\n    <tr style=\"text-align: right;\">\n      <th></th>\n      <th>HVMID</th>\n      <th>HVCID</th>\n    </tr>\n  </thead>\n  <tbody>\n    <tr>\n      <th>0</th>\n      <td>CHAI HU</td>\n      <td>uridine</td>\n    </tr>\n    <tr>\n      <th>1</th>\n      <td>CHAI HU</td>\n      <td>1,8-cineole</td>\n    </tr>\n    <tr>\n      <th>2</th>\n      <td>CHAI HU</td>\n      <td>palmitoleic acid</td>\n    </tr>\n    <tr>\n      <th>3</th>\n      <td>CHAI HU</td>\n      <td>xylitol</td>\n    </tr>\n    <tr>\n      <th>4</th>\n      <td>CHAI HU</td>\n      <td>D-()-arabinose</td>\n    </tr>\n  </tbody>\n</table>\n</div>"
     },
     "execution_count": 4,
     "metadata": {},
     "output_type": "execute_result"
    }
   ],
   "source": [
    "tcm_chem_links.head()"
   ],
   "metadata": {
    "collapsed": false,
    "ExecuteTime": {
     "end_time": "2023-05-28T10:05:46.162453300Z",
     "start_time": "2023-05-28T10:05:46.131081400Z"
    }
   }
  },
  {
   "cell_type": "code",
   "execution_count": 5,
   "outputs": [
    {
     "data": {
      "text/plain": "     HVCID         Name                          SMILES      CAS_id  \\\n0  HVC0036      glucose        C(C1C(C(C(C(O1)O)O)O)O)O         NaN   \n1  HVC0052  anti-biotin  C1C2C(C(S1)CCCCC(=O)O)NC(=O)N2  22879-79-4   \n2  HVC0071     coumarin        C1=CC=C2C(=C1)C=CC(=O)O2         NaN   \n3  HVC0081        octyl                        CCCCCCCC    111-65-9   \n4  HVC0087    octanoate                   CCCCCCCC(=O)O  68937-74-6   \n\n   PubChem_id DrugBank_id     STITCH_id     HERB_id  Importance Score  \n0         NaN         NaN  CIDm00000206  HBIN001003          1.000000  \n1         NaN         NaN  CIDm00000253  HBIN011003          1.000000  \n2         NaN         NaN  CIDm00000323  HBIN021605          1.000000  \n3       356.0         NaN  CIDm00000356  HBIN037187          0.998194  \n4       379.0         NaN  CIDm00000379  HBIN019688          1.000000  ",
      "text/html": "<div>\n<style scoped>\n    .dataframe tbody tr th:only-of-type {\n        vertical-align: middle;\n    }\n\n    .dataframe tbody tr th {\n        vertical-align: top;\n    }\n\n    .dataframe thead th {\n        text-align: right;\n    }\n</style>\n<table border=\"1\" class=\"dataframe\">\n  <thead>\n    <tr style=\"text-align: right;\">\n      <th></th>\n      <th>HVCID</th>\n      <th>Name</th>\n      <th>SMILES</th>\n      <th>CAS_id</th>\n      <th>PubChem_id</th>\n      <th>DrugBank_id</th>\n      <th>STITCH_id</th>\n      <th>HERB_id</th>\n      <th>Importance Score</th>\n    </tr>\n  </thead>\n  <tbody>\n    <tr>\n      <th>0</th>\n      <td>HVC0036</td>\n      <td>glucose</td>\n      <td>C(C1C(C(C(C(O1)O)O)O)O)O</td>\n      <td>NaN</td>\n      <td>NaN</td>\n      <td>NaN</td>\n      <td>CIDm00000206</td>\n      <td>HBIN001003</td>\n      <td>1.000000</td>\n    </tr>\n    <tr>\n      <th>1</th>\n      <td>HVC0052</td>\n      <td>anti-biotin</td>\n      <td>C1C2C(C(S1)CCCCC(=O)O)NC(=O)N2</td>\n      <td>22879-79-4</td>\n      <td>NaN</td>\n      <td>NaN</td>\n      <td>CIDm00000253</td>\n      <td>HBIN011003</td>\n      <td>1.000000</td>\n    </tr>\n    <tr>\n      <th>2</th>\n      <td>HVC0071</td>\n      <td>coumarin</td>\n      <td>C1=CC=C2C(=C1)C=CC(=O)O2</td>\n      <td>NaN</td>\n      <td>NaN</td>\n      <td>NaN</td>\n      <td>CIDm00000323</td>\n      <td>HBIN021605</td>\n      <td>1.000000</td>\n    </tr>\n    <tr>\n      <th>3</th>\n      <td>HVC0081</td>\n      <td>octyl</td>\n      <td>CCCCCCCC</td>\n      <td>111-65-9</td>\n      <td>356.0</td>\n      <td>NaN</td>\n      <td>CIDm00000356</td>\n      <td>HBIN037187</td>\n      <td>0.998194</td>\n    </tr>\n    <tr>\n      <th>4</th>\n      <td>HVC0087</td>\n      <td>octanoate</td>\n      <td>CCCCCCCC(=O)O</td>\n      <td>68937-74-6</td>\n      <td>379.0</td>\n      <td>NaN</td>\n      <td>CIDm00000379</td>\n      <td>HBIN019688</td>\n      <td>1.000000</td>\n    </tr>\n  </tbody>\n</table>\n</div>"
     },
     "execution_count": 5,
     "metadata": {},
     "output_type": "execute_result"
    }
   ],
   "source": [
    "chem.head()"
   ],
   "metadata": {
    "collapsed": false,
    "ExecuteTime": {
     "end_time": "2023-05-28T10:05:47.400173400Z",
     "start_time": "2023-05-28T10:05:47.377613500Z"
    }
   }
  },
  {
   "cell_type": "code",
   "execution_count": 6,
   "outputs": [
    {
     "data": {
      "text/plain": "     HVCID Ensembl_ID  Combined_score\n0  glucose       NOS3           0.976\n1  glucose        NaN           0.933\n2  glucose     CYP1A1           0.912\n3  glucose        NaN           0.931\n4  glucose     UGT3A1           0.906",
      "text/html": "<div>\n<style scoped>\n    .dataframe tbody tr th:only-of-type {\n        vertical-align: middle;\n    }\n\n    .dataframe tbody tr th {\n        vertical-align: top;\n    }\n\n    .dataframe thead th {\n        text-align: right;\n    }\n</style>\n<table border=\"1\" class=\"dataframe\">\n  <thead>\n    <tr style=\"text-align: right;\">\n      <th></th>\n      <th>HVCID</th>\n      <th>Ensembl_ID</th>\n      <th>Combined_score</th>\n    </tr>\n  </thead>\n  <tbody>\n    <tr>\n      <th>0</th>\n      <td>glucose</td>\n      <td>NOS3</td>\n      <td>0.976</td>\n    </tr>\n    <tr>\n      <th>1</th>\n      <td>glucose</td>\n      <td>NaN</td>\n      <td>0.933</td>\n    </tr>\n    <tr>\n      <th>2</th>\n      <td>glucose</td>\n      <td>CYP1A1</td>\n      <td>0.912</td>\n    </tr>\n    <tr>\n      <th>3</th>\n      <td>glucose</td>\n      <td>NaN</td>\n      <td>0.931</td>\n    </tr>\n    <tr>\n      <th>4</th>\n      <td>glucose</td>\n      <td>UGT3A1</td>\n      <td>0.906</td>\n    </tr>\n  </tbody>\n</table>\n</div>"
     },
     "execution_count": 6,
     "metadata": {},
     "output_type": "execute_result"
    }
   ],
   "source": [
    "chem_protein_links.head()"
   ],
   "metadata": {
    "collapsed": false,
    "ExecuteTime": {
     "end_time": "2023-05-28T10:05:48.226167700Z",
     "start_time": "2023-05-28T10:05:48.202126100Z"
    }
   }
  },
  {
   "cell_type": "code",
   "execution_count": 7,
   "outputs": [
    {
     "data": {
      "text/plain": "        Ensembl_ID                                       protein_name  \\\n0  ENSP00000014930                    Heme-binding protein 1 (p22HBP)   \n1  ENSP00000043402  Reticulon-4 receptor (Nogo receptor) (NgR) (No...   \n2  ENSP00000044462  Proteasome subunit alpha type-4 (Macropain sub...   \n3  ENSP00000075120  Solute carrier family 2, facilitated glucose t...   \n4  ENSP00000078429  Guanine nucleotide-binding protein subunit alp...   \n\n                   gene_name  \n0                  HEBP1 HBP  \n1  RTN4R NOGOR UNQ330/PRO526  \n2             PSMA4 HC9 PSC9  \n3               SLC2A3 GLUT3  \n4                 GNA11 GA11  ",
      "text/html": "<div>\n<style scoped>\n    .dataframe tbody tr th:only-of-type {\n        vertical-align: middle;\n    }\n\n    .dataframe tbody tr th {\n        vertical-align: top;\n    }\n\n    .dataframe thead th {\n        text-align: right;\n    }\n</style>\n<table border=\"1\" class=\"dataframe\">\n  <thead>\n    <tr style=\"text-align: right;\">\n      <th></th>\n      <th>Ensembl_ID</th>\n      <th>protein_name</th>\n      <th>gene_name</th>\n    </tr>\n  </thead>\n  <tbody>\n    <tr>\n      <th>0</th>\n      <td>ENSP00000014930</td>\n      <td>Heme-binding protein 1 (p22HBP)</td>\n      <td>HEBP1 HBP</td>\n    </tr>\n    <tr>\n      <th>1</th>\n      <td>ENSP00000043402</td>\n      <td>Reticulon-4 receptor (Nogo receptor) (NgR) (No...</td>\n      <td>RTN4R NOGOR UNQ330/PRO526</td>\n    </tr>\n    <tr>\n      <th>2</th>\n      <td>ENSP00000044462</td>\n      <td>Proteasome subunit alpha type-4 (Macropain sub...</td>\n      <td>PSMA4 HC9 PSC9</td>\n    </tr>\n    <tr>\n      <th>3</th>\n      <td>ENSP00000075120</td>\n      <td>Solute carrier family 2, facilitated glucose t...</td>\n      <td>SLC2A3 GLUT3</td>\n    </tr>\n    <tr>\n      <th>4</th>\n      <td>ENSP00000078429</td>\n      <td>Guanine nucleotide-binding protein subunit alp...</td>\n      <td>GNA11 GA11</td>\n    </tr>\n  </tbody>\n</table>\n</div>"
     },
     "execution_count": 7,
     "metadata": {},
     "output_type": "execute_result"
    }
   ],
   "source": [
    "proteins.head()"
   ],
   "metadata": {
    "collapsed": false,
    "ExecuteTime": {
     "end_time": "2023-05-28T10:05:49.031745900Z",
     "start_time": "2023-05-28T10:05:48.976689Z"
    }
   }
  },
  {
   "cell_type": "markdown",
   "source": [
    "## 对复方的分析"
   ],
   "metadata": {
    "collapsed": false
   }
  },
  {
   "cell_type": "code",
   "execution_count": 8,
   "outputs": [],
   "source": [
    "formula, formula_tcm_links, tcm, tcm_chem_links, chem, chem_protein_links, proteins = analysis.from_tcm_or_formula(['HVP1625'])"
   ],
   "metadata": {
    "collapsed": false,
    "ExecuteTime": {
     "end_time": "2023-05-28T10:07:55.519640800Z",
     "start_time": "2023-05-28T10:07:48.572194200Z"
    }
   }
  },
  {
   "cell_type": "code",
   "execution_count": 9,
   "outputs": [
    {
     "data": {
      "text/plain": "     HVPID  name Prescription Composition Instructions  \\\n0  HVP1625  小柴胡汤                      NaN          NaN   \n\n                                  Treatment Symptoms Source Document  \\\n0  1. For cases with chest upset but withou vomit...   shang han lun   \n\n   Importance Score  \n0               1.0  ",
      "text/html": "<div>\n<style scoped>\n    .dataframe tbody tr th:only-of-type {\n        vertical-align: middle;\n    }\n\n    .dataframe tbody tr th {\n        vertical-align: top;\n    }\n\n    .dataframe thead th {\n        text-align: right;\n    }\n</style>\n<table border=\"1\" class=\"dataframe\">\n  <thead>\n    <tr style=\"text-align: right;\">\n      <th></th>\n      <th>HVPID</th>\n      <th>name</th>\n      <th>Prescription Composition</th>\n      <th>Instructions</th>\n      <th>Treatment Symptoms</th>\n      <th>Source Document</th>\n      <th>Importance Score</th>\n    </tr>\n  </thead>\n  <tbody>\n    <tr>\n      <th>0</th>\n      <td>HVP1625</td>\n      <td>小柴胡汤</td>\n      <td>NaN</td>\n      <td>NaN</td>\n      <td>1. For cases with chest upset but withou vomit...</td>\n      <td>shang han lun</td>\n      <td>1.0</td>\n    </tr>\n  </tbody>\n</table>\n</div>"
     },
     "execution_count": 9,
     "metadata": {},
     "output_type": "execute_result"
    }
   ],
   "source": [
    "formula.head()"
   ],
   "metadata": {
    "collapsed": false,
    "ExecuteTime": {
     "end_time": "2023-05-28T10:08:03.700212300Z",
     "start_time": "2023-05-28T10:08:03.664207900Z"
    }
   }
  },
  {
   "cell_type": "code",
   "execution_count": 10,
   "outputs": [
    {
     "data": {
      "text/plain": "     HVPID    HVMID\n0  HVP1625  HVM0367\n1  HVP1625  HVM0735\n2  HVP1625  HVM0766\n3  HVP1625  HVM1695\n4  HVP1625  HVM3203",
      "text/html": "<div>\n<style scoped>\n    .dataframe tbody tr th:only-of-type {\n        vertical-align: middle;\n    }\n\n    .dataframe tbody tr th {\n        vertical-align: top;\n    }\n\n    .dataframe thead th {\n        text-align: right;\n    }\n</style>\n<table border=\"1\" class=\"dataframe\">\n  <thead>\n    <tr style=\"text-align: right;\">\n      <th></th>\n      <th>HVPID</th>\n      <th>HVMID</th>\n    </tr>\n  </thead>\n  <tbody>\n    <tr>\n      <th>0</th>\n      <td>HVP1625</td>\n      <td>HVM0367</td>\n    </tr>\n    <tr>\n      <th>1</th>\n      <td>HVP1625</td>\n      <td>HVM0735</td>\n    </tr>\n    <tr>\n      <th>2</th>\n      <td>HVP1625</td>\n      <td>HVM0766</td>\n    </tr>\n    <tr>\n      <th>3</th>\n      <td>HVP1625</td>\n      <td>HVM1695</td>\n    </tr>\n    <tr>\n      <th>4</th>\n      <td>HVP1625</td>\n      <td>HVM3203</td>\n    </tr>\n  </tbody>\n</table>\n</div>"
     },
     "execution_count": 10,
     "metadata": {},
     "output_type": "execute_result"
    }
   ],
   "source": [
    "formula_tcm_links.head()"
   ],
   "metadata": {
    "collapsed": false,
    "ExecuteTime": {
     "end_time": "2023-05-28T10:08:46.626939100Z",
     "start_time": "2023-05-28T10:08:46.595569800Z"
    }
   }
  },
  {
   "cell_type": "code",
   "execution_count": 11,
   "outputs": [
    {
     "data": {
      "text/plain": "     HVMID cn_name  pinyin_name                   en_name  \\\n0  HVM0367      柴胡      CHAI HU  root of Chinese Thorowax   \n1  HVM0735      大枣       DA ZAO       Jujube Chinese date   \n2  HVM0766      党参    DANG SHEN      root Pilose Asiabell   \n3  HVM1695      黄芩    HUANG QIN   root of Baikal skullcap   \n4  HVM3203      生姜  SHENG JIANG              Fresh Ginger   \n\n                   latin_name                   Properties  \\\n0              Radix Bupleuri  Minor cold; Pungent; Bitter   \n1     Fructus Zizyphi Jujubae                  Warm; Sweet   \n2  Radix Codonopsis pilosulae                  Mild; Sweet   \n3          Radix Scutellariae                 Cold; Bitter   \n4   Rhizoma Zingiberis Recens                Warm; Pungent   \n\n                                           Meridians        UsePart  \\\n0                                 Liver; Gallbladder           root   \n1                                    Spleen; Stomach     ripe fruit   \n2                                       Lung; Spleen           root   \n3  Lung; Large Intestine; Stomach; Small Intestin...           root   \n4                              Lung; Spleen; Stomach  fresh rhizome   \n\n                                            Function  \\\n0  To relieve fever, to soothe the liver, and to ...   \n1  To tonify the spleen and replenish qi, to nour...   \n2  To reinforce qi and invigorate the function of...   \n3  To remove damp-heat, to quench fire and counte...   \n4  To induce perspiration and dispel cold, to war...   \n\n                                          Indication Toxicity  \\\n0  Common cold, influenza, malaria, acute pancrea...      NaN   \n1  Reduced food intake due to spleen vacuity, lac...      NaN   \n2  Spleen-stomach vacuity, reduced food intake an...      NaN   \n3  Chest oppression with retching, diarrhea, jaun...      NaN   \n4  Wind-cold common cold, fever and aversion to w...      NaN   \n\n                             Clinical_manifestations  \\\n0  1. Increasing the hypotic effect of barbital i...   \n1  1. Oral administration increases the level of ...   \n2                                                NaN   \n3  1. Possessing a broad-spectrum bacteriostatic ...   \n4  1. Oral administration can stimulate the bucca...   \n\n                         Therapeutic_en_class Therapeutic_cn_class  \\\n0                   Pungent Cool Diaphoretics                辛凉解表药   \n1                        Qi Reinforcing Drugs                  补气药   \n2                        Qi Reinforcing Drugs                  补气药   \n3  Heat-Clearing And Dampnessdrying Medicinal                清热燥湿药   \n4   Pungent-Warm Exterior-Releasing Medicinal                辛温解表药   \n\n      HERB_id   TCMID_id  TCM_ID_id  SymMap_id  TCMSP_id  Importance Score  \n0  HERB000638  SMHB00058     3396.0       58.0      80.0               1.0  \n1  HERB001164  SMHB00090     1076.0       90.0     193.0               1.0  \n2  HERB001211  SMHB00096     1345.0       96.0     203.0               1.0  \n3  HERB002563  SMHB00188     6700.0      188.0     371.0               1.0  \n4  HERB005017  SMHB00367     7484.0      367.0     640.0               1.0  ",
      "text/html": "<div>\n<style scoped>\n    .dataframe tbody tr th:only-of-type {\n        vertical-align: middle;\n    }\n\n    .dataframe tbody tr th {\n        vertical-align: top;\n    }\n\n    .dataframe thead th {\n        text-align: right;\n    }\n</style>\n<table border=\"1\" class=\"dataframe\">\n  <thead>\n    <tr style=\"text-align: right;\">\n      <th></th>\n      <th>HVMID</th>\n      <th>cn_name</th>\n      <th>pinyin_name</th>\n      <th>en_name</th>\n      <th>latin_name</th>\n      <th>Properties</th>\n      <th>Meridians</th>\n      <th>UsePart</th>\n      <th>Function</th>\n      <th>Indication</th>\n      <th>Toxicity</th>\n      <th>Clinical_manifestations</th>\n      <th>Therapeutic_en_class</th>\n      <th>Therapeutic_cn_class</th>\n      <th>HERB_id</th>\n      <th>TCMID_id</th>\n      <th>TCM_ID_id</th>\n      <th>SymMap_id</th>\n      <th>TCMSP_id</th>\n      <th>Importance Score</th>\n    </tr>\n  </thead>\n  <tbody>\n    <tr>\n      <th>0</th>\n      <td>HVM0367</td>\n      <td>柴胡</td>\n      <td>CHAI HU</td>\n      <td>root of Chinese Thorowax</td>\n      <td>Radix Bupleuri</td>\n      <td>Minor cold; Pungent; Bitter</td>\n      <td>Liver; Gallbladder</td>\n      <td>root</td>\n      <td>To relieve fever, to soothe the liver, and to ...</td>\n      <td>Common cold, influenza, malaria, acute pancrea...</td>\n      <td>NaN</td>\n      <td>1. Increasing the hypotic effect of barbital i...</td>\n      <td>Pungent Cool Diaphoretics</td>\n      <td>辛凉解表药</td>\n      <td>HERB000638</td>\n      <td>SMHB00058</td>\n      <td>3396.0</td>\n      <td>58.0</td>\n      <td>80.0</td>\n      <td>1.0</td>\n    </tr>\n    <tr>\n      <th>1</th>\n      <td>HVM0735</td>\n      <td>大枣</td>\n      <td>DA ZAO</td>\n      <td>Jujube Chinese date</td>\n      <td>Fructus Zizyphi Jujubae</td>\n      <td>Warm; Sweet</td>\n      <td>Spleen; Stomach</td>\n      <td>ripe fruit</td>\n      <td>To tonify the spleen and replenish qi, to nour...</td>\n      <td>Reduced food intake due to spleen vacuity, lac...</td>\n      <td>NaN</td>\n      <td>1. Oral administration increases the level of ...</td>\n      <td>Qi Reinforcing Drugs</td>\n      <td>补气药</td>\n      <td>HERB001164</td>\n      <td>SMHB00090</td>\n      <td>1076.0</td>\n      <td>90.0</td>\n      <td>193.0</td>\n      <td>1.0</td>\n    </tr>\n    <tr>\n      <th>2</th>\n      <td>HVM0766</td>\n      <td>党参</td>\n      <td>DANG SHEN</td>\n      <td>root Pilose Asiabell</td>\n      <td>Radix Codonopsis pilosulae</td>\n      <td>Mild; Sweet</td>\n      <td>Lung; Spleen</td>\n      <td>root</td>\n      <td>To reinforce qi and invigorate the function of...</td>\n      <td>Spleen-stomach vacuity, reduced food intake an...</td>\n      <td>NaN</td>\n      <td>NaN</td>\n      <td>Qi Reinforcing Drugs</td>\n      <td>补气药</td>\n      <td>HERB001211</td>\n      <td>SMHB00096</td>\n      <td>1345.0</td>\n      <td>96.0</td>\n      <td>203.0</td>\n      <td>1.0</td>\n    </tr>\n    <tr>\n      <th>3</th>\n      <td>HVM1695</td>\n      <td>黄芩</td>\n      <td>HUANG QIN</td>\n      <td>root of Baikal skullcap</td>\n      <td>Radix Scutellariae</td>\n      <td>Cold; Bitter</td>\n      <td>Lung; Large Intestine; Stomach; Small Intestin...</td>\n      <td>root</td>\n      <td>To remove damp-heat, to quench fire and counte...</td>\n      <td>Chest oppression with retching, diarrhea, jaun...</td>\n      <td>NaN</td>\n      <td>1. Possessing a broad-spectrum bacteriostatic ...</td>\n      <td>Heat-Clearing And Dampnessdrying Medicinal</td>\n      <td>清热燥湿药</td>\n      <td>HERB002563</td>\n      <td>SMHB00188</td>\n      <td>6700.0</td>\n      <td>188.0</td>\n      <td>371.0</td>\n      <td>1.0</td>\n    </tr>\n    <tr>\n      <th>4</th>\n      <td>HVM3203</td>\n      <td>生姜</td>\n      <td>SHENG JIANG</td>\n      <td>Fresh Ginger</td>\n      <td>Rhizoma Zingiberis Recens</td>\n      <td>Warm; Pungent</td>\n      <td>Lung; Spleen; Stomach</td>\n      <td>fresh rhizome</td>\n      <td>To induce perspiration and dispel cold, to war...</td>\n      <td>Wind-cold common cold, fever and aversion to w...</td>\n      <td>NaN</td>\n      <td>1. Oral administration can stimulate the bucca...</td>\n      <td>Pungent-Warm Exterior-Releasing Medicinal</td>\n      <td>辛温解表药</td>\n      <td>HERB005017</td>\n      <td>SMHB00367</td>\n      <td>7484.0</td>\n      <td>367.0</td>\n      <td>640.0</td>\n      <td>1.0</td>\n    </tr>\n  </tbody>\n</table>\n</div>"
     },
     "execution_count": 11,
     "metadata": {},
     "output_type": "execute_result"
    }
   ],
   "source": [
    "tcm.head()"
   ],
   "metadata": {
    "collapsed": false,
    "ExecuteTime": {
     "end_time": "2023-05-28T10:08:46.804297600Z",
     "start_time": "2023-05-28T10:08:46.711076600Z"
    }
   }
  },
  {
   "cell_type": "code",
   "execution_count": 12,
   "outputs": [
    {
     "data": {
      "text/plain": "     HVMID             HVCID\n0  CHAI HU           uridine\n1  CHAI HU       1,8-cineole\n2  CHAI HU  palmitoleic acid\n3  CHAI HU           xylitol\n4  CHAI HU    D-()-arabinose",
      "text/html": "<div>\n<style scoped>\n    .dataframe tbody tr th:only-of-type {\n        vertical-align: middle;\n    }\n\n    .dataframe tbody tr th {\n        vertical-align: top;\n    }\n\n    .dataframe thead th {\n        text-align: right;\n    }\n</style>\n<table border=\"1\" class=\"dataframe\">\n  <thead>\n    <tr style=\"text-align: right;\">\n      <th></th>\n      <th>HVMID</th>\n      <th>HVCID</th>\n    </tr>\n  </thead>\n  <tbody>\n    <tr>\n      <th>0</th>\n      <td>CHAI HU</td>\n      <td>uridine</td>\n    </tr>\n    <tr>\n      <th>1</th>\n      <td>CHAI HU</td>\n      <td>1,8-cineole</td>\n    </tr>\n    <tr>\n      <th>2</th>\n      <td>CHAI HU</td>\n      <td>palmitoleic acid</td>\n    </tr>\n    <tr>\n      <th>3</th>\n      <td>CHAI HU</td>\n      <td>xylitol</td>\n    </tr>\n    <tr>\n      <th>4</th>\n      <td>CHAI HU</td>\n      <td>D-()-arabinose</td>\n    </tr>\n  </tbody>\n</table>\n</div>"
     },
     "execution_count": 12,
     "metadata": {},
     "output_type": "execute_result"
    }
   ],
   "source": [
    "tcm_chem_links.head()"
   ],
   "metadata": {
    "collapsed": false,
    "ExecuteTime": {
     "end_time": "2023-05-28T10:08:46.966285400Z",
     "start_time": "2023-05-28T10:08:46.889291400Z"
    }
   }
  },
  {
   "cell_type": "code",
   "execution_count": 13,
   "outputs": [
    {
     "data": {
      "text/plain": "     HVCID                   Name                    SMILES     CAS_id  \\\n0  HVC0018  p-hydroxybenzaldehyde         C1=CC(=CC=C1C=O)O   123-08-0   \n1  HVC0026           acetaldehyde                      CC=O    75-07-0   \n2  HVC0036                glucose  C(C1C(C(C(C(O1)O)O)O)O)O        NaN   \n3  HVC0040                 ribose      C1C(C(C(C(O1)O)O)O)O  5328-37-0   \n4  HVC0043             asparagine       C(C(C(=O)O)N)C(=O)N        NaN   \n\n   PubChem_id DrugBank_id     STITCH_id     HERB_id  Importance Score  \n0       126.0         NaN  CIDm00000126  HBIN010505             0.928  \n1       177.0         NaN  CIDm00000177  HBIN014388             1.000  \n2         NaN         NaN  CIDm00000206  HBIN001003             1.000  \n3    439195.0     DB03246  CIDm00000229  HBIN016558             0.999  \n4      6267.0         NaN  CIDm00000236  HBIN017103             1.000  ",
      "text/html": "<div>\n<style scoped>\n    .dataframe tbody tr th:only-of-type {\n        vertical-align: middle;\n    }\n\n    .dataframe tbody tr th {\n        vertical-align: top;\n    }\n\n    .dataframe thead th {\n        text-align: right;\n    }\n</style>\n<table border=\"1\" class=\"dataframe\">\n  <thead>\n    <tr style=\"text-align: right;\">\n      <th></th>\n      <th>HVCID</th>\n      <th>Name</th>\n      <th>SMILES</th>\n      <th>CAS_id</th>\n      <th>PubChem_id</th>\n      <th>DrugBank_id</th>\n      <th>STITCH_id</th>\n      <th>HERB_id</th>\n      <th>Importance Score</th>\n    </tr>\n  </thead>\n  <tbody>\n    <tr>\n      <th>0</th>\n      <td>HVC0018</td>\n      <td>p-hydroxybenzaldehyde</td>\n      <td>C1=CC(=CC=C1C=O)O</td>\n      <td>123-08-0</td>\n      <td>126.0</td>\n      <td>NaN</td>\n      <td>CIDm00000126</td>\n      <td>HBIN010505</td>\n      <td>0.928</td>\n    </tr>\n    <tr>\n      <th>1</th>\n      <td>HVC0026</td>\n      <td>acetaldehyde</td>\n      <td>CC=O</td>\n      <td>75-07-0</td>\n      <td>177.0</td>\n      <td>NaN</td>\n      <td>CIDm00000177</td>\n      <td>HBIN014388</td>\n      <td>1.000</td>\n    </tr>\n    <tr>\n      <th>2</th>\n      <td>HVC0036</td>\n      <td>glucose</td>\n      <td>C(C1C(C(C(C(O1)O)O)O)O)O</td>\n      <td>NaN</td>\n      <td>NaN</td>\n      <td>NaN</td>\n      <td>CIDm00000206</td>\n      <td>HBIN001003</td>\n      <td>1.000</td>\n    </tr>\n    <tr>\n      <th>3</th>\n      <td>HVC0040</td>\n      <td>ribose</td>\n      <td>C1C(C(C(C(O1)O)O)O)O</td>\n      <td>5328-37-0</td>\n      <td>439195.0</td>\n      <td>DB03246</td>\n      <td>CIDm00000229</td>\n      <td>HBIN016558</td>\n      <td>0.999</td>\n    </tr>\n    <tr>\n      <th>4</th>\n      <td>HVC0043</td>\n      <td>asparagine</td>\n      <td>C(C(C(=O)O)N)C(=O)N</td>\n      <td>NaN</td>\n      <td>6267.0</td>\n      <td>NaN</td>\n      <td>CIDm00000236</td>\n      <td>HBIN017103</td>\n      <td>1.000</td>\n    </tr>\n  </tbody>\n</table>\n</div>"
     },
     "execution_count": 13,
     "metadata": {},
     "output_type": "execute_result"
    }
   ],
   "source": [
    "chem.head()"
   ],
   "metadata": {
    "collapsed": false,
    "ExecuteTime": {
     "end_time": "2023-05-28T10:08:47.155285600Z",
     "start_time": "2023-05-28T10:08:46.989290200Z"
    }
   }
  },
  {
   "cell_type": "code",
   "execution_count": 14,
   "outputs": [
    {
     "data": {
      "text/plain": "                   HVCID        Ensembl_ID  Combined_score\n0  p-hydroxybenzaldehyde              NOS3           0.976\n1           acetaldehyde               NaN           0.983\n2           acetaldehyde  ESR2 ESTRB NR3A2           0.983\n3           acetaldehyde               NaN           0.933\n4           acetaldehyde            CYP1A1           0.912",
      "text/html": "<div>\n<style scoped>\n    .dataframe tbody tr th:only-of-type {\n        vertical-align: middle;\n    }\n\n    .dataframe tbody tr th {\n        vertical-align: top;\n    }\n\n    .dataframe thead th {\n        text-align: right;\n    }\n</style>\n<table border=\"1\" class=\"dataframe\">\n  <thead>\n    <tr style=\"text-align: right;\">\n      <th></th>\n      <th>HVCID</th>\n      <th>Ensembl_ID</th>\n      <th>Combined_score</th>\n    </tr>\n  </thead>\n  <tbody>\n    <tr>\n      <th>0</th>\n      <td>p-hydroxybenzaldehyde</td>\n      <td>NOS3</td>\n      <td>0.976</td>\n    </tr>\n    <tr>\n      <th>1</th>\n      <td>acetaldehyde</td>\n      <td>NaN</td>\n      <td>0.983</td>\n    </tr>\n    <tr>\n      <th>2</th>\n      <td>acetaldehyde</td>\n      <td>ESR2 ESTRB NR3A2</td>\n      <td>0.983</td>\n    </tr>\n    <tr>\n      <th>3</th>\n      <td>acetaldehyde</td>\n      <td>NaN</td>\n      <td>0.933</td>\n    </tr>\n    <tr>\n      <th>4</th>\n      <td>acetaldehyde</td>\n      <td>CYP1A1</td>\n      <td>0.912</td>\n    </tr>\n  </tbody>\n</table>\n</div>"
     },
     "execution_count": 14,
     "metadata": {},
     "output_type": "execute_result"
    }
   ],
   "source": [
    "chem_protein_links.head()"
   ],
   "metadata": {
    "collapsed": false,
    "ExecuteTime": {
     "end_time": "2023-05-28T10:08:47.746651500Z",
     "start_time": "2023-05-28T10:08:47.722652Z"
    }
   }
  },
  {
   "cell_type": "code",
   "execution_count": 15,
   "outputs": [
    {
     "data": {
      "text/plain": "        Ensembl_ID                                       protein_name  \\\n0  ENSP00000002165  Plasma alpha-L-fucosidase (EC 3.2.1.51) (Alpha...   \n1  ENSP00000013222  Indolethylamine N-methyltransferase (Indolamin...   \n2  ENSP00000014930                    Heme-binding protein 1 (p22HBP)   \n3  ENSP00000023064  b(0,+)-type amino acid transporter 1 (b(0,+)AT...   \n4  ENSP00000043402  Reticulon-4 receptor (Nogo receptor) (NgR) (No...   \n\n                      gene_name  \n0  FUCA2 PSEC0151 UNQ227/PRO260  \n1                          INMT  \n2                     HEBP1 HBP  \n3                   SLC7A9 BAT1  \n4     RTN4R NOGOR UNQ330/PRO526  ",
      "text/html": "<div>\n<style scoped>\n    .dataframe tbody tr th:only-of-type {\n        vertical-align: middle;\n    }\n\n    .dataframe tbody tr th {\n        vertical-align: top;\n    }\n\n    .dataframe thead th {\n        text-align: right;\n    }\n</style>\n<table border=\"1\" class=\"dataframe\">\n  <thead>\n    <tr style=\"text-align: right;\">\n      <th></th>\n      <th>Ensembl_ID</th>\n      <th>protein_name</th>\n      <th>gene_name</th>\n    </tr>\n  </thead>\n  <tbody>\n    <tr>\n      <th>0</th>\n      <td>ENSP00000002165</td>\n      <td>Plasma alpha-L-fucosidase (EC 3.2.1.51) (Alpha...</td>\n      <td>FUCA2 PSEC0151 UNQ227/PRO260</td>\n    </tr>\n    <tr>\n      <th>1</th>\n      <td>ENSP00000013222</td>\n      <td>Indolethylamine N-methyltransferase (Indolamin...</td>\n      <td>INMT</td>\n    </tr>\n    <tr>\n      <th>2</th>\n      <td>ENSP00000014930</td>\n      <td>Heme-binding protein 1 (p22HBP)</td>\n      <td>HEBP1 HBP</td>\n    </tr>\n    <tr>\n      <th>3</th>\n      <td>ENSP00000023064</td>\n      <td>b(0,+)-type amino acid transporter 1 (b(0,+)AT...</td>\n      <td>SLC7A9 BAT1</td>\n    </tr>\n    <tr>\n      <th>4</th>\n      <td>ENSP00000043402</td>\n      <td>Reticulon-4 receptor (Nogo receptor) (NgR) (No...</td>\n      <td>RTN4R NOGOR UNQ330/PRO526</td>\n    </tr>\n  </tbody>\n</table>\n</div>"
     },
     "execution_count": 15,
     "metadata": {},
     "output_type": "execute_result"
    }
   ],
   "source": [
    "proteins.head()"
   ],
   "metadata": {
    "collapsed": false,
    "ExecuteTime": {
     "end_time": "2023-05-28T10:08:48.842852700Z",
     "start_time": "2023-05-28T10:08:48.802777100Z"
    }
   }
  },
  {
   "cell_type": "markdown",
   "source": [
    "# 逆向网络药理学分析"
   ],
   "metadata": {
    "collapsed": false
   }
  },
  {
   "cell_type": "code",
   "execution_count": null,
   "outputs": [],
   "source": [
    "formula, tcm, tcm_chem_links, chem, chem_protein_links, proteins, tcms, formulas = analysis.from_proteins(['ENSP00000381588', 'ENSP00000252519'],\n",
    "                                                                                                 score=0,\n",
    "                                                                                                 random_state=138192)"
   ],
   "metadata": {
    "collapsed": false,
    "ExecuteTime": {
     "start_time": "2023-05-28T10:04:55.338376500Z"
    }
   }
  },
  {
   "cell_type": "code",
   "execution_count": null,
   "outputs": [],
   "source": [
    "formula"
   ],
   "metadata": {
    "collapsed": false,
    "ExecuteTime": {
     "start_time": "2023-05-28T10:04:55.345384400Z"
    }
   }
  },
  {
   "cell_type": "code",
   "execution_count": null,
   "outputs": [],
   "source": [
    "formulas.to_csv('formulas.csv', index=False)"
   ],
   "metadata": {
    "collapsed": false,
    "ExecuteTime": {
     "start_time": "2023-05-28T10:04:55.353386600Z"
    }
   }
  },
  {
   "cell_type": "code",
   "execution_count": null,
   "outputs": [],
   "source": [
    "tcm"
   ],
   "metadata": {
    "collapsed": false,
    "ExecuteTime": {
     "start_time": "2023-05-28T10:04:55.359378700Z"
    }
   }
  },
  {
   "cell_type": "code",
   "execution_count": null,
   "outputs": [],
   "source": [
    "tcm_chem_links.head()"
   ],
   "metadata": {
    "collapsed": false,
    "ExecuteTime": {
     "start_time": "2023-05-28T10:04:55.365374600Z"
    }
   }
  },
  {
   "cell_type": "code",
   "execution_count": null,
   "outputs": [],
   "source": [
    "chem.head()"
   ],
   "metadata": {
    "collapsed": false
   }
  },
  {
   "cell_type": "code",
   "execution_count": null,
   "outputs": [],
   "source": [
    "chem_protein_links.head()"
   ],
   "metadata": {
    "collapsed": false
   }
  },
  {
   "cell_type": "code",
   "execution_count": null,
   "outputs": [],
   "source": [
    "proteins"
   ],
   "metadata": {
    "collapsed": false
   }
  },
  {
   "cell_type": "markdown",
   "source": [
    "# 给定中药和靶点进行分析"
   ],
   "metadata": {
    "collapsed": false
   }
  },
  {
   "cell_type": "code",
   "execution_count": null,
   "outputs": [],
   "source": [
    "tcm, tcm_chem_links, chem, chem_protein_links, proteins = analysis.from_tcm_protein(['柴胡', '黄芩'], ['ENSP00000381588', 'ENSP00000252519'])"
   ],
   "metadata": {
    "collapsed": false
   }
  },
  {
   "cell_type": "code",
   "execution_count": null,
   "outputs": [],
   "source": [
    "tcm"
   ],
   "metadata": {
    "collapsed": false
   }
  },
  {
   "cell_type": "code",
   "execution_count": null,
   "outputs": [],
   "source": [
    "tcm_chem_links.head()"
   ],
   "metadata": {
    "collapsed": false
   }
  },
  {
   "cell_type": "code",
   "execution_count": null,
   "outputs": [],
   "source": [
    "chem.head()"
   ],
   "metadata": {
    "collapsed": false
   }
  },
  {
   "cell_type": "code",
   "execution_count": null,
   "outputs": [],
   "source": [
    "chem_protein_links.head()"
   ],
   "metadata": {
    "collapsed": false
   }
  },
  {
   "cell_type": "code",
   "execution_count": null,
   "outputs": [],
   "source": [
    "proteins"
   ],
   "metadata": {
    "collapsed": false
   }
  }
 ],
 "metadata": {
  "kernelspec": {
   "display_name": "Python 3",
   "language": "python",
   "name": "python3"
  },
  "language_info": {
   "codemirror_mode": {
    "name": "ipython",
    "version": 2
   },
   "file_extension": ".py",
   "mimetype": "text/x-python",
   "name": "python",
   "nbconvert_exporter": "python",
   "pygments_lexer": "ipython2",
   "version": "2.7.6"
  }
 },
 "nbformat": 4,
 "nbformat_minor": 0
}
