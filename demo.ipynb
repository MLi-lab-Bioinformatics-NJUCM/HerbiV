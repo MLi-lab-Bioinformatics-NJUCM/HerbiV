{
 "cells": [
  {
   "cell_type": "code",
   "execution_count": 1,
   "outputs": [],
   "source": [
    "from herbiv import analysis"
   ],
   "metadata": {
    "collapsed": false,
    "ExecuteTime": {
     "start_time": "2023-04-19T17:43:23.543946Z",
     "end_time": "2023-04-19T17:43:24.187400Z"
    }
   }
  },
  {
   "cell_type": "markdown",
   "source": [
    "# 经典的正向网络药理学分析"
   ],
   "metadata": {
    "collapsed": false
   }
  },
  {
   "cell_type": "code",
   "execution_count": 2,
   "outputs": [],
   "source": [
    "tcm, tcm_chem_links, chem, chem_protein_links, proteins = analysis.from_tcm(['柴胡', '黄芩'])"
   ],
   "metadata": {
    "collapsed": false,
    "ExecuteTime": {
     "start_time": "2023-04-19T17:43:24.189428Z",
     "end_time": "2023-04-19T17:43:27.821492Z"
    }
   }
  },
  {
   "cell_type": "code",
   "execution_count": 3,
   "outputs": [
    {
     "data": {
      "text/plain": "     HVMID cn_name pinyin_name                   en_name          latin_name  \\\n0  HVM0367      柴胡     CHAI HU  root of Chinese Thorowax      Radix Bupleuri   \n1  HVM1695      黄芩   HUANG QIN   root of Baikal skullcap  Radix Scutellariae   \n\n                    Properties  \\\n0  Minor cold; Pungent; Bitter   \n1                 Cold; Bitter   \n\n                                           Meridians UsePart  \\\n0                                 Liver; Gallbladder    root   \n1  Lung; Large Intestine; Stomach; Small Intestin...    root   \n\n                                            Function  \\\n0  To relieve fever, to soothe the liver, and to ...   \n1  To remove damp-heat, to quench fire and counte...   \n\n                                          Indication Toxicity  \\\n0  Common cold, influenza, malaria, acute pancrea...      NaN   \n1  Chest oppression with retching, diarrhea, jaun...      NaN   \n\n                             Clinical_manifestations  \\\n0  1. Increasing the hypotic effect of barbital i...   \n1  1. Possessing a broad-spectrum bacteriostatic ...   \n\n                         Therapeutic_en_class Therapeutic_cn_class  \\\n0                   Pungent Cool Diaphoretics                辛凉解表药   \n1  Heat-Clearing And Dampnessdrying Medicinal                清热燥湿药   \n\n      HERB_id   TCMID_id  TCM_ID_id  SymMap_id  TCMSP_id  Importance Score  \n0  HERB000638  SMHB00058     3396.0       58.0      80.0               1.0  \n1  HERB002563  SMHB00188     6700.0      188.0     371.0               1.0  ",
      "text/html": "<div>\n<style scoped>\n    .dataframe tbody tr th:only-of-type {\n        vertical-align: middle;\n    }\n\n    .dataframe tbody tr th {\n        vertical-align: top;\n    }\n\n    .dataframe thead th {\n        text-align: right;\n    }\n</style>\n<table border=\"1\" class=\"dataframe\">\n  <thead>\n    <tr style=\"text-align: right;\">\n      <th></th>\n      <th>HVMID</th>\n      <th>cn_name</th>\n      <th>pinyin_name</th>\n      <th>en_name</th>\n      <th>latin_name</th>\n      <th>Properties</th>\n      <th>Meridians</th>\n      <th>UsePart</th>\n      <th>Function</th>\n      <th>Indication</th>\n      <th>Toxicity</th>\n      <th>Clinical_manifestations</th>\n      <th>Therapeutic_en_class</th>\n      <th>Therapeutic_cn_class</th>\n      <th>HERB_id</th>\n      <th>TCMID_id</th>\n      <th>TCM_ID_id</th>\n      <th>SymMap_id</th>\n      <th>TCMSP_id</th>\n      <th>Importance Score</th>\n    </tr>\n  </thead>\n  <tbody>\n    <tr>\n      <th>0</th>\n      <td>HVM0367</td>\n      <td>柴胡</td>\n      <td>CHAI HU</td>\n      <td>root of Chinese Thorowax</td>\n      <td>Radix Bupleuri</td>\n      <td>Minor cold; Pungent; Bitter</td>\n      <td>Liver; Gallbladder</td>\n      <td>root</td>\n      <td>To relieve fever, to soothe the liver, and to ...</td>\n      <td>Common cold, influenza, malaria, acute pancrea...</td>\n      <td>NaN</td>\n      <td>1. Increasing the hypotic effect of barbital i...</td>\n      <td>Pungent Cool Diaphoretics</td>\n      <td>辛凉解表药</td>\n      <td>HERB000638</td>\n      <td>SMHB00058</td>\n      <td>3396.0</td>\n      <td>58.0</td>\n      <td>80.0</td>\n      <td>1.0</td>\n    </tr>\n    <tr>\n      <th>1</th>\n      <td>HVM1695</td>\n      <td>黄芩</td>\n      <td>HUANG QIN</td>\n      <td>root of Baikal skullcap</td>\n      <td>Radix Scutellariae</td>\n      <td>Cold; Bitter</td>\n      <td>Lung; Large Intestine; Stomach; Small Intestin...</td>\n      <td>root</td>\n      <td>To remove damp-heat, to quench fire and counte...</td>\n      <td>Chest oppression with retching, diarrhea, jaun...</td>\n      <td>NaN</td>\n      <td>1. Possessing a broad-spectrum bacteriostatic ...</td>\n      <td>Heat-Clearing And Dampnessdrying Medicinal</td>\n      <td>清热燥湿药</td>\n      <td>HERB002563</td>\n      <td>SMHB00188</td>\n      <td>6700.0</td>\n      <td>188.0</td>\n      <td>371.0</td>\n      <td>1.0</td>\n    </tr>\n  </tbody>\n</table>\n</div>"
     },
     "execution_count": 3,
     "metadata": {},
     "output_type": "execute_result"
    }
   ],
   "source": [
    "tcm"
   ],
   "metadata": {
    "collapsed": false,
    "ExecuteTime": {
     "start_time": "2023-04-19T17:43:27.828578Z",
     "end_time": "2023-04-19T17:43:27.874488Z"
    }
   }
  },
  {
   "cell_type": "code",
   "execution_count": 4,
   "outputs": [
    {
     "data": {
      "text/plain": "     HVMID    HVCID\n0  HVM0367  HVC0284\n1  HVM0367  HVC0396\n2  HVM0367  HVC0573\n3  HVM0367  HVC0177\n4  HVM0367  HVC0188",
      "text/html": "<div>\n<style scoped>\n    .dataframe tbody tr th:only-of-type {\n        vertical-align: middle;\n    }\n\n    .dataframe tbody tr th {\n        vertical-align: top;\n    }\n\n    .dataframe thead th {\n        text-align: right;\n    }\n</style>\n<table border=\"1\" class=\"dataframe\">\n  <thead>\n    <tr style=\"text-align: right;\">\n      <th></th>\n      <th>HVMID</th>\n      <th>HVCID</th>\n    </tr>\n  </thead>\n  <tbody>\n    <tr>\n      <th>0</th>\n      <td>HVM0367</td>\n      <td>HVC0284</td>\n    </tr>\n    <tr>\n      <th>1</th>\n      <td>HVM0367</td>\n      <td>HVC0396</td>\n    </tr>\n    <tr>\n      <th>2</th>\n      <td>HVM0367</td>\n      <td>HVC0573</td>\n    </tr>\n    <tr>\n      <th>3</th>\n      <td>HVM0367</td>\n      <td>HVC0177</td>\n    </tr>\n    <tr>\n      <th>4</th>\n      <td>HVM0367</td>\n      <td>HVC0188</td>\n    </tr>\n  </tbody>\n</table>\n</div>"
     },
     "execution_count": 4,
     "metadata": {},
     "output_type": "execute_result"
    }
   ],
   "source": [
    "tcm_chem_links.head()"
   ],
   "metadata": {
    "collapsed": false,
    "ExecuteTime": {
     "start_time": "2023-04-19T17:43:27.861519Z",
     "end_time": "2023-04-19T17:43:27.874488Z"
    }
   }
  },
  {
   "cell_type": "code",
   "execution_count": 5,
   "outputs": [
    {
     "data": {
      "text/plain": "     HVCID         Name                          SMILES      CAS_id  \\\n0  HVC0036      glucose        C(C1C(C(C(C(O1)O)O)O)O)O         NaN   \n1  HVC0052  anti-biotin  C1C2C(C(S1)CCCCC(=O)O)NC(=O)N2  22879-79-4   \n2  HVC0071     coumarin        C1=CC=C2C(=C1)C=CC(=O)O2         NaN   \n3  HVC0081        octyl                        CCCCCCCC    111-65-9   \n4  HVC0087    octanoate                   CCCCCCCC(=O)O  68937-74-6   \n\n   PubChem_id DrugBank_id     STITCH_id     HERB_id  Importance Score  \n0         NaN         NaN  CIDm00000206  HBIN001003          1.000000  \n1         NaN         NaN  CIDm00000253  HBIN011003          1.000000  \n2         NaN         NaN  CIDm00000323  HBIN021605          1.000000  \n3       356.0         NaN  CIDm00000356  HBIN037187          0.998194  \n4       379.0         NaN  CIDm00000379  HBIN019688          1.000000  ",
      "text/html": "<div>\n<style scoped>\n    .dataframe tbody tr th:only-of-type {\n        vertical-align: middle;\n    }\n\n    .dataframe tbody tr th {\n        vertical-align: top;\n    }\n\n    .dataframe thead th {\n        text-align: right;\n    }\n</style>\n<table border=\"1\" class=\"dataframe\">\n  <thead>\n    <tr style=\"text-align: right;\">\n      <th></th>\n      <th>HVCID</th>\n      <th>Name</th>\n      <th>SMILES</th>\n      <th>CAS_id</th>\n      <th>PubChem_id</th>\n      <th>DrugBank_id</th>\n      <th>STITCH_id</th>\n      <th>HERB_id</th>\n      <th>Importance Score</th>\n    </tr>\n  </thead>\n  <tbody>\n    <tr>\n      <th>0</th>\n      <td>HVC0036</td>\n      <td>glucose</td>\n      <td>C(C1C(C(C(C(O1)O)O)O)O)O</td>\n      <td>NaN</td>\n      <td>NaN</td>\n      <td>NaN</td>\n      <td>CIDm00000206</td>\n      <td>HBIN001003</td>\n      <td>1.000000</td>\n    </tr>\n    <tr>\n      <th>1</th>\n      <td>HVC0052</td>\n      <td>anti-biotin</td>\n      <td>C1C2C(C(S1)CCCCC(=O)O)NC(=O)N2</td>\n      <td>22879-79-4</td>\n      <td>NaN</td>\n      <td>NaN</td>\n      <td>CIDm00000253</td>\n      <td>HBIN011003</td>\n      <td>1.000000</td>\n    </tr>\n    <tr>\n      <th>2</th>\n      <td>HVC0071</td>\n      <td>coumarin</td>\n      <td>C1=CC=C2C(=C1)C=CC(=O)O2</td>\n      <td>NaN</td>\n      <td>NaN</td>\n      <td>NaN</td>\n      <td>CIDm00000323</td>\n      <td>HBIN021605</td>\n      <td>1.000000</td>\n    </tr>\n    <tr>\n      <th>3</th>\n      <td>HVC0081</td>\n      <td>octyl</td>\n      <td>CCCCCCCC</td>\n      <td>111-65-9</td>\n      <td>356.0</td>\n      <td>NaN</td>\n      <td>CIDm00000356</td>\n      <td>HBIN037187</td>\n      <td>0.998194</td>\n    </tr>\n    <tr>\n      <th>4</th>\n      <td>HVC0087</td>\n      <td>octanoate</td>\n      <td>CCCCCCCC(=O)O</td>\n      <td>68937-74-6</td>\n      <td>379.0</td>\n      <td>NaN</td>\n      <td>CIDm00000379</td>\n      <td>HBIN019688</td>\n      <td>1.000000</td>\n    </tr>\n  </tbody>\n</table>\n</div>"
     },
     "execution_count": 5,
     "metadata": {},
     "output_type": "execute_result"
    }
   ],
   "source": [
    "chem.head()"
   ],
   "metadata": {
    "collapsed": false,
    "ExecuteTime": {
     "start_time": "2023-04-19T17:43:27.874488Z",
     "end_time": "2023-04-19T17:43:27.950487Z"
    }
   }
  },
  {
   "cell_type": "code",
   "execution_count": 6,
   "outputs": [
    {
     "data": {
      "text/plain": "     HVCID       Ensembl_ID  Combined_score\n0  HVC5547  ENSP00000297494           0.976\n1  HVC5512  ENSP00000260630           0.933\n2  HVC5512  ENSP00000369050           0.912\n3  HVC5493  ENSP00000260433           0.931\n4  HVC5480  ENSP00000274278           0.906",
      "text/html": "<div>\n<style scoped>\n    .dataframe tbody tr th:only-of-type {\n        vertical-align: middle;\n    }\n\n    .dataframe tbody tr th {\n        vertical-align: top;\n    }\n\n    .dataframe thead th {\n        text-align: right;\n    }\n</style>\n<table border=\"1\" class=\"dataframe\">\n  <thead>\n    <tr style=\"text-align: right;\">\n      <th></th>\n      <th>HVCID</th>\n      <th>Ensembl_ID</th>\n      <th>Combined_score</th>\n    </tr>\n  </thead>\n  <tbody>\n    <tr>\n      <th>0</th>\n      <td>HVC5547</td>\n      <td>ENSP00000297494</td>\n      <td>0.976</td>\n    </tr>\n    <tr>\n      <th>1</th>\n      <td>HVC5512</td>\n      <td>ENSP00000260630</td>\n      <td>0.933</td>\n    </tr>\n    <tr>\n      <th>2</th>\n      <td>HVC5512</td>\n      <td>ENSP00000369050</td>\n      <td>0.912</td>\n    </tr>\n    <tr>\n      <th>3</th>\n      <td>HVC5493</td>\n      <td>ENSP00000260433</td>\n      <td>0.931</td>\n    </tr>\n    <tr>\n      <th>4</th>\n      <td>HVC5480</td>\n      <td>ENSP00000274278</td>\n      <td>0.906</td>\n    </tr>\n  </tbody>\n</table>\n</div>"
     },
     "execution_count": 6,
     "metadata": {},
     "output_type": "execute_result"
    }
   ],
   "source": [
    "chem_protein_links.head()"
   ],
   "metadata": {
    "collapsed": false,
    "ExecuteTime": {
     "start_time": "2023-04-19T17:43:27.902490Z",
     "end_time": "2023-04-19T17:43:28.074484Z"
    }
   }
  },
  {
   "cell_type": "code",
   "execution_count": 7,
   "outputs": [
    {
     "data": {
      "text/plain": "        Ensembl_ID                                       protein_name  \\\n0  ENSP00000014930                    Heme-binding protein 1 (p22HBP)   \n1  ENSP00000043402  Reticulon-4 receptor (Nogo receptor) (NgR) (No...   \n2  ENSP00000044462  Proteasome subunit alpha type-4 (Macropain sub...   \n3  ENSP00000075120  Solute carrier family 2, facilitated glucose t...   \n4  ENSP00000078429  Guanine nucleotide-binding protein subunit alp...   \n\n                   gene_name  \n0                  HEBP1 HBP  \n1  RTN4R NOGOR UNQ330/PRO526  \n2             PSMA4 HC9 PSC9  \n3               SLC2A3 GLUT3  \n4                 GNA11 GA11  ",
      "text/html": "<div>\n<style scoped>\n    .dataframe tbody tr th:only-of-type {\n        vertical-align: middle;\n    }\n\n    .dataframe tbody tr th {\n        vertical-align: top;\n    }\n\n    .dataframe thead th {\n        text-align: right;\n    }\n</style>\n<table border=\"1\" class=\"dataframe\">\n  <thead>\n    <tr style=\"text-align: right;\">\n      <th></th>\n      <th>Ensembl_ID</th>\n      <th>protein_name</th>\n      <th>gene_name</th>\n    </tr>\n  </thead>\n  <tbody>\n    <tr>\n      <th>0</th>\n      <td>ENSP00000014930</td>\n      <td>Heme-binding protein 1 (p22HBP)</td>\n      <td>HEBP1 HBP</td>\n    </tr>\n    <tr>\n      <th>1</th>\n      <td>ENSP00000043402</td>\n      <td>Reticulon-4 receptor (Nogo receptor) (NgR) (No...</td>\n      <td>RTN4R NOGOR UNQ330/PRO526</td>\n    </tr>\n    <tr>\n      <th>2</th>\n      <td>ENSP00000044462</td>\n      <td>Proteasome subunit alpha type-4 (Macropain sub...</td>\n      <td>PSMA4 HC9 PSC9</td>\n    </tr>\n    <tr>\n      <th>3</th>\n      <td>ENSP00000075120</td>\n      <td>Solute carrier family 2, facilitated glucose t...</td>\n      <td>SLC2A3 GLUT3</td>\n    </tr>\n    <tr>\n      <th>4</th>\n      <td>ENSP00000078429</td>\n      <td>Guanine nucleotide-binding protein subunit alp...</td>\n      <td>GNA11 GA11</td>\n    </tr>\n  </tbody>\n</table>\n</div>"
     },
     "execution_count": 7,
     "metadata": {},
     "output_type": "execute_result"
    }
   ],
   "source": [
    "proteins.head()"
   ],
   "metadata": {
    "collapsed": false,
    "ExecuteTime": {
     "start_time": "2023-04-19T17:43:27.920493Z",
     "end_time": "2023-04-19T17:43:28.148487Z"
    }
   }
  },
  {
   "cell_type": "markdown",
   "source": [
    "# 逆向网络药理学分析"
   ],
   "metadata": {
    "collapsed": false
   }
  },
  {
   "cell_type": "code",
   "execution_count": 8,
   "outputs": [],
   "source": [
    "tcm, tcm_chem_links, chem, chem_protein_links, proteins = analysis.from_proteins(['ENSP00000381588', 'ENSP00000252519'], score=0)"
   ],
   "metadata": {
    "collapsed": false,
    "ExecuteTime": {
     "start_time": "2023-04-19T17:43:27.953489Z",
     "end_time": "2023-04-19T17:43:35.292286Z"
    }
   }
  },
  {
   "cell_type": "code",
   "execution_count": 9,
   "outputs": [
    {
     "data": {
      "text/plain": "     HVMID cn_name    pinyin_name                           en_name  \\\n0  HVM2997     肉苁蓉  ROU CONG RONG            Desertliving Cistanche   \n1  HVM3101     沙苑子    SHA YUAN ZI           Flatstem Milkvetch Seed   \n2  HVM3090      沙棘         SHA JI             fruit of seabuckthorn   \n3  HVM2859      荞麦       QIAO MAI                  Common Buckwheat   \n4  HVM1308      广枣      GUANG ZAO  fruit of Axillary choerospondias   \n\n                 latin_name           Properties  \\\n0          Herba Cistanches   Warm; Sweet; Salty   \n1  Semen Astragali Complati          Sweet; warm   \n2         fructus hippophae  Warm; Sour; Punkery   \n3      Fagopyrum esculentum                  NaN   \n4  Fructus Choerospondiatis  Cold; Sour; Punkery   \n\n                                          Meridians      UsePart  \\\n0                           Large Intestine; Kidney  fleshy stem   \n1                                     Liver; kidney          NaN   \n2  Large Intestine; Stomach; Small Intestine; Liver          NaN   \n3                                               NaN         seed   \n4                                     Spleen; Liver          NaN   \n\n                                            Function  \\\n0  To reinforce the kidney, replenish vital essen...   \n1  To benefit the liver and the kidney, arrest se...   \n2                                                NaN   \n3  To fortify spleen and disperse accumulation, p...   \n4  To promote the flow of qi and blood, to replen...   \n\n                                          Indication Toxicity  \\\n0  Impotence, infertility, backache, limp aching ...      NaN   \n1  Treatment of back pain, nocturnal emission and...      NaN   \n2                                                NaN      NaN   \n3  Gastrointestinal accumulation, diarrhea, dysen...      NaN   \n4  Treatment of stagnation of qi and blood with p...      NaN   \n\n                        Clinical_manifestations  \\\n0  1. Hypotensive2. Promoting saliva secretion.   \n1                                           NaN   \n2                                           NaN   \n3                                           NaN   \n4                                           NaN   \n\n                     Therapeutic_en_class Therapeutic_cn_class     HERB_id  \\\n0                  Yang Reinforcing Drugs                  补阳药  HERB004692   \n1                  Yang Reinforcing Drugs                  补阳药  HERB004864   \n2                 Phlegresolving Medicine                  化痰药  HERB004849   \n3                                     NaN                  NaN  HERB004488   \n4  Blood Activating Stasis Removing Drugs                活血祛瘀药  HERB002040   \n\n    TCMID_id  TCM_ID_id  SymMap_id  TCMSP_id  Importance Score  \n0  SMHB00338     1883.0      338.0     596.0          0.999986  \n1  SMHB00354     1702.0      354.0    1035.0          0.999781  \n2  SMHB00353     6230.0      353.0     613.0          0.999437  \n3        NaN     1877.0        NaN       NaN          0.999431  \n4  SMHB00152     1671.0      152.0     296.0          0.999149  ",
      "text/html": "<div>\n<style scoped>\n    .dataframe tbody tr th:only-of-type {\n        vertical-align: middle;\n    }\n\n    .dataframe tbody tr th {\n        vertical-align: top;\n    }\n\n    .dataframe thead th {\n        text-align: right;\n    }\n</style>\n<table border=\"1\" class=\"dataframe\">\n  <thead>\n    <tr style=\"text-align: right;\">\n      <th></th>\n      <th>HVMID</th>\n      <th>cn_name</th>\n      <th>pinyin_name</th>\n      <th>en_name</th>\n      <th>latin_name</th>\n      <th>Properties</th>\n      <th>Meridians</th>\n      <th>UsePart</th>\n      <th>Function</th>\n      <th>Indication</th>\n      <th>Toxicity</th>\n      <th>Clinical_manifestations</th>\n      <th>Therapeutic_en_class</th>\n      <th>Therapeutic_cn_class</th>\n      <th>HERB_id</th>\n      <th>TCMID_id</th>\n      <th>TCM_ID_id</th>\n      <th>SymMap_id</th>\n      <th>TCMSP_id</th>\n      <th>Importance Score</th>\n    </tr>\n  </thead>\n  <tbody>\n    <tr>\n      <th>0</th>\n      <td>HVM2997</td>\n      <td>肉苁蓉</td>\n      <td>ROU CONG RONG</td>\n      <td>Desertliving Cistanche</td>\n      <td>Herba Cistanches</td>\n      <td>Warm; Sweet; Salty</td>\n      <td>Large Intestine; Kidney</td>\n      <td>fleshy stem</td>\n      <td>To reinforce the kidney, replenish vital essen...</td>\n      <td>Impotence, infertility, backache, limp aching ...</td>\n      <td>NaN</td>\n      <td>1. Hypotensive2. Promoting saliva secretion.</td>\n      <td>Yang Reinforcing Drugs</td>\n      <td>补阳药</td>\n      <td>HERB004692</td>\n      <td>SMHB00338</td>\n      <td>1883.0</td>\n      <td>338.0</td>\n      <td>596.0</td>\n      <td>0.999986</td>\n    </tr>\n    <tr>\n      <th>1</th>\n      <td>HVM3101</td>\n      <td>沙苑子</td>\n      <td>SHA YUAN ZI</td>\n      <td>Flatstem Milkvetch Seed</td>\n      <td>Semen Astragali Complati</td>\n      <td>Sweet; warm</td>\n      <td>Liver; kidney</td>\n      <td>NaN</td>\n      <td>To benefit the liver and the kidney, arrest se...</td>\n      <td>Treatment of back pain, nocturnal emission and...</td>\n      <td>NaN</td>\n      <td>NaN</td>\n      <td>Yang Reinforcing Drugs</td>\n      <td>补阳药</td>\n      <td>HERB004864</td>\n      <td>SMHB00354</td>\n      <td>1702.0</td>\n      <td>354.0</td>\n      <td>1035.0</td>\n      <td>0.999781</td>\n    </tr>\n    <tr>\n      <th>2</th>\n      <td>HVM3090</td>\n      <td>沙棘</td>\n      <td>SHA JI</td>\n      <td>fruit of seabuckthorn</td>\n      <td>fructus hippophae</td>\n      <td>Warm; Sour; Punkery</td>\n      <td>Large Intestine; Stomach; Small Intestine; Liver</td>\n      <td>NaN</td>\n      <td>NaN</td>\n      <td>NaN</td>\n      <td>NaN</td>\n      <td>NaN</td>\n      <td>Phlegresolving Medicine</td>\n      <td>化痰药</td>\n      <td>HERB004849</td>\n      <td>SMHB00353</td>\n      <td>6230.0</td>\n      <td>353.0</td>\n      <td>613.0</td>\n      <td>0.999437</td>\n    </tr>\n    <tr>\n      <th>3</th>\n      <td>HVM2859</td>\n      <td>荞麦</td>\n      <td>QIAO MAI</td>\n      <td>Common Buckwheat</td>\n      <td>Fagopyrum esculentum</td>\n      <td>NaN</td>\n      <td>NaN</td>\n      <td>seed</td>\n      <td>To fortify spleen and disperse accumulation, p...</td>\n      <td>Gastrointestinal accumulation, diarrhea, dysen...</td>\n      <td>NaN</td>\n      <td>NaN</td>\n      <td>NaN</td>\n      <td>NaN</td>\n      <td>HERB004488</td>\n      <td>NaN</td>\n      <td>1877.0</td>\n      <td>NaN</td>\n      <td>NaN</td>\n      <td>0.999431</td>\n    </tr>\n    <tr>\n      <th>4</th>\n      <td>HVM1308</td>\n      <td>广枣</td>\n      <td>GUANG ZAO</td>\n      <td>fruit of Axillary choerospondias</td>\n      <td>Fructus Choerospondiatis</td>\n      <td>Cold; Sour; Punkery</td>\n      <td>Spleen; Liver</td>\n      <td>NaN</td>\n      <td>To promote the flow of qi and blood, to replen...</td>\n      <td>Treatment of stagnation of qi and blood with p...</td>\n      <td>NaN</td>\n      <td>NaN</td>\n      <td>Blood Activating Stasis Removing Drugs</td>\n      <td>活血祛瘀药</td>\n      <td>HERB002040</td>\n      <td>SMHB00152</td>\n      <td>1671.0</td>\n      <td>152.0</td>\n      <td>296.0</td>\n      <td>0.999149</td>\n    </tr>\n  </tbody>\n</table>\n</div>"
     },
     "execution_count": 9,
     "metadata": {},
     "output_type": "execute_result"
    }
   ],
   "source": [
    "tcm.head()"
   ],
   "metadata": {
    "collapsed": false,
    "ExecuteTime": {
     "start_time": "2023-04-19T17:43:35.297812Z",
     "end_time": "2023-04-19T17:43:35.354568Z"
    }
   }
  },
  {
   "cell_type": "code",
   "execution_count": 10,
   "outputs": [
    {
     "data": {
      "text/plain": "     HVMID    HVCID\n0  HVM0018  HVC0302\n1  HVM0018  HVC5478\n2  HVM0026  HVC0462\n3  HVM0029  HVC0533\n4  HVM0029  HVC0462",
      "text/html": "<div>\n<style scoped>\n    .dataframe tbody tr th:only-of-type {\n        vertical-align: middle;\n    }\n\n    .dataframe tbody tr th {\n        vertical-align: top;\n    }\n\n    .dataframe thead th {\n        text-align: right;\n    }\n</style>\n<table border=\"1\" class=\"dataframe\">\n  <thead>\n    <tr style=\"text-align: right;\">\n      <th></th>\n      <th>HVMID</th>\n      <th>HVCID</th>\n    </tr>\n  </thead>\n  <tbody>\n    <tr>\n      <th>0</th>\n      <td>HVM0018</td>\n      <td>HVC0302</td>\n    </tr>\n    <tr>\n      <th>1</th>\n      <td>HVM0018</td>\n      <td>HVC5478</td>\n    </tr>\n    <tr>\n      <th>2</th>\n      <td>HVM0026</td>\n      <td>HVC0462</td>\n    </tr>\n    <tr>\n      <th>3</th>\n      <td>HVM0029</td>\n      <td>HVC0533</td>\n    </tr>\n    <tr>\n      <th>4</th>\n      <td>HVM0029</td>\n      <td>HVC0462</td>\n    </tr>\n  </tbody>\n</table>\n</div>"
     },
     "execution_count": 10,
     "metadata": {},
     "output_type": "execute_result"
    }
   ],
   "source": [
    "tcm_chem_links.head()"
   ],
   "metadata": {
    "collapsed": false,
    "ExecuteTime": {
     "start_time": "2023-04-19T17:43:35.327573Z",
     "end_time": "2023-04-19T17:43:35.434607Z"
    }
   }
  },
  {
   "cell_type": "code",
   "execution_count": 11,
   "outputs": [
    {
     "data": {
      "text/plain": "     HVCID                 Name                              SMILES   CAS_id  \\\n0  HVC0004  dihydrotestosterone  CC12CCC(=O)CC1CCC3C2CCC4(C3CCC4O)C      NaN   \n1  HVC0022  5-hydroxytryptophan   C1=CC2=C(C=C1O)C(=CN2)CC(C(=O)O)N      NaN   \n2  HVC0025              acetate                          CC(=O)[O-]      NaN   \n3  HVC0026         acetaldehyde                                CC=O  75-07-0   \n4  HVC0029              acetone                             CC(=O)C      NaN   \n\n   PubChem_id DrugBank_id     STITCH_id     HERB_id  Importance Score  \n0     10635.0         NaN  CIDm00000015  HBIN023995             0.588  \n1    439280.0         NaN  CIDm00000144  HBIN011695             0.256  \n2       175.0         NaN  CIDm00000175  HBIN014391             0.521  \n3       177.0         NaN  CIDm00000177  HBIN014388             0.521  \n4       180.0         NaN  CIDm00000180  HBIN014420             0.390  ",
      "text/html": "<div>\n<style scoped>\n    .dataframe tbody tr th:only-of-type {\n        vertical-align: middle;\n    }\n\n    .dataframe tbody tr th {\n        vertical-align: top;\n    }\n\n    .dataframe thead th {\n        text-align: right;\n    }\n</style>\n<table border=\"1\" class=\"dataframe\">\n  <thead>\n    <tr style=\"text-align: right;\">\n      <th></th>\n      <th>HVCID</th>\n      <th>Name</th>\n      <th>SMILES</th>\n      <th>CAS_id</th>\n      <th>PubChem_id</th>\n      <th>DrugBank_id</th>\n      <th>STITCH_id</th>\n      <th>HERB_id</th>\n      <th>Importance Score</th>\n    </tr>\n  </thead>\n  <tbody>\n    <tr>\n      <th>0</th>\n      <td>HVC0004</td>\n      <td>dihydrotestosterone</td>\n      <td>CC12CCC(=O)CC1CCC3C2CCC4(C3CCC4O)C</td>\n      <td>NaN</td>\n      <td>10635.0</td>\n      <td>NaN</td>\n      <td>CIDm00000015</td>\n      <td>HBIN023995</td>\n      <td>0.588</td>\n    </tr>\n    <tr>\n      <th>1</th>\n      <td>HVC0022</td>\n      <td>5-hydroxytryptophan</td>\n      <td>C1=CC2=C(C=C1O)C(=CN2)CC(C(=O)O)N</td>\n      <td>NaN</td>\n      <td>439280.0</td>\n      <td>NaN</td>\n      <td>CIDm00000144</td>\n      <td>HBIN011695</td>\n      <td>0.256</td>\n    </tr>\n    <tr>\n      <th>2</th>\n      <td>HVC0025</td>\n      <td>acetate</td>\n      <td>CC(=O)[O-]</td>\n      <td>NaN</td>\n      <td>175.0</td>\n      <td>NaN</td>\n      <td>CIDm00000175</td>\n      <td>HBIN014391</td>\n      <td>0.521</td>\n    </tr>\n    <tr>\n      <th>3</th>\n      <td>HVC0026</td>\n      <td>acetaldehyde</td>\n      <td>CC=O</td>\n      <td>75-07-0</td>\n      <td>177.0</td>\n      <td>NaN</td>\n      <td>CIDm00000177</td>\n      <td>HBIN014388</td>\n      <td>0.521</td>\n    </tr>\n    <tr>\n      <th>4</th>\n      <td>HVC0029</td>\n      <td>acetone</td>\n      <td>CC(=O)C</td>\n      <td>NaN</td>\n      <td>180.0</td>\n      <td>NaN</td>\n      <td>CIDm00000180</td>\n      <td>HBIN014420</td>\n      <td>0.390</td>\n    </tr>\n  </tbody>\n</table>\n</div>"
     },
     "execution_count": 11,
     "metadata": {},
     "output_type": "execute_result"
    }
   ],
   "source": [
    "chem.head()"
   ],
   "metadata": {
    "collapsed": false,
    "ExecuteTime": {
     "start_time": "2023-04-19T17:43:35.344570Z",
     "end_time": "2023-04-19T17:43:35.462520Z"
    }
   }
  },
  {
   "cell_type": "code",
   "execution_count": 12,
   "outputs": [
    {
     "data": {
      "text/plain": "     HVCID       Ensembl_ID  Combined_score\n0  HVC6130  ENSP00000381588           0.150\n1  HVC6114  ENSP00000381588           0.256\n2  HVC6092  ENSP00000381588           0.256\n3  HVC5717  ENSP00000381588           0.167\n4  HVC5622  ENSP00000381588           0.248",
      "text/html": "<div>\n<style scoped>\n    .dataframe tbody tr th:only-of-type {\n        vertical-align: middle;\n    }\n\n    .dataframe tbody tr th {\n        vertical-align: top;\n    }\n\n    .dataframe thead th {\n        text-align: right;\n    }\n</style>\n<table border=\"1\" class=\"dataframe\">\n  <thead>\n    <tr style=\"text-align: right;\">\n      <th></th>\n      <th>HVCID</th>\n      <th>Ensembl_ID</th>\n      <th>Combined_score</th>\n    </tr>\n  </thead>\n  <tbody>\n    <tr>\n      <th>0</th>\n      <td>HVC6130</td>\n      <td>ENSP00000381588</td>\n      <td>0.150</td>\n    </tr>\n    <tr>\n      <th>1</th>\n      <td>HVC6114</td>\n      <td>ENSP00000381588</td>\n      <td>0.256</td>\n    </tr>\n    <tr>\n      <th>2</th>\n      <td>HVC6092</td>\n      <td>ENSP00000381588</td>\n      <td>0.256</td>\n    </tr>\n    <tr>\n      <th>3</th>\n      <td>HVC5717</td>\n      <td>ENSP00000381588</td>\n      <td>0.167</td>\n    </tr>\n    <tr>\n      <th>4</th>\n      <td>HVC5622</td>\n      <td>ENSP00000381588</td>\n      <td>0.248</td>\n    </tr>\n  </tbody>\n</table>\n</div>"
     },
     "execution_count": 12,
     "metadata": {},
     "output_type": "execute_result"
    }
   ],
   "source": [
    "chem_protein_links.head()"
   ],
   "metadata": {
    "collapsed": false,
    "ExecuteTime": {
     "start_time": "2023-04-19T17:43:35.375573Z",
     "end_time": "2023-04-19T17:43:35.536476Z"
    }
   }
  },
  {
   "cell_type": "code",
   "execution_count": 13,
   "outputs": [
    {
     "data": {
      "text/plain": "        Ensembl_ID protein_name gene_name\n0  ENSP00000381588          NaN   TMPRSS2\n1  ENSP00000252519          NaN      ACE2",
      "text/html": "<div>\n<style scoped>\n    .dataframe tbody tr th:only-of-type {\n        vertical-align: middle;\n    }\n\n    .dataframe tbody tr th {\n        vertical-align: top;\n    }\n\n    .dataframe thead th {\n        text-align: right;\n    }\n</style>\n<table border=\"1\" class=\"dataframe\">\n  <thead>\n    <tr style=\"text-align: right;\">\n      <th></th>\n      <th>Ensembl_ID</th>\n      <th>protein_name</th>\n      <th>gene_name</th>\n    </tr>\n  </thead>\n  <tbody>\n    <tr>\n      <th>0</th>\n      <td>ENSP00000381588</td>\n      <td>NaN</td>\n      <td>TMPRSS2</td>\n    </tr>\n    <tr>\n      <th>1</th>\n      <td>ENSP00000252519</td>\n      <td>NaN</td>\n      <td>ACE2</td>\n    </tr>\n  </tbody>\n</table>\n</div>"
     },
     "execution_count": 13,
     "metadata": {},
     "output_type": "execute_result"
    }
   ],
   "source": [
    "proteins"
   ],
   "metadata": {
    "collapsed": false,
    "ExecuteTime": {
     "start_time": "2023-04-19T17:43:35.397565Z",
     "end_time": "2023-04-19T17:43:35.537480Z"
    }
   }
  },
  {
   "cell_type": "markdown",
   "source": [
    "# 给定中药和靶点进行分析"
   ],
   "metadata": {
    "collapsed": false
   }
  },
  {
   "cell_type": "code",
   "execution_count": 14,
   "outputs": [],
   "source": [
    "tcm, tcm_chem_links, chem, chem_protein_links, proteins = analysis.from_tcm_protein(['柴胡', '黄芩'], ['ENSP00000381588', 'ENSP00000252519'])"
   ],
   "metadata": {
    "collapsed": false,
    "ExecuteTime": {
     "start_time": "2023-04-19T17:43:35.411587Z",
     "end_time": "2023-04-19T17:43:36.175968Z"
    }
   }
  },
  {
   "cell_type": "code",
   "execution_count": 15,
   "outputs": [
    {
     "data": {
      "text/plain": "     HVMID cn_name pinyin_name                   en_name          latin_name  \\\n0  HVM0367      柴胡     CHAI HU  root of Chinese Thorowax      Radix Bupleuri   \n1  HVM1695      黄芩   HUANG QIN   root of Baikal skullcap  Radix Scutellariae   \n\n                    Properties  \\\n0  Minor cold; Pungent; Bitter   \n1                 Cold; Bitter   \n\n                                           Meridians UsePart  \\\n0                                 Liver; Gallbladder    root   \n1  Lung; Large Intestine; Stomach; Small Intestin...    root   \n\n                                            Function  \\\n0  To relieve fever, to soothe the liver, and to ...   \n1  To remove damp-heat, to quench fire and counte...   \n\n                                          Indication Toxicity  \\\n0  Common cold, influenza, malaria, acute pancrea...      NaN   \n1  Chest oppression with retching, diarrhea, jaun...      NaN   \n\n                             Clinical_manifestations  \\\n0  1. Increasing the hypotic effect of barbital i...   \n1  1. Possessing a broad-spectrum bacteriostatic ...   \n\n                         Therapeutic_en_class Therapeutic_cn_class  \\\n0                   Pungent Cool Diaphoretics                辛凉解表药   \n1  Heat-Clearing And Dampnessdrying Medicinal                清热燥湿药   \n\n      HERB_id   TCMID_id  TCM_ID_id  SymMap_id  TCMSP_id  Importance Score  \n0  HERB000638  SMHB00058     3396.0       58.0      80.0          0.993107  \n1  HERB002563  SMHB00188     6700.0      188.0     371.0          0.586509  ",
      "text/html": "<div>\n<style scoped>\n    .dataframe tbody tr th:only-of-type {\n        vertical-align: middle;\n    }\n\n    .dataframe tbody tr th {\n        vertical-align: top;\n    }\n\n    .dataframe thead th {\n        text-align: right;\n    }\n</style>\n<table border=\"1\" class=\"dataframe\">\n  <thead>\n    <tr style=\"text-align: right;\">\n      <th></th>\n      <th>HVMID</th>\n      <th>cn_name</th>\n      <th>pinyin_name</th>\n      <th>en_name</th>\n      <th>latin_name</th>\n      <th>Properties</th>\n      <th>Meridians</th>\n      <th>UsePart</th>\n      <th>Function</th>\n      <th>Indication</th>\n      <th>Toxicity</th>\n      <th>Clinical_manifestations</th>\n      <th>Therapeutic_en_class</th>\n      <th>Therapeutic_cn_class</th>\n      <th>HERB_id</th>\n      <th>TCMID_id</th>\n      <th>TCM_ID_id</th>\n      <th>SymMap_id</th>\n      <th>TCMSP_id</th>\n      <th>Importance Score</th>\n    </tr>\n  </thead>\n  <tbody>\n    <tr>\n      <th>0</th>\n      <td>HVM0367</td>\n      <td>柴胡</td>\n      <td>CHAI HU</td>\n      <td>root of Chinese Thorowax</td>\n      <td>Radix Bupleuri</td>\n      <td>Minor cold; Pungent; Bitter</td>\n      <td>Liver; Gallbladder</td>\n      <td>root</td>\n      <td>To relieve fever, to soothe the liver, and to ...</td>\n      <td>Common cold, influenza, malaria, acute pancrea...</td>\n      <td>NaN</td>\n      <td>1. Increasing the hypotic effect of barbital i...</td>\n      <td>Pungent Cool Diaphoretics</td>\n      <td>辛凉解表药</td>\n      <td>HERB000638</td>\n      <td>SMHB00058</td>\n      <td>3396.0</td>\n      <td>58.0</td>\n      <td>80.0</td>\n      <td>0.993107</td>\n    </tr>\n    <tr>\n      <th>1</th>\n      <td>HVM1695</td>\n      <td>黄芩</td>\n      <td>HUANG QIN</td>\n      <td>root of Baikal skullcap</td>\n      <td>Radix Scutellariae</td>\n      <td>Cold; Bitter</td>\n      <td>Lung; Large Intestine; Stomach; Small Intestin...</td>\n      <td>root</td>\n      <td>To remove damp-heat, to quench fire and counte...</td>\n      <td>Chest oppression with retching, diarrhea, jaun...</td>\n      <td>NaN</td>\n      <td>1. Possessing a broad-spectrum bacteriostatic ...</td>\n      <td>Heat-Clearing And Dampnessdrying Medicinal</td>\n      <td>清热燥湿药</td>\n      <td>HERB002563</td>\n      <td>SMHB00188</td>\n      <td>6700.0</td>\n      <td>188.0</td>\n      <td>371.0</td>\n      <td>0.586509</td>\n    </tr>\n  </tbody>\n</table>\n</div>"
     },
     "execution_count": 15,
     "metadata": {},
     "output_type": "execute_result"
    }
   ],
   "source": [
    "tcm"
   ],
   "metadata": {
    "collapsed": false,
    "ExecuteTime": {
     "start_time": "2023-04-19T17:43:36.010801Z",
     "end_time": "2023-04-19T17:43:36.177798Z"
    }
   }
  },
  {
   "cell_type": "code",
   "execution_count": 16,
   "outputs": [
    {
     "data": {
      "text/plain": "     HVMID    HVCID\n0  HVM0367  HVC0384\n1  HVM0367  HVC0384\n2  HVM0367  HVC0036\n3  HVM0367  HVC0273\n4  HVM0367  HVC0533",
      "text/html": "<div>\n<style scoped>\n    .dataframe tbody tr th:only-of-type {\n        vertical-align: middle;\n    }\n\n    .dataframe tbody tr th {\n        vertical-align: top;\n    }\n\n    .dataframe thead th {\n        text-align: right;\n    }\n</style>\n<table border=\"1\" class=\"dataframe\">\n  <thead>\n    <tr style=\"text-align: right;\">\n      <th></th>\n      <th>HVMID</th>\n      <th>HVCID</th>\n    </tr>\n  </thead>\n  <tbody>\n    <tr>\n      <th>0</th>\n      <td>HVM0367</td>\n      <td>HVC0384</td>\n    </tr>\n    <tr>\n      <th>1</th>\n      <td>HVM0367</td>\n      <td>HVC0384</td>\n    </tr>\n    <tr>\n      <th>2</th>\n      <td>HVM0367</td>\n      <td>HVC0036</td>\n    </tr>\n    <tr>\n      <th>3</th>\n      <td>HVM0367</td>\n      <td>HVC0273</td>\n    </tr>\n    <tr>\n      <th>4</th>\n      <td>HVM0367</td>\n      <td>HVC0533</td>\n    </tr>\n  </tbody>\n</table>\n</div>"
     },
     "execution_count": 16,
     "metadata": {},
     "output_type": "execute_result"
    }
   ],
   "source": [
    "tcm_chem_links.head()"
   ],
   "metadata": {
    "collapsed": false,
    "ExecuteTime": {
     "start_time": "2023-04-19T17:43:36.040811Z",
     "end_time": "2023-04-19T17:43:36.178836Z"
    }
   }
  },
  {
   "cell_type": "code",
   "execution_count": 17,
   "outputs": [
    {
     "data": {
      "text/plain": "     HVCID               Name                                   SMILES  \\\n0  HVC0036            glucose                 C(C1C(C(C(C(O1)O)O)O)O)O   \n1  HVC0095  isoliquiritigenin  C1=CC(=CC=C1C=CC(=O)C2=C(C=C(C=C2)O)O)O   \n2  HVC0230             phenol                           C1=CC=C(C=C1)O   \n3  HVC0273         tryptophan         C1=CC=C2C(=C1)C(=CN2)CC(C(=O)O)N   \n4  HVC0384          capsaicin    CC(C)C=CCCCCC(=O)NCC1=CC(=C(C=C1)O)OC   \n\n     CAS_id  PubChem_id DrugBank_id     STITCH_id     HERB_id  \\\n0       NaN         NaN         NaN  CIDm00000206  HBIN001003   \n1       NaN    638278.0         NaN  CIDm00000425  HBIN004214   \n2       NaN       996.0         NaN  CIDm00000996  HBIN029699   \n3  153-94-6      9060.0         NaN  CIDm00001148  HBIN024532   \n4       NaN         NaN         NaN  CIDm00002548  HBIN019514   \n\n   Importance Score  \n0             0.865  \n1             0.256  \n2             0.521  \n3             0.374  \n4             0.256  ",
      "text/html": "<div>\n<style scoped>\n    .dataframe tbody tr th:only-of-type {\n        vertical-align: middle;\n    }\n\n    .dataframe tbody tr th {\n        vertical-align: top;\n    }\n\n    .dataframe thead th {\n        text-align: right;\n    }\n</style>\n<table border=\"1\" class=\"dataframe\">\n  <thead>\n    <tr style=\"text-align: right;\">\n      <th></th>\n      <th>HVCID</th>\n      <th>Name</th>\n      <th>SMILES</th>\n      <th>CAS_id</th>\n      <th>PubChem_id</th>\n      <th>DrugBank_id</th>\n      <th>STITCH_id</th>\n      <th>HERB_id</th>\n      <th>Importance Score</th>\n    </tr>\n  </thead>\n  <tbody>\n    <tr>\n      <th>0</th>\n      <td>HVC0036</td>\n      <td>glucose</td>\n      <td>C(C1C(C(C(C(O1)O)O)O)O)O</td>\n      <td>NaN</td>\n      <td>NaN</td>\n      <td>NaN</td>\n      <td>CIDm00000206</td>\n      <td>HBIN001003</td>\n      <td>0.865</td>\n    </tr>\n    <tr>\n      <th>1</th>\n      <td>HVC0095</td>\n      <td>isoliquiritigenin</td>\n      <td>C1=CC(=CC=C1C=CC(=O)C2=C(C=C(C=C2)O)O)O</td>\n      <td>NaN</td>\n      <td>638278.0</td>\n      <td>NaN</td>\n      <td>CIDm00000425</td>\n      <td>HBIN004214</td>\n      <td>0.256</td>\n    </tr>\n    <tr>\n      <th>2</th>\n      <td>HVC0230</td>\n      <td>phenol</td>\n      <td>C1=CC=C(C=C1)O</td>\n      <td>NaN</td>\n      <td>996.0</td>\n      <td>NaN</td>\n      <td>CIDm00000996</td>\n      <td>HBIN029699</td>\n      <td>0.521</td>\n    </tr>\n    <tr>\n      <th>3</th>\n      <td>HVC0273</td>\n      <td>tryptophan</td>\n      <td>C1=CC=C2C(=C1)C(=CN2)CC(C(=O)O)N</td>\n      <td>153-94-6</td>\n      <td>9060.0</td>\n      <td>NaN</td>\n      <td>CIDm00001148</td>\n      <td>HBIN024532</td>\n      <td>0.374</td>\n    </tr>\n    <tr>\n      <th>4</th>\n      <td>HVC0384</td>\n      <td>capsaicin</td>\n      <td>CC(C)C=CCCCCC(=O)NCC1=CC(=C(C=C1)O)OC</td>\n      <td>NaN</td>\n      <td>NaN</td>\n      <td>NaN</td>\n      <td>CIDm00002548</td>\n      <td>HBIN019514</td>\n      <td>0.256</td>\n    </tr>\n  </tbody>\n</table>\n</div>"
     },
     "execution_count": 17,
     "metadata": {},
     "output_type": "execute_result"
    }
   ],
   "source": [
    "chem.head()"
   ],
   "metadata": {
    "collapsed": false,
    "ExecuteTime": {
     "start_time": "2023-04-19T17:43:36.057803Z",
     "end_time": "2023-04-19T17:43:36.178836Z"
    }
   }
  },
  {
   "cell_type": "code",
   "execution_count": 18,
   "outputs": [
    {
     "data": {
      "text/plain": "     HVCID       Ensembl_ID  Combined_score\n0  HVC5535  ENSP00000381588           0.256\n1  HVC5478  ENSP00000381588           0.256\n2  HVC0817  ENSP00000381588           0.256\n3  HVC0533  ENSP00000381588           0.253\n4  HVC0462  ENSP00000381588           0.256",
      "text/html": "<div>\n<style scoped>\n    .dataframe tbody tr th:only-of-type {\n        vertical-align: middle;\n    }\n\n    .dataframe tbody tr th {\n        vertical-align: top;\n    }\n\n    .dataframe thead th {\n        text-align: right;\n    }\n</style>\n<table border=\"1\" class=\"dataframe\">\n  <thead>\n    <tr style=\"text-align: right;\">\n      <th></th>\n      <th>HVCID</th>\n      <th>Ensembl_ID</th>\n      <th>Combined_score</th>\n    </tr>\n  </thead>\n  <tbody>\n    <tr>\n      <th>0</th>\n      <td>HVC5535</td>\n      <td>ENSP00000381588</td>\n      <td>0.256</td>\n    </tr>\n    <tr>\n      <th>1</th>\n      <td>HVC5478</td>\n      <td>ENSP00000381588</td>\n      <td>0.256</td>\n    </tr>\n    <tr>\n      <th>2</th>\n      <td>HVC0817</td>\n      <td>ENSP00000381588</td>\n      <td>0.256</td>\n    </tr>\n    <tr>\n      <th>3</th>\n      <td>HVC0533</td>\n      <td>ENSP00000381588</td>\n      <td>0.253</td>\n    </tr>\n    <tr>\n      <th>4</th>\n      <td>HVC0462</td>\n      <td>ENSP00000381588</td>\n      <td>0.256</td>\n    </tr>\n  </tbody>\n</table>\n</div>"
     },
     "execution_count": 18,
     "metadata": {},
     "output_type": "execute_result"
    }
   ],
   "source": [
    "chem_protein_links.head()"
   ],
   "metadata": {
    "collapsed": false,
    "ExecuteTime": {
     "start_time": "2023-04-19T17:43:36.087805Z",
     "end_time": "2023-04-19T17:43:36.178836Z"
    }
   }
  },
  {
   "cell_type": "code",
   "execution_count": 19,
   "outputs": [
    {
     "data": {
      "text/plain": "        Ensembl_ID protein_name gene_name\n0  ENSP00000381588          NaN   TMPRSS2\n1  ENSP00000252519          NaN      ACE2",
      "text/html": "<div>\n<style scoped>\n    .dataframe tbody tr th:only-of-type {\n        vertical-align: middle;\n    }\n\n    .dataframe tbody tr th {\n        vertical-align: top;\n    }\n\n    .dataframe thead th {\n        text-align: right;\n    }\n</style>\n<table border=\"1\" class=\"dataframe\">\n  <thead>\n    <tr style=\"text-align: right;\">\n      <th></th>\n      <th>Ensembl_ID</th>\n      <th>protein_name</th>\n      <th>gene_name</th>\n    </tr>\n  </thead>\n  <tbody>\n    <tr>\n      <th>0</th>\n      <td>ENSP00000381588</td>\n      <td>NaN</td>\n      <td>TMPRSS2</td>\n    </tr>\n    <tr>\n      <th>1</th>\n      <td>ENSP00000252519</td>\n      <td>NaN</td>\n      <td>ACE2</td>\n    </tr>\n  </tbody>\n</table>\n</div>"
     },
     "execution_count": 19,
     "metadata": {},
     "output_type": "execute_result"
    }
   ],
   "source": [
    "proteins"
   ],
   "metadata": {
    "collapsed": false,
    "ExecuteTime": {
     "start_time": "2023-04-19T17:43:36.104799Z",
     "end_time": "2023-04-19T17:43:36.180834Z"
    }
   }
  }
 ],
 "metadata": {
  "kernelspec": {
   "display_name": "Python 3",
   "language": "python",
   "name": "python3"
  },
  "language_info": {
   "codemirror_mode": {
    "name": "ipython",
    "version": 2
   },
   "file_extension": ".py",
   "mimetype": "text/x-python",
   "name": "python",
   "nbconvert_exporter": "python",
   "pygments_lexer": "ipython2",
   "version": "2.7.6"
  }
 },
 "nbformat": 4,
 "nbformat_minor": 0
}
