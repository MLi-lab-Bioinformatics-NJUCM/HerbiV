{
 "cells": [
  {
   "cell_type": "code",
   "execution_count": 2,
   "outputs": [],
   "source": [
    "from herbiv import analysis"
   ],
   "metadata": {
    "collapsed": false,
    "ExecuteTime": {
     "end_time": "2023-11-03T01:13:06.846123100Z",
     "start_time": "2023-11-03T01:13:05.995795200Z"
    }
   }
  },
  {
   "cell_type": "markdown",
   "source": [
    "# 经典的正向网络药理学分析"
   ],
   "metadata": {
    "collapsed": false
   }
  },
  {
   "cell_type": "markdown",
   "source": [
    "## 对中药的分析"
   ],
   "metadata": {
    "collapsed": false
   }
  },
  {
   "cell_type": "code",
   "execution_count": 3,
   "outputs": [],
   "source": [
    "tcm, tcm_chem_links, chem, chem_protein_links, proteins = analysis.from_tcm_or_formula(['HVM0367', 'HVM1695'])"
   ],
   "metadata": {
    "collapsed": false,
    "ExecuteTime": {
     "end_time": "2023-11-03T01:13:12.029749600Z",
     "start_time": "2023-11-03T01:13:11.539011Z"
    }
   }
  },
  {
   "cell_type": "code",
   "execution_count": 4,
   "outputs": [
    {
     "data": {
      "text/plain": "     HVMID cn_name pinyin_name                   en_name          latin_name  \\\n0  HVM0367      柴胡     CHAI HU  root of Chinese Thorowax      Radix Bupleuri   \n1  HVM1695      黄芩   HUANG QIN   root of Baikal skullcap  Radix Scutellariae   \n\n                    Properties  \\\n0  Minor cold; Pungent; Bitter   \n1                 Cold; Bitter   \n\n                                           Meridians UsePart  \\\n0                                 Liver; Gallbladder    root   \n1  Lung; Large Intestine; Stomach; Small Intestin...    root   \n\n                                            Function  \\\n0  To relieve fever, to soothe the liver, and to ...   \n1  To remove damp-heat, to quench fire and counte...   \n\n                                          Indication Toxicity  \\\n0  Common cold, influenza, malaria, acute pancrea...      NaN   \n1  Chest oppression with retching, diarrhea, jaun...      NaN   \n\n                             Clinical_manifestations  \\\n0  1. Increasing the hypotic effect of barbital i...   \n1  1. Possessing a broad-spectrum bacteriostatic ...   \n\n                         Therapeutic_en_class Therapeutic_cn_class  \\\n0                   Pungent Cool Diaphoretics                辛凉解表药   \n1  Heat-Clearing And Dampnessdrying Medicinal                清热燥湿药   \n\n      HERB_id   TCMID_id  TCM_ID_id  SymMap_id  TCMSP_id  Importance Score  \n0  HERB000638  SMHB00058     3396.0       58.0      80.0               1.0  \n1  HERB002563  SMHB00188     6700.0      188.0     371.0               1.0  ",
      "text/html": "<div>\n<style scoped>\n    .dataframe tbody tr th:only-of-type {\n        vertical-align: middle;\n    }\n\n    .dataframe tbody tr th {\n        vertical-align: top;\n    }\n\n    .dataframe thead th {\n        text-align: right;\n    }\n</style>\n<table border=\"1\" class=\"dataframe\">\n  <thead>\n    <tr style=\"text-align: right;\">\n      <th></th>\n      <th>HVMID</th>\n      <th>cn_name</th>\n      <th>pinyin_name</th>\n      <th>en_name</th>\n      <th>latin_name</th>\n      <th>Properties</th>\n      <th>Meridians</th>\n      <th>UsePart</th>\n      <th>Function</th>\n      <th>Indication</th>\n      <th>Toxicity</th>\n      <th>Clinical_manifestations</th>\n      <th>Therapeutic_en_class</th>\n      <th>Therapeutic_cn_class</th>\n      <th>HERB_id</th>\n      <th>TCMID_id</th>\n      <th>TCM_ID_id</th>\n      <th>SymMap_id</th>\n      <th>TCMSP_id</th>\n      <th>Importance Score</th>\n    </tr>\n  </thead>\n  <tbody>\n    <tr>\n      <th>0</th>\n      <td>HVM0367</td>\n      <td>柴胡</td>\n      <td>CHAI HU</td>\n      <td>root of Chinese Thorowax</td>\n      <td>Radix Bupleuri</td>\n      <td>Minor cold; Pungent; Bitter</td>\n      <td>Liver; Gallbladder</td>\n      <td>root</td>\n      <td>To relieve fever, to soothe the liver, and to ...</td>\n      <td>Common cold, influenza, malaria, acute pancrea...</td>\n      <td>NaN</td>\n      <td>1. Increasing the hypotic effect of barbital i...</td>\n      <td>Pungent Cool Diaphoretics</td>\n      <td>辛凉解表药</td>\n      <td>HERB000638</td>\n      <td>SMHB00058</td>\n      <td>3396.0</td>\n      <td>58.0</td>\n      <td>80.0</td>\n      <td>1.0</td>\n    </tr>\n    <tr>\n      <th>1</th>\n      <td>HVM1695</td>\n      <td>黄芩</td>\n      <td>HUANG QIN</td>\n      <td>root of Baikal skullcap</td>\n      <td>Radix Scutellariae</td>\n      <td>Cold; Bitter</td>\n      <td>Lung; Large Intestine; Stomach; Small Intestin...</td>\n      <td>root</td>\n      <td>To remove damp-heat, to quench fire and counte...</td>\n      <td>Chest oppression with retching, diarrhea, jaun...</td>\n      <td>NaN</td>\n      <td>1. Possessing a broad-spectrum bacteriostatic ...</td>\n      <td>Heat-Clearing And Dampnessdrying Medicinal</td>\n      <td>清热燥湿药</td>\n      <td>HERB002563</td>\n      <td>SMHB00188</td>\n      <td>6700.0</td>\n      <td>188.0</td>\n      <td>371.0</td>\n      <td>1.0</td>\n    </tr>\n  </tbody>\n</table>\n</div>"
     },
     "execution_count": 4,
     "metadata": {},
     "output_type": "execute_result"
    }
   ],
   "source": [
    "tcm"
   ],
   "metadata": {
    "collapsed": false,
    "ExecuteTime": {
     "end_time": "2023-11-03T01:13:12.797371Z",
     "start_time": "2023-11-03T01:13:12.719122800Z"
    }
   }
  },
  {
   "cell_type": "code",
   "execution_count": 5,
   "outputs": [
    {
     "data": {
      "text/plain": "      HVMID    HVCID\n0   HVM0367  HVC0284\n1   HVM0367  HVC0384\n2   HVM0367  HVC0384\n3   HVM0367  HVC0071\n4   HVM0367  HVC0036\n5   HVM0367  HVC0273\n6   HVM0367  HVC0533\n7   HVM0367  HVC0036\n8   HVM0367  HVC0225\n9   HVM0367  HVC0159\n10  HVM0367  HVC0533\n11  HVM0367  HVC0225\n12  HVM0367  HVC0236\n13  HVM0367  HVC0273\n14  HVM1695  HVC0052\n15  HVM1695  HVC0533\n16  HVM1695  HVC0225\n17  HVM1695  HVC0225\n18  HVM1695  HVC0381\n19  HVM1695  HVC0265\n20  HVM1695  HVC0262",
      "text/html": "<div>\n<style scoped>\n    .dataframe tbody tr th:only-of-type {\n        vertical-align: middle;\n    }\n\n    .dataframe tbody tr th {\n        vertical-align: top;\n    }\n\n    .dataframe thead th {\n        text-align: right;\n    }\n</style>\n<table border=\"1\" class=\"dataframe\">\n  <thead>\n    <tr style=\"text-align: right;\">\n      <th></th>\n      <th>HVMID</th>\n      <th>HVCID</th>\n    </tr>\n  </thead>\n  <tbody>\n    <tr>\n      <th>0</th>\n      <td>HVM0367</td>\n      <td>HVC0284</td>\n    </tr>\n    <tr>\n      <th>1</th>\n      <td>HVM0367</td>\n      <td>HVC0384</td>\n    </tr>\n    <tr>\n      <th>2</th>\n      <td>HVM0367</td>\n      <td>HVC0384</td>\n    </tr>\n    <tr>\n      <th>3</th>\n      <td>HVM0367</td>\n      <td>HVC0071</td>\n    </tr>\n    <tr>\n      <th>4</th>\n      <td>HVM0367</td>\n      <td>HVC0036</td>\n    </tr>\n    <tr>\n      <th>5</th>\n      <td>HVM0367</td>\n      <td>HVC0273</td>\n    </tr>\n    <tr>\n      <th>6</th>\n      <td>HVM0367</td>\n      <td>HVC0533</td>\n    </tr>\n    <tr>\n      <th>7</th>\n      <td>HVM0367</td>\n      <td>HVC0036</td>\n    </tr>\n    <tr>\n      <th>8</th>\n      <td>HVM0367</td>\n      <td>HVC0225</td>\n    </tr>\n    <tr>\n      <th>9</th>\n      <td>HVM0367</td>\n      <td>HVC0159</td>\n    </tr>\n    <tr>\n      <th>10</th>\n      <td>HVM0367</td>\n      <td>HVC0533</td>\n    </tr>\n    <tr>\n      <th>11</th>\n      <td>HVM0367</td>\n      <td>HVC0225</td>\n    </tr>\n    <tr>\n      <th>12</th>\n      <td>HVM0367</td>\n      <td>HVC0236</td>\n    </tr>\n    <tr>\n      <th>13</th>\n      <td>HVM0367</td>\n      <td>HVC0273</td>\n    </tr>\n    <tr>\n      <th>14</th>\n      <td>HVM1695</td>\n      <td>HVC0052</td>\n    </tr>\n    <tr>\n      <th>15</th>\n      <td>HVM1695</td>\n      <td>HVC0533</td>\n    </tr>\n    <tr>\n      <th>16</th>\n      <td>HVM1695</td>\n      <td>HVC0225</td>\n    </tr>\n    <tr>\n      <th>17</th>\n      <td>HVM1695</td>\n      <td>HVC0225</td>\n    </tr>\n    <tr>\n      <th>18</th>\n      <td>HVM1695</td>\n      <td>HVC0381</td>\n    </tr>\n    <tr>\n      <th>19</th>\n      <td>HVM1695</td>\n      <td>HVC0265</td>\n    </tr>\n    <tr>\n      <th>20</th>\n      <td>HVM1695</td>\n      <td>HVC0262</td>\n    </tr>\n  </tbody>\n</table>\n</div>"
     },
     "execution_count": 5,
     "metadata": {},
     "output_type": "execute_result"
    }
   ],
   "source": [
    "tcm_chem_links"
   ],
   "metadata": {
    "collapsed": false,
    "ExecuteTime": {
     "end_time": "2023-11-03T01:13:14.016755100Z",
     "start_time": "2023-11-03T01:13:13.956098600Z"
    }
   }
  },
  {
   "cell_type": "code",
   "execution_count": 6,
   "outputs": [
    {
     "data": {
      "text/plain": "      HVCID           Name                                            SMILES  \\\n0   HVC0036        glucose                          C(C1C(C(C(C(O1)O)O)O)O)O   \n1   HVC0052    anti-biotin                    C1C2C(C(S1)CCCCC(=O)O)NC(=O)N2   \n2   HVC0071       coumarin                          C1=CC=C2C(=C1)C=CC(=O)O2   \n3   HVC0159       glycerol                                        C(C(CO)O)O   \n4   HVC0225      palmitate                             CCCCCCCCCCCCCCCC(=O)O   \n5   HVC0236   pregnenolone         CC(=O)C1CCC2C1(CCC3C2CC=C4C3(CCC(C4)O)C)C   \n6   HVC0262       squalene  CC(=CCCC(=CCCC(=CCCC=C(C)CCC=C(C)CCC=C(C)C)C)C)C   \n7   HVC0265        sucrose     C(C1C(C(C(C(O1)OC2(C(C(C(O2)CO)O)O)CO)O)O)O)O   \n8   HVC0273     tryptophan                  C1=CC=C2C(=C1)C(=CN2)CC(C(=O)O)N   \n9   HVC0284        uridine                C1=CN(C(=O)NC1=O)C2C(C(C(O2)CO)O)O   \n10  HVC0381        Camphor                            CC1(C2CCC1(C(=O)C2)C)C   \n11  HVC0384      capsaicin             CC(C)C=CCCCCC(=O)NCC1=CC(=C(C=C1)O)OC   \n12  HVC0533  linoleic acid                         CCCCCC=CCC=CCCCCCCCC(=O)O   \n\n        CAS_id  PubChem_id DrugBank_id     STITCH_id     HERB_id  \\\n0          NaN         NaN         NaN  CIDm00000206  HBIN001003   \n1   22879-79-4         NaN         NaN  CIDm00000253  HBIN011003   \n2          NaN         NaN         NaN  CIDm00000323  HBIN021605   \n3          NaN       753.0         NaN  CIDm00000753  HBIN028102   \n4          NaN         NaN         NaN  CIDm00000985  HBIN006119   \n5     145-13-1      8955.0         NaN  CIDm00001027  HBIN040257   \n6          NaN    638072.0         NaN  CIDm00001105  HBIN044654   \n7          NaN      5988.0         NaN  CIDm00001115  HBIN024523   \n8     153-94-6      9060.0         NaN  CIDm00001148  HBIN024532   \n9      58-96-8         NaN         NaN  CIDm00001177  HBIN000970   \n10         NaN         NaN         NaN  CIDm00002537  HBIN001975   \n11         NaN         NaN         NaN  CIDm00002548  HBIN019514   \n12         NaN   5282797.0         NaN  CIDm00003931  HBIN013995   \n\n    Importance Score  \n0           1.000000  \n1           1.000000  \n2           0.996000  \n3           0.999928  \n4           1.000000  \n5           0.999991  \n6           0.992000  \n7           0.995000  \n8           0.993000  \n9           1.000000  \n10          0.994000  \n11          0.999999  \n12          0.992000  ",
      "text/html": "<div>\n<style scoped>\n    .dataframe tbody tr th:only-of-type {\n        vertical-align: middle;\n    }\n\n    .dataframe tbody tr th {\n        vertical-align: top;\n    }\n\n    .dataframe thead th {\n        text-align: right;\n    }\n</style>\n<table border=\"1\" class=\"dataframe\">\n  <thead>\n    <tr style=\"text-align: right;\">\n      <th></th>\n      <th>HVCID</th>\n      <th>Name</th>\n      <th>SMILES</th>\n      <th>CAS_id</th>\n      <th>PubChem_id</th>\n      <th>DrugBank_id</th>\n      <th>STITCH_id</th>\n      <th>HERB_id</th>\n      <th>Importance Score</th>\n    </tr>\n  </thead>\n  <tbody>\n    <tr>\n      <th>0</th>\n      <td>HVC0036</td>\n      <td>glucose</td>\n      <td>C(C1C(C(C(C(O1)O)O)O)O)O</td>\n      <td>NaN</td>\n      <td>NaN</td>\n      <td>NaN</td>\n      <td>CIDm00000206</td>\n      <td>HBIN001003</td>\n      <td>1.000000</td>\n    </tr>\n    <tr>\n      <th>1</th>\n      <td>HVC0052</td>\n      <td>anti-biotin</td>\n      <td>C1C2C(C(S1)CCCCC(=O)O)NC(=O)N2</td>\n      <td>22879-79-4</td>\n      <td>NaN</td>\n      <td>NaN</td>\n      <td>CIDm00000253</td>\n      <td>HBIN011003</td>\n      <td>1.000000</td>\n    </tr>\n    <tr>\n      <th>2</th>\n      <td>HVC0071</td>\n      <td>coumarin</td>\n      <td>C1=CC=C2C(=C1)C=CC(=O)O2</td>\n      <td>NaN</td>\n      <td>NaN</td>\n      <td>NaN</td>\n      <td>CIDm00000323</td>\n      <td>HBIN021605</td>\n      <td>0.996000</td>\n    </tr>\n    <tr>\n      <th>3</th>\n      <td>HVC0159</td>\n      <td>glycerol</td>\n      <td>C(C(CO)O)O</td>\n      <td>NaN</td>\n      <td>753.0</td>\n      <td>NaN</td>\n      <td>CIDm00000753</td>\n      <td>HBIN028102</td>\n      <td>0.999928</td>\n    </tr>\n    <tr>\n      <th>4</th>\n      <td>HVC0225</td>\n      <td>palmitate</td>\n      <td>CCCCCCCCCCCCCCCC(=O)O</td>\n      <td>NaN</td>\n      <td>NaN</td>\n      <td>NaN</td>\n      <td>CIDm00000985</td>\n      <td>HBIN006119</td>\n      <td>1.000000</td>\n    </tr>\n    <tr>\n      <th>5</th>\n      <td>HVC0236</td>\n      <td>pregnenolone</td>\n      <td>CC(=O)C1CCC2C1(CCC3C2CC=C4C3(CCC(C4)O)C)C</td>\n      <td>145-13-1</td>\n      <td>8955.0</td>\n      <td>NaN</td>\n      <td>CIDm00001027</td>\n      <td>HBIN040257</td>\n      <td>0.999991</td>\n    </tr>\n    <tr>\n      <th>6</th>\n      <td>HVC0262</td>\n      <td>squalene</td>\n      <td>CC(=CCCC(=CCCC(=CCCC=C(C)CCC=C(C)CCC=C(C)C)C)C)C</td>\n      <td>NaN</td>\n      <td>638072.0</td>\n      <td>NaN</td>\n      <td>CIDm00001105</td>\n      <td>HBIN044654</td>\n      <td>0.992000</td>\n    </tr>\n    <tr>\n      <th>7</th>\n      <td>HVC0265</td>\n      <td>sucrose</td>\n      <td>C(C1C(C(C(C(O1)OC2(C(C(C(O2)CO)O)O)CO)O)O)O)O</td>\n      <td>NaN</td>\n      <td>5988.0</td>\n      <td>NaN</td>\n      <td>CIDm00001115</td>\n      <td>HBIN024523</td>\n      <td>0.995000</td>\n    </tr>\n    <tr>\n      <th>8</th>\n      <td>HVC0273</td>\n      <td>tryptophan</td>\n      <td>C1=CC=C2C(=C1)C(=CN2)CC(C(=O)O)N</td>\n      <td>153-94-6</td>\n      <td>9060.0</td>\n      <td>NaN</td>\n      <td>CIDm00001148</td>\n      <td>HBIN024532</td>\n      <td>0.993000</td>\n    </tr>\n    <tr>\n      <th>9</th>\n      <td>HVC0284</td>\n      <td>uridine</td>\n      <td>C1=CN(C(=O)NC1=O)C2C(C(C(O2)CO)O)O</td>\n      <td>58-96-8</td>\n      <td>NaN</td>\n      <td>NaN</td>\n      <td>CIDm00001177</td>\n      <td>HBIN000970</td>\n      <td>1.000000</td>\n    </tr>\n    <tr>\n      <th>10</th>\n      <td>HVC0381</td>\n      <td>Camphor</td>\n      <td>CC1(C2CCC1(C(=O)C2)C)C</td>\n      <td>NaN</td>\n      <td>NaN</td>\n      <td>NaN</td>\n      <td>CIDm00002537</td>\n      <td>HBIN001975</td>\n      <td>0.994000</td>\n    </tr>\n    <tr>\n      <th>11</th>\n      <td>HVC0384</td>\n      <td>capsaicin</td>\n      <td>CC(C)C=CCCCCC(=O)NCC1=CC(=C(C=C1)O)OC</td>\n      <td>NaN</td>\n      <td>NaN</td>\n      <td>NaN</td>\n      <td>CIDm00002548</td>\n      <td>HBIN019514</td>\n      <td>0.999999</td>\n    </tr>\n    <tr>\n      <th>12</th>\n      <td>HVC0533</td>\n      <td>linoleic acid</td>\n      <td>CCCCCC=CCC=CCCCCCCCC(=O)O</td>\n      <td>NaN</td>\n      <td>5282797.0</td>\n      <td>NaN</td>\n      <td>CIDm00003931</td>\n      <td>HBIN013995</td>\n      <td>0.992000</td>\n    </tr>\n  </tbody>\n</table>\n</div>"
     },
     "execution_count": 6,
     "metadata": {},
     "output_type": "execute_result"
    }
   ],
   "source": [
    "chem"
   ],
   "metadata": {
    "collapsed": false,
    "ExecuteTime": {
     "end_time": "2023-11-03T01:13:15.133872300Z",
     "start_time": "2023-11-03T01:13:15.087729700Z"
    }
   }
  },
  {
   "cell_type": "code",
   "execution_count": 7,
   "outputs": [
    {
     "data": {
      "text/plain": "      HVCID       Ensembl_ID  Combined_score\n0   HVC0533  ENSP00000262735           0.992\n1   HVC0384  ENSP00000382659           0.999\n2   HVC0384  ENSP00000459962           0.999\n3   HVC0381  ENSP00000461518           0.994\n4   HVC0284  ENSP00000252029           0.993\n5   HVC0284  ENSP00000330032           0.994\n6   HVC0284  ENSP00000364212           0.992\n7   HVC0273  ENSP00000347495           0.993\n8   HVC0265  ENSP00000264382           0.995\n9   HVC0262  ENSP00000220584           0.992\n10  HVC0236  ENSP00000268053           0.999\n11  HVC0236  ENSP00000358903           0.991\n12  HVC0225  ENSP00000262735           0.990\n13  HVC0225  ENSP00000265641           0.996\n14  HVC0225  ENSP00000344789           0.991\n15  HVC0225  ENSP00000360541           0.995\n16  HVC0225  ENSP00000362261           0.992\n17  HVC0159  ENSP00000297988           0.991\n18  HVC0159  ENSP00000368226           0.992\n19  HVC0071  ENSP00000301141           0.996\n20  HVC0052  ENSP00000338387           0.992\n21  HVC0052  ENSP00000341044           0.995\n22  HVC0052  ENSP00000344789           0.995\n23  HVC0036  ENSP00000043402           0.991\n24  HVC0036  ENSP00000223366           0.998\n25  HVC0036  ENSP00000264382           0.996\n26  HVC0036  ENSP00000272252           0.995\n27  HVC0036  ENSP00000302728           0.994\n28  HVC0036  ENSP00000314508           0.996\n29  HVC0036  ENSP00000315477           0.997\n30  HVC0036  ENSP00000357453           0.996\n31  HVC0036  ENSP00000397582           0.993",
      "text/html": "<div>\n<style scoped>\n    .dataframe tbody tr th:only-of-type {\n        vertical-align: middle;\n    }\n\n    .dataframe tbody tr th {\n        vertical-align: top;\n    }\n\n    .dataframe thead th {\n        text-align: right;\n    }\n</style>\n<table border=\"1\" class=\"dataframe\">\n  <thead>\n    <tr style=\"text-align: right;\">\n      <th></th>\n      <th>HVCID</th>\n      <th>Ensembl_ID</th>\n      <th>Combined_score</th>\n    </tr>\n  </thead>\n  <tbody>\n    <tr>\n      <th>0</th>\n      <td>HVC0533</td>\n      <td>ENSP00000262735</td>\n      <td>0.992</td>\n    </tr>\n    <tr>\n      <th>1</th>\n      <td>HVC0384</td>\n      <td>ENSP00000382659</td>\n      <td>0.999</td>\n    </tr>\n    <tr>\n      <th>2</th>\n      <td>HVC0384</td>\n      <td>ENSP00000459962</td>\n      <td>0.999</td>\n    </tr>\n    <tr>\n      <th>3</th>\n      <td>HVC0381</td>\n      <td>ENSP00000461518</td>\n      <td>0.994</td>\n    </tr>\n    <tr>\n      <th>4</th>\n      <td>HVC0284</td>\n      <td>ENSP00000252029</td>\n      <td>0.993</td>\n    </tr>\n    <tr>\n      <th>5</th>\n      <td>HVC0284</td>\n      <td>ENSP00000330032</td>\n      <td>0.994</td>\n    </tr>\n    <tr>\n      <th>6</th>\n      <td>HVC0284</td>\n      <td>ENSP00000364212</td>\n      <td>0.992</td>\n    </tr>\n    <tr>\n      <th>7</th>\n      <td>HVC0273</td>\n      <td>ENSP00000347495</td>\n      <td>0.993</td>\n    </tr>\n    <tr>\n      <th>8</th>\n      <td>HVC0265</td>\n      <td>ENSP00000264382</td>\n      <td>0.995</td>\n    </tr>\n    <tr>\n      <th>9</th>\n      <td>HVC0262</td>\n      <td>ENSP00000220584</td>\n      <td>0.992</td>\n    </tr>\n    <tr>\n      <th>10</th>\n      <td>HVC0236</td>\n      <td>ENSP00000268053</td>\n      <td>0.999</td>\n    </tr>\n    <tr>\n      <th>11</th>\n      <td>HVC0236</td>\n      <td>ENSP00000358903</td>\n      <td>0.991</td>\n    </tr>\n    <tr>\n      <th>12</th>\n      <td>HVC0225</td>\n      <td>ENSP00000262735</td>\n      <td>0.990</td>\n    </tr>\n    <tr>\n      <th>13</th>\n      <td>HVC0225</td>\n      <td>ENSP00000265641</td>\n      <td>0.996</td>\n    </tr>\n    <tr>\n      <th>14</th>\n      <td>HVC0225</td>\n      <td>ENSP00000344789</td>\n      <td>0.991</td>\n    </tr>\n    <tr>\n      <th>15</th>\n      <td>HVC0225</td>\n      <td>ENSP00000360541</td>\n      <td>0.995</td>\n    </tr>\n    <tr>\n      <th>16</th>\n      <td>HVC0225</td>\n      <td>ENSP00000362261</td>\n      <td>0.992</td>\n    </tr>\n    <tr>\n      <th>17</th>\n      <td>HVC0159</td>\n      <td>ENSP00000297988</td>\n      <td>0.991</td>\n    </tr>\n    <tr>\n      <th>18</th>\n      <td>HVC0159</td>\n      <td>ENSP00000368226</td>\n      <td>0.992</td>\n    </tr>\n    <tr>\n      <th>19</th>\n      <td>HVC0071</td>\n      <td>ENSP00000301141</td>\n      <td>0.996</td>\n    </tr>\n    <tr>\n      <th>20</th>\n      <td>HVC0052</td>\n      <td>ENSP00000338387</td>\n      <td>0.992</td>\n    </tr>\n    <tr>\n      <th>21</th>\n      <td>HVC0052</td>\n      <td>ENSP00000341044</td>\n      <td>0.995</td>\n    </tr>\n    <tr>\n      <th>22</th>\n      <td>HVC0052</td>\n      <td>ENSP00000344789</td>\n      <td>0.995</td>\n    </tr>\n    <tr>\n      <th>23</th>\n      <td>HVC0036</td>\n      <td>ENSP00000043402</td>\n      <td>0.991</td>\n    </tr>\n    <tr>\n      <th>24</th>\n      <td>HVC0036</td>\n      <td>ENSP00000223366</td>\n      <td>0.998</td>\n    </tr>\n    <tr>\n      <th>25</th>\n      <td>HVC0036</td>\n      <td>ENSP00000264382</td>\n      <td>0.996</td>\n    </tr>\n    <tr>\n      <th>26</th>\n      <td>HVC0036</td>\n      <td>ENSP00000272252</td>\n      <td>0.995</td>\n    </tr>\n    <tr>\n      <th>27</th>\n      <td>HVC0036</td>\n      <td>ENSP00000302728</td>\n      <td>0.994</td>\n    </tr>\n    <tr>\n      <th>28</th>\n      <td>HVC0036</td>\n      <td>ENSP00000314508</td>\n      <td>0.996</td>\n    </tr>\n    <tr>\n      <th>29</th>\n      <td>HVC0036</td>\n      <td>ENSP00000315477</td>\n      <td>0.997</td>\n    </tr>\n    <tr>\n      <th>30</th>\n      <td>HVC0036</td>\n      <td>ENSP00000357453</td>\n      <td>0.996</td>\n    </tr>\n    <tr>\n      <th>31</th>\n      <td>HVC0036</td>\n      <td>ENSP00000397582</td>\n      <td>0.993</td>\n    </tr>\n  </tbody>\n</table>\n</div>"
     },
     "execution_count": 7,
     "metadata": {},
     "output_type": "execute_result"
    }
   ],
   "source": [
    "chem_protein_links"
   ],
   "metadata": {
    "collapsed": false,
    "ExecuteTime": {
     "end_time": "2023-11-03T01:13:16.335433300Z",
     "start_time": "2023-11-03T01:13:16.271899200Z"
    }
   }
  },
  {
   "cell_type": "code",
   "execution_count": 8,
   "outputs": [
    {
     "data": {
      "text/plain": "         Ensembl_ID                                       protein_name  \\\n0   ENSP00000043402  Reticulon-4 receptor (Nogo receptor) (NgR) (No...   \n1   ENSP00000223366  Hexokinase-4 (HK4) (EC 2.7.1.1) (Glucokinase) ...   \n2   ENSP00000264382  Sucrase-isomaltase, intestinal [Cleaved into: ...   \n3   ENSP00000265641  Carnitine O-palmitoyltransferase 1, liver isof...   \n4   ENSP00000268053  Cholesterol side-chain cleavage enzyme, mitoch...   \n5   ENSP00000272252  Galactose mutarotase (EC 5.1.3.3) (Aldose 1-ep...   \n6   ENSP00000297988  Aquaporin-7 (AQP-7) (Aquaglyceroporin-7) (Aqua...   \n7   ENSP00000301141  Cytochrome P450 2A6 (EC 1.14.14.-) (1,4-cineol...   \n8   ENSP00000302728         Beta-glucuronidase (EC 3.2.1.31) (Beta-G1)   \n9   ENSP00000314508  Lysosomal acid glucosylceramidase (Lysosomal a...   \n10  ENSP00000315477  CD209 antigen (C-type lectin domain family 4 m...   \n11  ENSP00000330032  Uridine phosphorylase 1 (UPase 1) (UrdPase 1) ...   \n12  ENSP00000341044   Acetyl-CoA carboxylase 2 (EC 6.4.1.2) (ACC-beta)   \n13  ENSP00000347495  Tryptophan--tRNA ligase, cytoplasmic (EC 6.1.1...   \n14  ENSP00000357453  Mannosyl-oligosaccharide 1,2-alpha-mannosidase...   \n15  ENSP00000358903  Steroid 17-alpha-hydroxylase/17,20 lyase (EC 1...   \n16  ENSP00000360541  Carnitine O-palmitoyltransferase 2, mitochondr...   \n17  ENSP00000364212  Cytidine deaminase (EC 3.5.4.5) (Cytidine amin...   \n18  ENSP00000459962  Transient receptor potential cation channel su...   \n\n                    gene_name  \n0   RTN4R NOGOR UNQ330/PRO526  \n1                         GCK  \n2                          SI  \n3                  CPT1A CPT1  \n4              CYP11A1 CYP11A  \n5                GALM BLOCK25  \n6             AQP7 AQP7L AQP9  \n7               CYP2A6 CYP2A3  \n8                        GUSB  \n9            GBA1 GBA GC GLUC  \n10               CD209 CLEC4L  \n11                    UPP1 UP  \n12            ACACB ACC2 ACCB  \n13       WARS1 IFI53 WARS WRS  \n14                     MAN1A1  \n15        CYP17A1 CYP17 S17AH  \n16                  CPT2 CPT1  \n17                    CDA CDD  \n18                  TRPV1 VR1  ",
      "text/html": "<div>\n<style scoped>\n    .dataframe tbody tr th:only-of-type {\n        vertical-align: middle;\n    }\n\n    .dataframe tbody tr th {\n        vertical-align: top;\n    }\n\n    .dataframe thead th {\n        text-align: right;\n    }\n</style>\n<table border=\"1\" class=\"dataframe\">\n  <thead>\n    <tr style=\"text-align: right;\">\n      <th></th>\n      <th>Ensembl_ID</th>\n      <th>protein_name</th>\n      <th>gene_name</th>\n    </tr>\n  </thead>\n  <tbody>\n    <tr>\n      <th>0</th>\n      <td>ENSP00000043402</td>\n      <td>Reticulon-4 receptor (Nogo receptor) (NgR) (No...</td>\n      <td>RTN4R NOGOR UNQ330/PRO526</td>\n    </tr>\n    <tr>\n      <th>1</th>\n      <td>ENSP00000223366</td>\n      <td>Hexokinase-4 (HK4) (EC 2.7.1.1) (Glucokinase) ...</td>\n      <td>GCK</td>\n    </tr>\n    <tr>\n      <th>2</th>\n      <td>ENSP00000264382</td>\n      <td>Sucrase-isomaltase, intestinal [Cleaved into: ...</td>\n      <td>SI</td>\n    </tr>\n    <tr>\n      <th>3</th>\n      <td>ENSP00000265641</td>\n      <td>Carnitine O-palmitoyltransferase 1, liver isof...</td>\n      <td>CPT1A CPT1</td>\n    </tr>\n    <tr>\n      <th>4</th>\n      <td>ENSP00000268053</td>\n      <td>Cholesterol side-chain cleavage enzyme, mitoch...</td>\n      <td>CYP11A1 CYP11A</td>\n    </tr>\n    <tr>\n      <th>5</th>\n      <td>ENSP00000272252</td>\n      <td>Galactose mutarotase (EC 5.1.3.3) (Aldose 1-ep...</td>\n      <td>GALM BLOCK25</td>\n    </tr>\n    <tr>\n      <th>6</th>\n      <td>ENSP00000297988</td>\n      <td>Aquaporin-7 (AQP-7) (Aquaglyceroporin-7) (Aqua...</td>\n      <td>AQP7 AQP7L AQP9</td>\n    </tr>\n    <tr>\n      <th>7</th>\n      <td>ENSP00000301141</td>\n      <td>Cytochrome P450 2A6 (EC 1.14.14.-) (1,4-cineol...</td>\n      <td>CYP2A6 CYP2A3</td>\n    </tr>\n    <tr>\n      <th>8</th>\n      <td>ENSP00000302728</td>\n      <td>Beta-glucuronidase (EC 3.2.1.31) (Beta-G1)</td>\n      <td>GUSB</td>\n    </tr>\n    <tr>\n      <th>9</th>\n      <td>ENSP00000314508</td>\n      <td>Lysosomal acid glucosylceramidase (Lysosomal a...</td>\n      <td>GBA1 GBA GC GLUC</td>\n    </tr>\n    <tr>\n      <th>10</th>\n      <td>ENSP00000315477</td>\n      <td>CD209 antigen (C-type lectin domain family 4 m...</td>\n      <td>CD209 CLEC4L</td>\n    </tr>\n    <tr>\n      <th>11</th>\n      <td>ENSP00000330032</td>\n      <td>Uridine phosphorylase 1 (UPase 1) (UrdPase 1) ...</td>\n      <td>UPP1 UP</td>\n    </tr>\n    <tr>\n      <th>12</th>\n      <td>ENSP00000341044</td>\n      <td>Acetyl-CoA carboxylase 2 (EC 6.4.1.2) (ACC-beta)</td>\n      <td>ACACB ACC2 ACCB</td>\n    </tr>\n    <tr>\n      <th>13</th>\n      <td>ENSP00000347495</td>\n      <td>Tryptophan--tRNA ligase, cytoplasmic (EC 6.1.1...</td>\n      <td>WARS1 IFI53 WARS WRS</td>\n    </tr>\n    <tr>\n      <th>14</th>\n      <td>ENSP00000357453</td>\n      <td>Mannosyl-oligosaccharide 1,2-alpha-mannosidase...</td>\n      <td>MAN1A1</td>\n    </tr>\n    <tr>\n      <th>15</th>\n      <td>ENSP00000358903</td>\n      <td>Steroid 17-alpha-hydroxylase/17,20 lyase (EC 1...</td>\n      <td>CYP17A1 CYP17 S17AH</td>\n    </tr>\n    <tr>\n      <th>16</th>\n      <td>ENSP00000360541</td>\n      <td>Carnitine O-palmitoyltransferase 2, mitochondr...</td>\n      <td>CPT2 CPT1</td>\n    </tr>\n    <tr>\n      <th>17</th>\n      <td>ENSP00000364212</td>\n      <td>Cytidine deaminase (EC 3.5.4.5) (Cytidine amin...</td>\n      <td>CDA CDD</td>\n    </tr>\n    <tr>\n      <th>18</th>\n      <td>ENSP00000459962</td>\n      <td>Transient receptor potential cation channel su...</td>\n      <td>TRPV1 VR1</td>\n    </tr>\n  </tbody>\n</table>\n</div>"
     },
     "execution_count": 8,
     "metadata": {},
     "output_type": "execute_result"
    }
   ],
   "source": [
    "proteins"
   ],
   "metadata": {
    "collapsed": false,
    "ExecuteTime": {
     "end_time": "2023-11-03T01:13:17.277607400Z",
     "start_time": "2023-11-03T01:13:17.246251700Z"
    }
   }
  },
  {
   "cell_type": "markdown",
   "source": [
    "## 对复方的分析"
   ],
   "metadata": {
    "collapsed": false
   }
  },
  {
   "cell_type": "code",
   "execution_count": 9,
   "outputs": [],
   "source": [
    "formula, formula_tcm_links, tcm, tcm_chem_links, chem, chem_protein_links, proteins = analysis.from_tcm_or_formula(['HVP1625'])"
   ],
   "metadata": {
    "collapsed": false,
    "ExecuteTime": {
     "end_time": "2023-11-03T01:13:21.776034300Z",
     "start_time": "2023-11-03T01:13:21.158023800Z"
    }
   }
  },
  {
   "cell_type": "code",
   "execution_count": 10,
   "outputs": [
    {
     "data": {
      "text/plain": "     HVPID  name Prescription Composition Instructions  \\\n0  HVP1625  小柴胡汤                      NaN          NaN   \n\n                                  Treatment Symptoms Source Document  \\\n0  1. For cases with chest upset but withou vomit...   shang han lun   \n\n   Importance Score  \n0               1.0  ",
      "text/html": "<div>\n<style scoped>\n    .dataframe tbody tr th:only-of-type {\n        vertical-align: middle;\n    }\n\n    .dataframe tbody tr th {\n        vertical-align: top;\n    }\n\n    .dataframe thead th {\n        text-align: right;\n    }\n</style>\n<table border=\"1\" class=\"dataframe\">\n  <thead>\n    <tr style=\"text-align: right;\">\n      <th></th>\n      <th>HVPID</th>\n      <th>name</th>\n      <th>Prescription Composition</th>\n      <th>Instructions</th>\n      <th>Treatment Symptoms</th>\n      <th>Source Document</th>\n      <th>Importance Score</th>\n    </tr>\n  </thead>\n  <tbody>\n    <tr>\n      <th>0</th>\n      <td>HVP1625</td>\n      <td>小柴胡汤</td>\n      <td>NaN</td>\n      <td>NaN</td>\n      <td>1. For cases with chest upset but withou vomit...</td>\n      <td>shang han lun</td>\n      <td>1.0</td>\n    </tr>\n  </tbody>\n</table>\n</div>"
     },
     "execution_count": 10,
     "metadata": {},
     "output_type": "execute_result"
    }
   ],
   "source": [
    "formula"
   ],
   "metadata": {
    "collapsed": false,
    "ExecuteTime": {
     "end_time": "2023-11-03T01:13:22.013393200Z",
     "start_time": "2023-11-03T01:13:21.982074400Z"
    }
   }
  },
  {
   "cell_type": "code",
   "execution_count": 11,
   "outputs": [
    {
     "data": {
      "text/plain": "     HVPID    HVMID\n0  HVP1625  HVM0367\n1  HVP1625  HVM0735\n2  HVP1625  HVM0766\n3  HVP1625  HVM1695\n4  HVP1625  HVM3203",
      "text/html": "<div>\n<style scoped>\n    .dataframe tbody tr th:only-of-type {\n        vertical-align: middle;\n    }\n\n    .dataframe tbody tr th {\n        vertical-align: top;\n    }\n\n    .dataframe thead th {\n        text-align: right;\n    }\n</style>\n<table border=\"1\" class=\"dataframe\">\n  <thead>\n    <tr style=\"text-align: right;\">\n      <th></th>\n      <th>HVPID</th>\n      <th>HVMID</th>\n    </tr>\n  </thead>\n  <tbody>\n    <tr>\n      <th>0</th>\n      <td>HVP1625</td>\n      <td>HVM0367</td>\n    </tr>\n    <tr>\n      <th>1</th>\n      <td>HVP1625</td>\n      <td>HVM0735</td>\n    </tr>\n    <tr>\n      <th>2</th>\n      <td>HVP1625</td>\n      <td>HVM0766</td>\n    </tr>\n    <tr>\n      <th>3</th>\n      <td>HVP1625</td>\n      <td>HVM1695</td>\n    </tr>\n    <tr>\n      <th>4</th>\n      <td>HVP1625</td>\n      <td>HVM3203</td>\n    </tr>\n  </tbody>\n</table>\n</div>"
     },
     "execution_count": 11,
     "metadata": {},
     "output_type": "execute_result"
    }
   ],
   "source": [
    "formula_tcm_links"
   ],
   "metadata": {
    "collapsed": false,
    "ExecuteTime": {
     "end_time": "2023-11-03T01:13:23.106929700Z",
     "start_time": "2023-11-03T01:13:23.075667200Z"
    }
   }
  },
  {
   "cell_type": "code",
   "execution_count": 12,
   "outputs": [
    {
     "data": {
      "text/plain": "     HVMID cn_name  pinyin_name                   en_name  \\\n0  HVM0367      柴胡      CHAI HU  root of Chinese Thorowax   \n1  HVM0735      大枣       DA ZAO       Jujube Chinese date   \n2  HVM0766      党参    DANG SHEN      root Pilose Asiabell   \n3  HVM1695      黄芩    HUANG QIN   root of Baikal skullcap   \n4  HVM3203      生姜  SHENG JIANG              Fresh Ginger   \n\n                   latin_name                   Properties  \\\n0              Radix Bupleuri  Minor cold; Pungent; Bitter   \n1     Fructus Zizyphi Jujubae                  Warm; Sweet   \n2  Radix Codonopsis pilosulae                  Mild; Sweet   \n3          Radix Scutellariae                 Cold; Bitter   \n4   Rhizoma Zingiberis Recens                Warm; Pungent   \n\n                                           Meridians        UsePart  \\\n0                                 Liver; Gallbladder           root   \n1                                    Spleen; Stomach     ripe fruit   \n2                                       Lung; Spleen           root   \n3  Lung; Large Intestine; Stomach; Small Intestin...           root   \n4                              Lung; Spleen; Stomach  fresh rhizome   \n\n                                            Function  \\\n0  To relieve fever, to soothe the liver, and to ...   \n1  To tonify the spleen and replenish qi, to nour...   \n2  To reinforce qi and invigorate the function of...   \n3  To remove damp-heat, to quench fire and counte...   \n4  To induce perspiration and dispel cold, to war...   \n\n                                          Indication Toxicity  \\\n0  Common cold, influenza, malaria, acute pancrea...      NaN   \n1  Reduced food intake due to spleen vacuity, lac...      NaN   \n2  Spleen-stomach vacuity, reduced food intake an...      NaN   \n3  Chest oppression with retching, diarrhea, jaun...      NaN   \n4  Wind-cold common cold, fever and aversion to w...      NaN   \n\n                             Clinical_manifestations  \\\n0  1. Increasing the hypotic effect of barbital i...   \n1  1. Oral administration increases the level of ...   \n2                                                NaN   \n3  1. Possessing a broad-spectrum bacteriostatic ...   \n4  1. Oral administration can stimulate the bucca...   \n\n                         Therapeutic_en_class Therapeutic_cn_class  \\\n0                   Pungent Cool Diaphoretics                辛凉解表药   \n1                        Qi Reinforcing Drugs                  补气药   \n2                        Qi Reinforcing Drugs                  补气药   \n3  Heat-Clearing And Dampnessdrying Medicinal                清热燥湿药   \n4   Pungent-Warm Exterior-Releasing Medicinal                辛温解表药   \n\n      HERB_id   TCMID_id  TCM_ID_id  SymMap_id  TCMSP_id  Importance Score  \n0  HERB000638  SMHB00058     3396.0       58.0      80.0               1.0  \n1  HERB001164  SMHB00090     1076.0       90.0     193.0               1.0  \n2  HERB001211  SMHB00096     1345.0       96.0     203.0               1.0  \n3  HERB002563  SMHB00188     6700.0      188.0     371.0               1.0  \n4  HERB005017  SMHB00367     7484.0      367.0     640.0               1.0  ",
      "text/html": "<div>\n<style scoped>\n    .dataframe tbody tr th:only-of-type {\n        vertical-align: middle;\n    }\n\n    .dataframe tbody tr th {\n        vertical-align: top;\n    }\n\n    .dataframe thead th {\n        text-align: right;\n    }\n</style>\n<table border=\"1\" class=\"dataframe\">\n  <thead>\n    <tr style=\"text-align: right;\">\n      <th></th>\n      <th>HVMID</th>\n      <th>cn_name</th>\n      <th>pinyin_name</th>\n      <th>en_name</th>\n      <th>latin_name</th>\n      <th>Properties</th>\n      <th>Meridians</th>\n      <th>UsePart</th>\n      <th>Function</th>\n      <th>Indication</th>\n      <th>Toxicity</th>\n      <th>Clinical_manifestations</th>\n      <th>Therapeutic_en_class</th>\n      <th>Therapeutic_cn_class</th>\n      <th>HERB_id</th>\n      <th>TCMID_id</th>\n      <th>TCM_ID_id</th>\n      <th>SymMap_id</th>\n      <th>TCMSP_id</th>\n      <th>Importance Score</th>\n    </tr>\n  </thead>\n  <tbody>\n    <tr>\n      <th>0</th>\n      <td>HVM0367</td>\n      <td>柴胡</td>\n      <td>CHAI HU</td>\n      <td>root of Chinese Thorowax</td>\n      <td>Radix Bupleuri</td>\n      <td>Minor cold; Pungent; Bitter</td>\n      <td>Liver; Gallbladder</td>\n      <td>root</td>\n      <td>To relieve fever, to soothe the liver, and to ...</td>\n      <td>Common cold, influenza, malaria, acute pancrea...</td>\n      <td>NaN</td>\n      <td>1. Increasing the hypotic effect of barbital i...</td>\n      <td>Pungent Cool Diaphoretics</td>\n      <td>辛凉解表药</td>\n      <td>HERB000638</td>\n      <td>SMHB00058</td>\n      <td>3396.0</td>\n      <td>58.0</td>\n      <td>80.0</td>\n      <td>1.0</td>\n    </tr>\n    <tr>\n      <th>1</th>\n      <td>HVM0735</td>\n      <td>大枣</td>\n      <td>DA ZAO</td>\n      <td>Jujube Chinese date</td>\n      <td>Fructus Zizyphi Jujubae</td>\n      <td>Warm; Sweet</td>\n      <td>Spleen; Stomach</td>\n      <td>ripe fruit</td>\n      <td>To tonify the spleen and replenish qi, to nour...</td>\n      <td>Reduced food intake due to spleen vacuity, lac...</td>\n      <td>NaN</td>\n      <td>1. Oral administration increases the level of ...</td>\n      <td>Qi Reinforcing Drugs</td>\n      <td>补气药</td>\n      <td>HERB001164</td>\n      <td>SMHB00090</td>\n      <td>1076.0</td>\n      <td>90.0</td>\n      <td>193.0</td>\n      <td>1.0</td>\n    </tr>\n    <tr>\n      <th>2</th>\n      <td>HVM0766</td>\n      <td>党参</td>\n      <td>DANG SHEN</td>\n      <td>root Pilose Asiabell</td>\n      <td>Radix Codonopsis pilosulae</td>\n      <td>Mild; Sweet</td>\n      <td>Lung; Spleen</td>\n      <td>root</td>\n      <td>To reinforce qi and invigorate the function of...</td>\n      <td>Spleen-stomach vacuity, reduced food intake an...</td>\n      <td>NaN</td>\n      <td>NaN</td>\n      <td>Qi Reinforcing Drugs</td>\n      <td>补气药</td>\n      <td>HERB001211</td>\n      <td>SMHB00096</td>\n      <td>1345.0</td>\n      <td>96.0</td>\n      <td>203.0</td>\n      <td>1.0</td>\n    </tr>\n    <tr>\n      <th>3</th>\n      <td>HVM1695</td>\n      <td>黄芩</td>\n      <td>HUANG QIN</td>\n      <td>root of Baikal skullcap</td>\n      <td>Radix Scutellariae</td>\n      <td>Cold; Bitter</td>\n      <td>Lung; Large Intestine; Stomach; Small Intestin...</td>\n      <td>root</td>\n      <td>To remove damp-heat, to quench fire and counte...</td>\n      <td>Chest oppression with retching, diarrhea, jaun...</td>\n      <td>NaN</td>\n      <td>1. Possessing a broad-spectrum bacteriostatic ...</td>\n      <td>Heat-Clearing And Dampnessdrying Medicinal</td>\n      <td>清热燥湿药</td>\n      <td>HERB002563</td>\n      <td>SMHB00188</td>\n      <td>6700.0</td>\n      <td>188.0</td>\n      <td>371.0</td>\n      <td>1.0</td>\n    </tr>\n    <tr>\n      <th>4</th>\n      <td>HVM3203</td>\n      <td>生姜</td>\n      <td>SHENG JIANG</td>\n      <td>Fresh Ginger</td>\n      <td>Rhizoma Zingiberis Recens</td>\n      <td>Warm; Pungent</td>\n      <td>Lung; Spleen; Stomach</td>\n      <td>fresh rhizome</td>\n      <td>To induce perspiration and dispel cold, to war...</td>\n      <td>Wind-cold common cold, fever and aversion to w...</td>\n      <td>NaN</td>\n      <td>1. Oral administration can stimulate the bucca...</td>\n      <td>Pungent-Warm Exterior-Releasing Medicinal</td>\n      <td>辛温解表药</td>\n      <td>HERB005017</td>\n      <td>SMHB00367</td>\n      <td>7484.0</td>\n      <td>367.0</td>\n      <td>640.0</td>\n      <td>1.0</td>\n    </tr>\n  </tbody>\n</table>\n</div>"
     },
     "execution_count": 12,
     "metadata": {},
     "output_type": "execute_result"
    }
   ],
   "source": [
    "tcm"
   ],
   "metadata": {
    "collapsed": false,
    "ExecuteTime": {
     "end_time": "2023-11-03T01:13:23.934166600Z",
     "start_time": "2023-11-03T01:13:23.886943600Z"
    }
   }
  },
  {
   "cell_type": "code",
   "execution_count": 13,
   "outputs": [
    {
     "data": {
      "text/plain": "      HVMID    HVCID\n0   HVM0367  HVC0284\n1   HVM0367  HVC0384\n2   HVM0367  HVC0384\n3   HVM0367  HVC0071\n4   HVM0367  HVC0036\n5   HVM0367  HVC0273\n6   HVM0367  HVC0533\n7   HVM0367  HVC0036\n8   HVM0367  HVC0225\n9   HVM0367  HVC0159\n10  HVM0367  HVC0533\n11  HVM0367  HVC0225\n12  HVM0367  HVC0236\n13  HVM0367  HVC0273\n14  HVM0735  HVC0226\n15  HVM0735  HVC0094\n16  HVM0735  HVC0533\n17  HVM0735  HVC0036\n18  HVM0735  HVC0156\n19  HVM0735  HVC0225\n20  HVM0735  HVC0533\n21  HVM0735  HVC0113\n22  HVM0735  HVC0225\n23  HVM0735  HVC0265\n24  HVM0766  HVC0384\n25  HVM0766  HVC0384\n26  HVM0766  HVC0065\n27  HVM0766  HVC0533\n28  HVM0766  HVC0156\n29  HVM0766  HVC0225\n30  HVM0766  HVC0036\n31  HVM0766  HVC0036\n32  HVM0766  HVC0215\n33  HVM0766  HVC0215\n34  HVM0766  HVC0225\n35  HVM0766  HVC0183\n36  HVM0766  HVC0273\n37  HVM1695  HVC0052\n38  HVM1695  HVC0533\n39  HVM1695  HVC0225\n40  HVM1695  HVC0225\n41  HVM1695  HVC0381\n42  HVM1695  HVC0265\n43  HVM1695  HVC0262\n44  HVM3203  HVC0381\n45  HVM3203  HVC0381\n46  HVM3203  HVC0533\n47  HVM3203  HVC0026\n48  HVM3203  HVC0474\n49  HVM3203  HVC0159\n50  HVM3203  HVC0298\n51  HVM3203  HVC0203\n52  HVM3203  HVC0146\n53  HVM3203  HVC0225\n54  HVM3203  HVC0241",
      "text/html": "<div>\n<style scoped>\n    .dataframe tbody tr th:only-of-type {\n        vertical-align: middle;\n    }\n\n    .dataframe tbody tr th {\n        vertical-align: top;\n    }\n\n    .dataframe thead th {\n        text-align: right;\n    }\n</style>\n<table border=\"1\" class=\"dataframe\">\n  <thead>\n    <tr style=\"text-align: right;\">\n      <th></th>\n      <th>HVMID</th>\n      <th>HVCID</th>\n    </tr>\n  </thead>\n  <tbody>\n    <tr>\n      <th>0</th>\n      <td>HVM0367</td>\n      <td>HVC0284</td>\n    </tr>\n    <tr>\n      <th>1</th>\n      <td>HVM0367</td>\n      <td>HVC0384</td>\n    </tr>\n    <tr>\n      <th>2</th>\n      <td>HVM0367</td>\n      <td>HVC0384</td>\n    </tr>\n    <tr>\n      <th>3</th>\n      <td>HVM0367</td>\n      <td>HVC0071</td>\n    </tr>\n    <tr>\n      <th>4</th>\n      <td>HVM0367</td>\n      <td>HVC0036</td>\n    </tr>\n    <tr>\n      <th>5</th>\n      <td>HVM0367</td>\n      <td>HVC0273</td>\n    </tr>\n    <tr>\n      <th>6</th>\n      <td>HVM0367</td>\n      <td>HVC0533</td>\n    </tr>\n    <tr>\n      <th>7</th>\n      <td>HVM0367</td>\n      <td>HVC0036</td>\n    </tr>\n    <tr>\n      <th>8</th>\n      <td>HVM0367</td>\n      <td>HVC0225</td>\n    </tr>\n    <tr>\n      <th>9</th>\n      <td>HVM0367</td>\n      <td>HVC0159</td>\n    </tr>\n    <tr>\n      <th>10</th>\n      <td>HVM0367</td>\n      <td>HVC0533</td>\n    </tr>\n    <tr>\n      <th>11</th>\n      <td>HVM0367</td>\n      <td>HVC0225</td>\n    </tr>\n    <tr>\n      <th>12</th>\n      <td>HVM0367</td>\n      <td>HVC0236</td>\n    </tr>\n    <tr>\n      <th>13</th>\n      <td>HVM0367</td>\n      <td>HVC0273</td>\n    </tr>\n    <tr>\n      <th>14</th>\n      <td>HVM0735</td>\n      <td>HVC0226</td>\n    </tr>\n    <tr>\n      <th>15</th>\n      <td>HVM0735</td>\n      <td>HVC0094</td>\n    </tr>\n    <tr>\n      <th>16</th>\n      <td>HVM0735</td>\n      <td>HVC0533</td>\n    </tr>\n    <tr>\n      <th>17</th>\n      <td>HVM0735</td>\n      <td>HVC0036</td>\n    </tr>\n    <tr>\n      <th>18</th>\n      <td>HVM0735</td>\n      <td>HVC0156</td>\n    </tr>\n    <tr>\n      <th>19</th>\n      <td>HVM0735</td>\n      <td>HVC0225</td>\n    </tr>\n    <tr>\n      <th>20</th>\n      <td>HVM0735</td>\n      <td>HVC0533</td>\n    </tr>\n    <tr>\n      <th>21</th>\n      <td>HVM0735</td>\n      <td>HVC0113</td>\n    </tr>\n    <tr>\n      <th>22</th>\n      <td>HVM0735</td>\n      <td>HVC0225</td>\n    </tr>\n    <tr>\n      <th>23</th>\n      <td>HVM0735</td>\n      <td>HVC0265</td>\n    </tr>\n    <tr>\n      <th>24</th>\n      <td>HVM0766</td>\n      <td>HVC0384</td>\n    </tr>\n    <tr>\n      <th>25</th>\n      <td>HVM0766</td>\n      <td>HVC0384</td>\n    </tr>\n    <tr>\n      <th>26</th>\n      <td>HVM0766</td>\n      <td>HVC0065</td>\n    </tr>\n    <tr>\n      <th>27</th>\n      <td>HVM0766</td>\n      <td>HVC0533</td>\n    </tr>\n    <tr>\n      <th>28</th>\n      <td>HVM0766</td>\n      <td>HVC0156</td>\n    </tr>\n    <tr>\n      <th>29</th>\n      <td>HVM0766</td>\n      <td>HVC0225</td>\n    </tr>\n    <tr>\n      <th>30</th>\n      <td>HVM0766</td>\n      <td>HVC0036</td>\n    </tr>\n    <tr>\n      <th>31</th>\n      <td>HVM0766</td>\n      <td>HVC0036</td>\n    </tr>\n    <tr>\n      <th>32</th>\n      <td>HVM0766</td>\n      <td>HVC0215</td>\n    </tr>\n    <tr>\n      <th>33</th>\n      <td>HVM0766</td>\n      <td>HVC0215</td>\n    </tr>\n    <tr>\n      <th>34</th>\n      <td>HVM0766</td>\n      <td>HVC0225</td>\n    </tr>\n    <tr>\n      <th>35</th>\n      <td>HVM0766</td>\n      <td>HVC0183</td>\n    </tr>\n    <tr>\n      <th>36</th>\n      <td>HVM0766</td>\n      <td>HVC0273</td>\n    </tr>\n    <tr>\n      <th>37</th>\n      <td>HVM1695</td>\n      <td>HVC0052</td>\n    </tr>\n    <tr>\n      <th>38</th>\n      <td>HVM1695</td>\n      <td>HVC0533</td>\n    </tr>\n    <tr>\n      <th>39</th>\n      <td>HVM1695</td>\n      <td>HVC0225</td>\n    </tr>\n    <tr>\n      <th>40</th>\n      <td>HVM1695</td>\n      <td>HVC0225</td>\n    </tr>\n    <tr>\n      <th>41</th>\n      <td>HVM1695</td>\n      <td>HVC0381</td>\n    </tr>\n    <tr>\n      <th>42</th>\n      <td>HVM1695</td>\n      <td>HVC0265</td>\n    </tr>\n    <tr>\n      <th>43</th>\n      <td>HVM1695</td>\n      <td>HVC0262</td>\n    </tr>\n    <tr>\n      <th>44</th>\n      <td>HVM3203</td>\n      <td>HVC0381</td>\n    </tr>\n    <tr>\n      <th>45</th>\n      <td>HVM3203</td>\n      <td>HVC0381</td>\n    </tr>\n    <tr>\n      <th>46</th>\n      <td>HVM3203</td>\n      <td>HVC0533</td>\n    </tr>\n    <tr>\n      <th>47</th>\n      <td>HVM3203</td>\n      <td>HVC0026</td>\n    </tr>\n    <tr>\n      <th>48</th>\n      <td>HVM3203</td>\n      <td>HVC0474</td>\n    </tr>\n    <tr>\n      <th>49</th>\n      <td>HVM3203</td>\n      <td>HVC0159</td>\n    </tr>\n    <tr>\n      <th>50</th>\n      <td>HVM3203</td>\n      <td>HVC0298</td>\n    </tr>\n    <tr>\n      <th>51</th>\n      <td>HVM3203</td>\n      <td>HVC0203</td>\n    </tr>\n    <tr>\n      <th>52</th>\n      <td>HVM3203</td>\n      <td>HVC0146</td>\n    </tr>\n    <tr>\n      <th>53</th>\n      <td>HVM3203</td>\n      <td>HVC0225</td>\n    </tr>\n    <tr>\n      <th>54</th>\n      <td>HVM3203</td>\n      <td>HVC0241</td>\n    </tr>\n  </tbody>\n</table>\n</div>"
     },
     "execution_count": 13,
     "metadata": {},
     "output_type": "execute_result"
    }
   ],
   "source": [
    "tcm_chem_links"
   ],
   "metadata": {
    "collapsed": false,
    "ExecuteTime": {
     "end_time": "2023-11-03T01:13:24.712675500Z",
     "start_time": "2023-11-03T01:13:24.691572900Z"
    }
   }
  },
  {
   "cell_type": "code",
   "execution_count": 14,
   "outputs": [
    {
     "data": {
      "text/plain": "      HVCID              Name  \\\n0   HVC0026      acetaldehyde   \n1   HVC0036           glucose   \n2   HVC0052       anti-biotin   \n3   HVC0065           choline   \n4   HVC0071          coumarin   \n5   HVC0094         aspartate   \n6   HVC0113            malate   \n7   HVC0146           ethanol   \n8   HVC0156           glycine   \n9   HVC0159          glycerol   \n10  HVC0183            fucose   \n11  HVC0203     methylglyoxal   \n12  HVC0215          nicotine   \n13  HVC0225         palmitate   \n14  HVC0226  pantothenic acid   \n15  HVC0236      pregnenolone   \n16  HVC0241        propionate   \n17  HVC0262          squalene   \n18  HVC0265           sucrose   \n19  HVC0273        tryptophan   \n20  HVC0284           uridine   \n21  HVC0298           menthol   \n22  HVC0381           Camphor   \n23  HVC0384         capsaicin   \n24  HVC0474       galantamine   \n25  HVC0533     linoleic acid   \n\n                                              SMILES      CAS_id  PubChem_id  \\\n0                                               CC=O     75-07-0       177.0   \n1                           C(C1C(C(C(C(O1)O)O)O)O)O         NaN         NaN   \n2                     C1C2C(C(S1)CCCCC(=O)O)NC(=O)N2  22879-79-4         NaN   \n3                                     C[N+](C)(C)CCO     62-49-7       305.0   \n4                           C1=CC=C2C(=C1)C=CC(=O)O2         NaN         NaN   \n5                                C(C(C(=O)O)N)C(=O)O  39162-75-9      5960.0   \n6                                C(C(C(=O)O)O)C(=O)O         NaN     92824.0   \n7                                                CCO         NaN       702.0   \n8                                         C(C(=O)O)N         NaN       750.0   \n9                                         C(C(CO)O)O         NaN       753.0   \n10                             CC1C(C(C(C(O1)O)O)O)O         NaN     17106.0   \n11                                         CC(=O)C=O         NaN       880.0   \n12                               CN1CCCC1C2=CN=CC=C2   1596-94-7    157672.0   \n13                             CCCCCCCCCCCCCCCC(=O)O         NaN         NaN   \n14                       CC(C)(CO)C(C(=O)NCCC(=O)O)O     79-83-4   5748353.0   \n15         CC(=O)C1CCC2C1(CCC3C2CC=C4C3(CCC(C4)O)C)C    145-13-1      8955.0   \n16                                          CCC(=O)O  68990-37-4      1032.0   \n17  CC(=CCCC(=CCCC(=CCCC=C(C)CCC=C(C)CCC=C(C)C)C)C)C         NaN    638072.0   \n18     C(C1C(C(C(C(O1)OC2(C(C(C(O2)CO)O)O)CO)O)O)O)O         NaN      5988.0   \n19                  C1=CC=C2C(=C1)C(=CN2)CC(C(=O)O)N    153-94-6      9060.0   \n20                C1=CN(C(=O)NC1=O)C2C(C(C(O2)CO)O)O     58-96-8         NaN   \n21                               CC1CCC(C(C1)O)C(C)C         NaN         NaN   \n22                            CC1(C2CCC1(C(=O)C2)C)C         NaN         NaN   \n23             CC(C)C=CCCCCC(=O)NCC1=CC(=C(C=C1)O)OC         NaN         NaN   \n24           CN1CCC23C=CC(CC2OC4=C(C=CC(=C34)C1)OC)O         NaN         NaN   \n25                         CCCCCC=CCC=CCCCCCCCC(=O)O         NaN   5282797.0   \n\n   DrugBank_id     STITCH_id     HERB_id  Importance Score  \n0          NaN  CIDm00000177  HBIN014388          1.000000  \n1          NaN  CIDm00000206  HBIN001003          1.000000  \n2          NaN  CIDm00000253  HBIN011003          1.000000  \n3          NaN  CIDm00000305  HBIN020406          1.000000  \n4          NaN  CIDm00000323  HBIN021605          0.996000  \n5      DB00128  CIDm00000424  HBIN017056          0.991000  \n6          NaN  CIDm00000525  HBIN024322          0.999960  \n7          NaN  CIDm00000702  HBIN015097          1.000000  \n8      DB00145  CIDm00000750  HBIN015853          1.000000  \n9          NaN  CIDm00000753  HBIN028102          0.999928  \n10         NaN  CIDm00000840  HBIN026805          0.991000  \n11         NaN  CIDm00000880  HBIN035246          0.999984  \n12         NaN  CIDm00000942  HBIN024343          1.000000  \n13         NaN  CIDm00000985  HBIN006119          1.000000  \n14         NaN  CIDm00000988  HBIN007058          0.990000  \n15         NaN  CIDm00001027  HBIN040257          0.999991  \n16         NaN  CIDm00001032  HBIN040626          0.992000  \n17         NaN  CIDm00001105  HBIN044654          0.992000  \n18         NaN  CIDm00001115  HBIN024523          0.995000  \n19         NaN  CIDm00001148  HBIN024532          0.993000  \n20         NaN  CIDm00001177  HBIN000970          1.000000  \n21         NaN  CIDm00001254  HBIN002278          0.999982  \n22         NaN  CIDm00002537  HBIN001975          0.994000  \n23         NaN  CIDm00002548  HBIN019514          0.999999  \n24         NaN  CIDm00003449  HBIN005583          0.999996  \n25         NaN  CIDm00003931  HBIN013995          0.992000  ",
      "text/html": "<div>\n<style scoped>\n    .dataframe tbody tr th:only-of-type {\n        vertical-align: middle;\n    }\n\n    .dataframe tbody tr th {\n        vertical-align: top;\n    }\n\n    .dataframe thead th {\n        text-align: right;\n    }\n</style>\n<table border=\"1\" class=\"dataframe\">\n  <thead>\n    <tr style=\"text-align: right;\">\n      <th></th>\n      <th>HVCID</th>\n      <th>Name</th>\n      <th>SMILES</th>\n      <th>CAS_id</th>\n      <th>PubChem_id</th>\n      <th>DrugBank_id</th>\n      <th>STITCH_id</th>\n      <th>HERB_id</th>\n      <th>Importance Score</th>\n    </tr>\n  </thead>\n  <tbody>\n    <tr>\n      <th>0</th>\n      <td>HVC0026</td>\n      <td>acetaldehyde</td>\n      <td>CC=O</td>\n      <td>75-07-0</td>\n      <td>177.0</td>\n      <td>NaN</td>\n      <td>CIDm00000177</td>\n      <td>HBIN014388</td>\n      <td>1.000000</td>\n    </tr>\n    <tr>\n      <th>1</th>\n      <td>HVC0036</td>\n      <td>glucose</td>\n      <td>C(C1C(C(C(C(O1)O)O)O)O)O</td>\n      <td>NaN</td>\n      <td>NaN</td>\n      <td>NaN</td>\n      <td>CIDm00000206</td>\n      <td>HBIN001003</td>\n      <td>1.000000</td>\n    </tr>\n    <tr>\n      <th>2</th>\n      <td>HVC0052</td>\n      <td>anti-biotin</td>\n      <td>C1C2C(C(S1)CCCCC(=O)O)NC(=O)N2</td>\n      <td>22879-79-4</td>\n      <td>NaN</td>\n      <td>NaN</td>\n      <td>CIDm00000253</td>\n      <td>HBIN011003</td>\n      <td>1.000000</td>\n    </tr>\n    <tr>\n      <th>3</th>\n      <td>HVC0065</td>\n      <td>choline</td>\n      <td>C[N+](C)(C)CCO</td>\n      <td>62-49-7</td>\n      <td>305.0</td>\n      <td>NaN</td>\n      <td>CIDm00000305</td>\n      <td>HBIN020406</td>\n      <td>1.000000</td>\n    </tr>\n    <tr>\n      <th>4</th>\n      <td>HVC0071</td>\n      <td>coumarin</td>\n      <td>C1=CC=C2C(=C1)C=CC(=O)O2</td>\n      <td>NaN</td>\n      <td>NaN</td>\n      <td>NaN</td>\n      <td>CIDm00000323</td>\n      <td>HBIN021605</td>\n      <td>0.996000</td>\n    </tr>\n    <tr>\n      <th>5</th>\n      <td>HVC0094</td>\n      <td>aspartate</td>\n      <td>C(C(C(=O)O)N)C(=O)O</td>\n      <td>39162-75-9</td>\n      <td>5960.0</td>\n      <td>DB00128</td>\n      <td>CIDm00000424</td>\n      <td>HBIN017056</td>\n      <td>0.991000</td>\n    </tr>\n    <tr>\n      <th>6</th>\n      <td>HVC0113</td>\n      <td>malate</td>\n      <td>C(C(C(=O)O)O)C(=O)O</td>\n      <td>NaN</td>\n      <td>92824.0</td>\n      <td>NaN</td>\n      <td>CIDm00000525</td>\n      <td>HBIN024322</td>\n      <td>0.999960</td>\n    </tr>\n    <tr>\n      <th>7</th>\n      <td>HVC0146</td>\n      <td>ethanol</td>\n      <td>CCO</td>\n      <td>NaN</td>\n      <td>702.0</td>\n      <td>NaN</td>\n      <td>CIDm00000702</td>\n      <td>HBIN015097</td>\n      <td>1.000000</td>\n    </tr>\n    <tr>\n      <th>8</th>\n      <td>HVC0156</td>\n      <td>glycine</td>\n      <td>C(C(=O)O)N</td>\n      <td>NaN</td>\n      <td>750.0</td>\n      <td>DB00145</td>\n      <td>CIDm00000750</td>\n      <td>HBIN015853</td>\n      <td>1.000000</td>\n    </tr>\n    <tr>\n      <th>9</th>\n      <td>HVC0159</td>\n      <td>glycerol</td>\n      <td>C(C(CO)O)O</td>\n      <td>NaN</td>\n      <td>753.0</td>\n      <td>NaN</td>\n      <td>CIDm00000753</td>\n      <td>HBIN028102</td>\n      <td>0.999928</td>\n    </tr>\n    <tr>\n      <th>10</th>\n      <td>HVC0183</td>\n      <td>fucose</td>\n      <td>CC1C(C(C(C(O1)O)O)O)O</td>\n      <td>NaN</td>\n      <td>17106.0</td>\n      <td>NaN</td>\n      <td>CIDm00000840</td>\n      <td>HBIN026805</td>\n      <td>0.991000</td>\n    </tr>\n    <tr>\n      <th>11</th>\n      <td>HVC0203</td>\n      <td>methylglyoxal</td>\n      <td>CC(=O)C=O</td>\n      <td>NaN</td>\n      <td>880.0</td>\n      <td>NaN</td>\n      <td>CIDm00000880</td>\n      <td>HBIN035246</td>\n      <td>0.999984</td>\n    </tr>\n    <tr>\n      <th>12</th>\n      <td>HVC0215</td>\n      <td>nicotine</td>\n      <td>CN1CCCC1C2=CN=CC=C2</td>\n      <td>1596-94-7</td>\n      <td>157672.0</td>\n      <td>NaN</td>\n      <td>CIDm00000942</td>\n      <td>HBIN024343</td>\n      <td>1.000000</td>\n    </tr>\n    <tr>\n      <th>13</th>\n      <td>HVC0225</td>\n      <td>palmitate</td>\n      <td>CCCCCCCCCCCCCCCC(=O)O</td>\n      <td>NaN</td>\n      <td>NaN</td>\n      <td>NaN</td>\n      <td>CIDm00000985</td>\n      <td>HBIN006119</td>\n      <td>1.000000</td>\n    </tr>\n    <tr>\n      <th>14</th>\n      <td>HVC0226</td>\n      <td>pantothenic acid</td>\n      <td>CC(C)(CO)C(C(=O)NCCC(=O)O)O</td>\n      <td>79-83-4</td>\n      <td>5748353.0</td>\n      <td>NaN</td>\n      <td>CIDm00000988</td>\n      <td>HBIN007058</td>\n      <td>0.990000</td>\n    </tr>\n    <tr>\n      <th>15</th>\n      <td>HVC0236</td>\n      <td>pregnenolone</td>\n      <td>CC(=O)C1CCC2C1(CCC3C2CC=C4C3(CCC(C4)O)C)C</td>\n      <td>145-13-1</td>\n      <td>8955.0</td>\n      <td>NaN</td>\n      <td>CIDm00001027</td>\n      <td>HBIN040257</td>\n      <td>0.999991</td>\n    </tr>\n    <tr>\n      <th>16</th>\n      <td>HVC0241</td>\n      <td>propionate</td>\n      <td>CCC(=O)O</td>\n      <td>68990-37-4</td>\n      <td>1032.0</td>\n      <td>NaN</td>\n      <td>CIDm00001032</td>\n      <td>HBIN040626</td>\n      <td>0.992000</td>\n    </tr>\n    <tr>\n      <th>17</th>\n      <td>HVC0262</td>\n      <td>squalene</td>\n      <td>CC(=CCCC(=CCCC(=CCCC=C(C)CCC=C(C)CCC=C(C)C)C)C)C</td>\n      <td>NaN</td>\n      <td>638072.0</td>\n      <td>NaN</td>\n      <td>CIDm00001105</td>\n      <td>HBIN044654</td>\n      <td>0.992000</td>\n    </tr>\n    <tr>\n      <th>18</th>\n      <td>HVC0265</td>\n      <td>sucrose</td>\n      <td>C(C1C(C(C(C(O1)OC2(C(C(C(O2)CO)O)O)CO)O)O)O)O</td>\n      <td>NaN</td>\n      <td>5988.0</td>\n      <td>NaN</td>\n      <td>CIDm00001115</td>\n      <td>HBIN024523</td>\n      <td>0.995000</td>\n    </tr>\n    <tr>\n      <th>19</th>\n      <td>HVC0273</td>\n      <td>tryptophan</td>\n      <td>C1=CC=C2C(=C1)C(=CN2)CC(C(=O)O)N</td>\n      <td>153-94-6</td>\n      <td>9060.0</td>\n      <td>NaN</td>\n      <td>CIDm00001148</td>\n      <td>HBIN024532</td>\n      <td>0.993000</td>\n    </tr>\n    <tr>\n      <th>20</th>\n      <td>HVC0284</td>\n      <td>uridine</td>\n      <td>C1=CN(C(=O)NC1=O)C2C(C(C(O2)CO)O)O</td>\n      <td>58-96-8</td>\n      <td>NaN</td>\n      <td>NaN</td>\n      <td>CIDm00001177</td>\n      <td>HBIN000970</td>\n      <td>1.000000</td>\n    </tr>\n    <tr>\n      <th>21</th>\n      <td>HVC0298</td>\n      <td>menthol</td>\n      <td>CC1CCC(C(C1)O)C(C)C</td>\n      <td>NaN</td>\n      <td>NaN</td>\n      <td>NaN</td>\n      <td>CIDm00001254</td>\n      <td>HBIN002278</td>\n      <td>0.999982</td>\n    </tr>\n    <tr>\n      <th>22</th>\n      <td>HVC0381</td>\n      <td>Camphor</td>\n      <td>CC1(C2CCC1(C(=O)C2)C)C</td>\n      <td>NaN</td>\n      <td>NaN</td>\n      <td>NaN</td>\n      <td>CIDm00002537</td>\n      <td>HBIN001975</td>\n      <td>0.994000</td>\n    </tr>\n    <tr>\n      <th>23</th>\n      <td>HVC0384</td>\n      <td>capsaicin</td>\n      <td>CC(C)C=CCCCCC(=O)NCC1=CC(=C(C=C1)O)OC</td>\n      <td>NaN</td>\n      <td>NaN</td>\n      <td>NaN</td>\n      <td>CIDm00002548</td>\n      <td>HBIN019514</td>\n      <td>0.999999</td>\n    </tr>\n    <tr>\n      <th>24</th>\n      <td>HVC0474</td>\n      <td>galantamine</td>\n      <td>CN1CCC23C=CC(CC2OC4=C(C=CC(=C34)C1)OC)O</td>\n      <td>NaN</td>\n      <td>NaN</td>\n      <td>NaN</td>\n      <td>CIDm00003449</td>\n      <td>HBIN005583</td>\n      <td>0.999996</td>\n    </tr>\n    <tr>\n      <th>25</th>\n      <td>HVC0533</td>\n      <td>linoleic acid</td>\n      <td>CCCCCC=CCC=CCCCCCCCC(=O)O</td>\n      <td>NaN</td>\n      <td>5282797.0</td>\n      <td>NaN</td>\n      <td>CIDm00003931</td>\n      <td>HBIN013995</td>\n      <td>0.992000</td>\n    </tr>\n  </tbody>\n</table>\n</div>"
     },
     "execution_count": 14,
     "metadata": {},
     "output_type": "execute_result"
    }
   ],
   "source": [
    "chem"
   ],
   "metadata": {
    "collapsed": false,
    "ExecuteTime": {
     "end_time": "2023-11-03T01:13:25.505419500Z",
     "start_time": "2023-11-03T01:13:25.487784900Z"
    }
   }
  },
  {
   "cell_type": "code",
   "execution_count": 15,
   "outputs": [
    {
     "data": {
      "text/plain": "      HVCID       Ensembl_ID  Combined_score\n0   HVC0533  ENSP00000262735           0.992\n1   HVC0474  ENSP00000264381           0.998\n2   HVC0474  ENSP00000303211           0.998\n3   HVC0384  ENSP00000382659           0.999\n4   HVC0384  ENSP00000459962           0.999\n..      ...              ...             ...\n69  HVC0036  ENSP00000357453           0.996\n70  HVC0036  ENSP00000397582           0.993\n71  HVC0026  ENSP00000225740           0.998\n72  HVC0026  ENSP00000261733           0.998\n73  HVC0026  ENSP00000345774           0.998\n\n[74 rows x 3 columns]",
      "text/html": "<div>\n<style scoped>\n    .dataframe tbody tr th:only-of-type {\n        vertical-align: middle;\n    }\n\n    .dataframe tbody tr th {\n        vertical-align: top;\n    }\n\n    .dataframe thead th {\n        text-align: right;\n    }\n</style>\n<table border=\"1\" class=\"dataframe\">\n  <thead>\n    <tr style=\"text-align: right;\">\n      <th></th>\n      <th>HVCID</th>\n      <th>Ensembl_ID</th>\n      <th>Combined_score</th>\n    </tr>\n  </thead>\n  <tbody>\n    <tr>\n      <th>0</th>\n      <td>HVC0533</td>\n      <td>ENSP00000262735</td>\n      <td>0.992</td>\n    </tr>\n    <tr>\n      <th>1</th>\n      <td>HVC0474</td>\n      <td>ENSP00000264381</td>\n      <td>0.998</td>\n    </tr>\n    <tr>\n      <th>2</th>\n      <td>HVC0474</td>\n      <td>ENSP00000303211</td>\n      <td>0.998</td>\n    </tr>\n    <tr>\n      <th>3</th>\n      <td>HVC0384</td>\n      <td>ENSP00000382659</td>\n      <td>0.999</td>\n    </tr>\n    <tr>\n      <th>4</th>\n      <td>HVC0384</td>\n      <td>ENSP00000459962</td>\n      <td>0.999</td>\n    </tr>\n    <tr>\n      <th>...</th>\n      <td>...</td>\n      <td>...</td>\n      <td>...</td>\n    </tr>\n    <tr>\n      <th>69</th>\n      <td>HVC0036</td>\n      <td>ENSP00000357453</td>\n      <td>0.996</td>\n    </tr>\n    <tr>\n      <th>70</th>\n      <td>HVC0036</td>\n      <td>ENSP00000397582</td>\n      <td>0.993</td>\n    </tr>\n    <tr>\n      <th>71</th>\n      <td>HVC0026</td>\n      <td>ENSP00000225740</td>\n      <td>0.998</td>\n    </tr>\n    <tr>\n      <th>72</th>\n      <td>HVC0026</td>\n      <td>ENSP00000261733</td>\n      <td>0.998</td>\n    </tr>\n    <tr>\n      <th>73</th>\n      <td>HVC0026</td>\n      <td>ENSP00000345774</td>\n      <td>0.998</td>\n    </tr>\n  </tbody>\n</table>\n<p>74 rows × 3 columns</p>\n</div>"
     },
     "execution_count": 15,
     "metadata": {},
     "output_type": "execute_result"
    }
   ],
   "source": [
    "chem_protein_links"
   ],
   "metadata": {
    "collapsed": false,
    "ExecuteTime": {
     "end_time": "2023-11-03T01:13:26.369304600Z",
     "start_time": "2023-11-03T01:13:26.321890900Z"
    }
   }
  },
  {
   "cell_type": "code",
   "execution_count": 16,
   "outputs": [
    {
     "data": {
      "text/plain": "         Ensembl_ID                                       protein_name  \\\n0   ENSP00000043402  Reticulon-4 receptor (Nogo receptor) (NgR) (No...   \n1   ENSP00000223366  Hexokinase-4 (HK4) (EC 2.7.1.1) (Glucokinase) ...   \n2   ENSP00000241052                             Catalase (EC 1.11.1.6)   \n3   ENSP00000261733  Aldehyde dehydrogenase, mitochondrial (EC 1.2....   \n4   ENSP00000261751     Neuronal acetylcholine receptor subunit beta-4   \n5   ENSP00000262209  Transient receptor potential cation channel su...   \n6   ENSP00000264381  Cholinesterase (EC 3.1.1.8) (Acylcholine acylh...   \n7   ENSP00000264382  Sucrase-isomaltase, intestinal [Cleaved into: ...   \n8   ENSP00000265641  Carnitine O-palmitoyltransferase 1, liver isof...   \n9   ENSP00000265689  Choline kinase alpha (CK) (EC 2.7.1.32) (CHETK...   \n10  ENSP00000268053  Cholesterol side-chain cleavage enzyme, mitoch...   \n11  ENSP00000272252  Galactose mutarotase (EC 5.1.3.3) (Aldose 1-ep...   \n12  ENSP00000276410    Neuronal acetylcholine receptor subunit alpha-6   \n13  ENSP00000297785  Aldehyde dehydrogenase 1A1 (EC 1.2.1.19) (EC 1...   \n14  ENSP00000297988  Aquaporin-7 (AQP-7) (Aquaglyceroporin-7) (Aqua...   \n15  ENSP00000299565    Neuronal acetylcholine receptor subunit alpha-5   \n16  ENSP00000301141  Cytochrome P450 2A6 (EC 1.14.14.-) (1,4-cineol...   \n17  ENSP00000302108  Pantothenate kinase 1 (hPanK) (hPanK1) (EC 2.7...   \n18  ENSP00000302728         Beta-glucuronidase (EC 3.2.1.31) (Beta-G1)   \n19  ENSP00000303211           Acetylcholinesterase (AChE) (EC 3.1.1.7)   \n20  ENSP00000306606  All-trans-retinol dehydrogenase [NAD(+)] ADH1B...   \n21  ENSP00000314508  Lysosomal acid glucosylceramidase (Lysosomal a...   \n22  ENSP00000315477  CD209 antigen (C-type lectin domain family 4 m...   \n23  ENSP00000315602    Neuronal acetylcholine receptor subunit alpha-3   \n24  ENSP00000318868  Serine hydroxymethyltransferase, cytosolic (SH...   \n25  ENSP00000319851  Choline dehydrogenase, mitochondrial (CDH) (CH...   \n26  ENSP00000321070  NAD-dependent malic enzyme, mitochondrial (NAD...   \n27  ENSP00000323926  Transient receptor potential cation channel su...   \n28  ENSP00000327070  Malate dehydrogenase, mitochondrial (EC 1.1.1.37)   \n29  ENSP00000330032  Uridine phosphorylase 1 (UPase 1) (UrdPase 1) ...   \n30  ENSP00000332369  5-aminolevulinate synthase, erythroid-specific...   \n31  ENSP00000333667  Serine hydroxymethyltransferase, mitochondrial...   \n32  ENSP00000337103  Choline O-acetyltransferase (CHOACTase) (ChAT)...   \n33  ENSP00000341044   Acetyl-CoA carboxylase 2 (EC 6.4.1.2) (ACC-beta)   \n34  ENSP00000345774  Aldehyde dehydrogenase family 3 member A2 (EC ...   \n35  ENSP00000347495  Tryptophan--tRNA ligase, cytoplasmic (EC 6.1.1...   \n36  ENSP00000357453  Mannosyl-oligosaccharide 1,2-alpha-mannosidase...   \n37  ENSP00000357461     Neuronal acetylcholine receptor subunit beta-2   \n38  ENSP00000358903  Steroid 17-alpha-hydroxylase/17,20 lyase (EC 1...   \n39  ENSP00000359285    Neuronal acetylcholine receptor subunit alpha-4   \n40  ENSP00000360541  Carnitine O-palmitoyltransferase 2, mitochondr...   \n41  ENSP00000362463  Lactoylglutathione lyase (EC 4.4.1.5) (Aldoket...   \n42  ENSP00000364212  Cytidine deaminase (EC 3.5.4.5) (Cytidine amin...   \n43  ENSP00000370571  Tyrosine 3-monooxygenase (EC 1.14.16.2) (Tyros...   \n44  ENSP00000373918  Glycine--tRNA ligase (EC 6.1.1.14) (Diadenosin...   \n45  ENSP00000378359               Alcohol dehydrogenase 6 (EC 1.1.1.1)   \n46  ENSP00000380514  Hydroxyacylglutathione hydrolase, mitochondria...   \n47  ENSP00000384400  Choline/ethanolamine kinase (Choline kinase be...   \n48  ENSP00000385026    Neuronal acetylcholine receptor subunit alpha-2   \n49  ENSP00000420269  All-trans-retinol dehydrogenase [NAD(+)] ADH7 ...   \n50  ENSP00000459962  Transient receptor potential cation channel su...   \n\n                    gene_name  \n0   RTN4R NOGOR UNQ330/PRO526  \n1                         GCK  \n2                         CAT  \n3                  ALDH2 ALDM  \n4                      CHRNB4  \n5                TRPA1 ANKTM1  \n6                   BCHE CHE1  \n7                          SI  \n8                  CPT1A CPT1  \n9                CHKA CHK CKI  \n10             CYP11A1 CYP11A  \n11               GALM BLOCK25  \n12                     CHRNA6  \n13   ALDH1A1 ALDC ALDH1 PUMB1  \n14            AQP7 AQP7L AQP9  \n15             CHRNA5 NACHRA5  \n16              CYP2A6 CYP2A3  \n17                 PANK1 PANK  \n18                       GUSB  \n19                       ACHE  \n20                 ADH1B ADH2  \n21           GBA1 GBA GC GLUC  \n22               CD209 CLEC4L  \n23             CHRNA3 NACHRA3  \n24                      SHMT1  \n25                       CHDH  \n26                        ME2  \n27         TRPM8 LTRPC6 TRPP8  \n28                       MDH2  \n29                    UPP1 UP  \n30            ALAS2 ALASE ASB  \n31                      SHMT2  \n32                       CHAT  \n33            ACACB ACC2 ACCB  \n34       ALDH3A2 ALDH10 FALDH  \n35       WARS1 IFI53 WARS WRS  \n36                     MAN1A1  \n37                     CHRNB2  \n38        CYP17A1 CYP17 S17AH  \n39              CHRNA4 NACRA4  \n40                  CPT2 CPT1  \n41                       GLO1  \n42                    CDA CDD  \n43                     TH TYH  \n44                 GARS1 GARS  \n45                       ADH6  \n46            HAGH GLO2 HAGH1  \n47            CHKB CHETK CHKL  \n48                     CHRNA2  \n49                       ADH7  \n50                  TRPV1 VR1  ",
      "text/html": "<div>\n<style scoped>\n    .dataframe tbody tr th:only-of-type {\n        vertical-align: middle;\n    }\n\n    .dataframe tbody tr th {\n        vertical-align: top;\n    }\n\n    .dataframe thead th {\n        text-align: right;\n    }\n</style>\n<table border=\"1\" class=\"dataframe\">\n  <thead>\n    <tr style=\"text-align: right;\">\n      <th></th>\n      <th>Ensembl_ID</th>\n      <th>protein_name</th>\n      <th>gene_name</th>\n    </tr>\n  </thead>\n  <tbody>\n    <tr>\n      <th>0</th>\n      <td>ENSP00000043402</td>\n      <td>Reticulon-4 receptor (Nogo receptor) (NgR) (No...</td>\n      <td>RTN4R NOGOR UNQ330/PRO526</td>\n    </tr>\n    <tr>\n      <th>1</th>\n      <td>ENSP00000223366</td>\n      <td>Hexokinase-4 (HK4) (EC 2.7.1.1) (Glucokinase) ...</td>\n      <td>GCK</td>\n    </tr>\n    <tr>\n      <th>2</th>\n      <td>ENSP00000241052</td>\n      <td>Catalase (EC 1.11.1.6)</td>\n      <td>CAT</td>\n    </tr>\n    <tr>\n      <th>3</th>\n      <td>ENSP00000261733</td>\n      <td>Aldehyde dehydrogenase, mitochondrial (EC 1.2....</td>\n      <td>ALDH2 ALDM</td>\n    </tr>\n    <tr>\n      <th>4</th>\n      <td>ENSP00000261751</td>\n      <td>Neuronal acetylcholine receptor subunit beta-4</td>\n      <td>CHRNB4</td>\n    </tr>\n    <tr>\n      <th>5</th>\n      <td>ENSP00000262209</td>\n      <td>Transient receptor potential cation channel su...</td>\n      <td>TRPA1 ANKTM1</td>\n    </tr>\n    <tr>\n      <th>6</th>\n      <td>ENSP00000264381</td>\n      <td>Cholinesterase (EC 3.1.1.8) (Acylcholine acylh...</td>\n      <td>BCHE CHE1</td>\n    </tr>\n    <tr>\n      <th>7</th>\n      <td>ENSP00000264382</td>\n      <td>Sucrase-isomaltase, intestinal [Cleaved into: ...</td>\n      <td>SI</td>\n    </tr>\n    <tr>\n      <th>8</th>\n      <td>ENSP00000265641</td>\n      <td>Carnitine O-palmitoyltransferase 1, liver isof...</td>\n      <td>CPT1A CPT1</td>\n    </tr>\n    <tr>\n      <th>9</th>\n      <td>ENSP00000265689</td>\n      <td>Choline kinase alpha (CK) (EC 2.7.1.32) (CHETK...</td>\n      <td>CHKA CHK CKI</td>\n    </tr>\n    <tr>\n      <th>10</th>\n      <td>ENSP00000268053</td>\n      <td>Cholesterol side-chain cleavage enzyme, mitoch...</td>\n      <td>CYP11A1 CYP11A</td>\n    </tr>\n    <tr>\n      <th>11</th>\n      <td>ENSP00000272252</td>\n      <td>Galactose mutarotase (EC 5.1.3.3) (Aldose 1-ep...</td>\n      <td>GALM BLOCK25</td>\n    </tr>\n    <tr>\n      <th>12</th>\n      <td>ENSP00000276410</td>\n      <td>Neuronal acetylcholine receptor subunit alpha-6</td>\n      <td>CHRNA6</td>\n    </tr>\n    <tr>\n      <th>13</th>\n      <td>ENSP00000297785</td>\n      <td>Aldehyde dehydrogenase 1A1 (EC 1.2.1.19) (EC 1...</td>\n      <td>ALDH1A1 ALDC ALDH1 PUMB1</td>\n    </tr>\n    <tr>\n      <th>14</th>\n      <td>ENSP00000297988</td>\n      <td>Aquaporin-7 (AQP-7) (Aquaglyceroporin-7) (Aqua...</td>\n      <td>AQP7 AQP7L AQP9</td>\n    </tr>\n    <tr>\n      <th>15</th>\n      <td>ENSP00000299565</td>\n      <td>Neuronal acetylcholine receptor subunit alpha-5</td>\n      <td>CHRNA5 NACHRA5</td>\n    </tr>\n    <tr>\n      <th>16</th>\n      <td>ENSP00000301141</td>\n      <td>Cytochrome P450 2A6 (EC 1.14.14.-) (1,4-cineol...</td>\n      <td>CYP2A6 CYP2A3</td>\n    </tr>\n    <tr>\n      <th>17</th>\n      <td>ENSP00000302108</td>\n      <td>Pantothenate kinase 1 (hPanK) (hPanK1) (EC 2.7...</td>\n      <td>PANK1 PANK</td>\n    </tr>\n    <tr>\n      <th>18</th>\n      <td>ENSP00000302728</td>\n      <td>Beta-glucuronidase (EC 3.2.1.31) (Beta-G1)</td>\n      <td>GUSB</td>\n    </tr>\n    <tr>\n      <th>19</th>\n      <td>ENSP00000303211</td>\n      <td>Acetylcholinesterase (AChE) (EC 3.1.1.7)</td>\n      <td>ACHE</td>\n    </tr>\n    <tr>\n      <th>20</th>\n      <td>ENSP00000306606</td>\n      <td>All-trans-retinol dehydrogenase [NAD(+)] ADH1B...</td>\n      <td>ADH1B ADH2</td>\n    </tr>\n    <tr>\n      <th>21</th>\n      <td>ENSP00000314508</td>\n      <td>Lysosomal acid glucosylceramidase (Lysosomal a...</td>\n      <td>GBA1 GBA GC GLUC</td>\n    </tr>\n    <tr>\n      <th>22</th>\n      <td>ENSP00000315477</td>\n      <td>CD209 antigen (C-type lectin domain family 4 m...</td>\n      <td>CD209 CLEC4L</td>\n    </tr>\n    <tr>\n      <th>23</th>\n      <td>ENSP00000315602</td>\n      <td>Neuronal acetylcholine receptor subunit alpha-3</td>\n      <td>CHRNA3 NACHRA3</td>\n    </tr>\n    <tr>\n      <th>24</th>\n      <td>ENSP00000318868</td>\n      <td>Serine hydroxymethyltransferase, cytosolic (SH...</td>\n      <td>SHMT1</td>\n    </tr>\n    <tr>\n      <th>25</th>\n      <td>ENSP00000319851</td>\n      <td>Choline dehydrogenase, mitochondrial (CDH) (CH...</td>\n      <td>CHDH</td>\n    </tr>\n    <tr>\n      <th>26</th>\n      <td>ENSP00000321070</td>\n      <td>NAD-dependent malic enzyme, mitochondrial (NAD...</td>\n      <td>ME2</td>\n    </tr>\n    <tr>\n      <th>27</th>\n      <td>ENSP00000323926</td>\n      <td>Transient receptor potential cation channel su...</td>\n      <td>TRPM8 LTRPC6 TRPP8</td>\n    </tr>\n    <tr>\n      <th>28</th>\n      <td>ENSP00000327070</td>\n      <td>Malate dehydrogenase, mitochondrial (EC 1.1.1.37)</td>\n      <td>MDH2</td>\n    </tr>\n    <tr>\n      <th>29</th>\n      <td>ENSP00000330032</td>\n      <td>Uridine phosphorylase 1 (UPase 1) (UrdPase 1) ...</td>\n      <td>UPP1 UP</td>\n    </tr>\n    <tr>\n      <th>30</th>\n      <td>ENSP00000332369</td>\n      <td>5-aminolevulinate synthase, erythroid-specific...</td>\n      <td>ALAS2 ALASE ASB</td>\n    </tr>\n    <tr>\n      <th>31</th>\n      <td>ENSP00000333667</td>\n      <td>Serine hydroxymethyltransferase, mitochondrial...</td>\n      <td>SHMT2</td>\n    </tr>\n    <tr>\n      <th>32</th>\n      <td>ENSP00000337103</td>\n      <td>Choline O-acetyltransferase (CHOACTase) (ChAT)...</td>\n      <td>CHAT</td>\n    </tr>\n    <tr>\n      <th>33</th>\n      <td>ENSP00000341044</td>\n      <td>Acetyl-CoA carboxylase 2 (EC 6.4.1.2) (ACC-beta)</td>\n      <td>ACACB ACC2 ACCB</td>\n    </tr>\n    <tr>\n      <th>34</th>\n      <td>ENSP00000345774</td>\n      <td>Aldehyde dehydrogenase family 3 member A2 (EC ...</td>\n      <td>ALDH3A2 ALDH10 FALDH</td>\n    </tr>\n    <tr>\n      <th>35</th>\n      <td>ENSP00000347495</td>\n      <td>Tryptophan--tRNA ligase, cytoplasmic (EC 6.1.1...</td>\n      <td>WARS1 IFI53 WARS WRS</td>\n    </tr>\n    <tr>\n      <th>36</th>\n      <td>ENSP00000357453</td>\n      <td>Mannosyl-oligosaccharide 1,2-alpha-mannosidase...</td>\n      <td>MAN1A1</td>\n    </tr>\n    <tr>\n      <th>37</th>\n      <td>ENSP00000357461</td>\n      <td>Neuronal acetylcholine receptor subunit beta-2</td>\n      <td>CHRNB2</td>\n    </tr>\n    <tr>\n      <th>38</th>\n      <td>ENSP00000358903</td>\n      <td>Steroid 17-alpha-hydroxylase/17,20 lyase (EC 1...</td>\n      <td>CYP17A1 CYP17 S17AH</td>\n    </tr>\n    <tr>\n      <th>39</th>\n      <td>ENSP00000359285</td>\n      <td>Neuronal acetylcholine receptor subunit alpha-4</td>\n      <td>CHRNA4 NACRA4</td>\n    </tr>\n    <tr>\n      <th>40</th>\n      <td>ENSP00000360541</td>\n      <td>Carnitine O-palmitoyltransferase 2, mitochondr...</td>\n      <td>CPT2 CPT1</td>\n    </tr>\n    <tr>\n      <th>41</th>\n      <td>ENSP00000362463</td>\n      <td>Lactoylglutathione lyase (EC 4.4.1.5) (Aldoket...</td>\n      <td>GLO1</td>\n    </tr>\n    <tr>\n      <th>42</th>\n      <td>ENSP00000364212</td>\n      <td>Cytidine deaminase (EC 3.5.4.5) (Cytidine amin...</td>\n      <td>CDA CDD</td>\n    </tr>\n    <tr>\n      <th>43</th>\n      <td>ENSP00000370571</td>\n      <td>Tyrosine 3-monooxygenase (EC 1.14.16.2) (Tyros...</td>\n      <td>TH TYH</td>\n    </tr>\n    <tr>\n      <th>44</th>\n      <td>ENSP00000373918</td>\n      <td>Glycine--tRNA ligase (EC 6.1.1.14) (Diadenosin...</td>\n      <td>GARS1 GARS</td>\n    </tr>\n    <tr>\n      <th>45</th>\n      <td>ENSP00000378359</td>\n      <td>Alcohol dehydrogenase 6 (EC 1.1.1.1)</td>\n      <td>ADH6</td>\n    </tr>\n    <tr>\n      <th>46</th>\n      <td>ENSP00000380514</td>\n      <td>Hydroxyacylglutathione hydrolase, mitochondria...</td>\n      <td>HAGH GLO2 HAGH1</td>\n    </tr>\n    <tr>\n      <th>47</th>\n      <td>ENSP00000384400</td>\n      <td>Choline/ethanolamine kinase (Choline kinase be...</td>\n      <td>CHKB CHETK CHKL</td>\n    </tr>\n    <tr>\n      <th>48</th>\n      <td>ENSP00000385026</td>\n      <td>Neuronal acetylcholine receptor subunit alpha-2</td>\n      <td>CHRNA2</td>\n    </tr>\n    <tr>\n      <th>49</th>\n      <td>ENSP00000420269</td>\n      <td>All-trans-retinol dehydrogenase [NAD(+)] ADH7 ...</td>\n      <td>ADH7</td>\n    </tr>\n    <tr>\n      <th>50</th>\n      <td>ENSP00000459962</td>\n      <td>Transient receptor potential cation channel su...</td>\n      <td>TRPV1 VR1</td>\n    </tr>\n  </tbody>\n</table>\n</div>"
     },
     "execution_count": 16,
     "metadata": {},
     "output_type": "execute_result"
    }
   ],
   "source": [
    "proteins"
   ],
   "metadata": {
    "collapsed": false,
    "ExecuteTime": {
     "end_time": "2023-11-03T01:13:26.860375900Z",
     "start_time": "2023-11-03T01:13:26.813483700Z"
    }
   }
  },
  {
   "cell_type": "markdown",
   "source": [
    "## 给定中药和靶点进行分析"
   ],
   "metadata": {
    "collapsed": false
   }
  },
  {
   "cell_type": "code",
   "execution_count": 17,
   "outputs": [],
   "source": [
    "formula, formula_tcm_links, tcm, tcm_chem_links, chem, chem_protein_links, proteins = analysis.from_tcm_or_formula_proteins(['HVP1625'],\n",
    "                                                                                                        ['ENSP00000381588', 'ENSP00000252519'])"
   ],
   "metadata": {
    "collapsed": false,
    "ExecuteTime": {
     "end_time": "2023-11-03T01:13:28.934240100Z",
     "start_time": "2023-11-03T01:13:28.208210700Z"
    }
   }
  },
  {
   "cell_type": "code",
   "execution_count": 18,
   "outputs": [
    {
     "data": {
      "text/plain": "     HVPID  name Prescription Composition Instructions  \\\n0  HVP1625  小柴胡汤                      NaN          NaN   \n\n                                  Treatment Symptoms Source Document  \\\n0  1. For cases with chest upset but withou vomit...   shang han lun   \n\n   Importance Score  \n0               1.0  ",
      "text/html": "<div>\n<style scoped>\n    .dataframe tbody tr th:only-of-type {\n        vertical-align: middle;\n    }\n\n    .dataframe tbody tr th {\n        vertical-align: top;\n    }\n\n    .dataframe thead th {\n        text-align: right;\n    }\n</style>\n<table border=\"1\" class=\"dataframe\">\n  <thead>\n    <tr style=\"text-align: right;\">\n      <th></th>\n      <th>HVPID</th>\n      <th>name</th>\n      <th>Prescription Composition</th>\n      <th>Instructions</th>\n      <th>Treatment Symptoms</th>\n      <th>Source Document</th>\n      <th>Importance Score</th>\n    </tr>\n  </thead>\n  <tbody>\n    <tr>\n      <th>0</th>\n      <td>HVP1625</td>\n      <td>小柴胡汤</td>\n      <td>NaN</td>\n      <td>NaN</td>\n      <td>1. For cases with chest upset but withou vomit...</td>\n      <td>shang han lun</td>\n      <td>1.0</td>\n    </tr>\n  </tbody>\n</table>\n</div>"
     },
     "execution_count": 18,
     "metadata": {},
     "output_type": "execute_result"
    }
   ],
   "source": [
    "formula"
   ],
   "metadata": {
    "collapsed": false,
    "ExecuteTime": {
     "end_time": "2023-11-03T01:13:28.949825200Z",
     "start_time": "2023-11-03T01:13:28.934240100Z"
    }
   }
  },
  {
   "cell_type": "code",
   "execution_count": 19,
   "outputs": [
    {
     "data": {
      "text/plain": "     HVPID    HVMID\n0  HVP1625  HVM0367\n1  HVP1625  HVM0735\n2  HVP1625  HVM0766\n3  HVP1625  HVM1695\n4  HVP1625  HVM3203",
      "text/html": "<div>\n<style scoped>\n    .dataframe tbody tr th:only-of-type {\n        vertical-align: middle;\n    }\n\n    .dataframe tbody tr th {\n        vertical-align: top;\n    }\n\n    .dataframe thead th {\n        text-align: right;\n    }\n</style>\n<table border=\"1\" class=\"dataframe\">\n  <thead>\n    <tr style=\"text-align: right;\">\n      <th></th>\n      <th>HVPID</th>\n      <th>HVMID</th>\n    </tr>\n  </thead>\n  <tbody>\n    <tr>\n      <th>0</th>\n      <td>HVP1625</td>\n      <td>HVM0367</td>\n    </tr>\n    <tr>\n      <th>1</th>\n      <td>HVP1625</td>\n      <td>HVM0735</td>\n    </tr>\n    <tr>\n      <th>2</th>\n      <td>HVP1625</td>\n      <td>HVM0766</td>\n    </tr>\n    <tr>\n      <th>3</th>\n      <td>HVP1625</td>\n      <td>HVM1695</td>\n    </tr>\n    <tr>\n      <th>4</th>\n      <td>HVP1625</td>\n      <td>HVM3203</td>\n    </tr>\n  </tbody>\n</table>\n</div>"
     },
     "execution_count": 19,
     "metadata": {},
     "output_type": "execute_result"
    }
   ],
   "source": [
    "formula_tcm_links"
   ],
   "metadata": {
    "collapsed": false,
    "ExecuteTime": {
     "end_time": "2023-11-03T01:13:30.846772200Z",
     "start_time": "2023-11-03T01:13:30.815419300Z"
    }
   }
  },
  {
   "cell_type": "code",
   "execution_count": 20,
   "outputs": [
    {
     "data": {
      "text/plain": "     HVMID cn_name  pinyin_name                   en_name  \\\n0  HVM0766      党参    DANG SHEN      root Pilose Asiabell   \n1  HVM0735      大枣       DA ZAO       Jujube Chinese date   \n2  HVM0367      柴胡      CHAI HU  root of Chinese Thorowax   \n3  HVM3203      生姜  SHENG JIANG              Fresh Ginger   \n4  HVM1695      黄芩    HUANG QIN   root of Baikal skullcap   \n\n                   latin_name                   Properties  \\\n0  Radix Codonopsis pilosulae                  Mild; Sweet   \n1     Fructus Zizyphi Jujubae                  Warm; Sweet   \n2              Radix Bupleuri  Minor cold; Pungent; Bitter   \n3   Rhizoma Zingiberis Recens                Warm; Pungent   \n4          Radix Scutellariae                 Cold; Bitter   \n\n                                           Meridians        UsePart  \\\n0                                       Lung; Spleen           root   \n1                                    Spleen; Stomach     ripe fruit   \n2                                 Liver; Gallbladder           root   \n3                              Lung; Spleen; Stomach  fresh rhizome   \n4  Lung; Large Intestine; Stomach; Small Intestin...           root   \n\n                                            Function  \\\n0  To reinforce qi and invigorate the function of...   \n1  To tonify the spleen and replenish qi, to nour...   \n2  To relieve fever, to soothe the liver, and to ...   \n3  To induce perspiration and dispel cold, to war...   \n4  To remove damp-heat, to quench fire and counte...   \n\n                                          Indication Toxicity  \\\n0  Spleen-stomach vacuity, reduced food intake an...      NaN   \n1  Reduced food intake due to spleen vacuity, lac...      NaN   \n2  Common cold, influenza, malaria, acute pancrea...      NaN   \n3  Wind-cold common cold, fever and aversion to w...      NaN   \n4  Chest oppression with retching, diarrhea, jaun...      NaN   \n\n                             Clinical_manifestations  \\\n0                                                NaN   \n1  1. Oral administration increases the level of ...   \n2  1. Increasing the hypotic effect of barbital i...   \n3  1. Oral administration can stimulate the bucca...   \n4  1. Possessing a broad-spectrum bacteriostatic ...   \n\n                         Therapeutic_en_class Therapeutic_cn_class  \\\n0                        Qi Reinforcing Drugs                  补气药   \n1                        Qi Reinforcing Drugs                  补气药   \n2                   Pungent Cool Diaphoretics                辛凉解表药   \n3   Pungent-Warm Exterior-Releasing Medicinal                辛温解表药   \n4  Heat-Clearing And Dampnessdrying Medicinal                清热燥湿药   \n\n      HERB_id   TCMID_id  TCM_ID_id  SymMap_id  TCMSP_id  Importance Score  \n0  HERB001211  SMHB00096     1345.0       96.0     203.0          0.995106  \n1  HERB001164  SMHB00090     1076.0       90.0     193.0          0.994532  \n2  HERB000638  SMHB00058     3396.0       58.0      80.0          0.993107  \n3  HERB005017  SMHB00367     7484.0      367.0     640.0          0.918045  \n4  HERB002563  SMHB00188     6700.0      188.0     371.0          0.586509  ",
      "text/html": "<div>\n<style scoped>\n    .dataframe tbody tr th:only-of-type {\n        vertical-align: middle;\n    }\n\n    .dataframe tbody tr th {\n        vertical-align: top;\n    }\n\n    .dataframe thead th {\n        text-align: right;\n    }\n</style>\n<table border=\"1\" class=\"dataframe\">\n  <thead>\n    <tr style=\"text-align: right;\">\n      <th></th>\n      <th>HVMID</th>\n      <th>cn_name</th>\n      <th>pinyin_name</th>\n      <th>en_name</th>\n      <th>latin_name</th>\n      <th>Properties</th>\n      <th>Meridians</th>\n      <th>UsePart</th>\n      <th>Function</th>\n      <th>Indication</th>\n      <th>Toxicity</th>\n      <th>Clinical_manifestations</th>\n      <th>Therapeutic_en_class</th>\n      <th>Therapeutic_cn_class</th>\n      <th>HERB_id</th>\n      <th>TCMID_id</th>\n      <th>TCM_ID_id</th>\n      <th>SymMap_id</th>\n      <th>TCMSP_id</th>\n      <th>Importance Score</th>\n    </tr>\n  </thead>\n  <tbody>\n    <tr>\n      <th>0</th>\n      <td>HVM0766</td>\n      <td>党参</td>\n      <td>DANG SHEN</td>\n      <td>root Pilose Asiabell</td>\n      <td>Radix Codonopsis pilosulae</td>\n      <td>Mild; Sweet</td>\n      <td>Lung; Spleen</td>\n      <td>root</td>\n      <td>To reinforce qi and invigorate the function of...</td>\n      <td>Spleen-stomach vacuity, reduced food intake an...</td>\n      <td>NaN</td>\n      <td>NaN</td>\n      <td>Qi Reinforcing Drugs</td>\n      <td>补气药</td>\n      <td>HERB001211</td>\n      <td>SMHB00096</td>\n      <td>1345.0</td>\n      <td>96.0</td>\n      <td>203.0</td>\n      <td>0.995106</td>\n    </tr>\n    <tr>\n      <th>1</th>\n      <td>HVM0735</td>\n      <td>大枣</td>\n      <td>DA ZAO</td>\n      <td>Jujube Chinese date</td>\n      <td>Fructus Zizyphi Jujubae</td>\n      <td>Warm; Sweet</td>\n      <td>Spleen; Stomach</td>\n      <td>ripe fruit</td>\n      <td>To tonify the spleen and replenish qi, to nour...</td>\n      <td>Reduced food intake due to spleen vacuity, lac...</td>\n      <td>NaN</td>\n      <td>1. Oral administration increases the level of ...</td>\n      <td>Qi Reinforcing Drugs</td>\n      <td>补气药</td>\n      <td>HERB001164</td>\n      <td>SMHB00090</td>\n      <td>1076.0</td>\n      <td>90.0</td>\n      <td>193.0</td>\n      <td>0.994532</td>\n    </tr>\n    <tr>\n      <th>2</th>\n      <td>HVM0367</td>\n      <td>柴胡</td>\n      <td>CHAI HU</td>\n      <td>root of Chinese Thorowax</td>\n      <td>Radix Bupleuri</td>\n      <td>Minor cold; Pungent; Bitter</td>\n      <td>Liver; Gallbladder</td>\n      <td>root</td>\n      <td>To relieve fever, to soothe the liver, and to ...</td>\n      <td>Common cold, influenza, malaria, acute pancrea...</td>\n      <td>NaN</td>\n      <td>1. Increasing the hypotic effect of barbital i...</td>\n      <td>Pungent Cool Diaphoretics</td>\n      <td>辛凉解表药</td>\n      <td>HERB000638</td>\n      <td>SMHB00058</td>\n      <td>3396.0</td>\n      <td>58.0</td>\n      <td>80.0</td>\n      <td>0.993107</td>\n    </tr>\n    <tr>\n      <th>3</th>\n      <td>HVM3203</td>\n      <td>生姜</td>\n      <td>SHENG JIANG</td>\n      <td>Fresh Ginger</td>\n      <td>Rhizoma Zingiberis Recens</td>\n      <td>Warm; Pungent</td>\n      <td>Lung; Spleen; Stomach</td>\n      <td>fresh rhizome</td>\n      <td>To induce perspiration and dispel cold, to war...</td>\n      <td>Wind-cold common cold, fever and aversion to w...</td>\n      <td>NaN</td>\n      <td>1. Oral administration can stimulate the bucca...</td>\n      <td>Pungent-Warm Exterior-Releasing Medicinal</td>\n      <td>辛温解表药</td>\n      <td>HERB005017</td>\n      <td>SMHB00367</td>\n      <td>7484.0</td>\n      <td>367.0</td>\n      <td>640.0</td>\n      <td>0.918045</td>\n    </tr>\n    <tr>\n      <th>4</th>\n      <td>HVM1695</td>\n      <td>黄芩</td>\n      <td>HUANG QIN</td>\n      <td>root of Baikal skullcap</td>\n      <td>Radix Scutellariae</td>\n      <td>Cold; Bitter</td>\n      <td>Lung; Large Intestine; Stomach; Small Intestin...</td>\n      <td>root</td>\n      <td>To remove damp-heat, to quench fire and counte...</td>\n      <td>Chest oppression with retching, diarrhea, jaun...</td>\n      <td>NaN</td>\n      <td>1. Possessing a broad-spectrum bacteriostatic ...</td>\n      <td>Heat-Clearing And Dampnessdrying Medicinal</td>\n      <td>清热燥湿药</td>\n      <td>HERB002563</td>\n      <td>SMHB00188</td>\n      <td>6700.0</td>\n      <td>188.0</td>\n      <td>371.0</td>\n      <td>0.586509</td>\n    </tr>\n  </tbody>\n</table>\n</div>"
     },
     "execution_count": 20,
     "metadata": {},
     "output_type": "execute_result"
    }
   ],
   "source": [
    "tcm"
   ],
   "metadata": {
    "collapsed": false,
    "ExecuteTime": {
     "end_time": "2023-11-03T01:13:31.473982Z",
     "start_time": "2023-11-03T01:13:31.442582900Z"
    }
   }
  },
  {
   "cell_type": "code",
   "execution_count": 21,
   "outputs": [
    {
     "data": {
      "text/plain": "      HVMID    HVCID\n0   HVM0367  HVC0384\n1   HVM0367  HVC0384\n2   HVM0367  HVC0036\n3   HVM0367  HVC0273\n4   HVM0367  HVC0533\n5   HVM0367  HVC0462\n6   HVM0367  HVC0036\n7   HVM0367  HVC0230\n8   HVM0367  HVC0095\n9   HVM0367  HVC0533\n10  HVM0367  HVC0230\n11  HVM0367  HVC0817\n12  HVM0367  HVC5478\n13  HVM0367  HVC0273\n14  HVM0735  HVC0094\n15  HVM0735  HVC0118\n16  HVM0735  HVC0533\n17  HVM0735  HVC0036\n18  HVM0735  HVC0610\n19  HVM0735  HVC0190\n20  HVM0735  HVC0533\n21  HVM0735  HVC0125\n22  HVM0735  HVC0286\n23  HVM0735  HVC0610\n24  HVM0735  HVC5478\n25  HVM0766  HVC0056\n26  HVM0766  HVC0055\n27  HVM0766  HVC0384\n28  HVM0766  HVC0384\n29  HVM0766  HVC2710\n30  HVM0766  HVC0533\n31  HVM0766  HVC0036\n32  HVM0766  HVC0036\n33  HVM0766  HVC0230\n34  HVM0766  HVC0183\n35  HVM0766  HVC0273\n36  HVM1695  HVC0533\n37  HVM1695  HVC0462\n38  HVM1695  HVC5535\n39  HVM3203  HVC1036\n40  HVM3203  HVC0533\n41  HVM3203  HVC0026\n42  HVM3203  HVC0462\n43  HVM3203  HVC0298\n44  HVM3203  HVC0146",
      "text/html": "<div>\n<style scoped>\n    .dataframe tbody tr th:only-of-type {\n        vertical-align: middle;\n    }\n\n    .dataframe tbody tr th {\n        vertical-align: top;\n    }\n\n    .dataframe thead th {\n        text-align: right;\n    }\n</style>\n<table border=\"1\" class=\"dataframe\">\n  <thead>\n    <tr style=\"text-align: right;\">\n      <th></th>\n      <th>HVMID</th>\n      <th>HVCID</th>\n    </tr>\n  </thead>\n  <tbody>\n    <tr>\n      <th>0</th>\n      <td>HVM0367</td>\n      <td>HVC0384</td>\n    </tr>\n    <tr>\n      <th>1</th>\n      <td>HVM0367</td>\n      <td>HVC0384</td>\n    </tr>\n    <tr>\n      <th>2</th>\n      <td>HVM0367</td>\n      <td>HVC0036</td>\n    </tr>\n    <tr>\n      <th>3</th>\n      <td>HVM0367</td>\n      <td>HVC0273</td>\n    </tr>\n    <tr>\n      <th>4</th>\n      <td>HVM0367</td>\n      <td>HVC0533</td>\n    </tr>\n    <tr>\n      <th>5</th>\n      <td>HVM0367</td>\n      <td>HVC0462</td>\n    </tr>\n    <tr>\n      <th>6</th>\n      <td>HVM0367</td>\n      <td>HVC0036</td>\n    </tr>\n    <tr>\n      <th>7</th>\n      <td>HVM0367</td>\n      <td>HVC0230</td>\n    </tr>\n    <tr>\n      <th>8</th>\n      <td>HVM0367</td>\n      <td>HVC0095</td>\n    </tr>\n    <tr>\n      <th>9</th>\n      <td>HVM0367</td>\n      <td>HVC0533</td>\n    </tr>\n    <tr>\n      <th>10</th>\n      <td>HVM0367</td>\n      <td>HVC0230</td>\n    </tr>\n    <tr>\n      <th>11</th>\n      <td>HVM0367</td>\n      <td>HVC0817</td>\n    </tr>\n    <tr>\n      <th>12</th>\n      <td>HVM0367</td>\n      <td>HVC5478</td>\n    </tr>\n    <tr>\n      <th>13</th>\n      <td>HVM0367</td>\n      <td>HVC0273</td>\n    </tr>\n    <tr>\n      <th>14</th>\n      <td>HVM0735</td>\n      <td>HVC0094</td>\n    </tr>\n    <tr>\n      <th>15</th>\n      <td>HVM0735</td>\n      <td>HVC0118</td>\n    </tr>\n    <tr>\n      <th>16</th>\n      <td>HVM0735</td>\n      <td>HVC0533</td>\n    </tr>\n    <tr>\n      <th>17</th>\n      <td>HVM0735</td>\n      <td>HVC0036</td>\n    </tr>\n    <tr>\n      <th>18</th>\n      <td>HVM0735</td>\n      <td>HVC0610</td>\n    </tr>\n    <tr>\n      <th>19</th>\n      <td>HVM0735</td>\n      <td>HVC0190</td>\n    </tr>\n    <tr>\n      <th>20</th>\n      <td>HVM0735</td>\n      <td>HVC0533</td>\n    </tr>\n    <tr>\n      <th>21</th>\n      <td>HVM0735</td>\n      <td>HVC0125</td>\n    </tr>\n    <tr>\n      <th>22</th>\n      <td>HVM0735</td>\n      <td>HVC0286</td>\n    </tr>\n    <tr>\n      <th>23</th>\n      <td>HVM0735</td>\n      <td>HVC0610</td>\n    </tr>\n    <tr>\n      <th>24</th>\n      <td>HVM0735</td>\n      <td>HVC5478</td>\n    </tr>\n    <tr>\n      <th>25</th>\n      <td>HVM0766</td>\n      <td>HVC0056</td>\n    </tr>\n    <tr>\n      <th>26</th>\n      <td>HVM0766</td>\n      <td>HVC0055</td>\n    </tr>\n    <tr>\n      <th>27</th>\n      <td>HVM0766</td>\n      <td>HVC0384</td>\n    </tr>\n    <tr>\n      <th>28</th>\n      <td>HVM0766</td>\n      <td>HVC0384</td>\n    </tr>\n    <tr>\n      <th>29</th>\n      <td>HVM0766</td>\n      <td>HVC2710</td>\n    </tr>\n    <tr>\n      <th>30</th>\n      <td>HVM0766</td>\n      <td>HVC0533</td>\n    </tr>\n    <tr>\n      <th>31</th>\n      <td>HVM0766</td>\n      <td>HVC0036</td>\n    </tr>\n    <tr>\n      <th>32</th>\n      <td>HVM0766</td>\n      <td>HVC0036</td>\n    </tr>\n    <tr>\n      <th>33</th>\n      <td>HVM0766</td>\n      <td>HVC0230</td>\n    </tr>\n    <tr>\n      <th>34</th>\n      <td>HVM0766</td>\n      <td>HVC0183</td>\n    </tr>\n    <tr>\n      <th>35</th>\n      <td>HVM0766</td>\n      <td>HVC0273</td>\n    </tr>\n    <tr>\n      <th>36</th>\n      <td>HVM1695</td>\n      <td>HVC0533</td>\n    </tr>\n    <tr>\n      <th>37</th>\n      <td>HVM1695</td>\n      <td>HVC0462</td>\n    </tr>\n    <tr>\n      <th>38</th>\n      <td>HVM1695</td>\n      <td>HVC5535</td>\n    </tr>\n    <tr>\n      <th>39</th>\n      <td>HVM3203</td>\n      <td>HVC1036</td>\n    </tr>\n    <tr>\n      <th>40</th>\n      <td>HVM3203</td>\n      <td>HVC0533</td>\n    </tr>\n    <tr>\n      <th>41</th>\n      <td>HVM3203</td>\n      <td>HVC0026</td>\n    </tr>\n    <tr>\n      <th>42</th>\n      <td>HVM3203</td>\n      <td>HVC0462</td>\n    </tr>\n    <tr>\n      <th>43</th>\n      <td>HVM3203</td>\n      <td>HVC0298</td>\n    </tr>\n    <tr>\n      <th>44</th>\n      <td>HVM3203</td>\n      <td>HVC0146</td>\n    </tr>\n  </tbody>\n</table>\n</div>"
     },
     "execution_count": 21,
     "metadata": {},
     "output_type": "execute_result"
    }
   ],
   "source": [
    "tcm_chem_links"
   ],
   "metadata": {
    "collapsed": false,
    "ExecuteTime": {
     "end_time": "2023-11-03T01:13:32.196232600Z",
     "start_time": "2023-11-03T01:13:32.069478Z"
    }
   }
  },
  {
   "cell_type": "code",
   "execution_count": 22,
   "outputs": [
    {
     "data": {
      "text/plain": "      HVCID               Name  \\\n0   HVC0026       acetaldehyde   \n1   HVC0036            glucose   \n2   HVC0055            butanol   \n3   HVC0056           butyrate   \n4   HVC0094          aspartate   \n5   HVC0095  isoliquiritigenin   \n6   HVC0118           carotene   \n7   HVC0125            alanine   \n8   HVC0146            ethanol   \n9   HVC0183             fucose   \n10  HVC0190            leucine   \n11  HVC0230             phenol   \n12  HVC0273         tryptophan   \n13  HVC0286           L-valine   \n14  HVC0298            menthol   \n15  HVC0384          capsaicin   \n16  HVC0462            eugenol   \n17  HVC0533      linoleic acid   \n18  HVC0610          protopine   \n19  HVC0817           biphenyl   \n20  HVC1036        cyclohexane   \n21  HVC2710      fangchinoline   \n22  HVC5478              rutin   \n23  HVC5535            wogonin   \n\n                                               SMILES      CAS_id  PubChem_id  \\\n0                                                CC=O     75-07-0       177.0   \n1                            C(C1C(C(C(C(O1)O)O)O)O)O         NaN         NaN   \n2                                               CCCCO         NaN       263.0   \n3                                           CCCC(=O)O    107-92-6       264.0   \n4                                 C(C(C(=O)O)N)C(=O)O  39162-75-9      5960.0   \n5             C1=CC(=CC=C1C=CC(=O)C2=C(C=C(C=C2)O)O)O         NaN    638278.0   \n6   CC1=C(C(CCC1)(C)C)C=CC(=CC=CC(=CC=CC=C(C)C=CC=...   7235-40-7   5280489.0   \n7                                         CC(C(=O)O)N         NaN     71080.0   \n8                                                 CCO         NaN       702.0   \n9                               CC1C(C(C(C(O1)O)O)O)O         NaN     17106.0   \n10                                   CC(C)CC(C(=O)O)N    328-38-1    439524.0   \n11                                     C1=CC=C(C=C1)O         NaN       996.0   \n12                   C1=CC=C2C(=C1)C(=CN2)CC(C(=O)O)N    153-94-6      9060.0   \n13                                    CC(C)C(C(=O)O)N  16872-32-5      6287.0   \n14                                CC1CCC(C(C1)O)C(C)C         NaN         NaN   \n15              CC(C)C=CCCCCC(=O)NCC1=CC(=C(C=C1)O)OC         NaN         NaN   \n16                             COC1=C(C=CC(=C1)CC=C)O         NaN      3314.0   \n17                          CCCCCC=CCC=CCCCCCCCC(=O)O         NaN   5282797.0   \n18  CN1CCC2=CC3=C(C=C2C(=O)CC4=C(C1)C5=C(C=C4)OCO5...    130-86-9      4970.0   \n19                           C1=CC=C(C=C1)C2=CC=CC=C2         NaN      7095.0   \n20                                           C1CCCCC1  25012-93-5      8078.0   \n21  CN1CCC2=CC(=C3C=C2C1CC4=CC=C(C=C4)OC5=C(C=CC(=...         NaN    321937.0   \n22  CC1C(C(C(C(O1)OCC2C(C(C(C(O2)OC3=C(OC4=CC(=CC(...  18834-75-8  10371536.0   \n23          COC1=C(C=C(C2=C1OC(=CC2=O)C3=CC=CC=C3)O)O    632-85-9   5281703.0   \n\n   DrugBank_id     STITCH_id     HERB_id  Importance Score  \n0          NaN  CIDm00000177  HBIN014388           0.52100  \n1          NaN  CIDm00000206  HBIN001003           0.86500  \n2          NaN  CIDm00000263  HBIN002425           0.39000  \n3      DB03568  CIDm00000264  HBIN018952           0.25600  \n4      DB00128  CIDm00000424  HBIN017056           0.39000  \n5          NaN  CIDm00000425  HBIN004214           0.25600  \n6      DB06755  CIDm00000573  HBIN018006           0.25600  \n7          NaN  CIDm00000602  HBIN015035           0.39000  \n8          NaN  CIDm00000702  HBIN015097           0.33900  \n9          NaN  CIDm00000840  HBIN026805           0.35572  \n10         NaN  CIDm00000857  HBIN024306           0.42000  \n11         NaN  CIDm00000996  HBIN029699           0.52100  \n12         NaN  CIDm00001148  HBIN024532           0.37400  \n13         NaN  CIDm00001182  HBIN033890           0.37400  \n14         NaN  CIDm00001254  HBIN002278           0.25600  \n15         NaN  CIDm00002548  HBIN019514           0.25600  \n16         NaN  CIDm00003314  HBIN019831           0.25600  \n17         NaN  CIDm00003931  HBIN013995           0.25300  \n18         NaN  CIDm00004970  HBIN026829           0.27500  \n19         NaN  CIDm00007095  HBIN018538           0.25600  \n20         NaN  CIDm00008078  HBIN020521           0.37400  \n21         NaN  CIDm00073481  HBIN023260           0.25600  \n22         NaN  CIDm05280805  HBIN018533           0.25600  \n23         NaN  CIDm05281703  HBIN048372           0.25600  ",
      "text/html": "<div>\n<style scoped>\n    .dataframe tbody tr th:only-of-type {\n        vertical-align: middle;\n    }\n\n    .dataframe tbody tr th {\n        vertical-align: top;\n    }\n\n    .dataframe thead th {\n        text-align: right;\n    }\n</style>\n<table border=\"1\" class=\"dataframe\">\n  <thead>\n    <tr style=\"text-align: right;\">\n      <th></th>\n      <th>HVCID</th>\n      <th>Name</th>\n      <th>SMILES</th>\n      <th>CAS_id</th>\n      <th>PubChem_id</th>\n      <th>DrugBank_id</th>\n      <th>STITCH_id</th>\n      <th>HERB_id</th>\n      <th>Importance Score</th>\n    </tr>\n  </thead>\n  <tbody>\n    <tr>\n      <th>0</th>\n      <td>HVC0026</td>\n      <td>acetaldehyde</td>\n      <td>CC=O</td>\n      <td>75-07-0</td>\n      <td>177.0</td>\n      <td>NaN</td>\n      <td>CIDm00000177</td>\n      <td>HBIN014388</td>\n      <td>0.52100</td>\n    </tr>\n    <tr>\n      <th>1</th>\n      <td>HVC0036</td>\n      <td>glucose</td>\n      <td>C(C1C(C(C(C(O1)O)O)O)O)O</td>\n      <td>NaN</td>\n      <td>NaN</td>\n      <td>NaN</td>\n      <td>CIDm00000206</td>\n      <td>HBIN001003</td>\n      <td>0.86500</td>\n    </tr>\n    <tr>\n      <th>2</th>\n      <td>HVC0055</td>\n      <td>butanol</td>\n      <td>CCCCO</td>\n      <td>NaN</td>\n      <td>263.0</td>\n      <td>NaN</td>\n      <td>CIDm00000263</td>\n      <td>HBIN002425</td>\n      <td>0.39000</td>\n    </tr>\n    <tr>\n      <th>3</th>\n      <td>HVC0056</td>\n      <td>butyrate</td>\n      <td>CCCC(=O)O</td>\n      <td>107-92-6</td>\n      <td>264.0</td>\n      <td>DB03568</td>\n      <td>CIDm00000264</td>\n      <td>HBIN018952</td>\n      <td>0.25600</td>\n    </tr>\n    <tr>\n      <th>4</th>\n      <td>HVC0094</td>\n      <td>aspartate</td>\n      <td>C(C(C(=O)O)N)C(=O)O</td>\n      <td>39162-75-9</td>\n      <td>5960.0</td>\n      <td>DB00128</td>\n      <td>CIDm00000424</td>\n      <td>HBIN017056</td>\n      <td>0.39000</td>\n    </tr>\n    <tr>\n      <th>5</th>\n      <td>HVC0095</td>\n      <td>isoliquiritigenin</td>\n      <td>C1=CC(=CC=C1C=CC(=O)C2=C(C=C(C=C2)O)O)O</td>\n      <td>NaN</td>\n      <td>638278.0</td>\n      <td>NaN</td>\n      <td>CIDm00000425</td>\n      <td>HBIN004214</td>\n      <td>0.25600</td>\n    </tr>\n    <tr>\n      <th>6</th>\n      <td>HVC0118</td>\n      <td>carotene</td>\n      <td>CC1=C(C(CCC1)(C)C)C=CC(=CC=CC(=CC=CC=C(C)C=CC=...</td>\n      <td>7235-40-7</td>\n      <td>5280489.0</td>\n      <td>DB06755</td>\n      <td>CIDm00000573</td>\n      <td>HBIN018006</td>\n      <td>0.25600</td>\n    </tr>\n    <tr>\n      <th>7</th>\n      <td>HVC0125</td>\n      <td>alanine</td>\n      <td>CC(C(=O)O)N</td>\n      <td>NaN</td>\n      <td>71080.0</td>\n      <td>NaN</td>\n      <td>CIDm00000602</td>\n      <td>HBIN015035</td>\n      <td>0.39000</td>\n    </tr>\n    <tr>\n      <th>8</th>\n      <td>HVC0146</td>\n      <td>ethanol</td>\n      <td>CCO</td>\n      <td>NaN</td>\n      <td>702.0</td>\n      <td>NaN</td>\n      <td>CIDm00000702</td>\n      <td>HBIN015097</td>\n      <td>0.33900</td>\n    </tr>\n    <tr>\n      <th>9</th>\n      <td>HVC0183</td>\n      <td>fucose</td>\n      <td>CC1C(C(C(C(O1)O)O)O)O</td>\n      <td>NaN</td>\n      <td>17106.0</td>\n      <td>NaN</td>\n      <td>CIDm00000840</td>\n      <td>HBIN026805</td>\n      <td>0.35572</td>\n    </tr>\n    <tr>\n      <th>10</th>\n      <td>HVC0190</td>\n      <td>leucine</td>\n      <td>CC(C)CC(C(=O)O)N</td>\n      <td>328-38-1</td>\n      <td>439524.0</td>\n      <td>NaN</td>\n      <td>CIDm00000857</td>\n      <td>HBIN024306</td>\n      <td>0.42000</td>\n    </tr>\n    <tr>\n      <th>11</th>\n      <td>HVC0230</td>\n      <td>phenol</td>\n      <td>C1=CC=C(C=C1)O</td>\n      <td>NaN</td>\n      <td>996.0</td>\n      <td>NaN</td>\n      <td>CIDm00000996</td>\n      <td>HBIN029699</td>\n      <td>0.52100</td>\n    </tr>\n    <tr>\n      <th>12</th>\n      <td>HVC0273</td>\n      <td>tryptophan</td>\n      <td>C1=CC=C2C(=C1)C(=CN2)CC(C(=O)O)N</td>\n      <td>153-94-6</td>\n      <td>9060.0</td>\n      <td>NaN</td>\n      <td>CIDm00001148</td>\n      <td>HBIN024532</td>\n      <td>0.37400</td>\n    </tr>\n    <tr>\n      <th>13</th>\n      <td>HVC0286</td>\n      <td>L-valine</td>\n      <td>CC(C)C(C(=O)O)N</td>\n      <td>16872-32-5</td>\n      <td>6287.0</td>\n      <td>NaN</td>\n      <td>CIDm00001182</td>\n      <td>HBIN033890</td>\n      <td>0.37400</td>\n    </tr>\n    <tr>\n      <th>14</th>\n      <td>HVC0298</td>\n      <td>menthol</td>\n      <td>CC1CCC(C(C1)O)C(C)C</td>\n      <td>NaN</td>\n      <td>NaN</td>\n      <td>NaN</td>\n      <td>CIDm00001254</td>\n      <td>HBIN002278</td>\n      <td>0.25600</td>\n    </tr>\n    <tr>\n      <th>15</th>\n      <td>HVC0384</td>\n      <td>capsaicin</td>\n      <td>CC(C)C=CCCCCC(=O)NCC1=CC(=C(C=C1)O)OC</td>\n      <td>NaN</td>\n      <td>NaN</td>\n      <td>NaN</td>\n      <td>CIDm00002548</td>\n      <td>HBIN019514</td>\n      <td>0.25600</td>\n    </tr>\n    <tr>\n      <th>16</th>\n      <td>HVC0462</td>\n      <td>eugenol</td>\n      <td>COC1=C(C=CC(=C1)CC=C)O</td>\n      <td>NaN</td>\n      <td>3314.0</td>\n      <td>NaN</td>\n      <td>CIDm00003314</td>\n      <td>HBIN019831</td>\n      <td>0.25600</td>\n    </tr>\n    <tr>\n      <th>17</th>\n      <td>HVC0533</td>\n      <td>linoleic acid</td>\n      <td>CCCCCC=CCC=CCCCCCCCC(=O)O</td>\n      <td>NaN</td>\n      <td>5282797.0</td>\n      <td>NaN</td>\n      <td>CIDm00003931</td>\n      <td>HBIN013995</td>\n      <td>0.25300</td>\n    </tr>\n    <tr>\n      <th>18</th>\n      <td>HVC0610</td>\n      <td>protopine</td>\n      <td>CN1CCC2=CC3=C(C=C2C(=O)CC4=C(C1)C5=C(C=C4)OCO5...</td>\n      <td>130-86-9</td>\n      <td>4970.0</td>\n      <td>NaN</td>\n      <td>CIDm00004970</td>\n      <td>HBIN026829</td>\n      <td>0.27500</td>\n    </tr>\n    <tr>\n      <th>19</th>\n      <td>HVC0817</td>\n      <td>biphenyl</td>\n      <td>C1=CC=C(C=C1)C2=CC=CC=C2</td>\n      <td>NaN</td>\n      <td>7095.0</td>\n      <td>NaN</td>\n      <td>CIDm00007095</td>\n      <td>HBIN018538</td>\n      <td>0.25600</td>\n    </tr>\n    <tr>\n      <th>20</th>\n      <td>HVC1036</td>\n      <td>cyclohexane</td>\n      <td>C1CCCCC1</td>\n      <td>25012-93-5</td>\n      <td>8078.0</td>\n      <td>NaN</td>\n      <td>CIDm00008078</td>\n      <td>HBIN020521</td>\n      <td>0.37400</td>\n    </tr>\n    <tr>\n      <th>21</th>\n      <td>HVC2710</td>\n      <td>fangchinoline</td>\n      <td>CN1CCC2=CC(=C3C=C2C1CC4=CC=C(C=C4)OC5=C(C=CC(=...</td>\n      <td>NaN</td>\n      <td>321937.0</td>\n      <td>NaN</td>\n      <td>CIDm00073481</td>\n      <td>HBIN023260</td>\n      <td>0.25600</td>\n    </tr>\n    <tr>\n      <th>22</th>\n      <td>HVC5478</td>\n      <td>rutin</td>\n      <td>CC1C(C(C(C(O1)OCC2C(C(C(C(O2)OC3=C(OC4=CC(=CC(...</td>\n      <td>18834-75-8</td>\n      <td>10371536.0</td>\n      <td>NaN</td>\n      <td>CIDm05280805</td>\n      <td>HBIN018533</td>\n      <td>0.25600</td>\n    </tr>\n    <tr>\n      <th>23</th>\n      <td>HVC5535</td>\n      <td>wogonin</td>\n      <td>COC1=C(C=C(C2=C1OC(=CC2=O)C3=CC=CC=C3)O)O</td>\n      <td>632-85-9</td>\n      <td>5281703.0</td>\n      <td>NaN</td>\n      <td>CIDm05281703</td>\n      <td>HBIN048372</td>\n      <td>0.25600</td>\n    </tr>\n  </tbody>\n</table>\n</div>"
     },
     "execution_count": 22,
     "metadata": {},
     "output_type": "execute_result"
    }
   ],
   "source": [
    "chem"
   ],
   "metadata": {
    "collapsed": false,
    "ExecuteTime": {
     "end_time": "2023-11-03T01:13:32.609096Z",
     "start_time": "2023-11-03T01:13:32.530914700Z"
    }
   }
  },
  {
   "cell_type": "code",
   "execution_count": 23,
   "outputs": [
    {
     "data": {
      "text/plain": "      HVCID       Ensembl_ID  Combined_score\n0   HVC5535  ENSP00000381588           0.256\n1   HVC5478  ENSP00000381588           0.256\n2   HVC2710  ENSP00000381588           0.256\n3   HVC1036  ENSP00000381588           0.374\n4   HVC0817  ENSP00000381588           0.256\n5   HVC0610  ENSP00000381588           0.275\n6   HVC0533  ENSP00000381588           0.253\n7   HVC0462  ENSP00000381588           0.256\n8   HVC0384  ENSP00000381588           0.256\n9   HVC0298  ENSP00000381588           0.256\n10  HVC0286  ENSP00000381588           0.374\n11  HVC0273  ENSP00000381588           0.374\n12  HVC0230  ENSP00000381588           0.521\n13  HVC0190  ENSP00000381588           0.420\n14  HVC0183  ENSP00000252519           0.233\n15  HVC0183  ENSP00000381588           0.160\n16  HVC0146  ENSP00000381588           0.339\n17  HVC0125  ENSP00000381588           0.390\n18  HVC0118  ENSP00000381588           0.256\n19  HVC0095  ENSP00000381588           0.256\n20  HVC0094  ENSP00000381588           0.390\n21  HVC0056  ENSP00000381588           0.256\n22  HVC0055  ENSP00000381588           0.390\n23  HVC0036  ENSP00000252519           0.865\n24  HVC0026  ENSP00000381588           0.521",
      "text/html": "<div>\n<style scoped>\n    .dataframe tbody tr th:only-of-type {\n        vertical-align: middle;\n    }\n\n    .dataframe tbody tr th {\n        vertical-align: top;\n    }\n\n    .dataframe thead th {\n        text-align: right;\n    }\n</style>\n<table border=\"1\" class=\"dataframe\">\n  <thead>\n    <tr style=\"text-align: right;\">\n      <th></th>\n      <th>HVCID</th>\n      <th>Ensembl_ID</th>\n      <th>Combined_score</th>\n    </tr>\n  </thead>\n  <tbody>\n    <tr>\n      <th>0</th>\n      <td>HVC5535</td>\n      <td>ENSP00000381588</td>\n      <td>0.256</td>\n    </tr>\n    <tr>\n      <th>1</th>\n      <td>HVC5478</td>\n      <td>ENSP00000381588</td>\n      <td>0.256</td>\n    </tr>\n    <tr>\n      <th>2</th>\n      <td>HVC2710</td>\n      <td>ENSP00000381588</td>\n      <td>0.256</td>\n    </tr>\n    <tr>\n      <th>3</th>\n      <td>HVC1036</td>\n      <td>ENSP00000381588</td>\n      <td>0.374</td>\n    </tr>\n    <tr>\n      <th>4</th>\n      <td>HVC0817</td>\n      <td>ENSP00000381588</td>\n      <td>0.256</td>\n    </tr>\n    <tr>\n      <th>5</th>\n      <td>HVC0610</td>\n      <td>ENSP00000381588</td>\n      <td>0.275</td>\n    </tr>\n    <tr>\n      <th>6</th>\n      <td>HVC0533</td>\n      <td>ENSP00000381588</td>\n      <td>0.253</td>\n    </tr>\n    <tr>\n      <th>7</th>\n      <td>HVC0462</td>\n      <td>ENSP00000381588</td>\n      <td>0.256</td>\n    </tr>\n    <tr>\n      <th>8</th>\n      <td>HVC0384</td>\n      <td>ENSP00000381588</td>\n      <td>0.256</td>\n    </tr>\n    <tr>\n      <th>9</th>\n      <td>HVC0298</td>\n      <td>ENSP00000381588</td>\n      <td>0.256</td>\n    </tr>\n    <tr>\n      <th>10</th>\n      <td>HVC0286</td>\n      <td>ENSP00000381588</td>\n      <td>0.374</td>\n    </tr>\n    <tr>\n      <th>11</th>\n      <td>HVC0273</td>\n      <td>ENSP00000381588</td>\n      <td>0.374</td>\n    </tr>\n    <tr>\n      <th>12</th>\n      <td>HVC0230</td>\n      <td>ENSP00000381588</td>\n      <td>0.521</td>\n    </tr>\n    <tr>\n      <th>13</th>\n      <td>HVC0190</td>\n      <td>ENSP00000381588</td>\n      <td>0.420</td>\n    </tr>\n    <tr>\n      <th>14</th>\n      <td>HVC0183</td>\n      <td>ENSP00000252519</td>\n      <td>0.233</td>\n    </tr>\n    <tr>\n      <th>15</th>\n      <td>HVC0183</td>\n      <td>ENSP00000381588</td>\n      <td>0.160</td>\n    </tr>\n    <tr>\n      <th>16</th>\n      <td>HVC0146</td>\n      <td>ENSP00000381588</td>\n      <td>0.339</td>\n    </tr>\n    <tr>\n      <th>17</th>\n      <td>HVC0125</td>\n      <td>ENSP00000381588</td>\n      <td>0.390</td>\n    </tr>\n    <tr>\n      <th>18</th>\n      <td>HVC0118</td>\n      <td>ENSP00000381588</td>\n      <td>0.256</td>\n    </tr>\n    <tr>\n      <th>19</th>\n      <td>HVC0095</td>\n      <td>ENSP00000381588</td>\n      <td>0.256</td>\n    </tr>\n    <tr>\n      <th>20</th>\n      <td>HVC0094</td>\n      <td>ENSP00000381588</td>\n      <td>0.390</td>\n    </tr>\n    <tr>\n      <th>21</th>\n      <td>HVC0056</td>\n      <td>ENSP00000381588</td>\n      <td>0.256</td>\n    </tr>\n    <tr>\n      <th>22</th>\n      <td>HVC0055</td>\n      <td>ENSP00000381588</td>\n      <td>0.390</td>\n    </tr>\n    <tr>\n      <th>23</th>\n      <td>HVC0036</td>\n      <td>ENSP00000252519</td>\n      <td>0.865</td>\n    </tr>\n    <tr>\n      <th>24</th>\n      <td>HVC0026</td>\n      <td>ENSP00000381588</td>\n      <td>0.521</td>\n    </tr>\n  </tbody>\n</table>\n</div>"
     },
     "execution_count": 23,
     "metadata": {},
     "output_type": "execute_result"
    }
   ],
   "source": [
    "chem_protein_links"
   ],
   "metadata": {
    "collapsed": false,
    "ExecuteTime": {
     "end_time": "2023-11-03T01:13:33.179596700Z",
     "start_time": "2023-11-03T01:13:33.163839100Z"
    }
   }
  },
  {
   "cell_type": "code",
   "execution_count": 24,
   "outputs": [
    {
     "data": {
      "text/plain": "        Ensembl_ID protein_name gene_name\n0  ENSP00000381588          NaN   TMPRSS2\n1  ENSP00000252519          NaN      ACE2",
      "text/html": "<div>\n<style scoped>\n    .dataframe tbody tr th:only-of-type {\n        vertical-align: middle;\n    }\n\n    .dataframe tbody tr th {\n        vertical-align: top;\n    }\n\n    .dataframe thead th {\n        text-align: right;\n    }\n</style>\n<table border=\"1\" class=\"dataframe\">\n  <thead>\n    <tr style=\"text-align: right;\">\n      <th></th>\n      <th>Ensembl_ID</th>\n      <th>protein_name</th>\n      <th>gene_name</th>\n    </tr>\n  </thead>\n  <tbody>\n    <tr>\n      <th>0</th>\n      <td>ENSP00000381588</td>\n      <td>NaN</td>\n      <td>TMPRSS2</td>\n    </tr>\n    <tr>\n      <th>1</th>\n      <td>ENSP00000252519</td>\n      <td>NaN</td>\n      <td>ACE2</td>\n    </tr>\n  </tbody>\n</table>\n</div>"
     },
     "execution_count": 24,
     "metadata": {},
     "output_type": "execute_result"
    }
   ],
   "source": [
    "proteins"
   ],
   "metadata": {
    "collapsed": false,
    "ExecuteTime": {
     "end_time": "2023-11-03T01:13:34.650192900Z",
     "start_time": "2023-11-03T01:13:34.634511900Z"
    }
   }
  },
  {
   "cell_type": "markdown",
   "source": [
    "# 逆向网络药理学分析"
   ],
   "metadata": {
    "collapsed": false
   }
  },
  {
   "cell_type": "markdown",
   "source": [
    "## 进行优化"
   ],
   "metadata": {
    "collapsed": false
   }
  },
  {
   "cell_type": "code",
   "execution_count": 25,
   "outputs": [
    {
     "name": "stderr",
     "output_type": "stream",
     "text": [
      "100%|██████████| 100/100 [00:00<00:00, 405.00it/s]\n",
      "100%|██████████| 100/100 [00:02<00:00, 38.33it/s]\n"
     ]
    }
   ],
   "source": [
    "formula, formula_tcm_links, tcm, tcm_chem_links, chem, chem_protein_links, proteins, tcms, formulas = analysis.from_proteins(['ENSP00000381588', 'ENSP00000252519'],\n",
    "                                                                                                          score=0,\n",
    "                                                                                                          random_state=138192,\n",
    "                                                                                                          num=100)"
   ],
   "metadata": {
    "collapsed": false,
    "ExecuteTime": {
     "end_time": "2023-11-03T01:14:25.001410100Z",
     "start_time": "2023-11-03T01:13:37.771409900Z"
    }
   }
  },
  {
   "cell_type": "code",
   "execution_count": 26,
   "outputs": [
    {
     "data": {
      "text/plain": "        HVPID     name                           Prescription Composition  \\\n0     HVP3338    益气养元丸  黄耆10两，白术（麸炒）15两，升麻5两，柴胡5两，山药5两，党参（去芦）10两，当归10两...   \n1     HVP0513    托里化毒汤                人参、黄耆、茯苓、金银花、甘草、当归、白术、牛蒡子、白芷、连翘、陈皮。   \n2     HVP1780  加减补中益气汤  黄耆2钱（炒），人参4钱，白术3钱（土炒），当归1钱，白芍1钱（酒炒），陈皮7分，柴胡5分，...   \n3     HVP0402    升阳益胃散  人参3钱，黄耆2钱，白术1钱，甘草（炙）7分，羌活7分，防风1钱，独活7分，柴胡1钱，升麻8...   \n4     HVP5664    生阳益胃汤                                                NaN   \n...       ...      ...                                                ...   \n5879  HVP1081      火精散                                         硫黄4分，胡椒6分。   \n5880  HVP1083    治疥内消散                                            硫黄1-2钱。   \n5881  HVP6105    杀虫硫黄散                                                硫黄。   \n5882  HVP0310      还阳散                                                硫黄。   \n5883  HVP4643      黄蜡丸                                              硫黄1两。   \n\n     Instructions                                 Treatment Symptoms  \\\n0             NaN  元气亏损，脾胃虚弱，身体疲倦，精神不振。[Deficiency of vitality, w...   \n1             NaN  痘痈成脓。[Acne carbuncle into pus.(Machine transla...   \n2             NaN                                      No Data.[无数据]   \n3             NaN  中气亏败，脾湿壅遏，阳气不伸。体重肢节疼痛，口燥舌干，饮食无味，大便不调，小便短涩，不欲食，...   \n4             NaN  1. Indicated for cases attributive to deficien...   \n...           ...                                                ...   \n5879          NaN  阴症心腹冷痛，不可忍者。[Yin disease, heart and abdomen co...   \n5880          NaN                疥疮。[Scabies.(Machine translation.)]   \n5881          NaN  疳虫蚀下部五脏。[Chancre insect erosion of the lower f...   \n5882          NaN  伤寒阴毒，面色青，四肢逆冷，心躁腹痛。[Typhoid Yin poison, green ...   \n5883          NaN  水泻不止，伤冷虚极。[The water is not only draining, but...   \n\n                           Source Document  Importance Score  \n0                《北京市中药成方选集》。功效:培养元气，健脾和胃。              1.00  \n1                              《痘疹传心录》卷十五。              1.00  \n2     《鲁府禁方》卷二。功效:补元气，健脾胃、养心血，平肝火，清湿热，消膨胀。              1.00  \n3                                  《杏苑》卷三。              1.00  \n4                               pi wei lun              1.00  \n...                                    ...               ...  \n5879                             《鲁府禁方》卷二。              0.15  \n5880                             《鲁府禁方》卷四。              0.15  \n5881                             《胎产心法》卷下。              0.15  \n5882                               《本事》卷九。              0.15  \n5883                           《圣济总录》卷七十四。              0.15  \n\n[5884 rows x 7 columns]",
      "text/html": "<div>\n<style scoped>\n    .dataframe tbody tr th:only-of-type {\n        vertical-align: middle;\n    }\n\n    .dataframe tbody tr th {\n        vertical-align: top;\n    }\n\n    .dataframe thead th {\n        text-align: right;\n    }\n</style>\n<table border=\"1\" class=\"dataframe\">\n  <thead>\n    <tr style=\"text-align: right;\">\n      <th></th>\n      <th>HVPID</th>\n      <th>name</th>\n      <th>Prescription Composition</th>\n      <th>Instructions</th>\n      <th>Treatment Symptoms</th>\n      <th>Source Document</th>\n      <th>Importance Score</th>\n    </tr>\n  </thead>\n  <tbody>\n    <tr>\n      <th>0</th>\n      <td>HVP3338</td>\n      <td>益气养元丸</td>\n      <td>黄耆10两，白术（麸炒）15两，升麻5两，柴胡5两，山药5两，党参（去芦）10两，当归10两...</td>\n      <td>NaN</td>\n      <td>元气亏损，脾胃虚弱，身体疲倦，精神不振。[Deficiency of vitality, w...</td>\n      <td>《北京市中药成方选集》。功效:培养元气，健脾和胃。</td>\n      <td>1.00</td>\n    </tr>\n    <tr>\n      <th>1</th>\n      <td>HVP0513</td>\n      <td>托里化毒汤</td>\n      <td>人参、黄耆、茯苓、金银花、甘草、当归、白术、牛蒡子、白芷、连翘、陈皮。</td>\n      <td>NaN</td>\n      <td>痘痈成脓。[Acne carbuncle into pus.(Machine transla...</td>\n      <td>《痘疹传心录》卷十五。</td>\n      <td>1.00</td>\n    </tr>\n    <tr>\n      <th>2</th>\n      <td>HVP1780</td>\n      <td>加减补中益气汤</td>\n      <td>黄耆2钱（炒），人参4钱，白术3钱（土炒），当归1钱，白芍1钱（酒炒），陈皮7分，柴胡5分，...</td>\n      <td>NaN</td>\n      <td>No Data.[无数据]</td>\n      <td>《鲁府禁方》卷二。功效:补元气，健脾胃、养心血，平肝火，清湿热，消膨胀。</td>\n      <td>1.00</td>\n    </tr>\n    <tr>\n      <th>3</th>\n      <td>HVP0402</td>\n      <td>升阳益胃散</td>\n      <td>人参3钱，黄耆2钱，白术1钱，甘草（炙）7分，羌活7分，防风1钱，独活7分，柴胡1钱，升麻8...</td>\n      <td>NaN</td>\n      <td>中气亏败，脾湿壅遏，阳气不伸。体重肢节疼痛，口燥舌干，饮食无味，大便不调，小便短涩，不欲食，...</td>\n      <td>《杏苑》卷三。</td>\n      <td>1.00</td>\n    </tr>\n    <tr>\n      <th>4</th>\n      <td>HVP5664</td>\n      <td>生阳益胃汤</td>\n      <td>NaN</td>\n      <td>NaN</td>\n      <td>1. Indicated for cases attributive to deficien...</td>\n      <td>pi wei lun</td>\n      <td>1.00</td>\n    </tr>\n    <tr>\n      <th>...</th>\n      <td>...</td>\n      <td>...</td>\n      <td>...</td>\n      <td>...</td>\n      <td>...</td>\n      <td>...</td>\n      <td>...</td>\n    </tr>\n    <tr>\n      <th>5879</th>\n      <td>HVP1081</td>\n      <td>火精散</td>\n      <td>硫黄4分，胡椒6分。</td>\n      <td>NaN</td>\n      <td>阴症心腹冷痛，不可忍者。[Yin disease, heart and abdomen co...</td>\n      <td>《鲁府禁方》卷二。</td>\n      <td>0.15</td>\n    </tr>\n    <tr>\n      <th>5880</th>\n      <td>HVP1083</td>\n      <td>治疥内消散</td>\n      <td>硫黄1-2钱。</td>\n      <td>NaN</td>\n      <td>疥疮。[Scabies.(Machine translation.)]</td>\n      <td>《鲁府禁方》卷四。</td>\n      <td>0.15</td>\n    </tr>\n    <tr>\n      <th>5881</th>\n      <td>HVP6105</td>\n      <td>杀虫硫黄散</td>\n      <td>硫黄。</td>\n      <td>NaN</td>\n      <td>疳虫蚀下部五脏。[Chancre insect erosion of the lower f...</td>\n      <td>《胎产心法》卷下。</td>\n      <td>0.15</td>\n    </tr>\n    <tr>\n      <th>5882</th>\n      <td>HVP0310</td>\n      <td>还阳散</td>\n      <td>硫黄。</td>\n      <td>NaN</td>\n      <td>伤寒阴毒，面色青，四肢逆冷，心躁腹痛。[Typhoid Yin poison, green ...</td>\n      <td>《本事》卷九。</td>\n      <td>0.15</td>\n    </tr>\n    <tr>\n      <th>5883</th>\n      <td>HVP4643</td>\n      <td>黄蜡丸</td>\n      <td>硫黄1两。</td>\n      <td>NaN</td>\n      <td>水泻不止，伤冷虚极。[The water is not only draining, but...</td>\n      <td>《圣济总录》卷七十四。</td>\n      <td>0.15</td>\n    </tr>\n  </tbody>\n</table>\n<p>5884 rows × 7 columns</p>\n</div>"
     },
     "execution_count": 26,
     "metadata": {},
     "output_type": "execute_result"
    }
   ],
   "source": [
    "formula"
   ],
   "metadata": {
    "collapsed": false,
    "ExecuteTime": {
     "end_time": "2023-11-03T01:14:25.017286400Z",
     "start_time": "2023-11-03T01:14:25.001410100Z"
    }
   }
  },
  {
   "cell_type": "code",
   "execution_count": 27,
   "outputs": [
    {
     "data": {
      "text/plain": "         HVPID    HVMID\n0      HVP0000  HVM0198\n1      HVP0000  HVM1130\n2      HVP0000  HVM4625\n3      HVP0001  HVM1129\n4      HVP0002  HVM0663\n...        ...      ...\n23899  HVP6189  HVM4488\n23900  HVP6190  HVM0198\n23901  HVP6190  HVM1130\n23902  HVP6190  HVM2053\n23903  HVP6190  HVM2941\n\n[23904 rows x 2 columns]",
      "text/html": "<div>\n<style scoped>\n    .dataframe tbody tr th:only-of-type {\n        vertical-align: middle;\n    }\n\n    .dataframe tbody tr th {\n        vertical-align: top;\n    }\n\n    .dataframe thead th {\n        text-align: right;\n    }\n</style>\n<table border=\"1\" class=\"dataframe\">\n  <thead>\n    <tr style=\"text-align: right;\">\n      <th></th>\n      <th>HVPID</th>\n      <th>HVMID</th>\n    </tr>\n  </thead>\n  <tbody>\n    <tr>\n      <th>0</th>\n      <td>HVP0000</td>\n      <td>HVM0198</td>\n    </tr>\n    <tr>\n      <th>1</th>\n      <td>HVP0000</td>\n      <td>HVM1130</td>\n    </tr>\n    <tr>\n      <th>2</th>\n      <td>HVP0000</td>\n      <td>HVM4625</td>\n    </tr>\n    <tr>\n      <th>3</th>\n      <td>HVP0001</td>\n      <td>HVM1129</td>\n    </tr>\n    <tr>\n      <th>4</th>\n      <td>HVP0002</td>\n      <td>HVM0663</td>\n    </tr>\n    <tr>\n      <th>...</th>\n      <td>...</td>\n      <td>...</td>\n    </tr>\n    <tr>\n      <th>23899</th>\n      <td>HVP6189</td>\n      <td>HVM4488</td>\n    </tr>\n    <tr>\n      <th>23900</th>\n      <td>HVP6190</td>\n      <td>HVM0198</td>\n    </tr>\n    <tr>\n      <th>23901</th>\n      <td>HVP6190</td>\n      <td>HVM1130</td>\n    </tr>\n    <tr>\n      <th>23902</th>\n      <td>HVP6190</td>\n      <td>HVM2053</td>\n    </tr>\n    <tr>\n      <th>23903</th>\n      <td>HVP6190</td>\n      <td>HVM2941</td>\n    </tr>\n  </tbody>\n</table>\n<p>23904 rows × 2 columns</p>\n</div>"
     },
     "execution_count": 27,
     "metadata": {},
     "output_type": "execute_result"
    }
   ],
   "source": [
    "formula_tcm_links"
   ],
   "metadata": {
    "collapsed": false,
    "ExecuteTime": {
     "end_time": "2023-11-03T01:14:25.064694200Z",
     "start_time": "2023-11-03T01:14:25.017286400Z"
    }
   }
  },
  {
   "cell_type": "code",
   "execution_count": 28,
   "outputs": [
    {
     "data": {
      "text/plain": "       HVMID cn_name    pinyin_name                  en_name  \\\n0    HVM2997     肉苁蓉  ROU CONG RONG   Desertliving Cistanche   \n1    HVM3101     沙苑子    SHA YUAN ZI  Flatstem Milkvetch Seed   \n2    HVM2859      荞麦       QIAO MAI         Common Buckwheat   \n3    HVM4195     薏苡仁      YI YI REN        seed of Jobstears   \n4    HVM3081      桑叶        SANG YE            Mulberry Leaf   \n..       ...     ...            ...                      ...   \n456  HVM2674      牛胆        NIU DAN                  Ox Gall   \n457  HVM1737      霍香      HUO XIANG     Wrinkled Gianthyssop   \n458  HVM2206      硫磺      LIU HUANG                   Sulfur   \n459  HVM0372      蟾蜍       CHAN CHU                     Toad   \n460  HVM1194      葛根         GE GEN  root of lobed kudzuvine   \n\n                                    latin_name                  Properties  \\\n0                             Herba Cistanches          Warm; Sweet; Salty   \n1                     Semen Astragali Complati                 Sweet; warm   \n2                         Fagopyrum esculentum                         NaN   \n3                                 semen coicis  Minor cold; Sweet; Neutral   \n4                                  Folium Mori         Cold; Sweet; Bitter   \n..                                         ...                         ...   \n456     Bos taurus domesticus, Bubalus bubalis                         NaN   \n457                          Agastache rugosus         Minor Warm; Pungent   \n458                                     Sulfur                  Warm; Sour   \n459  Bufo bufo gargarizans, Bufo melanostictus                         NaN   \n460                            Radix Puerariae        Cool; Pungent; Sweet   \n\n                   Meridians       UsePart  \\\n0    Large Intestine; Kidney   fleshy stem   \n1              Liver; kidney           NaN   \n2                        NaN          seed   \n3      Lung; Spleen; Stomach          seed   \n4                Lung; Liver          leaf   \n..                       ...           ...   \n456                      NaN          gall   \n457    Lung; Spleen; Stomach  aerial parts   \n458  Large Intestine; Kidney           NaN   \n459                      NaN    whole body   \n460          Spleen; Stomach      tuberoid   \n\n                                              Function  \\\n0    To reinforce the kidney, replenish vital essen...   \n1    To benefit the liver and the kidney, arrest se...   \n2    To fortify spleen and disperse accumulation, p...   \n3    1. To transform dampness and promote water met...   \n4    To dispel wind-heat and to remove heat from th...   \n..                                                 ...   \n456  To clear liver and brighten eyes, disinhibit g...   \n457  To dispel summerheat and resolve exterior, har...   \n458  External use for scabies, favus, chronic sores...   \n459  To resolve toxin and dissipate binds, disperse...   \n460  To relieve fever, to promote the production of...   \n\n                                            Indication         Toxicity  \\\n0    Impotence, infertility, backache, limp aching ...              NaN   \n1    Treatment of back pain, nocturnal emission and...              NaN   \n2    Gastrointestinal accumulation, diarrhea, dysen...              NaN   \n3    Edema, beriberi, inhibited urination, damp imp...              NaN   \n4    Wind-heat common cold, lung heat dry cough, di...              NaN   \n..                                                 ...              ...   \n456  Wind-heat red eye, jaundice, cough with profus...              NaN   \n457  Summer common cold, cold-heat headache, glomus...              NaN   \n458  1. Sulfur itself is not highly toxic to micro-...  Extremely Toxic   \n459  Welling abscess and flat abscess, clove sore, ...              NaN   \n460  Angina pectoris, hypertension, headache due to...              NaN   \n\n                               Clinical_manifestations  \\\n0         1. Hypotensive2. Promoting saliva secretion.   \n1                                                  NaN   \n2                                                  NaN   \n3                                                  NaN   \n4    1. Lowering the level of blood sugar in rats w...   \n..                                                 ...   \n456                                                NaN   \n457                                                NaN   \n458  1. Sulfur itself is not highly toxic to micro-...   \n459                                                NaN   \n460  1. Its active component, daidzein, can dilate ...   \n\n                                  Therapeutic_en_class Therapeutic_cn_class  \\\n0                               Yang Reinforcing Drugs                  补阳药   \n1                               Yang Reinforcing Drugs                  补阳药   \n2                                                  NaN                  NaN   \n3                    Diuretic Dampness Excreting Drugs                利水渗湿药   \n4                            Pungent Cool Diaphoretics                辛凉解表药   \n..                                                 ...                  ...   \n456                                                NaN                  NaN   \n457                  For desolving dampness by flavors                 芳香化湿   \n458  Toxication reduction, anthelmintic, dampness r...             解毒杀虫燥湿止痒   \n459                                                NaN                  NaN   \n460          Pungent-Warm Exterior-Releasing Medicinal                辛温解表药   \n\n        HERB_id   TCMID_id  TCM_ID_id  SymMap_id  TCMSP_id  Importance Score  \n0    HERB004692  SMHB00338     1883.0      338.0     596.0          0.999986  \n1    HERB004864  SMHB00354     1702.0      354.0    1035.0          0.999781  \n2    HERB004488        NaN     1877.0        NaN       NaN          0.999431  \n3    HERB006568  SMHB00458     2186.0      458.0     802.0          0.999081  \n4    HERB004834  SMHB00351     2356.0      351.0     608.0          0.998962  \n..          ...        ...        ...        ...       ...               ...  \n456  HERB004194        NaN     7619.0        NaN       NaN          0.207000  \n457  HERB002644        NaN     5861.0        NaN     375.0          0.193000  \n458  HERB003449        NaN     6029.0        NaN     461.0          0.150000  \n459  HERB000645        NaN     4491.0        NaN       NaN          0.150000  \n460  HERB001874  SMHB00499     6205.0      499.0     271.0          0.150000  \n\n[461 rows x 20 columns]",
      "text/html": "<div>\n<style scoped>\n    .dataframe tbody tr th:only-of-type {\n        vertical-align: middle;\n    }\n\n    .dataframe tbody tr th {\n        vertical-align: top;\n    }\n\n    .dataframe thead th {\n        text-align: right;\n    }\n</style>\n<table border=\"1\" class=\"dataframe\">\n  <thead>\n    <tr style=\"text-align: right;\">\n      <th></th>\n      <th>HVMID</th>\n      <th>cn_name</th>\n      <th>pinyin_name</th>\n      <th>en_name</th>\n      <th>latin_name</th>\n      <th>Properties</th>\n      <th>Meridians</th>\n      <th>UsePart</th>\n      <th>Function</th>\n      <th>Indication</th>\n      <th>Toxicity</th>\n      <th>Clinical_manifestations</th>\n      <th>Therapeutic_en_class</th>\n      <th>Therapeutic_cn_class</th>\n      <th>HERB_id</th>\n      <th>TCMID_id</th>\n      <th>TCM_ID_id</th>\n      <th>SymMap_id</th>\n      <th>TCMSP_id</th>\n      <th>Importance Score</th>\n    </tr>\n  </thead>\n  <tbody>\n    <tr>\n      <th>0</th>\n      <td>HVM2997</td>\n      <td>肉苁蓉</td>\n      <td>ROU CONG RONG</td>\n      <td>Desertliving Cistanche</td>\n      <td>Herba Cistanches</td>\n      <td>Warm; Sweet; Salty</td>\n      <td>Large Intestine; Kidney</td>\n      <td>fleshy stem</td>\n      <td>To reinforce the kidney, replenish vital essen...</td>\n      <td>Impotence, infertility, backache, limp aching ...</td>\n      <td>NaN</td>\n      <td>1. Hypotensive2. Promoting saliva secretion.</td>\n      <td>Yang Reinforcing Drugs</td>\n      <td>补阳药</td>\n      <td>HERB004692</td>\n      <td>SMHB00338</td>\n      <td>1883.0</td>\n      <td>338.0</td>\n      <td>596.0</td>\n      <td>0.999986</td>\n    </tr>\n    <tr>\n      <th>1</th>\n      <td>HVM3101</td>\n      <td>沙苑子</td>\n      <td>SHA YUAN ZI</td>\n      <td>Flatstem Milkvetch Seed</td>\n      <td>Semen Astragali Complati</td>\n      <td>Sweet; warm</td>\n      <td>Liver; kidney</td>\n      <td>NaN</td>\n      <td>To benefit the liver and the kidney, arrest se...</td>\n      <td>Treatment of back pain, nocturnal emission and...</td>\n      <td>NaN</td>\n      <td>NaN</td>\n      <td>Yang Reinforcing Drugs</td>\n      <td>补阳药</td>\n      <td>HERB004864</td>\n      <td>SMHB00354</td>\n      <td>1702.0</td>\n      <td>354.0</td>\n      <td>1035.0</td>\n      <td>0.999781</td>\n    </tr>\n    <tr>\n      <th>2</th>\n      <td>HVM2859</td>\n      <td>荞麦</td>\n      <td>QIAO MAI</td>\n      <td>Common Buckwheat</td>\n      <td>Fagopyrum esculentum</td>\n      <td>NaN</td>\n      <td>NaN</td>\n      <td>seed</td>\n      <td>To fortify spleen and disperse accumulation, p...</td>\n      <td>Gastrointestinal accumulation, diarrhea, dysen...</td>\n      <td>NaN</td>\n      <td>NaN</td>\n      <td>NaN</td>\n      <td>NaN</td>\n      <td>HERB004488</td>\n      <td>NaN</td>\n      <td>1877.0</td>\n      <td>NaN</td>\n      <td>NaN</td>\n      <td>0.999431</td>\n    </tr>\n    <tr>\n      <th>3</th>\n      <td>HVM4195</td>\n      <td>薏苡仁</td>\n      <td>YI YI REN</td>\n      <td>seed of Jobstears</td>\n      <td>semen coicis</td>\n      <td>Minor cold; Sweet; Neutral</td>\n      <td>Lung; Spleen; Stomach</td>\n      <td>seed</td>\n      <td>1. To transform dampness and promote water met...</td>\n      <td>Edema, beriberi, inhibited urination, damp imp...</td>\n      <td>NaN</td>\n      <td>NaN</td>\n      <td>Diuretic Dampness Excreting Drugs</td>\n      <td>利水渗湿药</td>\n      <td>HERB006568</td>\n      <td>SMHB00458</td>\n      <td>2186.0</td>\n      <td>458.0</td>\n      <td>802.0</td>\n      <td>0.999081</td>\n    </tr>\n    <tr>\n      <th>4</th>\n      <td>HVM3081</td>\n      <td>桑叶</td>\n      <td>SANG YE</td>\n      <td>Mulberry Leaf</td>\n      <td>Folium Mori</td>\n      <td>Cold; Sweet; Bitter</td>\n      <td>Lung; Liver</td>\n      <td>leaf</td>\n      <td>To dispel wind-heat and to remove heat from th...</td>\n      <td>Wind-heat common cold, lung heat dry cough, di...</td>\n      <td>NaN</td>\n      <td>1. Lowering the level of blood sugar in rats w...</td>\n      <td>Pungent Cool Diaphoretics</td>\n      <td>辛凉解表药</td>\n      <td>HERB004834</td>\n      <td>SMHB00351</td>\n      <td>2356.0</td>\n      <td>351.0</td>\n      <td>608.0</td>\n      <td>0.998962</td>\n    </tr>\n    <tr>\n      <th>...</th>\n      <td>...</td>\n      <td>...</td>\n      <td>...</td>\n      <td>...</td>\n      <td>...</td>\n      <td>...</td>\n      <td>...</td>\n      <td>...</td>\n      <td>...</td>\n      <td>...</td>\n      <td>...</td>\n      <td>...</td>\n      <td>...</td>\n      <td>...</td>\n      <td>...</td>\n      <td>...</td>\n      <td>...</td>\n      <td>...</td>\n      <td>...</td>\n      <td>...</td>\n    </tr>\n    <tr>\n      <th>456</th>\n      <td>HVM2674</td>\n      <td>牛胆</td>\n      <td>NIU DAN</td>\n      <td>Ox Gall</td>\n      <td>Bos taurus domesticus, Bubalus bubalis</td>\n      <td>NaN</td>\n      <td>NaN</td>\n      <td>gall</td>\n      <td>To clear liver and brighten eyes, disinhibit g...</td>\n      <td>Wind-heat red eye, jaundice, cough with profus...</td>\n      <td>NaN</td>\n      <td>NaN</td>\n      <td>NaN</td>\n      <td>NaN</td>\n      <td>HERB004194</td>\n      <td>NaN</td>\n      <td>7619.0</td>\n      <td>NaN</td>\n      <td>NaN</td>\n      <td>0.207000</td>\n    </tr>\n    <tr>\n      <th>457</th>\n      <td>HVM1737</td>\n      <td>霍香</td>\n      <td>HUO XIANG</td>\n      <td>Wrinkled Gianthyssop</td>\n      <td>Agastache rugosus</td>\n      <td>Minor Warm; Pungent</td>\n      <td>Lung; Spleen; Stomach</td>\n      <td>aerial parts</td>\n      <td>To dispel summerheat and resolve exterior, har...</td>\n      <td>Summer common cold, cold-heat headache, glomus...</td>\n      <td>NaN</td>\n      <td>NaN</td>\n      <td>For desolving dampness by flavors</td>\n      <td>芳香化湿</td>\n      <td>HERB002644</td>\n      <td>NaN</td>\n      <td>5861.0</td>\n      <td>NaN</td>\n      <td>375.0</td>\n      <td>0.193000</td>\n    </tr>\n    <tr>\n      <th>458</th>\n      <td>HVM2206</td>\n      <td>硫磺</td>\n      <td>LIU HUANG</td>\n      <td>Sulfur</td>\n      <td>Sulfur</td>\n      <td>Warm; Sour</td>\n      <td>Large Intestine; Kidney</td>\n      <td>NaN</td>\n      <td>External use for scabies, favus, chronic sores...</td>\n      <td>1. Sulfur itself is not highly toxic to micro-...</td>\n      <td>Extremely Toxic</td>\n      <td>1. Sulfur itself is not highly toxic to micro-...</td>\n      <td>Toxication reduction, anthelmintic, dampness r...</td>\n      <td>解毒杀虫燥湿止痒</td>\n      <td>HERB003449</td>\n      <td>NaN</td>\n      <td>6029.0</td>\n      <td>NaN</td>\n      <td>461.0</td>\n      <td>0.150000</td>\n    </tr>\n    <tr>\n      <th>459</th>\n      <td>HVM0372</td>\n      <td>蟾蜍</td>\n      <td>CHAN CHU</td>\n      <td>Toad</td>\n      <td>Bufo bufo gargarizans, Bufo melanostictus</td>\n      <td>NaN</td>\n      <td>NaN</td>\n      <td>whole body</td>\n      <td>To resolve toxin and dissipate binds, disperse...</td>\n      <td>Welling abscess and flat abscess, clove sore, ...</td>\n      <td>NaN</td>\n      <td>NaN</td>\n      <td>NaN</td>\n      <td>NaN</td>\n      <td>HERB000645</td>\n      <td>NaN</td>\n      <td>4491.0</td>\n      <td>NaN</td>\n      <td>NaN</td>\n      <td>0.150000</td>\n    </tr>\n    <tr>\n      <th>460</th>\n      <td>HVM1194</td>\n      <td>葛根</td>\n      <td>GE GEN</td>\n      <td>root of lobed kudzuvine</td>\n      <td>Radix Puerariae</td>\n      <td>Cool; Pungent; Sweet</td>\n      <td>Spleen; Stomach</td>\n      <td>tuberoid</td>\n      <td>To relieve fever, to promote the production of...</td>\n      <td>Angina pectoris, hypertension, headache due to...</td>\n      <td>NaN</td>\n      <td>1. Its active component, daidzein, can dilate ...</td>\n      <td>Pungent-Warm Exterior-Releasing Medicinal</td>\n      <td>辛温解表药</td>\n      <td>HERB001874</td>\n      <td>SMHB00499</td>\n      <td>6205.0</td>\n      <td>499.0</td>\n      <td>271.0</td>\n      <td>0.150000</td>\n    </tr>\n  </tbody>\n</table>\n<p>461 rows × 20 columns</p>\n</div>"
     },
     "execution_count": 28,
     "metadata": {},
     "output_type": "execute_result"
    }
   ],
   "source": [
    "tcm"
   ],
   "metadata": {
    "collapsed": false,
    "ExecuteTime": {
     "end_time": "2023-11-03T01:14:25.174461500Z",
     "start_time": "2023-11-03T01:14:25.033329100Z"
    }
   }
  },
  {
   "cell_type": "code",
   "execution_count": 29,
   "outputs": [
    {
     "data": {
      "text/plain": "        HVMID    HVCID\n0     HVM0029  HVC0533\n1     HVM0029  HVC0462\n2     HVM0029  HVC0206\n3     HVM0029  HVC0206\n4     HVM0029  HVC0206\n...       ...      ...\n1752  HVM4630  HVC0462\n1753  HVM4630  HVC0298\n1754  HVM4630  HVC0273\n1755  HVM4637  HVC0493\n1756  HVM4637  HVC5478\n\n[1757 rows x 2 columns]",
      "text/html": "<div>\n<style scoped>\n    .dataframe tbody tr th:only-of-type {\n        vertical-align: middle;\n    }\n\n    .dataframe tbody tr th {\n        vertical-align: top;\n    }\n\n    .dataframe thead th {\n        text-align: right;\n    }\n</style>\n<table border=\"1\" class=\"dataframe\">\n  <thead>\n    <tr style=\"text-align: right;\">\n      <th></th>\n      <th>HVMID</th>\n      <th>HVCID</th>\n    </tr>\n  </thead>\n  <tbody>\n    <tr>\n      <th>0</th>\n      <td>HVM0029</td>\n      <td>HVC0533</td>\n    </tr>\n    <tr>\n      <th>1</th>\n      <td>HVM0029</td>\n      <td>HVC0462</td>\n    </tr>\n    <tr>\n      <th>2</th>\n      <td>HVM0029</td>\n      <td>HVC0206</td>\n    </tr>\n    <tr>\n      <th>3</th>\n      <td>HVM0029</td>\n      <td>HVC0206</td>\n    </tr>\n    <tr>\n      <th>4</th>\n      <td>HVM0029</td>\n      <td>HVC0206</td>\n    </tr>\n    <tr>\n      <th>...</th>\n      <td>...</td>\n      <td>...</td>\n    </tr>\n    <tr>\n      <th>1752</th>\n      <td>HVM4630</td>\n      <td>HVC0462</td>\n    </tr>\n    <tr>\n      <th>1753</th>\n      <td>HVM4630</td>\n      <td>HVC0298</td>\n    </tr>\n    <tr>\n      <th>1754</th>\n      <td>HVM4630</td>\n      <td>HVC0273</td>\n    </tr>\n    <tr>\n      <th>1755</th>\n      <td>HVM4637</td>\n      <td>HVC0493</td>\n    </tr>\n    <tr>\n      <th>1756</th>\n      <td>HVM4637</td>\n      <td>HVC5478</td>\n    </tr>\n  </tbody>\n</table>\n<p>1757 rows × 2 columns</p>\n</div>"
     },
     "execution_count": 29,
     "metadata": {},
     "output_type": "execute_result"
    }
   ],
   "source": [
    "tcm_chem_links"
   ],
   "metadata": {
    "collapsed": false,
    "ExecuteTime": {
     "end_time": "2023-11-03T01:14:25.174461500Z",
     "start_time": "2023-11-03T01:14:25.064694200Z"
    }
   }
  },
  {
   "cell_type": "code",
   "execution_count": 30,
   "outputs": [
    {
     "data": {
      "text/plain": "       HVCID                 Name  \\\n0    HVC0022  5-hydroxytryptophan   \n1    HVC0025              acetate   \n2    HVC0026         acetaldehyde   \n3    HVC0029              acetone   \n4    HVC0031        acetylcholine   \n..       ...                  ...   \n146  HVC5535              wogonin   \n147  HVC5622            casuariin   \n148  HVC6092      ganglioside GM1   \n149  HVC6114              melanin   \n150  HVC6130             selenium   \n\n                                                SMILES     CAS_id  \\\n0                    C1=CC2=C(C=C1O)C(=CN2)CC(C(=O)O)N        NaN   \n1                                           CC(=O)[O-]        NaN   \n2                                                 CC=O    75-07-0   \n3                                              CC(=O)C        NaN   \n4                                 CC(=O)OCC[N+](C)(C)C    51-84-3   \n..                                                 ...        ...   \n146          COC1=C(C=C(C2=C1OC(=CC2=O)C3=CC=CC=C3)O)O   632-85-9   \n147  C1C(C(OC(=O)C2=CC(=C(C(=C2C3=C(C(=C(C=C3C(=O)O...        NaN   \n148  CCCCCCCCCCCCCCCCCC(=O)NC(COC1C(C(C(C(O1)CO)OC2...        NaN   \n149  CC1=C2C3=C(C4=CNC5=C(C(=O)C(=O)C(=C45)C3=CN2)C...  8049-97-6   \n150                                               [Se]        NaN   \n\n      PubChem_id DrugBank_id     STITCH_id     HERB_id  Importance Score  \n0       439280.0         NaN  CIDm00000144  HBIN011695           0.25600  \n1          175.0         NaN  CIDm00000175  HBIN014391           0.52100  \n2          177.0         NaN  CIDm00000177  HBIN014388           0.52100  \n3          180.0         NaN  CIDm00000180  HBIN014420           0.39000  \n4          187.0         NaN  CIDm00000187  HBIN014467           0.40108  \n..           ...         ...           ...         ...               ...  \n146    5281703.0         NaN  CIDm05281703  HBIN048372           0.25600  \n147  100927666.0         NaN  CIDm05315735  HBIN011516           0.24800  \n148          NaN         NaN  CIDm05497107  HBIN027198           0.25600  \n149    6325610.0         NaN  CIDm06325610  HBIN034656           0.25600  \n150    6326970.0         NaN  CIDm06326970  HBIN043546           0.15000  \n\n[151 rows x 9 columns]",
      "text/html": "<div>\n<style scoped>\n    .dataframe tbody tr th:only-of-type {\n        vertical-align: middle;\n    }\n\n    .dataframe tbody tr th {\n        vertical-align: top;\n    }\n\n    .dataframe thead th {\n        text-align: right;\n    }\n</style>\n<table border=\"1\" class=\"dataframe\">\n  <thead>\n    <tr style=\"text-align: right;\">\n      <th></th>\n      <th>HVCID</th>\n      <th>Name</th>\n      <th>SMILES</th>\n      <th>CAS_id</th>\n      <th>PubChem_id</th>\n      <th>DrugBank_id</th>\n      <th>STITCH_id</th>\n      <th>HERB_id</th>\n      <th>Importance Score</th>\n    </tr>\n  </thead>\n  <tbody>\n    <tr>\n      <th>0</th>\n      <td>HVC0022</td>\n      <td>5-hydroxytryptophan</td>\n      <td>C1=CC2=C(C=C1O)C(=CN2)CC(C(=O)O)N</td>\n      <td>NaN</td>\n      <td>439280.0</td>\n      <td>NaN</td>\n      <td>CIDm00000144</td>\n      <td>HBIN011695</td>\n      <td>0.25600</td>\n    </tr>\n    <tr>\n      <th>1</th>\n      <td>HVC0025</td>\n      <td>acetate</td>\n      <td>CC(=O)[O-]</td>\n      <td>NaN</td>\n      <td>175.0</td>\n      <td>NaN</td>\n      <td>CIDm00000175</td>\n      <td>HBIN014391</td>\n      <td>0.52100</td>\n    </tr>\n    <tr>\n      <th>2</th>\n      <td>HVC0026</td>\n      <td>acetaldehyde</td>\n      <td>CC=O</td>\n      <td>75-07-0</td>\n      <td>177.0</td>\n      <td>NaN</td>\n      <td>CIDm00000177</td>\n      <td>HBIN014388</td>\n      <td>0.52100</td>\n    </tr>\n    <tr>\n      <th>3</th>\n      <td>HVC0029</td>\n      <td>acetone</td>\n      <td>CC(=O)C</td>\n      <td>NaN</td>\n      <td>180.0</td>\n      <td>NaN</td>\n      <td>CIDm00000180</td>\n      <td>HBIN014420</td>\n      <td>0.39000</td>\n    </tr>\n    <tr>\n      <th>4</th>\n      <td>HVC0031</td>\n      <td>acetylcholine</td>\n      <td>CC(=O)OCC[N+](C)(C)C</td>\n      <td>51-84-3</td>\n      <td>187.0</td>\n      <td>NaN</td>\n      <td>CIDm00000187</td>\n      <td>HBIN014467</td>\n      <td>0.40108</td>\n    </tr>\n    <tr>\n      <th>...</th>\n      <td>...</td>\n      <td>...</td>\n      <td>...</td>\n      <td>...</td>\n      <td>...</td>\n      <td>...</td>\n      <td>...</td>\n      <td>...</td>\n      <td>...</td>\n    </tr>\n    <tr>\n      <th>146</th>\n      <td>HVC5535</td>\n      <td>wogonin</td>\n      <td>COC1=C(C=C(C2=C1OC(=CC2=O)C3=CC=CC=C3)O)O</td>\n      <td>632-85-9</td>\n      <td>5281703.0</td>\n      <td>NaN</td>\n      <td>CIDm05281703</td>\n      <td>HBIN048372</td>\n      <td>0.25600</td>\n    </tr>\n    <tr>\n      <th>147</th>\n      <td>HVC5622</td>\n      <td>casuariin</td>\n      <td>C1C(C(OC(=O)C2=CC(=C(C(=C2C3=C(C(=C(C=C3C(=O)O...</td>\n      <td>NaN</td>\n      <td>100927666.0</td>\n      <td>NaN</td>\n      <td>CIDm05315735</td>\n      <td>HBIN011516</td>\n      <td>0.24800</td>\n    </tr>\n    <tr>\n      <th>148</th>\n      <td>HVC6092</td>\n      <td>ganglioside GM1</td>\n      <td>CCCCCCCCCCCCCCCCCC(=O)NC(COC1C(C(C(C(O1)CO)OC2...</td>\n      <td>NaN</td>\n      <td>NaN</td>\n      <td>NaN</td>\n      <td>CIDm05497107</td>\n      <td>HBIN027198</td>\n      <td>0.25600</td>\n    </tr>\n    <tr>\n      <th>149</th>\n      <td>HVC6114</td>\n      <td>melanin</td>\n      <td>CC1=C2C3=C(C4=CNC5=C(C(=O)C(=O)C(=C45)C3=CN2)C...</td>\n      <td>8049-97-6</td>\n      <td>6325610.0</td>\n      <td>NaN</td>\n      <td>CIDm06325610</td>\n      <td>HBIN034656</td>\n      <td>0.25600</td>\n    </tr>\n    <tr>\n      <th>150</th>\n      <td>HVC6130</td>\n      <td>selenium</td>\n      <td>[Se]</td>\n      <td>NaN</td>\n      <td>6326970.0</td>\n      <td>NaN</td>\n      <td>CIDm06326970</td>\n      <td>HBIN043546</td>\n      <td>0.15000</td>\n    </tr>\n  </tbody>\n</table>\n<p>151 rows × 9 columns</p>\n</div>"
     },
     "execution_count": 30,
     "metadata": {},
     "output_type": "execute_result"
    }
   ],
   "source": [
    "chem"
   ],
   "metadata": {
    "collapsed": false,
    "ExecuteTime": {
     "end_time": "2023-11-03T01:14:25.237378Z",
     "start_time": "2023-11-03T01:14:25.080248500Z"
    }
   }
  },
  {
   "cell_type": "code",
   "execution_count": 31,
   "outputs": [
    {
     "data": {
      "text/plain": "       HVCID       Ensembl_ID  Combined_score\n0    HVC6130  ENSP00000381588           0.150\n1    HVC6114  ENSP00000381588           0.256\n2    HVC6092  ENSP00000381588           0.256\n3    HVC5622  ENSP00000381588           0.248\n4    HVC5535  ENSP00000381588           0.256\n..       ...              ...             ...\n149  HVC0031  ENSP00000381588           0.256\n150  HVC0029  ENSP00000381588           0.390\n151  HVC0026  ENSP00000381588           0.521\n152  HVC0025  ENSP00000381588           0.521\n153  HVC0022  ENSP00000381588           0.256\n\n[154 rows x 3 columns]",
      "text/html": "<div>\n<style scoped>\n    .dataframe tbody tr th:only-of-type {\n        vertical-align: middle;\n    }\n\n    .dataframe tbody tr th {\n        vertical-align: top;\n    }\n\n    .dataframe thead th {\n        text-align: right;\n    }\n</style>\n<table border=\"1\" class=\"dataframe\">\n  <thead>\n    <tr style=\"text-align: right;\">\n      <th></th>\n      <th>HVCID</th>\n      <th>Ensembl_ID</th>\n      <th>Combined_score</th>\n    </tr>\n  </thead>\n  <tbody>\n    <tr>\n      <th>0</th>\n      <td>HVC6130</td>\n      <td>ENSP00000381588</td>\n      <td>0.150</td>\n    </tr>\n    <tr>\n      <th>1</th>\n      <td>HVC6114</td>\n      <td>ENSP00000381588</td>\n      <td>0.256</td>\n    </tr>\n    <tr>\n      <th>2</th>\n      <td>HVC6092</td>\n      <td>ENSP00000381588</td>\n      <td>0.256</td>\n    </tr>\n    <tr>\n      <th>3</th>\n      <td>HVC5622</td>\n      <td>ENSP00000381588</td>\n      <td>0.248</td>\n    </tr>\n    <tr>\n      <th>4</th>\n      <td>HVC5535</td>\n      <td>ENSP00000381588</td>\n      <td>0.256</td>\n    </tr>\n    <tr>\n      <th>...</th>\n      <td>...</td>\n      <td>...</td>\n      <td>...</td>\n    </tr>\n    <tr>\n      <th>149</th>\n      <td>HVC0031</td>\n      <td>ENSP00000381588</td>\n      <td>0.256</td>\n    </tr>\n    <tr>\n      <th>150</th>\n      <td>HVC0029</td>\n      <td>ENSP00000381588</td>\n      <td>0.390</td>\n    </tr>\n    <tr>\n      <th>151</th>\n      <td>HVC0026</td>\n      <td>ENSP00000381588</td>\n      <td>0.521</td>\n    </tr>\n    <tr>\n      <th>152</th>\n      <td>HVC0025</td>\n      <td>ENSP00000381588</td>\n      <td>0.521</td>\n    </tr>\n    <tr>\n      <th>153</th>\n      <td>HVC0022</td>\n      <td>ENSP00000381588</td>\n      <td>0.256</td>\n    </tr>\n  </tbody>\n</table>\n<p>154 rows × 3 columns</p>\n</div>"
     },
     "execution_count": 31,
     "metadata": {},
     "output_type": "execute_result"
    }
   ],
   "source": [
    "chem_protein_links"
   ],
   "metadata": {
    "collapsed": false,
    "ExecuteTime": {
     "end_time": "2023-11-03T01:14:25.284272400Z",
     "start_time": "2023-11-03T01:14:25.095845300Z"
    }
   }
  },
  {
   "cell_type": "code",
   "execution_count": 32,
   "outputs": [
    {
     "data": {
      "text/plain": "        Ensembl_ID protein_name gene_name\n0  ENSP00000381588          NaN   TMPRSS2\n1  ENSP00000252519          NaN      ACE2",
      "text/html": "<div>\n<style scoped>\n    .dataframe tbody tr th:only-of-type {\n        vertical-align: middle;\n    }\n\n    .dataframe tbody tr th {\n        vertical-align: top;\n    }\n\n    .dataframe thead th {\n        text-align: right;\n    }\n</style>\n<table border=\"1\" class=\"dataframe\">\n  <thead>\n    <tr style=\"text-align: right;\">\n      <th></th>\n      <th>Ensembl_ID</th>\n      <th>protein_name</th>\n      <th>gene_name</th>\n    </tr>\n  </thead>\n  <tbody>\n    <tr>\n      <th>0</th>\n      <td>ENSP00000381588</td>\n      <td>NaN</td>\n      <td>TMPRSS2</td>\n    </tr>\n    <tr>\n      <th>1</th>\n      <td>ENSP00000252519</td>\n      <td>NaN</td>\n      <td>ACE2</td>\n    </tr>\n  </tbody>\n</table>\n</div>"
     },
     "execution_count": 32,
     "metadata": {},
     "output_type": "execute_result"
    }
   ],
   "source": [
    "proteins"
   ],
   "metadata": {
    "collapsed": false,
    "ExecuteTime": {
     "end_time": "2023-11-03T01:14:25.331748300Z",
     "start_time": "2023-11-03T01:14:25.111502600Z"
    }
   }
  },
  {
   "cell_type": "code",
   "execution_count": 33,
   "outputs": [
    {
     "data": {
      "text/plain": "              items  Importance Score         Boost\n0   HVP3924;HVP0046               1.0  4.090316e-09\n1   HVP1339;HVP1470               1.0  2.937887e-09\n2   HVP0046;HVP1470               1.0  2.937887e-09\n3   HVP1470;HVP0300               1.0  2.937887e-09\n4   HVP0507;HVP3924               1.0  2.705079e-09\n..              ...               ...           ...\n95  HVP4988;HVP0931               1.0  9.992007e-16\n96  HVP4988;HVP4486               1.0  9.992007e-16\n97  HVP4988;HVP0511               1.0  9.992007e-16\n98  HVP4988;HVP2794               1.0  9.992007e-16\n99  HVP0376;HVP3286               1.0  5.551115e-16\n\n[100 rows x 3 columns]",
      "text/html": "<div>\n<style scoped>\n    .dataframe tbody tr th:only-of-type {\n        vertical-align: middle;\n    }\n\n    .dataframe tbody tr th {\n        vertical-align: top;\n    }\n\n    .dataframe thead th {\n        text-align: right;\n    }\n</style>\n<table border=\"1\" class=\"dataframe\">\n  <thead>\n    <tr style=\"text-align: right;\">\n      <th></th>\n      <th>items</th>\n      <th>Importance Score</th>\n      <th>Boost</th>\n    </tr>\n  </thead>\n  <tbody>\n    <tr>\n      <th>0</th>\n      <td>HVP3924;HVP0046</td>\n      <td>1.0</td>\n      <td>4.090316e-09</td>\n    </tr>\n    <tr>\n      <th>1</th>\n      <td>HVP1339;HVP1470</td>\n      <td>1.0</td>\n      <td>2.937887e-09</td>\n    </tr>\n    <tr>\n      <th>2</th>\n      <td>HVP0046;HVP1470</td>\n      <td>1.0</td>\n      <td>2.937887e-09</td>\n    </tr>\n    <tr>\n      <th>3</th>\n      <td>HVP1470;HVP0300</td>\n      <td>1.0</td>\n      <td>2.937887e-09</td>\n    </tr>\n    <tr>\n      <th>4</th>\n      <td>HVP0507;HVP3924</td>\n      <td>1.0</td>\n      <td>2.705079e-09</td>\n    </tr>\n    <tr>\n      <th>...</th>\n      <td>...</td>\n      <td>...</td>\n      <td>...</td>\n    </tr>\n    <tr>\n      <th>95</th>\n      <td>HVP4988;HVP0931</td>\n      <td>1.0</td>\n      <td>9.992007e-16</td>\n    </tr>\n    <tr>\n      <th>96</th>\n      <td>HVP4988;HVP4486</td>\n      <td>1.0</td>\n      <td>9.992007e-16</td>\n    </tr>\n    <tr>\n      <th>97</th>\n      <td>HVP4988;HVP0511</td>\n      <td>1.0</td>\n      <td>9.992007e-16</td>\n    </tr>\n    <tr>\n      <th>98</th>\n      <td>HVP4988;HVP2794</td>\n      <td>1.0</td>\n      <td>9.992007e-16</td>\n    </tr>\n    <tr>\n      <th>99</th>\n      <td>HVP0376;HVP3286</td>\n      <td>1.0</td>\n      <td>5.551115e-16</td>\n    </tr>\n  </tbody>\n</table>\n<p>100 rows × 3 columns</p>\n</div>"
     },
     "execution_count": 33,
     "metadata": {},
     "output_type": "execute_result"
    }
   ],
   "source": [
    "formulas"
   ],
   "metadata": {
    "collapsed": false,
    "ExecuteTime": {
     "end_time": "2023-11-03T01:14:25.331748300Z",
     "start_time": "2023-11-03T01:14:25.127542100Z"
    }
   }
  },
  {
   "cell_type": "code",
   "execution_count": 34,
   "outputs": [
    {
     "data": {
      "text/plain": "              items  Importance Score     Boost\n0   HVM1242;HVM0989          0.856142  0.236552\n1   HVM1987;HVM4419          0.970814  0.138595\n2   HVM2026;HVM1987          0.852047  0.062486\n3   HVM2385;HVM1117          0.997477  0.020975\n4   HVM1117;HVM1856          0.996908  0.020394\n..              ...               ...       ...\n95  HVM1321;HVM3101          0.999837  0.000056\n96  HVM4050;HVM3101          0.999837  0.000056\n97  HVM2026;HVM3101          0.999837  0.000055\n98  HVM2206;HVM3101          0.999814  0.000033\n99          HVM3101          0.999781  0.000000\n\n[100 rows x 3 columns]",
      "text/html": "<div>\n<style scoped>\n    .dataframe tbody tr th:only-of-type {\n        vertical-align: middle;\n    }\n\n    .dataframe tbody tr th {\n        vertical-align: top;\n    }\n\n    .dataframe thead th {\n        text-align: right;\n    }\n</style>\n<table border=\"1\" class=\"dataframe\">\n  <thead>\n    <tr style=\"text-align: right;\">\n      <th></th>\n      <th>items</th>\n      <th>Importance Score</th>\n      <th>Boost</th>\n    </tr>\n  </thead>\n  <tbody>\n    <tr>\n      <th>0</th>\n      <td>HVM1242;HVM0989</td>\n      <td>0.856142</td>\n      <td>0.236552</td>\n    </tr>\n    <tr>\n      <th>1</th>\n      <td>HVM1987;HVM4419</td>\n      <td>0.970814</td>\n      <td>0.138595</td>\n    </tr>\n    <tr>\n      <th>2</th>\n      <td>HVM2026;HVM1987</td>\n      <td>0.852047</td>\n      <td>0.062486</td>\n    </tr>\n    <tr>\n      <th>3</th>\n      <td>HVM2385;HVM1117</td>\n      <td>0.997477</td>\n      <td>0.020975</td>\n    </tr>\n    <tr>\n      <th>4</th>\n      <td>HVM1117;HVM1856</td>\n      <td>0.996908</td>\n      <td>0.020394</td>\n    </tr>\n    <tr>\n      <th>...</th>\n      <td>...</td>\n      <td>...</td>\n      <td>...</td>\n    </tr>\n    <tr>\n      <th>95</th>\n      <td>HVM1321;HVM3101</td>\n      <td>0.999837</td>\n      <td>0.000056</td>\n    </tr>\n    <tr>\n      <th>96</th>\n      <td>HVM4050;HVM3101</td>\n      <td>0.999837</td>\n      <td>0.000056</td>\n    </tr>\n    <tr>\n      <th>97</th>\n      <td>HVM2026;HVM3101</td>\n      <td>0.999837</td>\n      <td>0.000055</td>\n    </tr>\n    <tr>\n      <th>98</th>\n      <td>HVM2206;HVM3101</td>\n      <td>0.999814</td>\n      <td>0.000033</td>\n    </tr>\n    <tr>\n      <th>99</th>\n      <td>HVM3101</td>\n      <td>0.999781</td>\n      <td>0.000000</td>\n    </tr>\n  </tbody>\n</table>\n<p>100 rows × 3 columns</p>\n</div>"
     },
     "execution_count": 34,
     "metadata": {},
     "output_type": "execute_result"
    }
   ],
   "source": [
    "tcms"
   ],
   "metadata": {
    "collapsed": false,
    "ExecuteTime": {
     "end_time": "2023-11-03T01:14:25.331748300Z",
     "start_time": "2023-11-03T01:14:25.143181300Z"
    }
   }
  },
  {
   "cell_type": "markdown",
   "source": [
    "## 不进行优化"
   ],
   "metadata": {
    "collapsed": false
   }
  },
  {
   "cell_type": "code",
   "execution_count": 45,
   "outputs": [],
   "source": [
    "formula, formula_tcm_links, tcm, tcm_chem_links, chem, chem_protein_links, proteins, tcms, formulas = analysis.from_proteins(['ENSP00000381588', 'ENSP00000252519'],\n",
    "                                                                                                                             score=0,\n",
    "                                                                                                                             tcm_component=False,\n",
    "                                                                                                                             formula_component=False,\n",
    "                                                                                                                             out_for_cytoscape=False)"
   ],
   "metadata": {
    "collapsed": false,
    "ExecuteTime": {
     "end_time": "2023-11-03T01:34:58.570943800Z",
     "start_time": "2023-11-03T01:34:16.168117900Z"
    }
   }
  },
  {
   "cell_type": "code",
   "execution_count": 46,
   "outputs": [
    {
     "data": {
      "text/plain": "        HVPID     name                           Prescription Composition  \\\n0     HVP3338    益气养元丸  黄耆10两，白术（麸炒）15两，升麻5两，柴胡5两，山药5两，党参（去芦）10两，当归10两...   \n1     HVP0513    托里化毒汤                人参、黄耆、茯苓、金银花、甘草、当归、白术、牛蒡子、白芷、连翘、陈皮。   \n2     HVP1780  加减补中益气汤  黄耆2钱（炒），人参4钱，白术3钱（土炒），当归1钱，白芍1钱（酒炒），陈皮7分，柴胡5分，...   \n3     HVP0402    升阳益胃散  人参3钱，黄耆2钱，白术1钱，甘草（炙）7分，羌活7分，防风1钱，独活7分，柴胡1钱，升麻8...   \n4     HVP5664    生阳益胃汤                                                NaN   \n...       ...      ...                                                ...   \n5879  HVP1081      火精散                                         硫黄4分，胡椒6分。   \n5880  HVP1083    治疥内消散                                            硫黄1-2钱。   \n5881  HVP6105    杀虫硫黄散                                                硫黄。   \n5882  HVP0310      还阳散                                                硫黄。   \n5883  HVP4643      黄蜡丸                                              硫黄1两。   \n\n     Instructions                                 Treatment Symptoms  \\\n0             NaN  元气亏损，脾胃虚弱，身体疲倦，精神不振。[Deficiency of vitality, w...   \n1             NaN  痘痈成脓。[Acne carbuncle into pus.(Machine transla...   \n2             NaN                                      No Data.[无数据]   \n3             NaN  中气亏败，脾湿壅遏，阳气不伸。体重肢节疼痛，口燥舌干，饮食无味，大便不调，小便短涩，不欲食，...   \n4             NaN  1. Indicated for cases attributive to deficien...   \n...           ...                                                ...   \n5879          NaN  阴症心腹冷痛，不可忍者。[Yin disease, heart and abdomen co...   \n5880          NaN                疥疮。[Scabies.(Machine translation.)]   \n5881          NaN  疳虫蚀下部五脏。[Chancre insect erosion of the lower f...   \n5882          NaN  伤寒阴毒，面色青，四肢逆冷，心躁腹痛。[Typhoid Yin poison, green ...   \n5883          NaN  水泻不止，伤冷虚极。[The water is not only draining, but...   \n\n                           Source Document  Importance Score  \n0                《北京市中药成方选集》。功效:培养元气，健脾和胃。              1.00  \n1                              《痘疹传心录》卷十五。              1.00  \n2     《鲁府禁方》卷二。功效:补元气，健脾胃、养心血，平肝火，清湿热，消膨胀。              1.00  \n3                                  《杏苑》卷三。              1.00  \n4                               pi wei lun              1.00  \n...                                    ...               ...  \n5879                             《鲁府禁方》卷二。              0.15  \n5880                             《鲁府禁方》卷四。              0.15  \n5881                             《胎产心法》卷下。              0.15  \n5882                               《本事》卷九。              0.15  \n5883                           《圣济总录》卷七十四。              0.15  \n\n[5884 rows x 7 columns]",
      "text/html": "<div>\n<style scoped>\n    .dataframe tbody tr th:only-of-type {\n        vertical-align: middle;\n    }\n\n    .dataframe tbody tr th {\n        vertical-align: top;\n    }\n\n    .dataframe thead th {\n        text-align: right;\n    }\n</style>\n<table border=\"1\" class=\"dataframe\">\n  <thead>\n    <tr style=\"text-align: right;\">\n      <th></th>\n      <th>HVPID</th>\n      <th>name</th>\n      <th>Prescription Composition</th>\n      <th>Instructions</th>\n      <th>Treatment Symptoms</th>\n      <th>Source Document</th>\n      <th>Importance Score</th>\n    </tr>\n  </thead>\n  <tbody>\n    <tr>\n      <th>0</th>\n      <td>HVP3338</td>\n      <td>益气养元丸</td>\n      <td>黄耆10两，白术（麸炒）15两，升麻5两，柴胡5两，山药5两，党参（去芦）10两，当归10两...</td>\n      <td>NaN</td>\n      <td>元气亏损，脾胃虚弱，身体疲倦，精神不振。[Deficiency of vitality, w...</td>\n      <td>《北京市中药成方选集》。功效:培养元气，健脾和胃。</td>\n      <td>1.00</td>\n    </tr>\n    <tr>\n      <th>1</th>\n      <td>HVP0513</td>\n      <td>托里化毒汤</td>\n      <td>人参、黄耆、茯苓、金银花、甘草、当归、白术、牛蒡子、白芷、连翘、陈皮。</td>\n      <td>NaN</td>\n      <td>痘痈成脓。[Acne carbuncle into pus.(Machine transla...</td>\n      <td>《痘疹传心录》卷十五。</td>\n      <td>1.00</td>\n    </tr>\n    <tr>\n      <th>2</th>\n      <td>HVP1780</td>\n      <td>加减补中益气汤</td>\n      <td>黄耆2钱（炒），人参4钱，白术3钱（土炒），当归1钱，白芍1钱（酒炒），陈皮7分，柴胡5分，...</td>\n      <td>NaN</td>\n      <td>No Data.[无数据]</td>\n      <td>《鲁府禁方》卷二。功效:补元气，健脾胃、养心血，平肝火，清湿热，消膨胀。</td>\n      <td>1.00</td>\n    </tr>\n    <tr>\n      <th>3</th>\n      <td>HVP0402</td>\n      <td>升阳益胃散</td>\n      <td>人参3钱，黄耆2钱，白术1钱，甘草（炙）7分，羌活7分，防风1钱，独活7分，柴胡1钱，升麻8...</td>\n      <td>NaN</td>\n      <td>中气亏败，脾湿壅遏，阳气不伸。体重肢节疼痛，口燥舌干，饮食无味，大便不调，小便短涩，不欲食，...</td>\n      <td>《杏苑》卷三。</td>\n      <td>1.00</td>\n    </tr>\n    <tr>\n      <th>4</th>\n      <td>HVP5664</td>\n      <td>生阳益胃汤</td>\n      <td>NaN</td>\n      <td>NaN</td>\n      <td>1. Indicated for cases attributive to deficien...</td>\n      <td>pi wei lun</td>\n      <td>1.00</td>\n    </tr>\n    <tr>\n      <th>...</th>\n      <td>...</td>\n      <td>...</td>\n      <td>...</td>\n      <td>...</td>\n      <td>...</td>\n      <td>...</td>\n      <td>...</td>\n    </tr>\n    <tr>\n      <th>5879</th>\n      <td>HVP1081</td>\n      <td>火精散</td>\n      <td>硫黄4分，胡椒6分。</td>\n      <td>NaN</td>\n      <td>阴症心腹冷痛，不可忍者。[Yin disease, heart and abdomen co...</td>\n      <td>《鲁府禁方》卷二。</td>\n      <td>0.15</td>\n    </tr>\n    <tr>\n      <th>5880</th>\n      <td>HVP1083</td>\n      <td>治疥内消散</td>\n      <td>硫黄1-2钱。</td>\n      <td>NaN</td>\n      <td>疥疮。[Scabies.(Machine translation.)]</td>\n      <td>《鲁府禁方》卷四。</td>\n      <td>0.15</td>\n    </tr>\n    <tr>\n      <th>5881</th>\n      <td>HVP6105</td>\n      <td>杀虫硫黄散</td>\n      <td>硫黄。</td>\n      <td>NaN</td>\n      <td>疳虫蚀下部五脏。[Chancre insect erosion of the lower f...</td>\n      <td>《胎产心法》卷下。</td>\n      <td>0.15</td>\n    </tr>\n    <tr>\n      <th>5882</th>\n      <td>HVP0310</td>\n      <td>还阳散</td>\n      <td>硫黄。</td>\n      <td>NaN</td>\n      <td>伤寒阴毒，面色青，四肢逆冷，心躁腹痛。[Typhoid Yin poison, green ...</td>\n      <td>《本事》卷九。</td>\n      <td>0.15</td>\n    </tr>\n    <tr>\n      <th>5883</th>\n      <td>HVP4643</td>\n      <td>黄蜡丸</td>\n      <td>硫黄1两。</td>\n      <td>NaN</td>\n      <td>水泻不止，伤冷虚极。[The water is not only draining, but...</td>\n      <td>《圣济总录》卷七十四。</td>\n      <td>0.15</td>\n    </tr>\n  </tbody>\n</table>\n<p>5884 rows × 7 columns</p>\n</div>"
     },
     "execution_count": 46,
     "metadata": {},
     "output_type": "execute_result"
    }
   ],
   "source": [
    "formula"
   ],
   "metadata": {
    "collapsed": false,
    "ExecuteTime": {
     "end_time": "2023-11-03T01:36:53.763500900Z",
     "start_time": "2023-11-03T01:36:53.729279Z"
    }
   }
  },
  {
   "cell_type": "code",
   "execution_count": 47,
   "outputs": [
    {
     "data": {
      "text/plain": "         HVPID    HVMID\n0      HVP0000  HVM0198\n1      HVP0000  HVM1130\n2      HVP0000  HVM4625\n3      HVP0001  HVM1129\n4      HVP0002  HVM0663\n...        ...      ...\n23899  HVP6189  HVM4488\n23900  HVP6190  HVM0198\n23901  HVP6190  HVM1130\n23902  HVP6190  HVM2053\n23903  HVP6190  HVM2941\n\n[23904 rows x 2 columns]",
      "text/html": "<div>\n<style scoped>\n    .dataframe tbody tr th:only-of-type {\n        vertical-align: middle;\n    }\n\n    .dataframe tbody tr th {\n        vertical-align: top;\n    }\n\n    .dataframe thead th {\n        text-align: right;\n    }\n</style>\n<table border=\"1\" class=\"dataframe\">\n  <thead>\n    <tr style=\"text-align: right;\">\n      <th></th>\n      <th>HVPID</th>\n      <th>HVMID</th>\n    </tr>\n  </thead>\n  <tbody>\n    <tr>\n      <th>0</th>\n      <td>HVP0000</td>\n      <td>HVM0198</td>\n    </tr>\n    <tr>\n      <th>1</th>\n      <td>HVP0000</td>\n      <td>HVM1130</td>\n    </tr>\n    <tr>\n      <th>2</th>\n      <td>HVP0000</td>\n      <td>HVM4625</td>\n    </tr>\n    <tr>\n      <th>3</th>\n      <td>HVP0001</td>\n      <td>HVM1129</td>\n    </tr>\n    <tr>\n      <th>4</th>\n      <td>HVP0002</td>\n      <td>HVM0663</td>\n    </tr>\n    <tr>\n      <th>...</th>\n      <td>...</td>\n      <td>...</td>\n    </tr>\n    <tr>\n      <th>23899</th>\n      <td>HVP6189</td>\n      <td>HVM4488</td>\n    </tr>\n    <tr>\n      <th>23900</th>\n      <td>HVP6190</td>\n      <td>HVM0198</td>\n    </tr>\n    <tr>\n      <th>23901</th>\n      <td>HVP6190</td>\n      <td>HVM1130</td>\n    </tr>\n    <tr>\n      <th>23902</th>\n      <td>HVP6190</td>\n      <td>HVM2053</td>\n    </tr>\n    <tr>\n      <th>23903</th>\n      <td>HVP6190</td>\n      <td>HVM2941</td>\n    </tr>\n  </tbody>\n</table>\n<p>23904 rows × 2 columns</p>\n</div>"
     },
     "execution_count": 47,
     "metadata": {},
     "output_type": "execute_result"
    }
   ],
   "source": [
    "formula_tcm_links"
   ],
   "metadata": {
    "collapsed": false,
    "ExecuteTime": {
     "end_time": "2023-11-03T01:36:58.030638400Z",
     "start_time": "2023-11-03T01:36:57.989052300Z"
    }
   }
  },
  {
   "cell_type": "code",
   "execution_count": 48,
   "outputs": [
    {
     "data": {
      "text/plain": "       HVMID cn_name    pinyin_name                  en_name  \\\n0    HVM2997     肉苁蓉  ROU CONG RONG   Desertliving Cistanche   \n1    HVM3101     沙苑子    SHA YUAN ZI  Flatstem Milkvetch Seed   \n2    HVM2859      荞麦       QIAO MAI         Common Buckwheat   \n3    HVM4195     薏苡仁      YI YI REN        seed of Jobstears   \n4    HVM3081      桑叶        SANG YE            Mulberry Leaf   \n..       ...     ...            ...                      ...   \n456  HVM2674      牛胆        NIU DAN                  Ox Gall   \n457  HVM1737      霍香      HUO XIANG     Wrinkled Gianthyssop   \n458  HVM2206      硫磺      LIU HUANG                   Sulfur   \n459  HVM0372      蟾蜍       CHAN CHU                     Toad   \n460  HVM1194      葛根         GE GEN  root of lobed kudzuvine   \n\n                                    latin_name                  Properties  \\\n0                             Herba Cistanches          Warm; Sweet; Salty   \n1                     Semen Astragali Complati                 Sweet; warm   \n2                         Fagopyrum esculentum                         NaN   \n3                                 semen coicis  Minor cold; Sweet; Neutral   \n4                                  Folium Mori         Cold; Sweet; Bitter   \n..                                         ...                         ...   \n456     Bos taurus domesticus, Bubalus bubalis                         NaN   \n457                          Agastache rugosus         Minor Warm; Pungent   \n458                                     Sulfur                  Warm; Sour   \n459  Bufo bufo gargarizans, Bufo melanostictus                         NaN   \n460                            Radix Puerariae        Cool; Pungent; Sweet   \n\n                   Meridians       UsePart  \\\n0    Large Intestine; Kidney   fleshy stem   \n1              Liver; kidney           NaN   \n2                        NaN          seed   \n3      Lung; Spleen; Stomach          seed   \n4                Lung; Liver          leaf   \n..                       ...           ...   \n456                      NaN          gall   \n457    Lung; Spleen; Stomach  aerial parts   \n458  Large Intestine; Kidney           NaN   \n459                      NaN    whole body   \n460          Spleen; Stomach      tuberoid   \n\n                                              Function  \\\n0    To reinforce the kidney, replenish vital essen...   \n1    To benefit the liver and the kidney, arrest se...   \n2    To fortify spleen and disperse accumulation, p...   \n3    1. To transform dampness and promote water met...   \n4    To dispel wind-heat and to remove heat from th...   \n..                                                 ...   \n456  To clear liver and brighten eyes, disinhibit g...   \n457  To dispel summerheat and resolve exterior, har...   \n458  External use for scabies, favus, chronic sores...   \n459  To resolve toxin and dissipate binds, disperse...   \n460  To relieve fever, to promote the production of...   \n\n                                            Indication         Toxicity  \\\n0    Impotence, infertility, backache, limp aching ...              NaN   \n1    Treatment of back pain, nocturnal emission and...              NaN   \n2    Gastrointestinal accumulation, diarrhea, dysen...              NaN   \n3    Edema, beriberi, inhibited urination, damp imp...              NaN   \n4    Wind-heat common cold, lung heat dry cough, di...              NaN   \n..                                                 ...              ...   \n456  Wind-heat red eye, jaundice, cough with profus...              NaN   \n457  Summer common cold, cold-heat headache, glomus...              NaN   \n458  1. Sulfur itself is not highly toxic to micro-...  Extremely Toxic   \n459  Welling abscess and flat abscess, clove sore, ...              NaN   \n460  Angina pectoris, hypertension, headache due to...              NaN   \n\n                               Clinical_manifestations  \\\n0         1. Hypotensive2. Promoting saliva secretion.   \n1                                                  NaN   \n2                                                  NaN   \n3                                                  NaN   \n4    1. Lowering the level of blood sugar in rats w...   \n..                                                 ...   \n456                                                NaN   \n457                                                NaN   \n458  1. Sulfur itself is not highly toxic to micro-...   \n459                                                NaN   \n460  1. Its active component, daidzein, can dilate ...   \n\n                                  Therapeutic_en_class Therapeutic_cn_class  \\\n0                               Yang Reinforcing Drugs                  补阳药   \n1                               Yang Reinforcing Drugs                  补阳药   \n2                                                  NaN                  NaN   \n3                    Diuretic Dampness Excreting Drugs                利水渗湿药   \n4                            Pungent Cool Diaphoretics                辛凉解表药   \n..                                                 ...                  ...   \n456                                                NaN                  NaN   \n457                  For desolving dampness by flavors                 芳香化湿   \n458  Toxication reduction, anthelmintic, dampness r...             解毒杀虫燥湿止痒   \n459                                                NaN                  NaN   \n460          Pungent-Warm Exterior-Releasing Medicinal                辛温解表药   \n\n        HERB_id   TCMID_id  TCM_ID_id  SymMap_id  TCMSP_id  Importance Score  \n0    HERB004692  SMHB00338     1883.0      338.0     596.0          0.999986  \n1    HERB004864  SMHB00354     1702.0      354.0    1035.0          0.999781  \n2    HERB004488        NaN     1877.0        NaN       NaN          0.999431  \n3    HERB006568  SMHB00458     2186.0      458.0     802.0          0.999081  \n4    HERB004834  SMHB00351     2356.0      351.0     608.0          0.998962  \n..          ...        ...        ...        ...       ...               ...  \n456  HERB004194        NaN     7619.0        NaN       NaN          0.207000  \n457  HERB002644        NaN     5861.0        NaN     375.0          0.193000  \n458  HERB003449        NaN     6029.0        NaN     461.0          0.150000  \n459  HERB000645        NaN     4491.0        NaN       NaN          0.150000  \n460  HERB001874  SMHB00499     6205.0      499.0     271.0          0.150000  \n\n[461 rows x 20 columns]",
      "text/html": "<div>\n<style scoped>\n    .dataframe tbody tr th:only-of-type {\n        vertical-align: middle;\n    }\n\n    .dataframe tbody tr th {\n        vertical-align: top;\n    }\n\n    .dataframe thead th {\n        text-align: right;\n    }\n</style>\n<table border=\"1\" class=\"dataframe\">\n  <thead>\n    <tr style=\"text-align: right;\">\n      <th></th>\n      <th>HVMID</th>\n      <th>cn_name</th>\n      <th>pinyin_name</th>\n      <th>en_name</th>\n      <th>latin_name</th>\n      <th>Properties</th>\n      <th>Meridians</th>\n      <th>UsePart</th>\n      <th>Function</th>\n      <th>Indication</th>\n      <th>Toxicity</th>\n      <th>Clinical_manifestations</th>\n      <th>Therapeutic_en_class</th>\n      <th>Therapeutic_cn_class</th>\n      <th>HERB_id</th>\n      <th>TCMID_id</th>\n      <th>TCM_ID_id</th>\n      <th>SymMap_id</th>\n      <th>TCMSP_id</th>\n      <th>Importance Score</th>\n    </tr>\n  </thead>\n  <tbody>\n    <tr>\n      <th>0</th>\n      <td>HVM2997</td>\n      <td>肉苁蓉</td>\n      <td>ROU CONG RONG</td>\n      <td>Desertliving Cistanche</td>\n      <td>Herba Cistanches</td>\n      <td>Warm; Sweet; Salty</td>\n      <td>Large Intestine; Kidney</td>\n      <td>fleshy stem</td>\n      <td>To reinforce the kidney, replenish vital essen...</td>\n      <td>Impotence, infertility, backache, limp aching ...</td>\n      <td>NaN</td>\n      <td>1. Hypotensive2. Promoting saliva secretion.</td>\n      <td>Yang Reinforcing Drugs</td>\n      <td>补阳药</td>\n      <td>HERB004692</td>\n      <td>SMHB00338</td>\n      <td>1883.0</td>\n      <td>338.0</td>\n      <td>596.0</td>\n      <td>0.999986</td>\n    </tr>\n    <tr>\n      <th>1</th>\n      <td>HVM3101</td>\n      <td>沙苑子</td>\n      <td>SHA YUAN ZI</td>\n      <td>Flatstem Milkvetch Seed</td>\n      <td>Semen Astragali Complati</td>\n      <td>Sweet; warm</td>\n      <td>Liver; kidney</td>\n      <td>NaN</td>\n      <td>To benefit the liver and the kidney, arrest se...</td>\n      <td>Treatment of back pain, nocturnal emission and...</td>\n      <td>NaN</td>\n      <td>NaN</td>\n      <td>Yang Reinforcing Drugs</td>\n      <td>补阳药</td>\n      <td>HERB004864</td>\n      <td>SMHB00354</td>\n      <td>1702.0</td>\n      <td>354.0</td>\n      <td>1035.0</td>\n      <td>0.999781</td>\n    </tr>\n    <tr>\n      <th>2</th>\n      <td>HVM2859</td>\n      <td>荞麦</td>\n      <td>QIAO MAI</td>\n      <td>Common Buckwheat</td>\n      <td>Fagopyrum esculentum</td>\n      <td>NaN</td>\n      <td>NaN</td>\n      <td>seed</td>\n      <td>To fortify spleen and disperse accumulation, p...</td>\n      <td>Gastrointestinal accumulation, diarrhea, dysen...</td>\n      <td>NaN</td>\n      <td>NaN</td>\n      <td>NaN</td>\n      <td>NaN</td>\n      <td>HERB004488</td>\n      <td>NaN</td>\n      <td>1877.0</td>\n      <td>NaN</td>\n      <td>NaN</td>\n      <td>0.999431</td>\n    </tr>\n    <tr>\n      <th>3</th>\n      <td>HVM4195</td>\n      <td>薏苡仁</td>\n      <td>YI YI REN</td>\n      <td>seed of Jobstears</td>\n      <td>semen coicis</td>\n      <td>Minor cold; Sweet; Neutral</td>\n      <td>Lung; Spleen; Stomach</td>\n      <td>seed</td>\n      <td>1. To transform dampness and promote water met...</td>\n      <td>Edema, beriberi, inhibited urination, damp imp...</td>\n      <td>NaN</td>\n      <td>NaN</td>\n      <td>Diuretic Dampness Excreting Drugs</td>\n      <td>利水渗湿药</td>\n      <td>HERB006568</td>\n      <td>SMHB00458</td>\n      <td>2186.0</td>\n      <td>458.0</td>\n      <td>802.0</td>\n      <td>0.999081</td>\n    </tr>\n    <tr>\n      <th>4</th>\n      <td>HVM3081</td>\n      <td>桑叶</td>\n      <td>SANG YE</td>\n      <td>Mulberry Leaf</td>\n      <td>Folium Mori</td>\n      <td>Cold; Sweet; Bitter</td>\n      <td>Lung; Liver</td>\n      <td>leaf</td>\n      <td>To dispel wind-heat and to remove heat from th...</td>\n      <td>Wind-heat common cold, lung heat dry cough, di...</td>\n      <td>NaN</td>\n      <td>1. Lowering the level of blood sugar in rats w...</td>\n      <td>Pungent Cool Diaphoretics</td>\n      <td>辛凉解表药</td>\n      <td>HERB004834</td>\n      <td>SMHB00351</td>\n      <td>2356.0</td>\n      <td>351.0</td>\n      <td>608.0</td>\n      <td>0.998962</td>\n    </tr>\n    <tr>\n      <th>...</th>\n      <td>...</td>\n      <td>...</td>\n      <td>...</td>\n      <td>...</td>\n      <td>...</td>\n      <td>...</td>\n      <td>...</td>\n      <td>...</td>\n      <td>...</td>\n      <td>...</td>\n      <td>...</td>\n      <td>...</td>\n      <td>...</td>\n      <td>...</td>\n      <td>...</td>\n      <td>...</td>\n      <td>...</td>\n      <td>...</td>\n      <td>...</td>\n      <td>...</td>\n    </tr>\n    <tr>\n      <th>456</th>\n      <td>HVM2674</td>\n      <td>牛胆</td>\n      <td>NIU DAN</td>\n      <td>Ox Gall</td>\n      <td>Bos taurus domesticus, Bubalus bubalis</td>\n      <td>NaN</td>\n      <td>NaN</td>\n      <td>gall</td>\n      <td>To clear liver and brighten eyes, disinhibit g...</td>\n      <td>Wind-heat red eye, jaundice, cough with profus...</td>\n      <td>NaN</td>\n      <td>NaN</td>\n      <td>NaN</td>\n      <td>NaN</td>\n      <td>HERB004194</td>\n      <td>NaN</td>\n      <td>7619.0</td>\n      <td>NaN</td>\n      <td>NaN</td>\n      <td>0.207000</td>\n    </tr>\n    <tr>\n      <th>457</th>\n      <td>HVM1737</td>\n      <td>霍香</td>\n      <td>HUO XIANG</td>\n      <td>Wrinkled Gianthyssop</td>\n      <td>Agastache rugosus</td>\n      <td>Minor Warm; Pungent</td>\n      <td>Lung; Spleen; Stomach</td>\n      <td>aerial parts</td>\n      <td>To dispel summerheat and resolve exterior, har...</td>\n      <td>Summer common cold, cold-heat headache, glomus...</td>\n      <td>NaN</td>\n      <td>NaN</td>\n      <td>For desolving dampness by flavors</td>\n      <td>芳香化湿</td>\n      <td>HERB002644</td>\n      <td>NaN</td>\n      <td>5861.0</td>\n      <td>NaN</td>\n      <td>375.0</td>\n      <td>0.193000</td>\n    </tr>\n    <tr>\n      <th>458</th>\n      <td>HVM2206</td>\n      <td>硫磺</td>\n      <td>LIU HUANG</td>\n      <td>Sulfur</td>\n      <td>Sulfur</td>\n      <td>Warm; Sour</td>\n      <td>Large Intestine; Kidney</td>\n      <td>NaN</td>\n      <td>External use for scabies, favus, chronic sores...</td>\n      <td>1. Sulfur itself is not highly toxic to micro-...</td>\n      <td>Extremely Toxic</td>\n      <td>1. Sulfur itself is not highly toxic to micro-...</td>\n      <td>Toxication reduction, anthelmintic, dampness r...</td>\n      <td>解毒杀虫燥湿止痒</td>\n      <td>HERB003449</td>\n      <td>NaN</td>\n      <td>6029.0</td>\n      <td>NaN</td>\n      <td>461.0</td>\n      <td>0.150000</td>\n    </tr>\n    <tr>\n      <th>459</th>\n      <td>HVM0372</td>\n      <td>蟾蜍</td>\n      <td>CHAN CHU</td>\n      <td>Toad</td>\n      <td>Bufo bufo gargarizans, Bufo melanostictus</td>\n      <td>NaN</td>\n      <td>NaN</td>\n      <td>whole body</td>\n      <td>To resolve toxin and dissipate binds, disperse...</td>\n      <td>Welling abscess and flat abscess, clove sore, ...</td>\n      <td>NaN</td>\n      <td>NaN</td>\n      <td>NaN</td>\n      <td>NaN</td>\n      <td>HERB000645</td>\n      <td>NaN</td>\n      <td>4491.0</td>\n      <td>NaN</td>\n      <td>NaN</td>\n      <td>0.150000</td>\n    </tr>\n    <tr>\n      <th>460</th>\n      <td>HVM1194</td>\n      <td>葛根</td>\n      <td>GE GEN</td>\n      <td>root of lobed kudzuvine</td>\n      <td>Radix Puerariae</td>\n      <td>Cool; Pungent; Sweet</td>\n      <td>Spleen; Stomach</td>\n      <td>tuberoid</td>\n      <td>To relieve fever, to promote the production of...</td>\n      <td>Angina pectoris, hypertension, headache due to...</td>\n      <td>NaN</td>\n      <td>1. Its active component, daidzein, can dilate ...</td>\n      <td>Pungent-Warm Exterior-Releasing Medicinal</td>\n      <td>辛温解表药</td>\n      <td>HERB001874</td>\n      <td>SMHB00499</td>\n      <td>6205.0</td>\n      <td>499.0</td>\n      <td>271.0</td>\n      <td>0.150000</td>\n    </tr>\n  </tbody>\n</table>\n<p>461 rows × 20 columns</p>\n</div>"
     },
     "execution_count": 48,
     "metadata": {},
     "output_type": "execute_result"
    }
   ],
   "source": [
    "tcm"
   ],
   "metadata": {
    "collapsed": false,
    "ExecuteTime": {
     "end_time": "2023-11-03T01:36:59.828273500Z",
     "start_time": "2023-11-03T01:36:59.812032Z"
    }
   }
  },
  {
   "cell_type": "code",
   "execution_count": 49,
   "outputs": [
    {
     "data": {
      "text/plain": "        HVMID    HVCID\n0     HVM0029  HVC0533\n1     HVM0029  HVC0462\n2     HVM0029  HVC0206\n3     HVM0029  HVC0206\n4     HVM0029  HVC0206\n...       ...      ...\n1752  HVM4630  HVC0462\n1753  HVM4630  HVC0298\n1754  HVM4630  HVC0273\n1755  HVM4637  HVC0493\n1756  HVM4637  HVC5478\n\n[1757 rows x 2 columns]",
      "text/html": "<div>\n<style scoped>\n    .dataframe tbody tr th:only-of-type {\n        vertical-align: middle;\n    }\n\n    .dataframe tbody tr th {\n        vertical-align: top;\n    }\n\n    .dataframe thead th {\n        text-align: right;\n    }\n</style>\n<table border=\"1\" class=\"dataframe\">\n  <thead>\n    <tr style=\"text-align: right;\">\n      <th></th>\n      <th>HVMID</th>\n      <th>HVCID</th>\n    </tr>\n  </thead>\n  <tbody>\n    <tr>\n      <th>0</th>\n      <td>HVM0029</td>\n      <td>HVC0533</td>\n    </tr>\n    <tr>\n      <th>1</th>\n      <td>HVM0029</td>\n      <td>HVC0462</td>\n    </tr>\n    <tr>\n      <th>2</th>\n      <td>HVM0029</td>\n      <td>HVC0206</td>\n    </tr>\n    <tr>\n      <th>3</th>\n      <td>HVM0029</td>\n      <td>HVC0206</td>\n    </tr>\n    <tr>\n      <th>4</th>\n      <td>HVM0029</td>\n      <td>HVC0206</td>\n    </tr>\n    <tr>\n      <th>...</th>\n      <td>...</td>\n      <td>...</td>\n    </tr>\n    <tr>\n      <th>1752</th>\n      <td>HVM4630</td>\n      <td>HVC0462</td>\n    </tr>\n    <tr>\n      <th>1753</th>\n      <td>HVM4630</td>\n      <td>HVC0298</td>\n    </tr>\n    <tr>\n      <th>1754</th>\n      <td>HVM4630</td>\n      <td>HVC0273</td>\n    </tr>\n    <tr>\n      <th>1755</th>\n      <td>HVM4637</td>\n      <td>HVC0493</td>\n    </tr>\n    <tr>\n      <th>1756</th>\n      <td>HVM4637</td>\n      <td>HVC5478</td>\n    </tr>\n  </tbody>\n</table>\n<p>1757 rows × 2 columns</p>\n</div>"
     },
     "execution_count": 49,
     "metadata": {},
     "output_type": "execute_result"
    }
   ],
   "source": [
    "tcm_chem_links"
   ],
   "metadata": {
    "collapsed": false,
    "ExecuteTime": {
     "end_time": "2023-11-03T01:37:01.466501500Z",
     "start_time": "2023-11-03T01:37:01.425066200Z"
    }
   }
  },
  {
   "cell_type": "code",
   "execution_count": 50,
   "outputs": [
    {
     "data": {
      "text/plain": "       HVCID                 Name  \\\n0    HVC0022  5-hydroxytryptophan   \n1    HVC0025              acetate   \n2    HVC0026         acetaldehyde   \n3    HVC0029              acetone   \n4    HVC0031        acetylcholine   \n..       ...                  ...   \n146  HVC5535              wogonin   \n147  HVC5622            casuariin   \n148  HVC6092      ganglioside GM1   \n149  HVC6114              melanin   \n150  HVC6130             selenium   \n\n                                                SMILES     CAS_id  \\\n0                    C1=CC2=C(C=C1O)C(=CN2)CC(C(=O)O)N        NaN   \n1                                           CC(=O)[O-]        NaN   \n2                                                 CC=O    75-07-0   \n3                                              CC(=O)C        NaN   \n4                                 CC(=O)OCC[N+](C)(C)C    51-84-3   \n..                                                 ...        ...   \n146          COC1=C(C=C(C2=C1OC(=CC2=O)C3=CC=CC=C3)O)O   632-85-9   \n147  C1C(C(OC(=O)C2=CC(=C(C(=C2C3=C(C(=C(C=C3C(=O)O...        NaN   \n148  CCCCCCCCCCCCCCCCCC(=O)NC(COC1C(C(C(C(O1)CO)OC2...        NaN   \n149  CC1=C2C3=C(C4=CNC5=C(C(=O)C(=O)C(=C45)C3=CN2)C...  8049-97-6   \n150                                               [Se]        NaN   \n\n      PubChem_id DrugBank_id     STITCH_id     HERB_id  Importance Score  \n0       439280.0         NaN  CIDm00000144  HBIN011695           0.25600  \n1          175.0         NaN  CIDm00000175  HBIN014391           0.52100  \n2          177.0         NaN  CIDm00000177  HBIN014388           0.52100  \n3          180.0         NaN  CIDm00000180  HBIN014420           0.39000  \n4          187.0         NaN  CIDm00000187  HBIN014467           0.40108  \n..           ...         ...           ...         ...               ...  \n146    5281703.0         NaN  CIDm05281703  HBIN048372           0.25600  \n147  100927666.0         NaN  CIDm05315735  HBIN011516           0.24800  \n148          NaN         NaN  CIDm05497107  HBIN027198           0.25600  \n149    6325610.0         NaN  CIDm06325610  HBIN034656           0.25600  \n150    6326970.0         NaN  CIDm06326970  HBIN043546           0.15000  \n\n[151 rows x 9 columns]",
      "text/html": "<div>\n<style scoped>\n    .dataframe tbody tr th:only-of-type {\n        vertical-align: middle;\n    }\n\n    .dataframe tbody tr th {\n        vertical-align: top;\n    }\n\n    .dataframe thead th {\n        text-align: right;\n    }\n</style>\n<table border=\"1\" class=\"dataframe\">\n  <thead>\n    <tr style=\"text-align: right;\">\n      <th></th>\n      <th>HVCID</th>\n      <th>Name</th>\n      <th>SMILES</th>\n      <th>CAS_id</th>\n      <th>PubChem_id</th>\n      <th>DrugBank_id</th>\n      <th>STITCH_id</th>\n      <th>HERB_id</th>\n      <th>Importance Score</th>\n    </tr>\n  </thead>\n  <tbody>\n    <tr>\n      <th>0</th>\n      <td>HVC0022</td>\n      <td>5-hydroxytryptophan</td>\n      <td>C1=CC2=C(C=C1O)C(=CN2)CC(C(=O)O)N</td>\n      <td>NaN</td>\n      <td>439280.0</td>\n      <td>NaN</td>\n      <td>CIDm00000144</td>\n      <td>HBIN011695</td>\n      <td>0.25600</td>\n    </tr>\n    <tr>\n      <th>1</th>\n      <td>HVC0025</td>\n      <td>acetate</td>\n      <td>CC(=O)[O-]</td>\n      <td>NaN</td>\n      <td>175.0</td>\n      <td>NaN</td>\n      <td>CIDm00000175</td>\n      <td>HBIN014391</td>\n      <td>0.52100</td>\n    </tr>\n    <tr>\n      <th>2</th>\n      <td>HVC0026</td>\n      <td>acetaldehyde</td>\n      <td>CC=O</td>\n      <td>75-07-0</td>\n      <td>177.0</td>\n      <td>NaN</td>\n      <td>CIDm00000177</td>\n      <td>HBIN014388</td>\n      <td>0.52100</td>\n    </tr>\n    <tr>\n      <th>3</th>\n      <td>HVC0029</td>\n      <td>acetone</td>\n      <td>CC(=O)C</td>\n      <td>NaN</td>\n      <td>180.0</td>\n      <td>NaN</td>\n      <td>CIDm00000180</td>\n      <td>HBIN014420</td>\n      <td>0.39000</td>\n    </tr>\n    <tr>\n      <th>4</th>\n      <td>HVC0031</td>\n      <td>acetylcholine</td>\n      <td>CC(=O)OCC[N+](C)(C)C</td>\n      <td>51-84-3</td>\n      <td>187.0</td>\n      <td>NaN</td>\n      <td>CIDm00000187</td>\n      <td>HBIN014467</td>\n      <td>0.40108</td>\n    </tr>\n    <tr>\n      <th>...</th>\n      <td>...</td>\n      <td>...</td>\n      <td>...</td>\n      <td>...</td>\n      <td>...</td>\n      <td>...</td>\n      <td>...</td>\n      <td>...</td>\n      <td>...</td>\n    </tr>\n    <tr>\n      <th>146</th>\n      <td>HVC5535</td>\n      <td>wogonin</td>\n      <td>COC1=C(C=C(C2=C1OC(=CC2=O)C3=CC=CC=C3)O)O</td>\n      <td>632-85-9</td>\n      <td>5281703.0</td>\n      <td>NaN</td>\n      <td>CIDm05281703</td>\n      <td>HBIN048372</td>\n      <td>0.25600</td>\n    </tr>\n    <tr>\n      <th>147</th>\n      <td>HVC5622</td>\n      <td>casuariin</td>\n      <td>C1C(C(OC(=O)C2=CC(=C(C(=C2C3=C(C(=C(C=C3C(=O)O...</td>\n      <td>NaN</td>\n      <td>100927666.0</td>\n      <td>NaN</td>\n      <td>CIDm05315735</td>\n      <td>HBIN011516</td>\n      <td>0.24800</td>\n    </tr>\n    <tr>\n      <th>148</th>\n      <td>HVC6092</td>\n      <td>ganglioside GM1</td>\n      <td>CCCCCCCCCCCCCCCCCC(=O)NC(COC1C(C(C(C(O1)CO)OC2...</td>\n      <td>NaN</td>\n      <td>NaN</td>\n      <td>NaN</td>\n      <td>CIDm05497107</td>\n      <td>HBIN027198</td>\n      <td>0.25600</td>\n    </tr>\n    <tr>\n      <th>149</th>\n      <td>HVC6114</td>\n      <td>melanin</td>\n      <td>CC1=C2C3=C(C4=CNC5=C(C(=O)C(=O)C(=C45)C3=CN2)C...</td>\n      <td>8049-97-6</td>\n      <td>6325610.0</td>\n      <td>NaN</td>\n      <td>CIDm06325610</td>\n      <td>HBIN034656</td>\n      <td>0.25600</td>\n    </tr>\n    <tr>\n      <th>150</th>\n      <td>HVC6130</td>\n      <td>selenium</td>\n      <td>[Se]</td>\n      <td>NaN</td>\n      <td>6326970.0</td>\n      <td>NaN</td>\n      <td>CIDm06326970</td>\n      <td>HBIN043546</td>\n      <td>0.15000</td>\n    </tr>\n  </tbody>\n</table>\n<p>151 rows × 9 columns</p>\n</div>"
     },
     "execution_count": 50,
     "metadata": {},
     "output_type": "execute_result"
    }
   ],
   "source": [
    "chem"
   ],
   "metadata": {
    "collapsed": false,
    "ExecuteTime": {
     "end_time": "2023-11-03T01:37:03.118726900Z",
     "start_time": "2023-11-03T01:37:03.085248900Z"
    }
   }
  },
  {
   "cell_type": "code",
   "execution_count": 51,
   "outputs": [
    {
     "data": {
      "text/plain": "       HVCID       Ensembl_ID  Combined_score\n0    HVC6130  ENSP00000381588           0.150\n1    HVC6114  ENSP00000381588           0.256\n2    HVC6092  ENSP00000381588           0.256\n3    HVC5622  ENSP00000381588           0.248\n4    HVC5535  ENSP00000381588           0.256\n..       ...              ...             ...\n149  HVC0031  ENSP00000381588           0.256\n150  HVC0029  ENSP00000381588           0.390\n151  HVC0026  ENSP00000381588           0.521\n152  HVC0025  ENSP00000381588           0.521\n153  HVC0022  ENSP00000381588           0.256\n\n[154 rows x 3 columns]",
      "text/html": "<div>\n<style scoped>\n    .dataframe tbody tr th:only-of-type {\n        vertical-align: middle;\n    }\n\n    .dataframe tbody tr th {\n        vertical-align: top;\n    }\n\n    .dataframe thead th {\n        text-align: right;\n    }\n</style>\n<table border=\"1\" class=\"dataframe\">\n  <thead>\n    <tr style=\"text-align: right;\">\n      <th></th>\n      <th>HVCID</th>\n      <th>Ensembl_ID</th>\n      <th>Combined_score</th>\n    </tr>\n  </thead>\n  <tbody>\n    <tr>\n      <th>0</th>\n      <td>HVC6130</td>\n      <td>ENSP00000381588</td>\n      <td>0.150</td>\n    </tr>\n    <tr>\n      <th>1</th>\n      <td>HVC6114</td>\n      <td>ENSP00000381588</td>\n      <td>0.256</td>\n    </tr>\n    <tr>\n      <th>2</th>\n      <td>HVC6092</td>\n      <td>ENSP00000381588</td>\n      <td>0.256</td>\n    </tr>\n    <tr>\n      <th>3</th>\n      <td>HVC5622</td>\n      <td>ENSP00000381588</td>\n      <td>0.248</td>\n    </tr>\n    <tr>\n      <th>4</th>\n      <td>HVC5535</td>\n      <td>ENSP00000381588</td>\n      <td>0.256</td>\n    </tr>\n    <tr>\n      <th>...</th>\n      <td>...</td>\n      <td>...</td>\n      <td>...</td>\n    </tr>\n    <tr>\n      <th>149</th>\n      <td>HVC0031</td>\n      <td>ENSP00000381588</td>\n      <td>0.256</td>\n    </tr>\n    <tr>\n      <th>150</th>\n      <td>HVC0029</td>\n      <td>ENSP00000381588</td>\n      <td>0.390</td>\n    </tr>\n    <tr>\n      <th>151</th>\n      <td>HVC0026</td>\n      <td>ENSP00000381588</td>\n      <td>0.521</td>\n    </tr>\n    <tr>\n      <th>152</th>\n      <td>HVC0025</td>\n      <td>ENSP00000381588</td>\n      <td>0.521</td>\n    </tr>\n    <tr>\n      <th>153</th>\n      <td>HVC0022</td>\n      <td>ENSP00000381588</td>\n      <td>0.256</td>\n    </tr>\n  </tbody>\n</table>\n<p>154 rows × 3 columns</p>\n</div>"
     },
     "execution_count": 51,
     "metadata": {},
     "output_type": "execute_result"
    }
   ],
   "source": [
    "chem_protein_links"
   ],
   "metadata": {
    "collapsed": false,
    "ExecuteTime": {
     "end_time": "2023-11-03T01:37:05.263914300Z",
     "start_time": "2023-11-03T01:37:05.222419700Z"
    }
   }
  },
  {
   "cell_type": "code",
   "execution_count": 52,
   "outputs": [
    {
     "data": {
      "text/plain": "        Ensembl_ID protein_name gene_name\n0  ENSP00000381588          NaN   TMPRSS2\n1  ENSP00000252519          NaN      ACE2",
      "text/html": "<div>\n<style scoped>\n    .dataframe tbody tr th:only-of-type {\n        vertical-align: middle;\n    }\n\n    .dataframe tbody tr th {\n        vertical-align: top;\n    }\n\n    .dataframe thead th {\n        text-align: right;\n    }\n</style>\n<table border=\"1\" class=\"dataframe\">\n  <thead>\n    <tr style=\"text-align: right;\">\n      <th></th>\n      <th>Ensembl_ID</th>\n      <th>protein_name</th>\n      <th>gene_name</th>\n    </tr>\n  </thead>\n  <tbody>\n    <tr>\n      <th>0</th>\n      <td>ENSP00000381588</td>\n      <td>NaN</td>\n      <td>TMPRSS2</td>\n    </tr>\n    <tr>\n      <th>1</th>\n      <td>ENSP00000252519</td>\n      <td>NaN</td>\n      <td>ACE2</td>\n    </tr>\n  </tbody>\n</table>\n</div>"
     },
     "execution_count": 52,
     "metadata": {},
     "output_type": "execute_result"
    }
   ],
   "source": [
    "proteins"
   ],
   "metadata": {
    "collapsed": false,
    "ExecuteTime": {
     "end_time": "2023-11-03T01:37:07.721485300Z",
     "start_time": "2023-11-03T01:37:07.714876900Z"
    }
   }
  },
  {
   "cell_type": "code",
   "execution_count": null,
   "outputs": [],
   "source": [],
   "metadata": {
    "collapsed": false
   }
  }
 ],
 "metadata": {
  "kernelspec": {
   "display_name": "Python 3",
   "language": "python",
   "name": "python3"
  },
  "language_info": {
   "codemirror_mode": {
    "name": "ipython",
    "version": 2
   },
   "file_extension": ".py",
   "mimetype": "text/x-python",
   "name": "python",
   "nbconvert_exporter": "python",
   "pygments_lexer": "ipython2",
   "version": "2.7.6"
  }
 },
 "nbformat": 4,
 "nbformat_minor": 0
}
