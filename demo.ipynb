{
 "cells": [
  {
   "cell_type": "code",
   "execution_count": 1,
   "outputs": [],
   "source": [
    "from herbiv import analysis"
   ],
   "metadata": {
    "collapsed": false,
    "ExecuteTime": {
     "end_time": "2023-06-05T09:21:33.052048400Z",
     "start_time": "2023-06-05T09:21:32.053967100Z"
    }
   }
  },
  {
   "cell_type": "markdown",
   "source": [
    "# 经典的正向网络药理学分析"
   ],
   "metadata": {
    "collapsed": false
   }
  },
  {
   "cell_type": "markdown",
   "source": [
    "## 对中药的分析"
   ],
   "metadata": {
    "collapsed": false
   }
  },
  {
   "cell_type": "code",
   "execution_count": 2,
   "outputs": [],
   "source": [
    "tcm, tcm_chem_links, chem, chem_protein_links, proteins = analysis.from_tcm_or_formula(['HVM0367', 'HVM1695'])"
   ],
   "metadata": {
    "collapsed": false,
    "ExecuteTime": {
     "end_time": "2023-06-05T09:21:40.612294800Z",
     "start_time": "2023-06-05T09:21:35.729186200Z"
    }
   }
  },
  {
   "cell_type": "code",
   "execution_count": 3,
   "outputs": [
    {
     "data": {
      "text/plain": "     HVMID cn_name pinyin_name                   en_name          latin_name  \\\n0  HVM0367      柴胡     CHAI HU  root of Chinese Thorowax      Radix Bupleuri   \n1  HVM1695      黄芩   HUANG QIN   root of Baikal skullcap  Radix Scutellariae   \n\n                    Properties  \\\n0  Minor cold; Pungent; Bitter   \n1                 Cold; Bitter   \n\n                                           Meridians UsePart  \\\n0                                 Liver; Gallbladder    root   \n1  Lung; Large Intestine; Stomach; Small Intestin...    root   \n\n                                            Function  \\\n0  To relieve fever, to soothe the liver, and to ...   \n1  To remove damp-heat, to quench fire and counte...   \n\n                                          Indication Toxicity  \\\n0  Common cold, influenza, malaria, acute pancrea...      NaN   \n1  Chest oppression with retching, diarrhea, jaun...      NaN   \n\n                             Clinical_manifestations  \\\n0  1. Increasing the hypotic effect of barbital i...   \n1  1. Possessing a broad-spectrum bacteriostatic ...   \n\n                         Therapeutic_en_class Therapeutic_cn_class  \\\n0                   Pungent Cool Diaphoretics                辛凉解表药   \n1  Heat-Clearing And Dampnessdrying Medicinal                清热燥湿药   \n\n      HERB_id   TCMID_id  TCM_ID_id  SymMap_id  TCMSP_id  Importance Score  \n0  HERB000638  SMHB00058     3396.0       58.0      80.0               1.0  \n1  HERB002563  SMHB00188     6700.0      188.0     371.0               1.0  ",
      "text/html": "<div>\n<style scoped>\n    .dataframe tbody tr th:only-of-type {\n        vertical-align: middle;\n    }\n\n    .dataframe tbody tr th {\n        vertical-align: top;\n    }\n\n    .dataframe thead th {\n        text-align: right;\n    }\n</style>\n<table border=\"1\" class=\"dataframe\">\n  <thead>\n    <tr style=\"text-align: right;\">\n      <th></th>\n      <th>HVMID</th>\n      <th>cn_name</th>\n      <th>pinyin_name</th>\n      <th>en_name</th>\n      <th>latin_name</th>\n      <th>Properties</th>\n      <th>Meridians</th>\n      <th>UsePart</th>\n      <th>Function</th>\n      <th>Indication</th>\n      <th>Toxicity</th>\n      <th>Clinical_manifestations</th>\n      <th>Therapeutic_en_class</th>\n      <th>Therapeutic_cn_class</th>\n      <th>HERB_id</th>\n      <th>TCMID_id</th>\n      <th>TCM_ID_id</th>\n      <th>SymMap_id</th>\n      <th>TCMSP_id</th>\n      <th>Importance Score</th>\n    </tr>\n  </thead>\n  <tbody>\n    <tr>\n      <th>0</th>\n      <td>HVM0367</td>\n      <td>柴胡</td>\n      <td>CHAI HU</td>\n      <td>root of Chinese Thorowax</td>\n      <td>Radix Bupleuri</td>\n      <td>Minor cold; Pungent; Bitter</td>\n      <td>Liver; Gallbladder</td>\n      <td>root</td>\n      <td>To relieve fever, to soothe the liver, and to ...</td>\n      <td>Common cold, influenza, malaria, acute pancrea...</td>\n      <td>NaN</td>\n      <td>1. Increasing the hypotic effect of barbital i...</td>\n      <td>Pungent Cool Diaphoretics</td>\n      <td>辛凉解表药</td>\n      <td>HERB000638</td>\n      <td>SMHB00058</td>\n      <td>3396.0</td>\n      <td>58.0</td>\n      <td>80.0</td>\n      <td>1.0</td>\n    </tr>\n    <tr>\n      <th>1</th>\n      <td>HVM1695</td>\n      <td>黄芩</td>\n      <td>HUANG QIN</td>\n      <td>root of Baikal skullcap</td>\n      <td>Radix Scutellariae</td>\n      <td>Cold; Bitter</td>\n      <td>Lung; Large Intestine; Stomach; Small Intestin...</td>\n      <td>root</td>\n      <td>To remove damp-heat, to quench fire and counte...</td>\n      <td>Chest oppression with retching, diarrhea, jaun...</td>\n      <td>NaN</td>\n      <td>1. Possessing a broad-spectrum bacteriostatic ...</td>\n      <td>Heat-Clearing And Dampnessdrying Medicinal</td>\n      <td>清热燥湿药</td>\n      <td>HERB002563</td>\n      <td>SMHB00188</td>\n      <td>6700.0</td>\n      <td>188.0</td>\n      <td>371.0</td>\n      <td>1.0</td>\n    </tr>\n  </tbody>\n</table>\n</div>"
     },
     "execution_count": 3,
     "metadata": {},
     "output_type": "execute_result"
    }
   ],
   "source": [
    "tcm"
   ],
   "metadata": {
    "collapsed": false,
    "ExecuteTime": {
     "end_time": "2023-06-05T09:21:40.680293400Z",
     "start_time": "2023-06-05T09:21:40.618332300Z"
    }
   }
  },
  {
   "cell_type": "code",
   "execution_count": 4,
   "outputs": [
    {
     "data": {
      "text/plain": "        HVMID             HVCID\n0     CHAI HU           uridine\n1     CHAI HU       1,8-cineole\n2     CHAI HU  palmitoleic acid\n3     CHAI HU           xylitol\n4     CHAI HU    D-()-arabinose\n..        ...               ...\n83  HUANG QIN        sitosterol\n84  HUANG QIN      stearic acid\n85  HUANG QIN           sucrose\n86  HUANG QIN          squalene\n87  HUANG QIN           tyrosol\n\n[88 rows x 2 columns]",
      "text/html": "<div>\n<style scoped>\n    .dataframe tbody tr th:only-of-type {\n        vertical-align: middle;\n    }\n\n    .dataframe tbody tr th {\n        vertical-align: top;\n    }\n\n    .dataframe thead th {\n        text-align: right;\n    }\n</style>\n<table border=\"1\" class=\"dataframe\">\n  <thead>\n    <tr style=\"text-align: right;\">\n      <th></th>\n      <th>HVMID</th>\n      <th>HVCID</th>\n    </tr>\n  </thead>\n  <tbody>\n    <tr>\n      <th>0</th>\n      <td>CHAI HU</td>\n      <td>uridine</td>\n    </tr>\n    <tr>\n      <th>1</th>\n      <td>CHAI HU</td>\n      <td>1,8-cineole</td>\n    </tr>\n    <tr>\n      <th>2</th>\n      <td>CHAI HU</td>\n      <td>palmitoleic acid</td>\n    </tr>\n    <tr>\n      <th>3</th>\n      <td>CHAI HU</td>\n      <td>xylitol</td>\n    </tr>\n    <tr>\n      <th>4</th>\n      <td>CHAI HU</td>\n      <td>D-()-arabinose</td>\n    </tr>\n    <tr>\n      <th>...</th>\n      <td>...</td>\n      <td>...</td>\n    </tr>\n    <tr>\n      <th>83</th>\n      <td>HUANG QIN</td>\n      <td>sitosterol</td>\n    </tr>\n    <tr>\n      <th>84</th>\n      <td>HUANG QIN</td>\n      <td>stearic acid</td>\n    </tr>\n    <tr>\n      <th>85</th>\n      <td>HUANG QIN</td>\n      <td>sucrose</td>\n    </tr>\n    <tr>\n      <th>86</th>\n      <td>HUANG QIN</td>\n      <td>squalene</td>\n    </tr>\n    <tr>\n      <th>87</th>\n      <td>HUANG QIN</td>\n      <td>tyrosol</td>\n    </tr>\n  </tbody>\n</table>\n<p>88 rows × 2 columns</p>\n</div>"
     },
     "execution_count": 4,
     "metadata": {},
     "output_type": "execute_result"
    }
   ],
   "source": [
    "tcm_chem_links"
   ],
   "metadata": {
    "collapsed": false,
    "ExecuteTime": {
     "end_time": "2023-05-30T02:14:21.621916800Z",
     "start_time": "2023-05-30T02:14:21.492009900Z"
    }
   }
  },
  {
   "cell_type": "code",
   "execution_count": 5,
   "outputs": [
    {
     "data": {
      "text/plain": "      HVCID          Name                                             SMILES  \\\n0   HVC0036       glucose                           C(C1C(C(C(C(O1)O)O)O)O)O   \n1   HVC0052   anti-biotin                     C1C2C(C(S1)CCCCC(=O)O)NC(=O)N2   \n2   HVC0071      coumarin                           C1=CC=C2C(=C1)C=CC(=O)O2   \n3   HVC0081         octyl                                           CCCCCCCC   \n4   HVC0087     octanoate                                      CCCCCCCC(=O)O   \n..      ...           ...                                                ...   \n56  HVC5478         rutin  CC1C(C(C(C(O1)OCC2C(C(C(C(O2)OC3=C(OC4=CC(=CC(...   \n57  HVC5480    kaempferol      C1=CC(=CC=C1C2=C(C(=O)C3=C(C=C(C=C3O2)O)O)O)O   \n58  HVC5493       chrysin          C1=CC=C(C=C1)C2=CC(=O)C3=C(C=C(C=C3O2)O)O   \n59  HVC5512  isorhamnetin  COC1=C(C=CC(=C1)C2=C(C(=O)C3=C(C=C(C=C3O2)O)O)O)O   \n60  HVC5547      puerarin  C1=CC(=CC=C1C2=COC3=C(C2=O)C=CC(=C3C4C(C(C(C(O...   \n\n        CAS_id  PubChem_id DrugBank_id     STITCH_id     HERB_id  \\\n0          NaN         NaN         NaN  CIDm00000206  HBIN001003   \n1   22879-79-4         NaN         NaN  CIDm00000253  HBIN011003   \n2          NaN         NaN         NaN  CIDm00000323  HBIN021605   \n3     111-65-9       356.0         NaN  CIDm00000356  HBIN037187   \n4   68937-74-6       379.0         NaN  CIDm00000379  HBIN019688   \n..         ...         ...         ...           ...         ...   \n56  18834-75-8  10371536.0         NaN  CIDm05280805  HBIN018533   \n57         NaN   5280863.0         NaN  CIDm05280863  HBIN019495   \n58         NaN   5281607.0         NaN  CIDm05281607  HBIN011307   \n59         NaN   5281654.0         NaN  CIDm05281654  HBIN008965   \n60         NaN   5281807.0         NaN  CIDm05281807  HBIN032003   \n\n    Importance Score  \n0           1.000000  \n1           1.000000  \n2           1.000000  \n3           0.998194  \n4           1.000000  \n..               ...  \n56          0.962000  \n57          0.999639  \n58          0.931000  \n59          0.994104  \n60          0.976000  \n\n[61 rows x 9 columns]",
      "text/html": "<div>\n<style scoped>\n    .dataframe tbody tr th:only-of-type {\n        vertical-align: middle;\n    }\n\n    .dataframe tbody tr th {\n        vertical-align: top;\n    }\n\n    .dataframe thead th {\n        text-align: right;\n    }\n</style>\n<table border=\"1\" class=\"dataframe\">\n  <thead>\n    <tr style=\"text-align: right;\">\n      <th></th>\n      <th>HVCID</th>\n      <th>Name</th>\n      <th>SMILES</th>\n      <th>CAS_id</th>\n      <th>PubChem_id</th>\n      <th>DrugBank_id</th>\n      <th>STITCH_id</th>\n      <th>HERB_id</th>\n      <th>Importance Score</th>\n    </tr>\n  </thead>\n  <tbody>\n    <tr>\n      <th>0</th>\n      <td>HVC0036</td>\n      <td>glucose</td>\n      <td>C(C1C(C(C(C(O1)O)O)O)O)O</td>\n      <td>NaN</td>\n      <td>NaN</td>\n      <td>NaN</td>\n      <td>CIDm00000206</td>\n      <td>HBIN001003</td>\n      <td>1.000000</td>\n    </tr>\n    <tr>\n      <th>1</th>\n      <td>HVC0052</td>\n      <td>anti-biotin</td>\n      <td>C1C2C(C(S1)CCCCC(=O)O)NC(=O)N2</td>\n      <td>22879-79-4</td>\n      <td>NaN</td>\n      <td>NaN</td>\n      <td>CIDm00000253</td>\n      <td>HBIN011003</td>\n      <td>1.000000</td>\n    </tr>\n    <tr>\n      <th>2</th>\n      <td>HVC0071</td>\n      <td>coumarin</td>\n      <td>C1=CC=C2C(=C1)C=CC(=O)O2</td>\n      <td>NaN</td>\n      <td>NaN</td>\n      <td>NaN</td>\n      <td>CIDm00000323</td>\n      <td>HBIN021605</td>\n      <td>1.000000</td>\n    </tr>\n    <tr>\n      <th>3</th>\n      <td>HVC0081</td>\n      <td>octyl</td>\n      <td>CCCCCCCC</td>\n      <td>111-65-9</td>\n      <td>356.0</td>\n      <td>NaN</td>\n      <td>CIDm00000356</td>\n      <td>HBIN037187</td>\n      <td>0.998194</td>\n    </tr>\n    <tr>\n      <th>4</th>\n      <td>HVC0087</td>\n      <td>octanoate</td>\n      <td>CCCCCCCC(=O)O</td>\n      <td>68937-74-6</td>\n      <td>379.0</td>\n      <td>NaN</td>\n      <td>CIDm00000379</td>\n      <td>HBIN019688</td>\n      <td>1.000000</td>\n    </tr>\n    <tr>\n      <th>...</th>\n      <td>...</td>\n      <td>...</td>\n      <td>...</td>\n      <td>...</td>\n      <td>...</td>\n      <td>...</td>\n      <td>...</td>\n      <td>...</td>\n      <td>...</td>\n    </tr>\n    <tr>\n      <th>56</th>\n      <td>HVC5478</td>\n      <td>rutin</td>\n      <td>CC1C(C(C(C(O1)OCC2C(C(C(C(O2)OC3=C(OC4=CC(=CC(...</td>\n      <td>18834-75-8</td>\n      <td>10371536.0</td>\n      <td>NaN</td>\n      <td>CIDm05280805</td>\n      <td>HBIN018533</td>\n      <td>0.962000</td>\n    </tr>\n    <tr>\n      <th>57</th>\n      <td>HVC5480</td>\n      <td>kaempferol</td>\n      <td>C1=CC(=CC=C1C2=C(C(=O)C3=C(C=C(C=C3O2)O)O)O)O</td>\n      <td>NaN</td>\n      <td>5280863.0</td>\n      <td>NaN</td>\n      <td>CIDm05280863</td>\n      <td>HBIN019495</td>\n      <td>0.999639</td>\n    </tr>\n    <tr>\n      <th>58</th>\n      <td>HVC5493</td>\n      <td>chrysin</td>\n      <td>C1=CC=C(C=C1)C2=CC(=O)C3=C(C=C(C=C3O2)O)O</td>\n      <td>NaN</td>\n      <td>5281607.0</td>\n      <td>NaN</td>\n      <td>CIDm05281607</td>\n      <td>HBIN011307</td>\n      <td>0.931000</td>\n    </tr>\n    <tr>\n      <th>59</th>\n      <td>HVC5512</td>\n      <td>isorhamnetin</td>\n      <td>COC1=C(C=CC(=C1)C2=C(C(=O)C3=C(C=C(C=C3O2)O)O)O)O</td>\n      <td>NaN</td>\n      <td>5281654.0</td>\n      <td>NaN</td>\n      <td>CIDm05281654</td>\n      <td>HBIN008965</td>\n      <td>0.994104</td>\n    </tr>\n    <tr>\n      <th>60</th>\n      <td>HVC5547</td>\n      <td>puerarin</td>\n      <td>C1=CC(=CC=C1C2=COC3=C(C2=O)C=CC(=C3C4C(C(C(C(O...</td>\n      <td>NaN</td>\n      <td>5281807.0</td>\n      <td>NaN</td>\n      <td>CIDm05281807</td>\n      <td>HBIN032003</td>\n      <td>0.976000</td>\n    </tr>\n  </tbody>\n</table>\n<p>61 rows × 9 columns</p>\n</div>"
     },
     "execution_count": 5,
     "metadata": {},
     "output_type": "execute_result"
    }
   ],
   "source": [
    "chem"
   ],
   "metadata": {
    "collapsed": false,
    "ExecuteTime": {
     "end_time": "2023-05-30T02:14:21.744554800Z",
     "start_time": "2023-05-30T02:14:21.527106600Z"
    }
   }
  },
  {
   "cell_type": "code",
   "execution_count": 6,
   "outputs": [
    {
     "data": {
      "text/plain": "             HVCID Ensembl_ID  Combined_score\n0          glucose       NOS3           0.976\n1          glucose        NaN           0.933\n2          glucose     CYP1A1           0.912\n3          glucose        NaN           0.931\n4          glucose     UGT3A1           0.906\n...            ...        ...             ...\n2361    kaempferol       LDLR           0.962\n2362       chrysin      NUP88           0.900\n2363  isorhamnetin        NaN           0.927\n2364  isorhamnetin        NaN           0.913\n2365      puerarin        NaN           0.986\n\n[2366 rows x 3 columns]",
      "text/html": "<div>\n<style scoped>\n    .dataframe tbody tr th:only-of-type {\n        vertical-align: middle;\n    }\n\n    .dataframe tbody tr th {\n        vertical-align: top;\n    }\n\n    .dataframe thead th {\n        text-align: right;\n    }\n</style>\n<table border=\"1\" class=\"dataframe\">\n  <thead>\n    <tr style=\"text-align: right;\">\n      <th></th>\n      <th>HVCID</th>\n      <th>Ensembl_ID</th>\n      <th>Combined_score</th>\n    </tr>\n  </thead>\n  <tbody>\n    <tr>\n      <th>0</th>\n      <td>glucose</td>\n      <td>NOS3</td>\n      <td>0.976</td>\n    </tr>\n    <tr>\n      <th>1</th>\n      <td>glucose</td>\n      <td>NaN</td>\n      <td>0.933</td>\n    </tr>\n    <tr>\n      <th>2</th>\n      <td>glucose</td>\n      <td>CYP1A1</td>\n      <td>0.912</td>\n    </tr>\n    <tr>\n      <th>3</th>\n      <td>glucose</td>\n      <td>NaN</td>\n      <td>0.931</td>\n    </tr>\n    <tr>\n      <th>4</th>\n      <td>glucose</td>\n      <td>UGT3A1</td>\n      <td>0.906</td>\n    </tr>\n    <tr>\n      <th>...</th>\n      <td>...</td>\n      <td>...</td>\n      <td>...</td>\n    </tr>\n    <tr>\n      <th>2361</th>\n      <td>kaempferol</td>\n      <td>LDLR</td>\n      <td>0.962</td>\n    </tr>\n    <tr>\n      <th>2362</th>\n      <td>chrysin</td>\n      <td>NUP88</td>\n      <td>0.900</td>\n    </tr>\n    <tr>\n      <th>2363</th>\n      <td>isorhamnetin</td>\n      <td>NaN</td>\n      <td>0.927</td>\n    </tr>\n    <tr>\n      <th>2364</th>\n      <td>isorhamnetin</td>\n      <td>NaN</td>\n      <td>0.913</td>\n    </tr>\n    <tr>\n      <th>2365</th>\n      <td>puerarin</td>\n      <td>NaN</td>\n      <td>0.986</td>\n    </tr>\n  </tbody>\n</table>\n<p>2366 rows × 3 columns</p>\n</div>"
     },
     "execution_count": 6,
     "metadata": {},
     "output_type": "execute_result"
    }
   ],
   "source": [
    "chem_protein_links"
   ],
   "metadata": {
    "collapsed": false,
    "ExecuteTime": {
     "end_time": "2023-05-30T02:14:21.751594800Z",
     "start_time": "2023-05-30T02:14:21.569914800Z"
    }
   }
  },
  {
   "cell_type": "code",
   "execution_count": 7,
   "outputs": [
    {
     "data": {
      "text/plain": "          Ensembl_ID                                       protein_name  \\\n0    ENSP00000014930                    Heme-binding protein 1 (p22HBP)   \n1    ENSP00000043402  Reticulon-4 receptor (Nogo receptor) (NgR) (No...   \n2    ENSP00000044462  Proteasome subunit alpha type-4 (Macropain sub...   \n3    ENSP00000075120  Solute carrier family 2, facilitated glucose t...   \n4    ENSP00000078429  Guanine nucleotide-binding protein subunit alp...   \n..               ...                                                ...   \n841  ENSP00000454071    Low-density lipoprotein receptor (LDL receptor)   \n842  ENSP00000458954  Nuclear pore complex protein Nup88 (88 kDa nuc...   \n843  ENSP00000459962  Transient receptor potential cation channel su...   \n844  ENSP00000466933  Sphingosine 1-phosphate receptor 2 (S1P recept...   \n845  ENSP00000468633  Signal peptidase complex catalytic subunit SEC...   \n\n                       gene_name  \n0                      HEBP1 HBP  \n1      RTN4R NOGOR UNQ330/PRO526  \n2                 PSMA4 HC9 PSC9  \n3                   SLC2A3 GLUT3  \n4                     GNA11 GA11  \n..                           ...  \n841                         LDLR  \n842                        NUP88  \n843                    TRPV1 VR1  \n844                   S1PR2 EDG5  \n845  SEC11C SEC11L3 SPC21 SPCS4C  \n\n[846 rows x 3 columns]",
      "text/html": "<div>\n<style scoped>\n    .dataframe tbody tr th:only-of-type {\n        vertical-align: middle;\n    }\n\n    .dataframe tbody tr th {\n        vertical-align: top;\n    }\n\n    .dataframe thead th {\n        text-align: right;\n    }\n</style>\n<table border=\"1\" class=\"dataframe\">\n  <thead>\n    <tr style=\"text-align: right;\">\n      <th></th>\n      <th>Ensembl_ID</th>\n      <th>protein_name</th>\n      <th>gene_name</th>\n    </tr>\n  </thead>\n  <tbody>\n    <tr>\n      <th>0</th>\n      <td>ENSP00000014930</td>\n      <td>Heme-binding protein 1 (p22HBP)</td>\n      <td>HEBP1 HBP</td>\n    </tr>\n    <tr>\n      <th>1</th>\n      <td>ENSP00000043402</td>\n      <td>Reticulon-4 receptor (Nogo receptor) (NgR) (No...</td>\n      <td>RTN4R NOGOR UNQ330/PRO526</td>\n    </tr>\n    <tr>\n      <th>2</th>\n      <td>ENSP00000044462</td>\n      <td>Proteasome subunit alpha type-4 (Macropain sub...</td>\n      <td>PSMA4 HC9 PSC9</td>\n    </tr>\n    <tr>\n      <th>3</th>\n      <td>ENSP00000075120</td>\n      <td>Solute carrier family 2, facilitated glucose t...</td>\n      <td>SLC2A3 GLUT3</td>\n    </tr>\n    <tr>\n      <th>4</th>\n      <td>ENSP00000078429</td>\n      <td>Guanine nucleotide-binding protein subunit alp...</td>\n      <td>GNA11 GA11</td>\n    </tr>\n    <tr>\n      <th>...</th>\n      <td>...</td>\n      <td>...</td>\n      <td>...</td>\n    </tr>\n    <tr>\n      <th>841</th>\n      <td>ENSP00000454071</td>\n      <td>Low-density lipoprotein receptor (LDL receptor)</td>\n      <td>LDLR</td>\n    </tr>\n    <tr>\n      <th>842</th>\n      <td>ENSP00000458954</td>\n      <td>Nuclear pore complex protein Nup88 (88 kDa nuc...</td>\n      <td>NUP88</td>\n    </tr>\n    <tr>\n      <th>843</th>\n      <td>ENSP00000459962</td>\n      <td>Transient receptor potential cation channel su...</td>\n      <td>TRPV1 VR1</td>\n    </tr>\n    <tr>\n      <th>844</th>\n      <td>ENSP00000466933</td>\n      <td>Sphingosine 1-phosphate receptor 2 (S1P recept...</td>\n      <td>S1PR2 EDG5</td>\n    </tr>\n    <tr>\n      <th>845</th>\n      <td>ENSP00000468633</td>\n      <td>Signal peptidase complex catalytic subunit SEC...</td>\n      <td>SEC11C SEC11L3 SPC21 SPCS4C</td>\n    </tr>\n  </tbody>\n</table>\n<p>846 rows × 3 columns</p>\n</div>"
     },
     "execution_count": 7,
     "metadata": {},
     "output_type": "execute_result"
    }
   ],
   "source": [
    "proteins"
   ],
   "metadata": {
    "collapsed": false,
    "ExecuteTime": {
     "end_time": "2023-05-30T02:14:21.776418500Z",
     "start_time": "2023-05-30T02:14:21.596714700Z"
    }
   }
  },
  {
   "cell_type": "markdown",
   "source": [
    "## 对复方的分析"
   ],
   "metadata": {
    "collapsed": false
   }
  },
  {
   "cell_type": "code",
   "execution_count": 8,
   "outputs": [],
   "source": [
    "formula, formula_tcm_links, tcm, tcm_chem_links, chem, chem_protein_links, proteins = analysis.from_tcm_or_formula(['HVP1625'])"
   ],
   "metadata": {
    "collapsed": false,
    "ExecuteTime": {
     "end_time": "2023-05-30T02:14:30.785361500Z",
     "start_time": "2023-05-30T02:14:21.621916800Z"
    }
   }
  },
  {
   "cell_type": "code",
   "execution_count": 9,
   "outputs": [
    {
     "data": {
      "text/plain": "     HVPID  name Prescription Composition Instructions  \\\n0  HVP1625  小柴胡汤                      NaN          NaN   \n\n                                  Treatment Symptoms Source Document  \\\n0  1. For cases with chest upset but withou vomit...   shang han lun   \n\n   Importance Score  \n0               1.0  ",
      "text/html": "<div>\n<style scoped>\n    .dataframe tbody tr th:only-of-type {\n        vertical-align: middle;\n    }\n\n    .dataframe tbody tr th {\n        vertical-align: top;\n    }\n\n    .dataframe thead th {\n        text-align: right;\n    }\n</style>\n<table border=\"1\" class=\"dataframe\">\n  <thead>\n    <tr style=\"text-align: right;\">\n      <th></th>\n      <th>HVPID</th>\n      <th>name</th>\n      <th>Prescription Composition</th>\n      <th>Instructions</th>\n      <th>Treatment Symptoms</th>\n      <th>Source Document</th>\n      <th>Importance Score</th>\n    </tr>\n  </thead>\n  <tbody>\n    <tr>\n      <th>0</th>\n      <td>HVP1625</td>\n      <td>小柴胡汤</td>\n      <td>NaN</td>\n      <td>NaN</td>\n      <td>1. For cases with chest upset but withou vomit...</td>\n      <td>shang han lun</td>\n      <td>1.0</td>\n    </tr>\n  </tbody>\n</table>\n</div>"
     },
     "execution_count": 9,
     "metadata": {},
     "output_type": "execute_result"
    }
   ],
   "source": [
    "formula"
   ],
   "metadata": {
    "collapsed": false,
    "ExecuteTime": {
     "end_time": "2023-05-30T02:14:30.801844100Z",
     "start_time": "2023-05-30T02:14:30.798809700Z"
    }
   }
  },
  {
   "cell_type": "code",
   "execution_count": 10,
   "outputs": [
    {
     "data": {
      "text/plain": "     HVPID    HVMID\n0  HVP1625  HVM0367\n1  HVP1625  HVM0735\n2  HVP1625  HVM0766\n3  HVP1625  HVM1695\n4  HVP1625  HVM3203\n5  HVP1625  HVM4463",
      "text/html": "<div>\n<style scoped>\n    .dataframe tbody tr th:only-of-type {\n        vertical-align: middle;\n    }\n\n    .dataframe tbody tr th {\n        vertical-align: top;\n    }\n\n    .dataframe thead th {\n        text-align: right;\n    }\n</style>\n<table border=\"1\" class=\"dataframe\">\n  <thead>\n    <tr style=\"text-align: right;\">\n      <th></th>\n      <th>HVPID</th>\n      <th>HVMID</th>\n    </tr>\n  </thead>\n  <tbody>\n    <tr>\n      <th>0</th>\n      <td>HVP1625</td>\n      <td>HVM0367</td>\n    </tr>\n    <tr>\n      <th>1</th>\n      <td>HVP1625</td>\n      <td>HVM0735</td>\n    </tr>\n    <tr>\n      <th>2</th>\n      <td>HVP1625</td>\n      <td>HVM0766</td>\n    </tr>\n    <tr>\n      <th>3</th>\n      <td>HVP1625</td>\n      <td>HVM1695</td>\n    </tr>\n    <tr>\n      <th>4</th>\n      <td>HVP1625</td>\n      <td>HVM3203</td>\n    </tr>\n    <tr>\n      <th>5</th>\n      <td>HVP1625</td>\n      <td>HVM4463</td>\n    </tr>\n  </tbody>\n</table>\n</div>"
     },
     "execution_count": 10,
     "metadata": {},
     "output_type": "execute_result"
    }
   ],
   "source": [
    "formula_tcm_links"
   ],
   "metadata": {
    "collapsed": false,
    "ExecuteTime": {
     "end_time": "2023-05-30T02:14:30.876900900Z",
     "start_time": "2023-05-30T02:14:30.801844100Z"
    }
   }
  },
  {
   "cell_type": "code",
   "execution_count": 11,
   "outputs": [
    {
     "data": {
      "text/plain": "     HVMID cn_name  pinyin_name                   en_name  \\\n0  HVM0367      柴胡      CHAI HU  root of Chinese Thorowax   \n1  HVM0735      大枣       DA ZAO       Jujube Chinese date   \n2  HVM0766      党参    DANG SHEN      root Pilose Asiabell   \n3  HVM1695      黄芩    HUANG QIN   root of Baikal skullcap   \n4  HVM3203      生姜  SHENG JIANG              Fresh Ginger   \n\n                   latin_name                   Properties  \\\n0              Radix Bupleuri  Minor cold; Pungent; Bitter   \n1     Fructus Zizyphi Jujubae                  Warm; Sweet   \n2  Radix Codonopsis pilosulae                  Mild; Sweet   \n3          Radix Scutellariae                 Cold; Bitter   \n4   Rhizoma Zingiberis Recens                Warm; Pungent   \n\n                                           Meridians        UsePart  \\\n0                                 Liver; Gallbladder           root   \n1                                    Spleen; Stomach     ripe fruit   \n2                                       Lung; Spleen           root   \n3  Lung; Large Intestine; Stomach; Small Intestin...           root   \n4                              Lung; Spleen; Stomach  fresh rhizome   \n\n                                            Function  \\\n0  To relieve fever, to soothe the liver, and to ...   \n1  To tonify the spleen and replenish qi, to nour...   \n2  To reinforce qi and invigorate the function of...   \n3  To remove damp-heat, to quench fire and counte...   \n4  To induce perspiration and dispel cold, to war...   \n\n                                          Indication Toxicity  \\\n0  Common cold, influenza, malaria, acute pancrea...      NaN   \n1  Reduced food intake due to spleen vacuity, lac...      NaN   \n2  Spleen-stomach vacuity, reduced food intake an...      NaN   \n3  Chest oppression with retching, diarrhea, jaun...      NaN   \n4  Wind-cold common cold, fever and aversion to w...      NaN   \n\n                             Clinical_manifestations  \\\n0  1. Increasing the hypotic effect of barbital i...   \n1  1. Oral administration increases the level of ...   \n2                                                NaN   \n3  1. Possessing a broad-spectrum bacteriostatic ...   \n4  1. Oral administration can stimulate the bucca...   \n\n                         Therapeutic_en_class Therapeutic_cn_class  \\\n0                   Pungent Cool Diaphoretics                辛凉解表药   \n1                        Qi Reinforcing Drugs                  补气药   \n2                        Qi Reinforcing Drugs                  补气药   \n3  Heat-Clearing And Dampnessdrying Medicinal                清热燥湿药   \n4   Pungent-Warm Exterior-Releasing Medicinal                辛温解表药   \n\n      HERB_id   TCMID_id  TCM_ID_id  SymMap_id  TCMSP_id  Importance Score  \n0  HERB000638  SMHB00058     3396.0       58.0      80.0               1.0  \n1  HERB001164  SMHB00090     1076.0       90.0     193.0               1.0  \n2  HERB001211  SMHB00096     1345.0       96.0     203.0               1.0  \n3  HERB002563  SMHB00188     6700.0      188.0     371.0               1.0  \n4  HERB005017  SMHB00367     7484.0      367.0     640.0               1.0  ",
      "text/html": "<div>\n<style scoped>\n    .dataframe tbody tr th:only-of-type {\n        vertical-align: middle;\n    }\n\n    .dataframe tbody tr th {\n        vertical-align: top;\n    }\n\n    .dataframe thead th {\n        text-align: right;\n    }\n</style>\n<table border=\"1\" class=\"dataframe\">\n  <thead>\n    <tr style=\"text-align: right;\">\n      <th></th>\n      <th>HVMID</th>\n      <th>cn_name</th>\n      <th>pinyin_name</th>\n      <th>en_name</th>\n      <th>latin_name</th>\n      <th>Properties</th>\n      <th>Meridians</th>\n      <th>UsePart</th>\n      <th>Function</th>\n      <th>Indication</th>\n      <th>Toxicity</th>\n      <th>Clinical_manifestations</th>\n      <th>Therapeutic_en_class</th>\n      <th>Therapeutic_cn_class</th>\n      <th>HERB_id</th>\n      <th>TCMID_id</th>\n      <th>TCM_ID_id</th>\n      <th>SymMap_id</th>\n      <th>TCMSP_id</th>\n      <th>Importance Score</th>\n    </tr>\n  </thead>\n  <tbody>\n    <tr>\n      <th>0</th>\n      <td>HVM0367</td>\n      <td>柴胡</td>\n      <td>CHAI HU</td>\n      <td>root of Chinese Thorowax</td>\n      <td>Radix Bupleuri</td>\n      <td>Minor cold; Pungent; Bitter</td>\n      <td>Liver; Gallbladder</td>\n      <td>root</td>\n      <td>To relieve fever, to soothe the liver, and to ...</td>\n      <td>Common cold, influenza, malaria, acute pancrea...</td>\n      <td>NaN</td>\n      <td>1. Increasing the hypotic effect of barbital i...</td>\n      <td>Pungent Cool Diaphoretics</td>\n      <td>辛凉解表药</td>\n      <td>HERB000638</td>\n      <td>SMHB00058</td>\n      <td>3396.0</td>\n      <td>58.0</td>\n      <td>80.0</td>\n      <td>1.0</td>\n    </tr>\n    <tr>\n      <th>1</th>\n      <td>HVM0735</td>\n      <td>大枣</td>\n      <td>DA ZAO</td>\n      <td>Jujube Chinese date</td>\n      <td>Fructus Zizyphi Jujubae</td>\n      <td>Warm; Sweet</td>\n      <td>Spleen; Stomach</td>\n      <td>ripe fruit</td>\n      <td>To tonify the spleen and replenish qi, to nour...</td>\n      <td>Reduced food intake due to spleen vacuity, lac...</td>\n      <td>NaN</td>\n      <td>1. Oral administration increases the level of ...</td>\n      <td>Qi Reinforcing Drugs</td>\n      <td>补气药</td>\n      <td>HERB001164</td>\n      <td>SMHB00090</td>\n      <td>1076.0</td>\n      <td>90.0</td>\n      <td>193.0</td>\n      <td>1.0</td>\n    </tr>\n    <tr>\n      <th>2</th>\n      <td>HVM0766</td>\n      <td>党参</td>\n      <td>DANG SHEN</td>\n      <td>root Pilose Asiabell</td>\n      <td>Radix Codonopsis pilosulae</td>\n      <td>Mild; Sweet</td>\n      <td>Lung; Spleen</td>\n      <td>root</td>\n      <td>To reinforce qi and invigorate the function of...</td>\n      <td>Spleen-stomach vacuity, reduced food intake an...</td>\n      <td>NaN</td>\n      <td>NaN</td>\n      <td>Qi Reinforcing Drugs</td>\n      <td>补气药</td>\n      <td>HERB001211</td>\n      <td>SMHB00096</td>\n      <td>1345.0</td>\n      <td>96.0</td>\n      <td>203.0</td>\n      <td>1.0</td>\n    </tr>\n    <tr>\n      <th>3</th>\n      <td>HVM1695</td>\n      <td>黄芩</td>\n      <td>HUANG QIN</td>\n      <td>root of Baikal skullcap</td>\n      <td>Radix Scutellariae</td>\n      <td>Cold; Bitter</td>\n      <td>Lung; Large Intestine; Stomach; Small Intestin...</td>\n      <td>root</td>\n      <td>To remove damp-heat, to quench fire and counte...</td>\n      <td>Chest oppression with retching, diarrhea, jaun...</td>\n      <td>NaN</td>\n      <td>1. Possessing a broad-spectrum bacteriostatic ...</td>\n      <td>Heat-Clearing And Dampnessdrying Medicinal</td>\n      <td>清热燥湿药</td>\n      <td>HERB002563</td>\n      <td>SMHB00188</td>\n      <td>6700.0</td>\n      <td>188.0</td>\n      <td>371.0</td>\n      <td>1.0</td>\n    </tr>\n    <tr>\n      <th>4</th>\n      <td>HVM3203</td>\n      <td>生姜</td>\n      <td>SHENG JIANG</td>\n      <td>Fresh Ginger</td>\n      <td>Rhizoma Zingiberis Recens</td>\n      <td>Warm; Pungent</td>\n      <td>Lung; Spleen; Stomach</td>\n      <td>fresh rhizome</td>\n      <td>To induce perspiration and dispel cold, to war...</td>\n      <td>Wind-cold common cold, fever and aversion to w...</td>\n      <td>NaN</td>\n      <td>1. Oral administration can stimulate the bucca...</td>\n      <td>Pungent-Warm Exterior-Releasing Medicinal</td>\n      <td>辛温解表药</td>\n      <td>HERB005017</td>\n      <td>SMHB00367</td>\n      <td>7484.0</td>\n      <td>367.0</td>\n      <td>640.0</td>\n      <td>1.0</td>\n    </tr>\n  </tbody>\n</table>\n</div>"
     },
     "execution_count": 11,
     "metadata": {},
     "output_type": "execute_result"
    }
   ],
   "source": [
    "tcm"
   ],
   "metadata": {
    "collapsed": false,
    "ExecuteTime": {
     "end_time": "2023-05-30T02:14:31.011979800Z",
     "start_time": "2023-05-30T02:14:30.821740400Z"
    }
   }
  },
  {
   "cell_type": "code",
   "execution_count": 12,
   "outputs": [
    {
     "data": {
      "text/plain": "           HVMID             HVCID\n0        CHAI HU           uridine\n1        CHAI HU       1,8-cineole\n2        CHAI HU  palmitoleic acid\n3        CHAI HU           xylitol\n4        CHAI HU    D-()-arabinose\n..           ...               ...\n206  SHENG JIANG        sitosterol\n207  SHENG JIANG   propionaldehyde\n208  SHENG JIANG        propionate\n209  SHENG JIANG          pentanal\n210  SHENG JIANG           toluene\n\n[211 rows x 2 columns]",
      "text/html": "<div>\n<style scoped>\n    .dataframe tbody tr th:only-of-type {\n        vertical-align: middle;\n    }\n\n    .dataframe tbody tr th {\n        vertical-align: top;\n    }\n\n    .dataframe thead th {\n        text-align: right;\n    }\n</style>\n<table border=\"1\" class=\"dataframe\">\n  <thead>\n    <tr style=\"text-align: right;\">\n      <th></th>\n      <th>HVMID</th>\n      <th>HVCID</th>\n    </tr>\n  </thead>\n  <tbody>\n    <tr>\n      <th>0</th>\n      <td>CHAI HU</td>\n      <td>uridine</td>\n    </tr>\n    <tr>\n      <th>1</th>\n      <td>CHAI HU</td>\n      <td>1,8-cineole</td>\n    </tr>\n    <tr>\n      <th>2</th>\n      <td>CHAI HU</td>\n      <td>palmitoleic acid</td>\n    </tr>\n    <tr>\n      <th>3</th>\n      <td>CHAI HU</td>\n      <td>xylitol</td>\n    </tr>\n    <tr>\n      <th>4</th>\n      <td>CHAI HU</td>\n      <td>D-()-arabinose</td>\n    </tr>\n    <tr>\n      <th>...</th>\n      <td>...</td>\n      <td>...</td>\n    </tr>\n    <tr>\n      <th>206</th>\n      <td>SHENG JIANG</td>\n      <td>sitosterol</td>\n    </tr>\n    <tr>\n      <th>207</th>\n      <td>SHENG JIANG</td>\n      <td>propionaldehyde</td>\n    </tr>\n    <tr>\n      <th>208</th>\n      <td>SHENG JIANG</td>\n      <td>propionate</td>\n    </tr>\n    <tr>\n      <th>209</th>\n      <td>SHENG JIANG</td>\n      <td>pentanal</td>\n    </tr>\n    <tr>\n      <th>210</th>\n      <td>SHENG JIANG</td>\n      <td>toluene</td>\n    </tr>\n  </tbody>\n</table>\n<p>211 rows × 2 columns</p>\n</div>"
     },
     "execution_count": 12,
     "metadata": {},
     "output_type": "execute_result"
    }
   ],
   "source": [
    "tcm_chem_links"
   ],
   "metadata": {
    "collapsed": false,
    "ExecuteTime": {
     "end_time": "2023-05-30T02:14:31.022007100Z",
     "start_time": "2023-05-30T02:14:30.868829300Z"
    }
   }
  },
  {
   "cell_type": "code",
   "execution_count": 13,
   "outputs": [
    {
     "data": {
      "text/plain": "       HVCID                   Name  \\\n0    HVC0018  p-hydroxybenzaldehyde   \n1    HVC0026           acetaldehyde   \n2    HVC0036                glucose   \n3    HVC0040                 ribose   \n4    HVC0043             asparagine   \n..       ...                    ...   \n106  HVC5480             kaempferol   \n107  HVC5493                chrysin   \n108  HVC5512           isorhamnetin   \n109  HVC5538             coumestrol   \n110  HVC5547               puerarin   \n\n                                                SMILES     CAS_id  PubChem_id  \\\n0                                    C1=CC(=CC=C1C=O)O   123-08-0       126.0   \n1                                                 CC=O    75-07-0       177.0   \n2                             C(C1C(C(C(C(O1)O)O)O)O)O        NaN         NaN   \n3                                 C1C(C(C(C(O1)O)O)O)O  5328-37-0    439195.0   \n4                                  C(C(C(=O)O)N)C(=O)N        NaN      6267.0   \n..                                                 ...        ...         ...   \n106      C1=CC(=CC=C1C2=C(C(=O)C3=C(C=C(C=C3O2)O)O)O)O        NaN   5280863.0   \n107          C1=CC=C(C=C1)C2=CC(=O)C3=C(C=C(C=C3O2)O)O        NaN   5281607.0   \n108  COC1=C(C=CC(=C1)C2=C(C(=O)C3=C(C=C(C=C3O2)O)O)O)O        NaN   5281654.0   \n109         C1=CC2=C(C=C1O)OC3=C2C(=O)OC4=C3C=CC(=C4)O   479-13-0   5281707.0   \n110  C1=CC(=CC=C1C2=COC3=C(C2=O)C=CC(=C3C4C(C(C(C(O...        NaN   5281807.0   \n\n    DrugBank_id     STITCH_id     HERB_id  Importance Score  \n0           NaN  CIDm00000126  HBIN010505          0.928000  \n1           NaN  CIDm00000177  HBIN014388          1.000000  \n2           NaN  CIDm00000206  HBIN001003          1.000000  \n3       DB03246  CIDm00000229  HBIN016558          0.999000  \n4           NaN  CIDm00000236  HBIN017103          1.000000  \n..          ...           ...         ...               ...  \n106         NaN  CIDm05280863  HBIN019495          0.999639  \n107         NaN  CIDm05281607  HBIN011307          0.931000  \n108         NaN  CIDm05281654  HBIN008965          0.994104  \n109         NaN  CIDm05281707  HBIN021620          0.999711  \n110         NaN  CIDm05281807  HBIN032003          0.976000  \n\n[111 rows x 9 columns]",
      "text/html": "<div>\n<style scoped>\n    .dataframe tbody tr th:only-of-type {\n        vertical-align: middle;\n    }\n\n    .dataframe tbody tr th {\n        vertical-align: top;\n    }\n\n    .dataframe thead th {\n        text-align: right;\n    }\n</style>\n<table border=\"1\" class=\"dataframe\">\n  <thead>\n    <tr style=\"text-align: right;\">\n      <th></th>\n      <th>HVCID</th>\n      <th>Name</th>\n      <th>SMILES</th>\n      <th>CAS_id</th>\n      <th>PubChem_id</th>\n      <th>DrugBank_id</th>\n      <th>STITCH_id</th>\n      <th>HERB_id</th>\n      <th>Importance Score</th>\n    </tr>\n  </thead>\n  <tbody>\n    <tr>\n      <th>0</th>\n      <td>HVC0018</td>\n      <td>p-hydroxybenzaldehyde</td>\n      <td>C1=CC(=CC=C1C=O)O</td>\n      <td>123-08-0</td>\n      <td>126.0</td>\n      <td>NaN</td>\n      <td>CIDm00000126</td>\n      <td>HBIN010505</td>\n      <td>0.928000</td>\n    </tr>\n    <tr>\n      <th>1</th>\n      <td>HVC0026</td>\n      <td>acetaldehyde</td>\n      <td>CC=O</td>\n      <td>75-07-0</td>\n      <td>177.0</td>\n      <td>NaN</td>\n      <td>CIDm00000177</td>\n      <td>HBIN014388</td>\n      <td>1.000000</td>\n    </tr>\n    <tr>\n      <th>2</th>\n      <td>HVC0036</td>\n      <td>glucose</td>\n      <td>C(C1C(C(C(C(O1)O)O)O)O)O</td>\n      <td>NaN</td>\n      <td>NaN</td>\n      <td>NaN</td>\n      <td>CIDm00000206</td>\n      <td>HBIN001003</td>\n      <td>1.000000</td>\n    </tr>\n    <tr>\n      <th>3</th>\n      <td>HVC0040</td>\n      <td>ribose</td>\n      <td>C1C(C(C(C(O1)O)O)O)O</td>\n      <td>5328-37-0</td>\n      <td>439195.0</td>\n      <td>DB03246</td>\n      <td>CIDm00000229</td>\n      <td>HBIN016558</td>\n      <td>0.999000</td>\n    </tr>\n    <tr>\n      <th>4</th>\n      <td>HVC0043</td>\n      <td>asparagine</td>\n      <td>C(C(C(=O)O)N)C(=O)N</td>\n      <td>NaN</td>\n      <td>6267.0</td>\n      <td>NaN</td>\n      <td>CIDm00000236</td>\n      <td>HBIN017103</td>\n      <td>1.000000</td>\n    </tr>\n    <tr>\n      <th>...</th>\n      <td>...</td>\n      <td>...</td>\n      <td>...</td>\n      <td>...</td>\n      <td>...</td>\n      <td>...</td>\n      <td>...</td>\n      <td>...</td>\n      <td>...</td>\n    </tr>\n    <tr>\n      <th>106</th>\n      <td>HVC5480</td>\n      <td>kaempferol</td>\n      <td>C1=CC(=CC=C1C2=C(C(=O)C3=C(C=C(C=C3O2)O)O)O)O</td>\n      <td>NaN</td>\n      <td>5280863.0</td>\n      <td>NaN</td>\n      <td>CIDm05280863</td>\n      <td>HBIN019495</td>\n      <td>0.999639</td>\n    </tr>\n    <tr>\n      <th>107</th>\n      <td>HVC5493</td>\n      <td>chrysin</td>\n      <td>C1=CC=C(C=C1)C2=CC(=O)C3=C(C=C(C=C3O2)O)O</td>\n      <td>NaN</td>\n      <td>5281607.0</td>\n      <td>NaN</td>\n      <td>CIDm05281607</td>\n      <td>HBIN011307</td>\n      <td>0.931000</td>\n    </tr>\n    <tr>\n      <th>108</th>\n      <td>HVC5512</td>\n      <td>isorhamnetin</td>\n      <td>COC1=C(C=CC(=C1)C2=C(C(=O)C3=C(C=C(C=C3O2)O)O)O)O</td>\n      <td>NaN</td>\n      <td>5281654.0</td>\n      <td>NaN</td>\n      <td>CIDm05281654</td>\n      <td>HBIN008965</td>\n      <td>0.994104</td>\n    </tr>\n    <tr>\n      <th>109</th>\n      <td>HVC5538</td>\n      <td>coumestrol</td>\n      <td>C1=CC2=C(C=C1O)OC3=C2C(=O)OC4=C3C=CC(=C4)O</td>\n      <td>479-13-0</td>\n      <td>5281707.0</td>\n      <td>NaN</td>\n      <td>CIDm05281707</td>\n      <td>HBIN021620</td>\n      <td>0.999711</td>\n    </tr>\n    <tr>\n      <th>110</th>\n      <td>HVC5547</td>\n      <td>puerarin</td>\n      <td>C1=CC(=CC=C1C2=COC3=C(C2=O)C=CC(=C3C4C(C(C(C(O...</td>\n      <td>NaN</td>\n      <td>5281807.0</td>\n      <td>NaN</td>\n      <td>CIDm05281807</td>\n      <td>HBIN032003</td>\n      <td>0.976000</td>\n    </tr>\n  </tbody>\n</table>\n<p>111 rows × 9 columns</p>\n</div>"
     },
     "execution_count": 13,
     "metadata": {},
     "output_type": "execute_result"
    }
   ],
   "source": [
    "chem"
   ],
   "metadata": {
    "collapsed": false,
    "ExecuteTime": {
     "end_time": "2023-05-30T02:14:31.126708800Z",
     "start_time": "2023-05-30T02:14:30.891981100Z"
    }
   }
  },
  {
   "cell_type": "code",
   "execution_count": 14,
   "outputs": [
    {
     "data": {
      "text/plain": "                      HVCID        Ensembl_ID  Combined_score\n0     p-hydroxybenzaldehyde              NOS3           0.976\n1              acetaldehyde               NaN           0.983\n2              acetaldehyde  ESR2 ESTRB NR3A2           0.983\n3              acetaldehyde               NaN           0.933\n4              acetaldehyde            CYP1A1           0.912\n...                     ...               ...             ...\n3883           isorhamnetin       DERA CGI-26           0.914\n3884           isorhamnetin              ADH7           0.968\n3885             coumestrol        GRK6 GPRK6           0.913\n3886             coumestrol               NaN           0.909\n3887               puerarin     ALDH5A1 SSADH           0.928\n\n[3888 rows x 3 columns]",
      "text/html": "<div>\n<style scoped>\n    .dataframe tbody tr th:only-of-type {\n        vertical-align: middle;\n    }\n\n    .dataframe tbody tr th {\n        vertical-align: top;\n    }\n\n    .dataframe thead th {\n        text-align: right;\n    }\n</style>\n<table border=\"1\" class=\"dataframe\">\n  <thead>\n    <tr style=\"text-align: right;\">\n      <th></th>\n      <th>HVCID</th>\n      <th>Ensembl_ID</th>\n      <th>Combined_score</th>\n    </tr>\n  </thead>\n  <tbody>\n    <tr>\n      <th>0</th>\n      <td>p-hydroxybenzaldehyde</td>\n      <td>NOS3</td>\n      <td>0.976</td>\n    </tr>\n    <tr>\n      <th>1</th>\n      <td>acetaldehyde</td>\n      <td>NaN</td>\n      <td>0.983</td>\n    </tr>\n    <tr>\n      <th>2</th>\n      <td>acetaldehyde</td>\n      <td>ESR2 ESTRB NR3A2</td>\n      <td>0.983</td>\n    </tr>\n    <tr>\n      <th>3</th>\n      <td>acetaldehyde</td>\n      <td>NaN</td>\n      <td>0.933</td>\n    </tr>\n    <tr>\n      <th>4</th>\n      <td>acetaldehyde</td>\n      <td>CYP1A1</td>\n      <td>0.912</td>\n    </tr>\n    <tr>\n      <th>...</th>\n      <td>...</td>\n      <td>...</td>\n      <td>...</td>\n    </tr>\n    <tr>\n      <th>3883</th>\n      <td>isorhamnetin</td>\n      <td>DERA CGI-26</td>\n      <td>0.914</td>\n    </tr>\n    <tr>\n      <th>3884</th>\n      <td>isorhamnetin</td>\n      <td>ADH7</td>\n      <td>0.968</td>\n    </tr>\n    <tr>\n      <th>3885</th>\n      <td>coumestrol</td>\n      <td>GRK6 GPRK6</td>\n      <td>0.913</td>\n    </tr>\n    <tr>\n      <th>3886</th>\n      <td>coumestrol</td>\n      <td>NaN</td>\n      <td>0.909</td>\n    </tr>\n    <tr>\n      <th>3887</th>\n      <td>puerarin</td>\n      <td>ALDH5A1 SSADH</td>\n      <td>0.928</td>\n    </tr>\n  </tbody>\n</table>\n<p>3888 rows × 3 columns</p>\n</div>"
     },
     "execution_count": 14,
     "metadata": {},
     "output_type": "execute_result"
    }
   ],
   "source": [
    "chem_protein_links"
   ],
   "metadata": {
    "collapsed": false,
    "ExecuteTime": {
     "end_time": "2023-05-30T02:14:31.211971900Z",
     "start_time": "2023-05-30T02:14:30.927019900Z"
    }
   }
  },
  {
   "cell_type": "code",
   "execution_count": 15,
   "outputs": [
    {
     "data": {
      "text/plain": "           Ensembl_ID                                       protein_name  \\\n0     ENSP00000002165  Plasma alpha-L-fucosidase (EC 3.2.1.51) (Alpha...   \n1     ENSP00000013222  Indolethylamine N-methyltransferase (Indolamin...   \n2     ENSP00000014930                    Heme-binding protein 1 (p22HBP)   \n3     ENSP00000023064  b(0,+)-type amino acid transporter 1 (b(0,+)AT...   \n4     ENSP00000043402  Reticulon-4 receptor (Nogo receptor) (NgR) (No...   \n...               ...                                                ...   \n1181  ENSP00000454071    Low-density lipoprotein receptor (LDL receptor)   \n1182  ENSP00000458954  Nuclear pore complex protein Nup88 (88 kDa nuc...   \n1183  ENSP00000459962  Transient receptor potential cation channel su...   \n1184  ENSP00000466933  Sphingosine 1-phosphate receptor 2 (S1P recept...   \n1185  ENSP00000468633  Signal peptidase complex catalytic subunit SEC...   \n\n                         gene_name  \n0     FUCA2 PSEC0151 UNQ227/PRO260  \n1                             INMT  \n2                        HEBP1 HBP  \n3                      SLC7A9 BAT1  \n4        RTN4R NOGOR UNQ330/PRO526  \n...                            ...  \n1181                          LDLR  \n1182                         NUP88  \n1183                     TRPV1 VR1  \n1184                    S1PR2 EDG5  \n1185   SEC11C SEC11L3 SPC21 SPCS4C  \n\n[1186 rows x 3 columns]",
      "text/html": "<div>\n<style scoped>\n    .dataframe tbody tr th:only-of-type {\n        vertical-align: middle;\n    }\n\n    .dataframe tbody tr th {\n        vertical-align: top;\n    }\n\n    .dataframe thead th {\n        text-align: right;\n    }\n</style>\n<table border=\"1\" class=\"dataframe\">\n  <thead>\n    <tr style=\"text-align: right;\">\n      <th></th>\n      <th>Ensembl_ID</th>\n      <th>protein_name</th>\n      <th>gene_name</th>\n    </tr>\n  </thead>\n  <tbody>\n    <tr>\n      <th>0</th>\n      <td>ENSP00000002165</td>\n      <td>Plasma alpha-L-fucosidase (EC 3.2.1.51) (Alpha...</td>\n      <td>FUCA2 PSEC0151 UNQ227/PRO260</td>\n    </tr>\n    <tr>\n      <th>1</th>\n      <td>ENSP00000013222</td>\n      <td>Indolethylamine N-methyltransferase (Indolamin...</td>\n      <td>INMT</td>\n    </tr>\n    <tr>\n      <th>2</th>\n      <td>ENSP00000014930</td>\n      <td>Heme-binding protein 1 (p22HBP)</td>\n      <td>HEBP1 HBP</td>\n    </tr>\n    <tr>\n      <th>3</th>\n      <td>ENSP00000023064</td>\n      <td>b(0,+)-type amino acid transporter 1 (b(0,+)AT...</td>\n      <td>SLC7A9 BAT1</td>\n    </tr>\n    <tr>\n      <th>4</th>\n      <td>ENSP00000043402</td>\n      <td>Reticulon-4 receptor (Nogo receptor) (NgR) (No...</td>\n      <td>RTN4R NOGOR UNQ330/PRO526</td>\n    </tr>\n    <tr>\n      <th>...</th>\n      <td>...</td>\n      <td>...</td>\n      <td>...</td>\n    </tr>\n    <tr>\n      <th>1181</th>\n      <td>ENSP00000454071</td>\n      <td>Low-density lipoprotein receptor (LDL receptor)</td>\n      <td>LDLR</td>\n    </tr>\n    <tr>\n      <th>1182</th>\n      <td>ENSP00000458954</td>\n      <td>Nuclear pore complex protein Nup88 (88 kDa nuc...</td>\n      <td>NUP88</td>\n    </tr>\n    <tr>\n      <th>1183</th>\n      <td>ENSP00000459962</td>\n      <td>Transient receptor potential cation channel su...</td>\n      <td>TRPV1 VR1</td>\n    </tr>\n    <tr>\n      <th>1184</th>\n      <td>ENSP00000466933</td>\n      <td>Sphingosine 1-phosphate receptor 2 (S1P recept...</td>\n      <td>S1PR2 EDG5</td>\n    </tr>\n    <tr>\n      <th>1185</th>\n      <td>ENSP00000468633</td>\n      <td>Signal peptidase complex catalytic subunit SEC...</td>\n      <td>SEC11C SEC11L3 SPC21 SPCS4C</td>\n    </tr>\n  </tbody>\n</table>\n<p>1186 rows × 3 columns</p>\n</div>"
     },
     "execution_count": 15,
     "metadata": {},
     "output_type": "execute_result"
    }
   ],
   "source": [
    "proteins"
   ],
   "metadata": {
    "collapsed": false,
    "ExecuteTime": {
     "end_time": "2023-05-30T02:14:31.211971900Z",
     "start_time": "2023-05-30T02:14:30.951898900Z"
    }
   }
  },
  {
   "cell_type": "markdown",
   "source": [
    "# 逆向网络药理学分析"
   ],
   "metadata": {
    "collapsed": false
   }
  },
  {
   "cell_type": "code",
   "execution_count": 7,
   "outputs": [
    {
     "name": "stderr",
     "output_type": "stream",
     "text": [
      "100%|██████████| 1000/1000 [01:25<00:00, 11.76it/s]\n",
      "100%|██████████| 1000/1000 [07:15<00:00,  2.30it/s]\n"
     ]
    }
   ],
   "source": [
    "formula, tcm, tcm_chem_links, chem, chem_protein_links, proteins, tcms, formulas = analysis.from_proteins(['ENSP00000381588', 'ENSP00000252519'],\n",
    "                                                                                                          score=0,\n",
    "                                                                                                          random_state=138192,\n",
    "                                                                                                          num=10)"
   ],
   "metadata": {
    "collapsed": false,
    "ExecuteTime": {
     "end_time": "2023-06-05T09:32:28.906863800Z",
     "start_time": "2023-06-05T09:23:21.660743Z"
    }
   }
  },
  {
   "cell_type": "code",
   "execution_count": 15,
   "outputs": [],
   "source": [
    "formula"
   ],
   "metadata": {
    "collapsed": false,
    "ExecuteTime": {
     "end_time": "2023-06-05T09:49:38.942917400Z",
     "start_time": "2023-06-05T09:49:38.829927800Z"
    }
   }
  },
  {
   "cell_type": "code",
   "execution_count": 10,
   "outputs": [
    {
     "data": {
      "text/plain": "        HVMID cn_name       pinyin_name  \\\n0     HVM2997     肉苁蓉     ROU CONG RONG   \n1     HVM3101     沙苑子       SHA YUAN ZI   \n2     HVM3090      沙棘            SHA JI   \n3     HVM2859      荞麦          QIAO MAI   \n4     HVM1308      广枣         GUANG ZAO   \n...       ...     ...               ...   \n1266  HVM1229      构树           GOU SHU   \n1267  HVM2861    乔木刺桐   QIAO MU CI TONG   \n1268  HVM0530     穿破石      CHUAN PO SHI   \n1269  HVM1637     黄大豆      HUANG DA DOU   \n1270  HVM2751    攀援鱼藤  PAN YUAN YU TENG   \n\n                                                en_name  \\\n0                                Desertliving Cistanche   \n1                               Flatstem Milkvetch Seed   \n2                                 fruit of seabuckthorn   \n3                                      Common Buckwheat   \n4                      fruit of Axillary choerospondias   \n...                                                 ...   \n1266                               Common Papermulberry   \n1267  Himalayan Coralbean Equivalent plant: Erythrin...   \n1268                         root of Tricuspid cudrania   \n1269                                 Semen Glycines max   \n1270                                 Climbing Jewelvine   \n\n                    latin_name                      Properties  \\\n0             Herba Cistanches              Warm; Sweet; Salty   \n1     Semen Astragali Complati                     Sweet; warm   \n2            fructus hippophae             Warm; Sour; Punkery   \n3         Fagopyrum esculentum                             NaN   \n4     Fructus Choerospondiatis             Cold; Sour; Punkery   \n...                        ...                             ...   \n1266   Broussonetia papyrifera                             NaN   \n1267     Erythrina arborescens                             NaN   \n1268           Radix Cudraniae  Cool; Slightly Bitter; Neutral   \n1269                       NaN                             NaN   \n1270           Derris scandens                             NaN   \n\n                                             Meridians  \\\n0                              Large Intestine; Kidney   \n1                                        Liver; kidney   \n2     Large Intestine; Stomach; Small Intestine; Liver   \n3                                                  NaN   \n4                                        Spleen; Liver   \n...                                                ...   \n1266                                               NaN   \n1267                                               NaN   \n1268                                      Liver; Heart   \n1269                                               NaN   \n1270                                               NaN   \n\n                        UsePart  \\\n0                   fleshy stem   \n1                           NaN   \n2                           NaN   \n3                          seed   \n4                           NaN   \n...                         ...   \n1266                     branch   \n1267  dried bark or root cortex   \n1268                        NaN   \n1269                        NaN   \n1270                        NaN   \n\n                                               Function  \\\n0     To reinforce the kidney, replenish vital essen...   \n1     To benefit the liver and the kidney, arrest se...   \n2                                                   NaN   \n3     To fortify spleen and disperse accumulation, p...   \n4     To promote the flow of qi and blood, to replen...   \n...                                                 ...   \n1266   To dispel wind, brighten eyes, disinhibit urine.   \n1267  To dispel wind and eliminate damp, soothe sine...   \n1268  1. To remove blood stasis, alleviate pain, exp...   \n1269                                                NaN   \n1270                                                NaN   \n\n                                             Indication Toxicity  \\\n0     Impotence, infertility, backache, limp aching ...      NaN   \n1     Treatment of back pain, nocturnal emission and...      NaN   \n2                                                   NaN      NaN   \n3     Gastrointestinal accumulation, diarrhea, dysen...      NaN   \n4     Treatment of stagnation of qi and blood with p...      NaN   \n...                                                 ...      ...   \n1266  Wind papules, red eyes with gall, inhibited ur...      NaN   \n1267  Wind-damp impediment pain, hypertonicity in li...      NaN   \n1268  1. To remove blood stasis, alleviate pain, exp...      NaN   \n1269                                                NaN      NaN   \n1270                                                NaN      NaN   \n\n                           Clinical_manifestations  \\\n0     1. Hypotensive2. Promoting saliva secretion.   \n1                                              NaN   \n2                                              NaN   \n3                                              NaN   \n4                                              NaN   \n...                                            ...   \n1266                                           NaN   \n1267                                           NaN   \n1268                                           NaN   \n1269                                           NaN   \n1270                                           NaN   \n\n                        Therapeutic_en_class Therapeutic_cn_class     HERB_id  \\\n0                     Yang Reinforcing Drugs                  补阳药  HERB004692   \n1                     Yang Reinforcing Drugs                  补阳药  HERB004864   \n2                    Phlegresolving Medicine                  化痰药  HERB004849   \n3                                        NaN                  NaN  HERB004488   \n4     Blood Activating Stasis Removing Drugs                活血祛瘀药  HERB002040   \n...                                      ...                  ...         ...   \n1266                                     NaN                  NaN  HERB001920   \n1267                                     NaN                  NaN  HERB004490   \n1268                                     NaN                  NaN  HERB000873   \n1269                                     NaN                  NaN  HERB002493   \n1270                                     NaN                  NaN  HERB004313   \n\n       TCMID_id  TCM_ID_id  SymMap_id  TCMSP_id  Importance Score  \n0     SMHB00338     1883.0      338.0     596.0          0.999986  \n1     SMHB00354     1702.0      354.0    1035.0          0.999781  \n2     SMHB00353     6230.0      353.0     613.0          0.999437  \n3           NaN     1877.0        NaN       NaN          0.999431  \n4     SMHB00152     1671.0      152.0     296.0          0.999149  \n...         ...        ...        ...       ...               ...  \n1266        NaN     7200.0        NaN       NaN          0.150000  \n1267        NaN     4911.0        NaN       NaN          0.150000  \n1268        NaN     7116.0        NaN     112.0          0.150000  \n1269        NaN     4946.0        NaN       NaN          0.150000  \n1270        NaN     2770.0        NaN       NaN          0.150000  \n\n[1271 rows x 20 columns]",
      "text/html": "<div>\n<style scoped>\n    .dataframe tbody tr th:only-of-type {\n        vertical-align: middle;\n    }\n\n    .dataframe tbody tr th {\n        vertical-align: top;\n    }\n\n    .dataframe thead th {\n        text-align: right;\n    }\n</style>\n<table border=\"1\" class=\"dataframe\">\n  <thead>\n    <tr style=\"text-align: right;\">\n      <th></th>\n      <th>HVMID</th>\n      <th>cn_name</th>\n      <th>pinyin_name</th>\n      <th>en_name</th>\n      <th>latin_name</th>\n      <th>Properties</th>\n      <th>Meridians</th>\n      <th>UsePart</th>\n      <th>Function</th>\n      <th>Indication</th>\n      <th>Toxicity</th>\n      <th>Clinical_manifestations</th>\n      <th>Therapeutic_en_class</th>\n      <th>Therapeutic_cn_class</th>\n      <th>HERB_id</th>\n      <th>TCMID_id</th>\n      <th>TCM_ID_id</th>\n      <th>SymMap_id</th>\n      <th>TCMSP_id</th>\n      <th>Importance Score</th>\n    </tr>\n  </thead>\n  <tbody>\n    <tr>\n      <th>0</th>\n      <td>HVM2997</td>\n      <td>肉苁蓉</td>\n      <td>ROU CONG RONG</td>\n      <td>Desertliving Cistanche</td>\n      <td>Herba Cistanches</td>\n      <td>Warm; Sweet; Salty</td>\n      <td>Large Intestine; Kidney</td>\n      <td>fleshy stem</td>\n      <td>To reinforce the kidney, replenish vital essen...</td>\n      <td>Impotence, infertility, backache, limp aching ...</td>\n      <td>NaN</td>\n      <td>1. Hypotensive2. Promoting saliva secretion.</td>\n      <td>Yang Reinforcing Drugs</td>\n      <td>补阳药</td>\n      <td>HERB004692</td>\n      <td>SMHB00338</td>\n      <td>1883.0</td>\n      <td>338.0</td>\n      <td>596.0</td>\n      <td>0.999986</td>\n    </tr>\n    <tr>\n      <th>1</th>\n      <td>HVM3101</td>\n      <td>沙苑子</td>\n      <td>SHA YUAN ZI</td>\n      <td>Flatstem Milkvetch Seed</td>\n      <td>Semen Astragali Complati</td>\n      <td>Sweet; warm</td>\n      <td>Liver; kidney</td>\n      <td>NaN</td>\n      <td>To benefit the liver and the kidney, arrest se...</td>\n      <td>Treatment of back pain, nocturnal emission and...</td>\n      <td>NaN</td>\n      <td>NaN</td>\n      <td>Yang Reinforcing Drugs</td>\n      <td>补阳药</td>\n      <td>HERB004864</td>\n      <td>SMHB00354</td>\n      <td>1702.0</td>\n      <td>354.0</td>\n      <td>1035.0</td>\n      <td>0.999781</td>\n    </tr>\n    <tr>\n      <th>2</th>\n      <td>HVM3090</td>\n      <td>沙棘</td>\n      <td>SHA JI</td>\n      <td>fruit of seabuckthorn</td>\n      <td>fructus hippophae</td>\n      <td>Warm; Sour; Punkery</td>\n      <td>Large Intestine; Stomach; Small Intestine; Liver</td>\n      <td>NaN</td>\n      <td>NaN</td>\n      <td>NaN</td>\n      <td>NaN</td>\n      <td>NaN</td>\n      <td>Phlegresolving Medicine</td>\n      <td>化痰药</td>\n      <td>HERB004849</td>\n      <td>SMHB00353</td>\n      <td>6230.0</td>\n      <td>353.0</td>\n      <td>613.0</td>\n      <td>0.999437</td>\n    </tr>\n    <tr>\n      <th>3</th>\n      <td>HVM2859</td>\n      <td>荞麦</td>\n      <td>QIAO MAI</td>\n      <td>Common Buckwheat</td>\n      <td>Fagopyrum esculentum</td>\n      <td>NaN</td>\n      <td>NaN</td>\n      <td>seed</td>\n      <td>To fortify spleen and disperse accumulation, p...</td>\n      <td>Gastrointestinal accumulation, diarrhea, dysen...</td>\n      <td>NaN</td>\n      <td>NaN</td>\n      <td>NaN</td>\n      <td>NaN</td>\n      <td>HERB004488</td>\n      <td>NaN</td>\n      <td>1877.0</td>\n      <td>NaN</td>\n      <td>NaN</td>\n      <td>0.999431</td>\n    </tr>\n    <tr>\n      <th>4</th>\n      <td>HVM1308</td>\n      <td>广枣</td>\n      <td>GUANG ZAO</td>\n      <td>fruit of Axillary choerospondias</td>\n      <td>Fructus Choerospondiatis</td>\n      <td>Cold; Sour; Punkery</td>\n      <td>Spleen; Liver</td>\n      <td>NaN</td>\n      <td>To promote the flow of qi and blood, to replen...</td>\n      <td>Treatment of stagnation of qi and blood with p...</td>\n      <td>NaN</td>\n      <td>NaN</td>\n      <td>Blood Activating Stasis Removing Drugs</td>\n      <td>活血祛瘀药</td>\n      <td>HERB002040</td>\n      <td>SMHB00152</td>\n      <td>1671.0</td>\n      <td>152.0</td>\n      <td>296.0</td>\n      <td>0.999149</td>\n    </tr>\n    <tr>\n      <th>...</th>\n      <td>...</td>\n      <td>...</td>\n      <td>...</td>\n      <td>...</td>\n      <td>...</td>\n      <td>...</td>\n      <td>...</td>\n      <td>...</td>\n      <td>...</td>\n      <td>...</td>\n      <td>...</td>\n      <td>...</td>\n      <td>...</td>\n      <td>...</td>\n      <td>...</td>\n      <td>...</td>\n      <td>...</td>\n      <td>...</td>\n      <td>...</td>\n      <td>...</td>\n    </tr>\n    <tr>\n      <th>1266</th>\n      <td>HVM1229</td>\n      <td>构树</td>\n      <td>GOU SHU</td>\n      <td>Common Papermulberry</td>\n      <td>Broussonetia papyrifera</td>\n      <td>NaN</td>\n      <td>NaN</td>\n      <td>branch</td>\n      <td>To dispel wind, brighten eyes, disinhibit urine.</td>\n      <td>Wind papules, red eyes with gall, inhibited ur...</td>\n      <td>NaN</td>\n      <td>NaN</td>\n      <td>NaN</td>\n      <td>NaN</td>\n      <td>HERB001920</td>\n      <td>NaN</td>\n      <td>7200.0</td>\n      <td>NaN</td>\n      <td>NaN</td>\n      <td>0.150000</td>\n    </tr>\n    <tr>\n      <th>1267</th>\n      <td>HVM2861</td>\n      <td>乔木刺桐</td>\n      <td>QIAO MU CI TONG</td>\n      <td>Himalayan Coralbean Equivalent plant: Erythrin...</td>\n      <td>Erythrina arborescens</td>\n      <td>NaN</td>\n      <td>NaN</td>\n      <td>dried bark or root cortex</td>\n      <td>To dispel wind and eliminate damp, soothe sine...</td>\n      <td>Wind-damp impediment pain, hypertonicity in li...</td>\n      <td>NaN</td>\n      <td>NaN</td>\n      <td>NaN</td>\n      <td>NaN</td>\n      <td>HERB004490</td>\n      <td>NaN</td>\n      <td>4911.0</td>\n      <td>NaN</td>\n      <td>NaN</td>\n      <td>0.150000</td>\n    </tr>\n    <tr>\n      <th>1268</th>\n      <td>HVM0530</td>\n      <td>穿破石</td>\n      <td>CHUAN PO SHI</td>\n      <td>root of Tricuspid cudrania</td>\n      <td>Radix Cudraniae</td>\n      <td>Cool; Slightly Bitter; Neutral</td>\n      <td>Liver; Heart</td>\n      <td>NaN</td>\n      <td>1. To remove blood stasis, alleviate pain, exp...</td>\n      <td>1. To remove blood stasis, alleviate pain, exp...</td>\n      <td>NaN</td>\n      <td>NaN</td>\n      <td>NaN</td>\n      <td>NaN</td>\n      <td>HERB000873</td>\n      <td>NaN</td>\n      <td>7116.0</td>\n      <td>NaN</td>\n      <td>112.0</td>\n      <td>0.150000</td>\n    </tr>\n    <tr>\n      <th>1269</th>\n      <td>HVM1637</td>\n      <td>黄大豆</td>\n      <td>HUANG DA DOU</td>\n      <td>Semen Glycines max</td>\n      <td>NaN</td>\n      <td>NaN</td>\n      <td>NaN</td>\n      <td>NaN</td>\n      <td>NaN</td>\n      <td>NaN</td>\n      <td>NaN</td>\n      <td>NaN</td>\n      <td>NaN</td>\n      <td>NaN</td>\n      <td>HERB002493</td>\n      <td>NaN</td>\n      <td>4946.0</td>\n      <td>NaN</td>\n      <td>NaN</td>\n      <td>0.150000</td>\n    </tr>\n    <tr>\n      <th>1270</th>\n      <td>HVM2751</td>\n      <td>攀援鱼藤</td>\n      <td>PAN YUAN YU TENG</td>\n      <td>Climbing Jewelvine</td>\n      <td>Derris scandens</td>\n      <td>NaN</td>\n      <td>NaN</td>\n      <td>NaN</td>\n      <td>NaN</td>\n      <td>NaN</td>\n      <td>NaN</td>\n      <td>NaN</td>\n      <td>NaN</td>\n      <td>NaN</td>\n      <td>HERB004313</td>\n      <td>NaN</td>\n      <td>2770.0</td>\n      <td>NaN</td>\n      <td>NaN</td>\n      <td>0.150000</td>\n    </tr>\n  </tbody>\n</table>\n<p>1271 rows × 20 columns</p>\n</div>"
     },
     "execution_count": 10,
     "metadata": {},
     "output_type": "execute_result"
    }
   ],
   "source": [
    "tcm"
   ],
   "metadata": {
    "collapsed": false,
    "ExecuteTime": {
     "end_time": "2023-06-05T09:46:23.935256800Z",
     "start_time": "2023-06-05T09:46:23.885258Z"
    }
   }
  },
  {
   "cell_type": "code",
   "execution_count": 19,
   "outputs": [
    {
     "data": {
      "text/plain": "        HVMID    HVCID\n0     HVM0018  HVC0302\n1     HVM0018  HVC5478\n2     HVM0026  HVC0462\n3     HVM0029  HVC0533\n4     HVM0029  HVC0462\n...       ...      ...\n3134  HVM4654  HVC0533\n3135  HVM4654  HVC4804\n3136  HVM4654  HVC2086\n3137  HVM4654  HVC0252\n3138  HVM4663  HVC2710\n\n[3139 rows x 2 columns]",
      "text/html": "<div>\n<style scoped>\n    .dataframe tbody tr th:only-of-type {\n        vertical-align: middle;\n    }\n\n    .dataframe tbody tr th {\n        vertical-align: top;\n    }\n\n    .dataframe thead th {\n        text-align: right;\n    }\n</style>\n<table border=\"1\" class=\"dataframe\">\n  <thead>\n    <tr style=\"text-align: right;\">\n      <th></th>\n      <th>HVMID</th>\n      <th>HVCID</th>\n    </tr>\n  </thead>\n  <tbody>\n    <tr>\n      <th>0</th>\n      <td>HVM0018</td>\n      <td>HVC0302</td>\n    </tr>\n    <tr>\n      <th>1</th>\n      <td>HVM0018</td>\n      <td>HVC5478</td>\n    </tr>\n    <tr>\n      <th>2</th>\n      <td>HVM0026</td>\n      <td>HVC0462</td>\n    </tr>\n    <tr>\n      <th>3</th>\n      <td>HVM0029</td>\n      <td>HVC0533</td>\n    </tr>\n    <tr>\n      <th>4</th>\n      <td>HVM0029</td>\n      <td>HVC0462</td>\n    </tr>\n    <tr>\n      <th>...</th>\n      <td>...</td>\n      <td>...</td>\n    </tr>\n    <tr>\n      <th>3134</th>\n      <td>HVM4654</td>\n      <td>HVC0533</td>\n    </tr>\n    <tr>\n      <th>3135</th>\n      <td>HVM4654</td>\n      <td>HVC4804</td>\n    </tr>\n    <tr>\n      <th>3136</th>\n      <td>HVM4654</td>\n      <td>HVC2086</td>\n    </tr>\n    <tr>\n      <th>3137</th>\n      <td>HVM4654</td>\n      <td>HVC0252</td>\n    </tr>\n    <tr>\n      <th>3138</th>\n      <td>HVM4663</td>\n      <td>HVC2710</td>\n    </tr>\n  </tbody>\n</table>\n<p>3139 rows × 2 columns</p>\n</div>"
     },
     "execution_count": 19,
     "metadata": {},
     "output_type": "execute_result"
    }
   ],
   "source": [
    "tcm_chem_links"
   ],
   "metadata": {
    "collapsed": false,
    "ExecuteTime": {
     "end_time": "2023-05-30T02:14:59.631855400Z",
     "start_time": "2023-05-30T02:14:59.461718300Z"
    }
   }
  },
  {
   "cell_type": "code",
   "execution_count": 20,
   "outputs": [
    {
     "data": {
      "text/plain": "       HVCID                 Name  \\\n0    HVC0004  dihydrotestosterone   \n1    HVC0022  5-hydroxytryptophan   \n2    HVC0025              acetate   \n3    HVC0026         acetaldehyde   \n4    HVC0029              acetone   \n..       ...                  ...   \n181  HVC5622            casuariin   \n182  HVC5717             AC1NSVFA   \n183  HVC6092      ganglioside GM1   \n184  HVC6114              melanin   \n185  HVC6130             selenium   \n\n                                                SMILES     CAS_id  \\\n0                   CC12CCC(=O)CC1CCC3C2CCC4(C3CCC4O)C        NaN   \n1                    C1=CC2=C(C=C1O)C(=CN2)CC(C(=O)O)N        NaN   \n2                                           CC(=O)[O-]        NaN   \n3                                                 CC=O    75-07-0   \n4                                              CC(=O)C        NaN   \n..                                                 ...        ...   \n181  C1C(C(OC(=O)C2=CC(=C(C(=C2C3=C(C(=C(C=C3C(=O)O...        NaN   \n182           CC1CC2=C(C=C(C=C2)O)C(C1C)C3=CC=C(C=C3)O        NaN   \n183  CCCCCCCCCCCCCCCCCC(=O)NC(COC1C(C(C(C(O1)CO)OC2...        NaN   \n184  CC1=C2C3=C(C4=CNC5=C(C(=O)C(=O)C(=C45)C3=CN2)C...  8049-97-6   \n185                                               [Se]        NaN   \n\n      PubChem_id DrugBank_id     STITCH_id     HERB_id  Importance Score  \n0        10635.0         NaN  CIDm00000015  HBIN023995             0.588  \n1       439280.0         NaN  CIDm00000144  HBIN011695             0.256  \n2          175.0         NaN  CIDm00000175  HBIN014391             0.521  \n3          177.0         NaN  CIDm00000177  HBIN014388             0.521  \n4          180.0         NaN  CIDm00000180  HBIN014420             0.390  \n..           ...         ...           ...         ...               ...  \n181  100927666.0         NaN  CIDm05315735  HBIN011516             0.248  \n182          NaN         NaN  CIDm05317327  HBIN026411             0.167  \n183          NaN         NaN  CIDm05497107  HBIN027198             0.256  \n184    6325610.0         NaN  CIDm06325610  HBIN034656             0.256  \n185    6326970.0         NaN  CIDm06326970  HBIN043546             0.150  \n\n[186 rows x 9 columns]",
      "text/html": "<div>\n<style scoped>\n    .dataframe tbody tr th:only-of-type {\n        vertical-align: middle;\n    }\n\n    .dataframe tbody tr th {\n        vertical-align: top;\n    }\n\n    .dataframe thead th {\n        text-align: right;\n    }\n</style>\n<table border=\"1\" class=\"dataframe\">\n  <thead>\n    <tr style=\"text-align: right;\">\n      <th></th>\n      <th>HVCID</th>\n      <th>Name</th>\n      <th>SMILES</th>\n      <th>CAS_id</th>\n      <th>PubChem_id</th>\n      <th>DrugBank_id</th>\n      <th>STITCH_id</th>\n      <th>HERB_id</th>\n      <th>Importance Score</th>\n    </tr>\n  </thead>\n  <tbody>\n    <tr>\n      <th>0</th>\n      <td>HVC0004</td>\n      <td>dihydrotestosterone</td>\n      <td>CC12CCC(=O)CC1CCC3C2CCC4(C3CCC4O)C</td>\n      <td>NaN</td>\n      <td>10635.0</td>\n      <td>NaN</td>\n      <td>CIDm00000015</td>\n      <td>HBIN023995</td>\n      <td>0.588</td>\n    </tr>\n    <tr>\n      <th>1</th>\n      <td>HVC0022</td>\n      <td>5-hydroxytryptophan</td>\n      <td>C1=CC2=C(C=C1O)C(=CN2)CC(C(=O)O)N</td>\n      <td>NaN</td>\n      <td>439280.0</td>\n      <td>NaN</td>\n      <td>CIDm00000144</td>\n      <td>HBIN011695</td>\n      <td>0.256</td>\n    </tr>\n    <tr>\n      <th>2</th>\n      <td>HVC0025</td>\n      <td>acetate</td>\n      <td>CC(=O)[O-]</td>\n      <td>NaN</td>\n      <td>175.0</td>\n      <td>NaN</td>\n      <td>CIDm00000175</td>\n      <td>HBIN014391</td>\n      <td>0.521</td>\n    </tr>\n    <tr>\n      <th>3</th>\n      <td>HVC0026</td>\n      <td>acetaldehyde</td>\n      <td>CC=O</td>\n      <td>75-07-0</td>\n      <td>177.0</td>\n      <td>NaN</td>\n      <td>CIDm00000177</td>\n      <td>HBIN014388</td>\n      <td>0.521</td>\n    </tr>\n    <tr>\n      <th>4</th>\n      <td>HVC0029</td>\n      <td>acetone</td>\n      <td>CC(=O)C</td>\n      <td>NaN</td>\n      <td>180.0</td>\n      <td>NaN</td>\n      <td>CIDm00000180</td>\n      <td>HBIN014420</td>\n      <td>0.390</td>\n    </tr>\n    <tr>\n      <th>...</th>\n      <td>...</td>\n      <td>...</td>\n      <td>...</td>\n      <td>...</td>\n      <td>...</td>\n      <td>...</td>\n      <td>...</td>\n      <td>...</td>\n      <td>...</td>\n    </tr>\n    <tr>\n      <th>181</th>\n      <td>HVC5622</td>\n      <td>casuariin</td>\n      <td>C1C(C(OC(=O)C2=CC(=C(C(=C2C3=C(C(=C(C=C3C(=O)O...</td>\n      <td>NaN</td>\n      <td>100927666.0</td>\n      <td>NaN</td>\n      <td>CIDm05315735</td>\n      <td>HBIN011516</td>\n      <td>0.248</td>\n    </tr>\n    <tr>\n      <th>182</th>\n      <td>HVC5717</td>\n      <td>AC1NSVFA</td>\n      <td>CC1CC2=C(C=C(C=C2)O)C(C1C)C3=CC=C(C=C3)O</td>\n      <td>NaN</td>\n      <td>NaN</td>\n      <td>NaN</td>\n      <td>CIDm05317327</td>\n      <td>HBIN026411</td>\n      <td>0.167</td>\n    </tr>\n    <tr>\n      <th>183</th>\n      <td>HVC6092</td>\n      <td>ganglioside GM1</td>\n      <td>CCCCCCCCCCCCCCCCCC(=O)NC(COC1C(C(C(C(O1)CO)OC2...</td>\n      <td>NaN</td>\n      <td>NaN</td>\n      <td>NaN</td>\n      <td>CIDm05497107</td>\n      <td>HBIN027198</td>\n      <td>0.256</td>\n    </tr>\n    <tr>\n      <th>184</th>\n      <td>HVC6114</td>\n      <td>melanin</td>\n      <td>CC1=C2C3=C(C4=CNC5=C(C(=O)C(=O)C(=C45)C3=CN2)C...</td>\n      <td>8049-97-6</td>\n      <td>6325610.0</td>\n      <td>NaN</td>\n      <td>CIDm06325610</td>\n      <td>HBIN034656</td>\n      <td>0.256</td>\n    </tr>\n    <tr>\n      <th>185</th>\n      <td>HVC6130</td>\n      <td>selenium</td>\n      <td>[Se]</td>\n      <td>NaN</td>\n      <td>6326970.0</td>\n      <td>NaN</td>\n      <td>CIDm06326970</td>\n      <td>HBIN043546</td>\n      <td>0.150</td>\n    </tr>\n  </tbody>\n</table>\n<p>186 rows × 9 columns</p>\n</div>"
     },
     "execution_count": 20,
     "metadata": {},
     "output_type": "execute_result"
    }
   ],
   "source": [
    "chem"
   ],
   "metadata": {
    "collapsed": false,
    "ExecuteTime": {
     "end_time": "2023-05-30T02:14:59.782112800Z",
     "start_time": "2023-05-30T02:14:59.497121200Z"
    }
   }
  },
  {
   "cell_type": "code",
   "execution_count": 21,
   "outputs": [
    {
     "data": {
      "text/plain": "       HVCID       Ensembl_ID  Combined_score\n0    HVC6130  ENSP00000381588           0.150\n1    HVC6114  ENSP00000381588           0.256\n2    HVC6092  ENSP00000381588           0.256\n3    HVC5717  ENSP00000381588           0.167\n4    HVC5622  ENSP00000381588           0.248\n..       ...              ...             ...\n185  HVC0029  ENSP00000381588           0.390\n186  HVC0026  ENSP00000381588           0.521\n187  HVC0025  ENSP00000381588           0.521\n188  HVC0022  ENSP00000381588           0.256\n189  HVC0004  ENSP00000381588           0.588\n\n[190 rows x 3 columns]",
      "text/html": "<div>\n<style scoped>\n    .dataframe tbody tr th:only-of-type {\n        vertical-align: middle;\n    }\n\n    .dataframe tbody tr th {\n        vertical-align: top;\n    }\n\n    .dataframe thead th {\n        text-align: right;\n    }\n</style>\n<table border=\"1\" class=\"dataframe\">\n  <thead>\n    <tr style=\"text-align: right;\">\n      <th></th>\n      <th>HVCID</th>\n      <th>Ensembl_ID</th>\n      <th>Combined_score</th>\n    </tr>\n  </thead>\n  <tbody>\n    <tr>\n      <th>0</th>\n      <td>HVC6130</td>\n      <td>ENSP00000381588</td>\n      <td>0.150</td>\n    </tr>\n    <tr>\n      <th>1</th>\n      <td>HVC6114</td>\n      <td>ENSP00000381588</td>\n      <td>0.256</td>\n    </tr>\n    <tr>\n      <th>2</th>\n      <td>HVC6092</td>\n      <td>ENSP00000381588</td>\n      <td>0.256</td>\n    </tr>\n    <tr>\n      <th>3</th>\n      <td>HVC5717</td>\n      <td>ENSP00000381588</td>\n      <td>0.167</td>\n    </tr>\n    <tr>\n      <th>4</th>\n      <td>HVC5622</td>\n      <td>ENSP00000381588</td>\n      <td>0.248</td>\n    </tr>\n    <tr>\n      <th>...</th>\n      <td>...</td>\n      <td>...</td>\n      <td>...</td>\n    </tr>\n    <tr>\n      <th>185</th>\n      <td>HVC0029</td>\n      <td>ENSP00000381588</td>\n      <td>0.390</td>\n    </tr>\n    <tr>\n      <th>186</th>\n      <td>HVC0026</td>\n      <td>ENSP00000381588</td>\n      <td>0.521</td>\n    </tr>\n    <tr>\n      <th>187</th>\n      <td>HVC0025</td>\n      <td>ENSP00000381588</td>\n      <td>0.521</td>\n    </tr>\n    <tr>\n      <th>188</th>\n      <td>HVC0022</td>\n      <td>ENSP00000381588</td>\n      <td>0.256</td>\n    </tr>\n    <tr>\n      <th>189</th>\n      <td>HVC0004</td>\n      <td>ENSP00000381588</td>\n      <td>0.588</td>\n    </tr>\n  </tbody>\n</table>\n<p>190 rows × 3 columns</p>\n</div>"
     },
     "execution_count": 21,
     "metadata": {},
     "output_type": "execute_result"
    }
   ],
   "source": [
    "chem_protein_links"
   ],
   "metadata": {
    "collapsed": false,
    "ExecuteTime": {
     "end_time": "2023-05-30T02:14:59.782112800Z",
     "start_time": "2023-05-30T02:14:59.523343400Z"
    }
   }
  },
  {
   "cell_type": "code",
   "execution_count": 22,
   "outputs": [
    {
     "data": {
      "text/plain": "        Ensembl_ID protein_name gene_name\n0  ENSP00000381588          NaN   TMPRSS2\n1  ENSP00000252519          NaN      ACE2",
      "text/html": "<div>\n<style scoped>\n    .dataframe tbody tr th:only-of-type {\n        vertical-align: middle;\n    }\n\n    .dataframe tbody tr th {\n        vertical-align: top;\n    }\n\n    .dataframe thead th {\n        text-align: right;\n    }\n</style>\n<table border=\"1\" class=\"dataframe\">\n  <thead>\n    <tr style=\"text-align: right;\">\n      <th></th>\n      <th>Ensembl_ID</th>\n      <th>protein_name</th>\n      <th>gene_name</th>\n    </tr>\n  </thead>\n  <tbody>\n    <tr>\n      <th>0</th>\n      <td>ENSP00000381588</td>\n      <td>NaN</td>\n      <td>TMPRSS2</td>\n    </tr>\n    <tr>\n      <th>1</th>\n      <td>ENSP00000252519</td>\n      <td>NaN</td>\n      <td>ACE2</td>\n    </tr>\n  </tbody>\n</table>\n</div>"
     },
     "execution_count": 22,
     "metadata": {},
     "output_type": "execute_result"
    }
   ],
   "source": [
    "proteins"
   ],
   "metadata": {
    "collapsed": false,
    "ExecuteTime": {
     "end_time": "2023-05-30T02:14:59.829685100Z",
     "start_time": "2023-05-30T02:14:59.571288600Z"
    }
   }
  },
  {
   "cell_type": "code",
   "execution_count": 18,
   "outputs": [
    {
     "data": {
      "text/plain": "               items  Importance Score         Boost\n0    HVP6126;HVP0046               1.0  7.179671e-09\n1    HVP0249;HVP6126               1.0  6.670587e-09\n2    HVP0249;HVP5899               1.0  6.670587e-09\n3    HVP0300;HVP5899               1.0  6.286480e-09\n4    HVP0606;HVP0300               1.0  6.286480e-09\n..               ...               ...           ...\n995  HVP0376;HVP0894               1.0  5.551115e-16\n996  HVP0376;HVP6019               1.0  5.551115e-16\n997  HVP0376;HVP0974               1.0  5.551115e-16\n998  HVP0376;HVP5800               1.0  5.551115e-16\n999  HVP0376;HVP3769               1.0  5.551115e-16\n\n[1000 rows x 3 columns]",
      "text/html": "<div>\n<style scoped>\n    .dataframe tbody tr th:only-of-type {\n        vertical-align: middle;\n    }\n\n    .dataframe tbody tr th {\n        vertical-align: top;\n    }\n\n    .dataframe thead th {\n        text-align: right;\n    }\n</style>\n<table border=\"1\" class=\"dataframe\">\n  <thead>\n    <tr style=\"text-align: right;\">\n      <th></th>\n      <th>items</th>\n      <th>Importance Score</th>\n      <th>Boost</th>\n    </tr>\n  </thead>\n  <tbody>\n    <tr>\n      <th>0</th>\n      <td>HVP6126;HVP0046</td>\n      <td>1.0</td>\n      <td>7.179671e-09</td>\n    </tr>\n    <tr>\n      <th>1</th>\n      <td>HVP0249;HVP6126</td>\n      <td>1.0</td>\n      <td>6.670587e-09</td>\n    </tr>\n    <tr>\n      <th>2</th>\n      <td>HVP0249;HVP5899</td>\n      <td>1.0</td>\n      <td>6.670587e-09</td>\n    </tr>\n    <tr>\n      <th>3</th>\n      <td>HVP0300;HVP5899</td>\n      <td>1.0</td>\n      <td>6.286480e-09</td>\n    </tr>\n    <tr>\n      <th>4</th>\n      <td>HVP0606;HVP0300</td>\n      <td>1.0</td>\n      <td>6.286480e-09</td>\n    </tr>\n    <tr>\n      <th>...</th>\n      <td>...</td>\n      <td>...</td>\n      <td>...</td>\n    </tr>\n    <tr>\n      <th>995</th>\n      <td>HVP0376;HVP0894</td>\n      <td>1.0</td>\n      <td>5.551115e-16</td>\n    </tr>\n    <tr>\n      <th>996</th>\n      <td>HVP0376;HVP6019</td>\n      <td>1.0</td>\n      <td>5.551115e-16</td>\n    </tr>\n    <tr>\n      <th>997</th>\n      <td>HVP0376;HVP0974</td>\n      <td>1.0</td>\n      <td>5.551115e-16</td>\n    </tr>\n    <tr>\n      <th>998</th>\n      <td>HVP0376;HVP5800</td>\n      <td>1.0</td>\n      <td>5.551115e-16</td>\n    </tr>\n    <tr>\n      <th>999</th>\n      <td>HVP0376;HVP3769</td>\n      <td>1.0</td>\n      <td>5.551115e-16</td>\n    </tr>\n  </tbody>\n</table>\n<p>1000 rows × 3 columns</p>\n</div>"
     },
     "execution_count": 18,
     "metadata": {},
     "output_type": "execute_result"
    }
   ],
   "source": [
    "formulas"
   ],
   "metadata": {
    "collapsed": false,
    "ExecuteTime": {
     "end_time": "2023-06-05T09:52:34.897356600Z",
     "start_time": "2023-06-05T09:52:34.843848300Z"
    }
   }
  },
  {
   "cell_type": "code",
   "execution_count": 13,
   "outputs": [
    {
     "data": {
      "text/plain": "               items  Importance Score     Boost\n0    HVM2011;HVM3251          0.701423  0.522846\n1    HVM3806;HVM0892          0.660982  0.487920\n2    HVM0889;HVM4448          0.772979  0.452968\n3    HVM2789;HVM0736          0.779666  0.443794\n4    HVM1232;HVM1317          0.813754  0.383537\n..               ...               ...       ...\n995          HVM3153          0.997343  0.000000\n996          HVM1340          0.521000  0.000000\n997          HVM4315          0.586509  0.000000\n998          HVM2502          0.253000  0.000000\n999          HVM1308          0.999149  0.000000\n\n[1000 rows x 3 columns]",
      "text/html": "<div>\n<style scoped>\n    .dataframe tbody tr th:only-of-type {\n        vertical-align: middle;\n    }\n\n    .dataframe tbody tr th {\n        vertical-align: top;\n    }\n\n    .dataframe thead th {\n        text-align: right;\n    }\n</style>\n<table border=\"1\" class=\"dataframe\">\n  <thead>\n    <tr style=\"text-align: right;\">\n      <th></th>\n      <th>items</th>\n      <th>Importance Score</th>\n      <th>Boost</th>\n    </tr>\n  </thead>\n  <tbody>\n    <tr>\n      <th>0</th>\n      <td>HVM2011;HVM3251</td>\n      <td>0.701423</td>\n      <td>0.522846</td>\n    </tr>\n    <tr>\n      <th>1</th>\n      <td>HVM3806;HVM0892</td>\n      <td>0.660982</td>\n      <td>0.487920</td>\n    </tr>\n    <tr>\n      <th>2</th>\n      <td>HVM0889;HVM4448</td>\n      <td>0.772979</td>\n      <td>0.452968</td>\n    </tr>\n    <tr>\n      <th>3</th>\n      <td>HVM2789;HVM0736</td>\n      <td>0.779666</td>\n      <td>0.443794</td>\n    </tr>\n    <tr>\n      <th>4</th>\n      <td>HVM1232;HVM1317</td>\n      <td>0.813754</td>\n      <td>0.383537</td>\n    </tr>\n    <tr>\n      <th>...</th>\n      <td>...</td>\n      <td>...</td>\n      <td>...</td>\n    </tr>\n    <tr>\n      <th>995</th>\n      <td>HVM3153</td>\n      <td>0.997343</td>\n      <td>0.000000</td>\n    </tr>\n    <tr>\n      <th>996</th>\n      <td>HVM1340</td>\n      <td>0.521000</td>\n      <td>0.000000</td>\n    </tr>\n    <tr>\n      <th>997</th>\n      <td>HVM4315</td>\n      <td>0.586509</td>\n      <td>0.000000</td>\n    </tr>\n    <tr>\n      <th>998</th>\n      <td>HVM2502</td>\n      <td>0.253000</td>\n      <td>0.000000</td>\n    </tr>\n    <tr>\n      <th>999</th>\n      <td>HVM1308</td>\n      <td>0.999149</td>\n      <td>0.000000</td>\n    </tr>\n  </tbody>\n</table>\n<p>1000 rows × 3 columns</p>\n</div>"
     },
     "execution_count": 13,
     "metadata": {},
     "output_type": "execute_result"
    }
   ],
   "source": [
    "tcms"
   ],
   "metadata": {
    "collapsed": false,
    "ExecuteTime": {
     "end_time": "2023-06-05T09:47:18.778681400Z",
     "start_time": "2023-06-05T09:47:18.725685Z"
    }
   }
  },
  {
   "cell_type": "markdown",
   "source": [
    "# 给定中药和靶点进行分析"
   ],
   "metadata": {
    "collapsed": false
   }
  },
  {
   "cell_type": "code",
   "execution_count": 11,
   "outputs": [],
   "source": [
    "formula, formula_tcm_links, tcm, tcm_chem_links, chem, chem_protein_links, proteins = analysis.from_tcm_or_formula_protein(['HVP1625'],\n",
    "                                                                                                        ['ENSP00000252519'])"
   ],
   "metadata": {
    "collapsed": false,
    "ExecuteTime": {
     "end_time": "2023-06-03T04:21:57.227328Z",
     "start_time": "2023-06-03T04:21:56.629268700Z"
    }
   }
  },
  {
   "cell_type": "code",
   "execution_count": 3,
   "outputs": [
    {
     "data": {
      "text/plain": "     HVPID  name Prescription Composition Instructions  \\\n0  HVP1625  小柴胡汤                      NaN          NaN   \n\n                                  Treatment Symptoms Source Document  \\\n0  1. For cases with chest upset but withou vomit...   shang han lun   \n\n   Importance Score  \n0               1.0  ",
      "text/html": "<div>\n<style scoped>\n    .dataframe tbody tr th:only-of-type {\n        vertical-align: middle;\n    }\n\n    .dataframe tbody tr th {\n        vertical-align: top;\n    }\n\n    .dataframe thead th {\n        text-align: right;\n    }\n</style>\n<table border=\"1\" class=\"dataframe\">\n  <thead>\n    <tr style=\"text-align: right;\">\n      <th></th>\n      <th>HVPID</th>\n      <th>name</th>\n      <th>Prescription Composition</th>\n      <th>Instructions</th>\n      <th>Treatment Symptoms</th>\n      <th>Source Document</th>\n      <th>Importance Score</th>\n    </tr>\n  </thead>\n  <tbody>\n    <tr>\n      <th>0</th>\n      <td>HVP1625</td>\n      <td>小柴胡汤</td>\n      <td>NaN</td>\n      <td>NaN</td>\n      <td>1. For cases with chest upset but withou vomit...</td>\n      <td>shang han lun</td>\n      <td>1.0</td>\n    </tr>\n  </tbody>\n</table>\n</div>"
     },
     "execution_count": 3,
     "metadata": {},
     "output_type": "execute_result"
    }
   ],
   "source": [
    "formula"
   ],
   "metadata": {
    "collapsed": false,
    "ExecuteTime": {
     "end_time": "2023-06-03T04:20:15.778006300Z",
     "start_time": "2023-06-03T04:20:15.708845700Z"
    }
   }
  },
  {
   "cell_type": "code",
   "execution_count": 4,
   "outputs": [
    {
     "data": {
      "text/plain": "     HVMID cn_name  pinyin_name                   en_name  \\\n0  HVM0766      党参    DANG SHEN      root Pilose Asiabell   \n1  HVM0735      大枣       DA ZAO       Jujube Chinese date   \n2  HVM0367      柴胡      CHAI HU  root of Chinese Thorowax   \n3  HVM3203      生姜  SHENG JIANG              Fresh Ginger   \n4  HVM1695      黄芩    HUANG QIN   root of Baikal skullcap   \n\n                   latin_name                   Properties  \\\n0  Radix Codonopsis pilosulae                  Mild; Sweet   \n1     Fructus Zizyphi Jujubae                  Warm; Sweet   \n2              Radix Bupleuri  Minor cold; Pungent; Bitter   \n3   Rhizoma Zingiberis Recens                Warm; Pungent   \n4          Radix Scutellariae                 Cold; Bitter   \n\n                                           Meridians        UsePart  \\\n0                                       Lung; Spleen           root   \n1                                    Spleen; Stomach     ripe fruit   \n2                                 Liver; Gallbladder           root   \n3                              Lung; Spleen; Stomach  fresh rhizome   \n4  Lung; Large Intestine; Stomach; Small Intestin...           root   \n\n                                            Function  \\\n0  To reinforce qi and invigorate the function of...   \n1  To tonify the spleen and replenish qi, to nour...   \n2  To relieve fever, to soothe the liver, and to ...   \n3  To induce perspiration and dispel cold, to war...   \n4  To remove damp-heat, to quench fire and counte...   \n\n                                          Indication Toxicity  \\\n0  Spleen-stomach vacuity, reduced food intake an...      NaN   \n1  Reduced food intake due to spleen vacuity, lac...      NaN   \n2  Common cold, influenza, malaria, acute pancrea...      NaN   \n3  Wind-cold common cold, fever and aversion to w...      NaN   \n4  Chest oppression with retching, diarrhea, jaun...      NaN   \n\n                             Clinical_manifestations  \\\n0                                                NaN   \n1  1. Oral administration increases the level of ...   \n2  1. Increasing the hypotic effect of barbital i...   \n3  1. Oral administration can stimulate the bucca...   \n4  1. Possessing a broad-spectrum bacteriostatic ...   \n\n                         Therapeutic_en_class Therapeutic_cn_class  \\\n0                        Qi Reinforcing Drugs                  补气药   \n1                        Qi Reinforcing Drugs                  补气药   \n2                   Pungent Cool Diaphoretics                辛凉解表药   \n3   Pungent-Warm Exterior-Releasing Medicinal                辛温解表药   \n4  Heat-Clearing And Dampnessdrying Medicinal                清热燥湿药   \n\n      HERB_id   TCMID_id  TCM_ID_id  SymMap_id  TCMSP_id  Importance Score  \n0  HERB001211  SMHB00096     1345.0       96.0     203.0          0.995106  \n1  HERB001164  SMHB00090     1076.0       90.0     193.0          0.994532  \n2  HERB000638  SMHB00058     3396.0       58.0      80.0          0.993107  \n3  HERB005017  SMHB00367     7484.0      367.0     640.0          0.918045  \n4  HERB002563  SMHB00188     6700.0      188.0     371.0          0.586509  ",
      "text/html": "<div>\n<style scoped>\n    .dataframe tbody tr th:only-of-type {\n        vertical-align: middle;\n    }\n\n    .dataframe tbody tr th {\n        vertical-align: top;\n    }\n\n    .dataframe thead th {\n        text-align: right;\n    }\n</style>\n<table border=\"1\" class=\"dataframe\">\n  <thead>\n    <tr style=\"text-align: right;\">\n      <th></th>\n      <th>HVMID</th>\n      <th>cn_name</th>\n      <th>pinyin_name</th>\n      <th>en_name</th>\n      <th>latin_name</th>\n      <th>Properties</th>\n      <th>Meridians</th>\n      <th>UsePart</th>\n      <th>Function</th>\n      <th>Indication</th>\n      <th>Toxicity</th>\n      <th>Clinical_manifestations</th>\n      <th>Therapeutic_en_class</th>\n      <th>Therapeutic_cn_class</th>\n      <th>HERB_id</th>\n      <th>TCMID_id</th>\n      <th>TCM_ID_id</th>\n      <th>SymMap_id</th>\n      <th>TCMSP_id</th>\n      <th>Importance Score</th>\n    </tr>\n  </thead>\n  <tbody>\n    <tr>\n      <th>0</th>\n      <td>HVM0766</td>\n      <td>党参</td>\n      <td>DANG SHEN</td>\n      <td>root Pilose Asiabell</td>\n      <td>Radix Codonopsis pilosulae</td>\n      <td>Mild; Sweet</td>\n      <td>Lung; Spleen</td>\n      <td>root</td>\n      <td>To reinforce qi and invigorate the function of...</td>\n      <td>Spleen-stomach vacuity, reduced food intake an...</td>\n      <td>NaN</td>\n      <td>NaN</td>\n      <td>Qi Reinforcing Drugs</td>\n      <td>补气药</td>\n      <td>HERB001211</td>\n      <td>SMHB00096</td>\n      <td>1345.0</td>\n      <td>96.0</td>\n      <td>203.0</td>\n      <td>0.995106</td>\n    </tr>\n    <tr>\n      <th>1</th>\n      <td>HVM0735</td>\n      <td>大枣</td>\n      <td>DA ZAO</td>\n      <td>Jujube Chinese date</td>\n      <td>Fructus Zizyphi Jujubae</td>\n      <td>Warm; Sweet</td>\n      <td>Spleen; Stomach</td>\n      <td>ripe fruit</td>\n      <td>To tonify the spleen and replenish qi, to nour...</td>\n      <td>Reduced food intake due to spleen vacuity, lac...</td>\n      <td>NaN</td>\n      <td>1. Oral administration increases the level of ...</td>\n      <td>Qi Reinforcing Drugs</td>\n      <td>补气药</td>\n      <td>HERB001164</td>\n      <td>SMHB00090</td>\n      <td>1076.0</td>\n      <td>90.0</td>\n      <td>193.0</td>\n      <td>0.994532</td>\n    </tr>\n    <tr>\n      <th>2</th>\n      <td>HVM0367</td>\n      <td>柴胡</td>\n      <td>CHAI HU</td>\n      <td>root of Chinese Thorowax</td>\n      <td>Radix Bupleuri</td>\n      <td>Minor cold; Pungent; Bitter</td>\n      <td>Liver; Gallbladder</td>\n      <td>root</td>\n      <td>To relieve fever, to soothe the liver, and to ...</td>\n      <td>Common cold, influenza, malaria, acute pancrea...</td>\n      <td>NaN</td>\n      <td>1. Increasing the hypotic effect of barbital i...</td>\n      <td>Pungent Cool Diaphoretics</td>\n      <td>辛凉解表药</td>\n      <td>HERB000638</td>\n      <td>SMHB00058</td>\n      <td>3396.0</td>\n      <td>58.0</td>\n      <td>80.0</td>\n      <td>0.993107</td>\n    </tr>\n    <tr>\n      <th>3</th>\n      <td>HVM3203</td>\n      <td>生姜</td>\n      <td>SHENG JIANG</td>\n      <td>Fresh Ginger</td>\n      <td>Rhizoma Zingiberis Recens</td>\n      <td>Warm; Pungent</td>\n      <td>Lung; Spleen; Stomach</td>\n      <td>fresh rhizome</td>\n      <td>To induce perspiration and dispel cold, to war...</td>\n      <td>Wind-cold common cold, fever and aversion to w...</td>\n      <td>NaN</td>\n      <td>1. Oral administration can stimulate the bucca...</td>\n      <td>Pungent-Warm Exterior-Releasing Medicinal</td>\n      <td>辛温解表药</td>\n      <td>HERB005017</td>\n      <td>SMHB00367</td>\n      <td>7484.0</td>\n      <td>367.0</td>\n      <td>640.0</td>\n      <td>0.918045</td>\n    </tr>\n    <tr>\n      <th>4</th>\n      <td>HVM1695</td>\n      <td>黄芩</td>\n      <td>HUANG QIN</td>\n      <td>root of Baikal skullcap</td>\n      <td>Radix Scutellariae</td>\n      <td>Cold; Bitter</td>\n      <td>Lung; Large Intestine; Stomach; Small Intestin...</td>\n      <td>root</td>\n      <td>To remove damp-heat, to quench fire and counte...</td>\n      <td>Chest oppression with retching, diarrhea, jaun...</td>\n      <td>NaN</td>\n      <td>1. Possessing a broad-spectrum bacteriostatic ...</td>\n      <td>Heat-Clearing And Dampnessdrying Medicinal</td>\n      <td>清热燥湿药</td>\n      <td>HERB002563</td>\n      <td>SMHB00188</td>\n      <td>6700.0</td>\n      <td>188.0</td>\n      <td>371.0</td>\n      <td>0.586509</td>\n    </tr>\n  </tbody>\n</table>\n</div>"
     },
     "execution_count": 4,
     "metadata": {},
     "output_type": "execute_result"
    }
   ],
   "source": [
    "tcm"
   ],
   "metadata": {
    "collapsed": false,
    "ExecuteTime": {
     "end_time": "2023-06-03T04:20:16.638494800Z",
     "start_time": "2023-06-03T04:20:16.589502800Z"
    }
   }
  },
  {
   "cell_type": "code",
   "execution_count": 5,
   "outputs": [
    {
     "data": {
      "text/plain": "          HVMID              HVCID\n0       CHAI HU          capsaicin\n1       CHAI HU          capsaicin\n2       CHAI HU            glucose\n3       CHAI HU         tryptophan\n4       CHAI HU      linoleic acid\n5       CHAI HU            eugenol\n6       CHAI HU            glucose\n7       CHAI HU             phenol\n8       CHAI HU  isoliquiritigenin\n9       CHAI HU      linoleic acid\n10      CHAI HU             phenol\n11      CHAI HU           biphenyl\n12      CHAI HU              rutin\n13      CHAI HU         tryptophan\n14       DA ZAO          aspartate\n15       DA ZAO           carotene\n16       DA ZAO      linoleic acid\n17       DA ZAO            glucose\n18       DA ZAO          protopine\n19       DA ZAO            leucine\n20       DA ZAO      linoleic acid\n21       DA ZAO            alanine\n22       DA ZAO           L-valine\n23       DA ZAO          protopine\n24       DA ZAO              rutin\n25    DANG SHEN           butyrate\n26    DANG SHEN            butanol\n27    DANG SHEN          capsaicin\n28    DANG SHEN          capsaicin\n29    DANG SHEN      fangchinoline\n30    DANG SHEN      linoleic acid\n31    DANG SHEN            glucose\n32    DANG SHEN            glucose\n33    DANG SHEN             phenol\n34    DANG SHEN             fucose\n35    DANG SHEN         tryptophan\n36    HUANG QIN      linoleic acid\n37    HUANG QIN            eugenol\n38    HUANG QIN            wogonin\n39  SHENG JIANG        cyclohexane\n40  SHENG JIANG      linoleic acid\n41  SHENG JIANG       acetaldehyde\n42  SHENG JIANG            eugenol\n43  SHENG JIANG            menthol\n44  SHENG JIANG            ethanol",
      "text/html": "<div>\n<style scoped>\n    .dataframe tbody tr th:only-of-type {\n        vertical-align: middle;\n    }\n\n    .dataframe tbody tr th {\n        vertical-align: top;\n    }\n\n    .dataframe thead th {\n        text-align: right;\n    }\n</style>\n<table border=\"1\" class=\"dataframe\">\n  <thead>\n    <tr style=\"text-align: right;\">\n      <th></th>\n      <th>HVMID</th>\n      <th>HVCID</th>\n    </tr>\n  </thead>\n  <tbody>\n    <tr>\n      <th>0</th>\n      <td>CHAI HU</td>\n      <td>capsaicin</td>\n    </tr>\n    <tr>\n      <th>1</th>\n      <td>CHAI HU</td>\n      <td>capsaicin</td>\n    </tr>\n    <tr>\n      <th>2</th>\n      <td>CHAI HU</td>\n      <td>glucose</td>\n    </tr>\n    <tr>\n      <th>3</th>\n      <td>CHAI HU</td>\n      <td>tryptophan</td>\n    </tr>\n    <tr>\n      <th>4</th>\n      <td>CHAI HU</td>\n      <td>linoleic acid</td>\n    </tr>\n    <tr>\n      <th>5</th>\n      <td>CHAI HU</td>\n      <td>eugenol</td>\n    </tr>\n    <tr>\n      <th>6</th>\n      <td>CHAI HU</td>\n      <td>glucose</td>\n    </tr>\n    <tr>\n      <th>7</th>\n      <td>CHAI HU</td>\n      <td>phenol</td>\n    </tr>\n    <tr>\n      <th>8</th>\n      <td>CHAI HU</td>\n      <td>isoliquiritigenin</td>\n    </tr>\n    <tr>\n      <th>9</th>\n      <td>CHAI HU</td>\n      <td>linoleic acid</td>\n    </tr>\n    <tr>\n      <th>10</th>\n      <td>CHAI HU</td>\n      <td>phenol</td>\n    </tr>\n    <tr>\n      <th>11</th>\n      <td>CHAI HU</td>\n      <td>biphenyl</td>\n    </tr>\n    <tr>\n      <th>12</th>\n      <td>CHAI HU</td>\n      <td>rutin</td>\n    </tr>\n    <tr>\n      <th>13</th>\n      <td>CHAI HU</td>\n      <td>tryptophan</td>\n    </tr>\n    <tr>\n      <th>14</th>\n      <td>DA ZAO</td>\n      <td>aspartate</td>\n    </tr>\n    <tr>\n      <th>15</th>\n      <td>DA ZAO</td>\n      <td>carotene</td>\n    </tr>\n    <tr>\n      <th>16</th>\n      <td>DA ZAO</td>\n      <td>linoleic acid</td>\n    </tr>\n    <tr>\n      <th>17</th>\n      <td>DA ZAO</td>\n      <td>glucose</td>\n    </tr>\n    <tr>\n      <th>18</th>\n      <td>DA ZAO</td>\n      <td>protopine</td>\n    </tr>\n    <tr>\n      <th>19</th>\n      <td>DA ZAO</td>\n      <td>leucine</td>\n    </tr>\n    <tr>\n      <th>20</th>\n      <td>DA ZAO</td>\n      <td>linoleic acid</td>\n    </tr>\n    <tr>\n      <th>21</th>\n      <td>DA ZAO</td>\n      <td>alanine</td>\n    </tr>\n    <tr>\n      <th>22</th>\n      <td>DA ZAO</td>\n      <td>L-valine</td>\n    </tr>\n    <tr>\n      <th>23</th>\n      <td>DA ZAO</td>\n      <td>protopine</td>\n    </tr>\n    <tr>\n      <th>24</th>\n      <td>DA ZAO</td>\n      <td>rutin</td>\n    </tr>\n    <tr>\n      <th>25</th>\n      <td>DANG SHEN</td>\n      <td>butyrate</td>\n    </tr>\n    <tr>\n      <th>26</th>\n      <td>DANG SHEN</td>\n      <td>butanol</td>\n    </tr>\n    <tr>\n      <th>27</th>\n      <td>DANG SHEN</td>\n      <td>capsaicin</td>\n    </tr>\n    <tr>\n      <th>28</th>\n      <td>DANG SHEN</td>\n      <td>capsaicin</td>\n    </tr>\n    <tr>\n      <th>29</th>\n      <td>DANG SHEN</td>\n      <td>fangchinoline</td>\n    </tr>\n    <tr>\n      <th>30</th>\n      <td>DANG SHEN</td>\n      <td>linoleic acid</td>\n    </tr>\n    <tr>\n      <th>31</th>\n      <td>DANG SHEN</td>\n      <td>glucose</td>\n    </tr>\n    <tr>\n      <th>32</th>\n      <td>DANG SHEN</td>\n      <td>glucose</td>\n    </tr>\n    <tr>\n      <th>33</th>\n      <td>DANG SHEN</td>\n      <td>phenol</td>\n    </tr>\n    <tr>\n      <th>34</th>\n      <td>DANG SHEN</td>\n      <td>fucose</td>\n    </tr>\n    <tr>\n      <th>35</th>\n      <td>DANG SHEN</td>\n      <td>tryptophan</td>\n    </tr>\n    <tr>\n      <th>36</th>\n      <td>HUANG QIN</td>\n      <td>linoleic acid</td>\n    </tr>\n    <tr>\n      <th>37</th>\n      <td>HUANG QIN</td>\n      <td>eugenol</td>\n    </tr>\n    <tr>\n      <th>38</th>\n      <td>HUANG QIN</td>\n      <td>wogonin</td>\n    </tr>\n    <tr>\n      <th>39</th>\n      <td>SHENG JIANG</td>\n      <td>cyclohexane</td>\n    </tr>\n    <tr>\n      <th>40</th>\n      <td>SHENG JIANG</td>\n      <td>linoleic acid</td>\n    </tr>\n    <tr>\n      <th>41</th>\n      <td>SHENG JIANG</td>\n      <td>acetaldehyde</td>\n    </tr>\n    <tr>\n      <th>42</th>\n      <td>SHENG JIANG</td>\n      <td>eugenol</td>\n    </tr>\n    <tr>\n      <th>43</th>\n      <td>SHENG JIANG</td>\n      <td>menthol</td>\n    </tr>\n    <tr>\n      <th>44</th>\n      <td>SHENG JIANG</td>\n      <td>ethanol</td>\n    </tr>\n  </tbody>\n</table>\n</div>"
     },
     "execution_count": 5,
     "metadata": {},
     "output_type": "execute_result"
    }
   ],
   "source": [
    "tcm_chem_links"
   ],
   "metadata": {
    "collapsed": false,
    "ExecuteTime": {
     "end_time": "2023-06-03T04:20:17.437284100Z",
     "start_time": "2023-06-03T04:20:17.321290800Z"
    }
   }
  },
  {
   "cell_type": "code",
   "execution_count": 6,
   "outputs": [
    {
     "data": {
      "text/plain": "      HVCID               Name  \\\n0   HVC0026       acetaldehyde   \n1   HVC0036            glucose   \n2   HVC0055            butanol   \n3   HVC0056           butyrate   \n4   HVC0094          aspartate   \n5   HVC0095  isoliquiritigenin   \n6   HVC0118           carotene   \n7   HVC0125            alanine   \n8   HVC0146            ethanol   \n9   HVC0183             fucose   \n10  HVC0190            leucine   \n11  HVC0230             phenol   \n12  HVC0273         tryptophan   \n13  HVC0286           L-valine   \n14  HVC0298            menthol   \n15  HVC0384          capsaicin   \n16  HVC0462            eugenol   \n17  HVC0533      linoleic acid   \n18  HVC0610          protopine   \n19  HVC0817           biphenyl   \n20  HVC1036        cyclohexane   \n21  HVC2710      fangchinoline   \n22  HVC5478              rutin   \n23  HVC5535            wogonin   \n\n                                               SMILES      CAS_id  PubChem_id  \\\n0                                                CC=O     75-07-0       177.0   \n1                            C(C1C(C(C(C(O1)O)O)O)O)O         NaN         NaN   \n2                                               CCCCO         NaN       263.0   \n3                                           CCCC(=O)O    107-92-6       264.0   \n4                                 C(C(C(=O)O)N)C(=O)O  39162-75-9      5960.0   \n5             C1=CC(=CC=C1C=CC(=O)C2=C(C=C(C=C2)O)O)O         NaN    638278.0   \n6   CC1=C(C(CCC1)(C)C)C=CC(=CC=CC(=CC=CC=C(C)C=CC=...   7235-40-7   5280489.0   \n7                                         CC(C(=O)O)N         NaN     71080.0   \n8                                                 CCO         NaN       702.0   \n9                               CC1C(C(C(C(O1)O)O)O)O         NaN     17106.0   \n10                                   CC(C)CC(C(=O)O)N    328-38-1    439524.0   \n11                                     C1=CC=C(C=C1)O         NaN       996.0   \n12                   C1=CC=C2C(=C1)C(=CN2)CC(C(=O)O)N    153-94-6      9060.0   \n13                                    CC(C)C(C(=O)O)N  16872-32-5      6287.0   \n14                                CC1CCC(C(C1)O)C(C)C         NaN         NaN   \n15              CC(C)C=CCCCCC(=O)NCC1=CC(=C(C=C1)O)OC         NaN         NaN   \n16                             COC1=C(C=CC(=C1)CC=C)O         NaN      3314.0   \n17                          CCCCCC=CCC=CCCCCCCCC(=O)O         NaN   5282797.0   \n18  CN1CCC2=CC3=C(C=C2C(=O)CC4=C(C1)C5=C(C=C4)OCO5...    130-86-9      4970.0   \n19                           C1=CC=C(C=C1)C2=CC=CC=C2         NaN      7095.0   \n20                                           C1CCCCC1  25012-93-5      8078.0   \n21  CN1CCC2=CC(=C3C=C2C1CC4=CC=C(C=C4)OC5=C(C=CC(=...         NaN    321937.0   \n22  CC1C(C(C(C(O1)OCC2C(C(C(C(O2)OC3=C(OC4=CC(=CC(...  18834-75-8  10371536.0   \n23          COC1=C(C=C(C2=C1OC(=CC2=O)C3=CC=CC=C3)O)O    632-85-9   5281703.0   \n\n   DrugBank_id     STITCH_id     HERB_id  Importance Score  \n0          NaN  CIDm00000177  HBIN014388           0.52100  \n1          NaN  CIDm00000206  HBIN001003           0.86500  \n2          NaN  CIDm00000263  HBIN002425           0.39000  \n3      DB03568  CIDm00000264  HBIN018952           0.25600  \n4      DB00128  CIDm00000424  HBIN017056           0.39000  \n5          NaN  CIDm00000425  HBIN004214           0.25600  \n6      DB06755  CIDm00000573  HBIN018006           0.25600  \n7          NaN  CIDm00000602  HBIN015035           0.39000  \n8          NaN  CIDm00000702  HBIN015097           0.33900  \n9          NaN  CIDm00000840  HBIN026805           0.35572  \n10         NaN  CIDm00000857  HBIN024306           0.42000  \n11         NaN  CIDm00000996  HBIN029699           0.52100  \n12         NaN  CIDm00001148  HBIN024532           0.37400  \n13         NaN  CIDm00001182  HBIN033890           0.37400  \n14         NaN  CIDm00001254  HBIN002278           0.25600  \n15         NaN  CIDm00002548  HBIN019514           0.25600  \n16         NaN  CIDm00003314  HBIN019831           0.25600  \n17         NaN  CIDm00003931  HBIN013995           0.25300  \n18         NaN  CIDm00004970  HBIN026829           0.27500  \n19         NaN  CIDm00007095  HBIN018538           0.25600  \n20         NaN  CIDm00008078  HBIN020521           0.37400  \n21         NaN  CIDm00073481  HBIN023260           0.25600  \n22         NaN  CIDm05280805  HBIN018533           0.25600  \n23         NaN  CIDm05281703  HBIN048372           0.25600  ",
      "text/html": "<div>\n<style scoped>\n    .dataframe tbody tr th:only-of-type {\n        vertical-align: middle;\n    }\n\n    .dataframe tbody tr th {\n        vertical-align: top;\n    }\n\n    .dataframe thead th {\n        text-align: right;\n    }\n</style>\n<table border=\"1\" class=\"dataframe\">\n  <thead>\n    <tr style=\"text-align: right;\">\n      <th></th>\n      <th>HVCID</th>\n      <th>Name</th>\n      <th>SMILES</th>\n      <th>CAS_id</th>\n      <th>PubChem_id</th>\n      <th>DrugBank_id</th>\n      <th>STITCH_id</th>\n      <th>HERB_id</th>\n      <th>Importance Score</th>\n    </tr>\n  </thead>\n  <tbody>\n    <tr>\n      <th>0</th>\n      <td>HVC0026</td>\n      <td>acetaldehyde</td>\n      <td>CC=O</td>\n      <td>75-07-0</td>\n      <td>177.0</td>\n      <td>NaN</td>\n      <td>CIDm00000177</td>\n      <td>HBIN014388</td>\n      <td>0.52100</td>\n    </tr>\n    <tr>\n      <th>1</th>\n      <td>HVC0036</td>\n      <td>glucose</td>\n      <td>C(C1C(C(C(C(O1)O)O)O)O)O</td>\n      <td>NaN</td>\n      <td>NaN</td>\n      <td>NaN</td>\n      <td>CIDm00000206</td>\n      <td>HBIN001003</td>\n      <td>0.86500</td>\n    </tr>\n    <tr>\n      <th>2</th>\n      <td>HVC0055</td>\n      <td>butanol</td>\n      <td>CCCCO</td>\n      <td>NaN</td>\n      <td>263.0</td>\n      <td>NaN</td>\n      <td>CIDm00000263</td>\n      <td>HBIN002425</td>\n      <td>0.39000</td>\n    </tr>\n    <tr>\n      <th>3</th>\n      <td>HVC0056</td>\n      <td>butyrate</td>\n      <td>CCCC(=O)O</td>\n      <td>107-92-6</td>\n      <td>264.0</td>\n      <td>DB03568</td>\n      <td>CIDm00000264</td>\n      <td>HBIN018952</td>\n      <td>0.25600</td>\n    </tr>\n    <tr>\n      <th>4</th>\n      <td>HVC0094</td>\n      <td>aspartate</td>\n      <td>C(C(C(=O)O)N)C(=O)O</td>\n      <td>39162-75-9</td>\n      <td>5960.0</td>\n      <td>DB00128</td>\n      <td>CIDm00000424</td>\n      <td>HBIN017056</td>\n      <td>0.39000</td>\n    </tr>\n    <tr>\n      <th>5</th>\n      <td>HVC0095</td>\n      <td>isoliquiritigenin</td>\n      <td>C1=CC(=CC=C1C=CC(=O)C2=C(C=C(C=C2)O)O)O</td>\n      <td>NaN</td>\n      <td>638278.0</td>\n      <td>NaN</td>\n      <td>CIDm00000425</td>\n      <td>HBIN004214</td>\n      <td>0.25600</td>\n    </tr>\n    <tr>\n      <th>6</th>\n      <td>HVC0118</td>\n      <td>carotene</td>\n      <td>CC1=C(C(CCC1)(C)C)C=CC(=CC=CC(=CC=CC=C(C)C=CC=...</td>\n      <td>7235-40-7</td>\n      <td>5280489.0</td>\n      <td>DB06755</td>\n      <td>CIDm00000573</td>\n      <td>HBIN018006</td>\n      <td>0.25600</td>\n    </tr>\n    <tr>\n      <th>7</th>\n      <td>HVC0125</td>\n      <td>alanine</td>\n      <td>CC(C(=O)O)N</td>\n      <td>NaN</td>\n      <td>71080.0</td>\n      <td>NaN</td>\n      <td>CIDm00000602</td>\n      <td>HBIN015035</td>\n      <td>0.39000</td>\n    </tr>\n    <tr>\n      <th>8</th>\n      <td>HVC0146</td>\n      <td>ethanol</td>\n      <td>CCO</td>\n      <td>NaN</td>\n      <td>702.0</td>\n      <td>NaN</td>\n      <td>CIDm00000702</td>\n      <td>HBIN015097</td>\n      <td>0.33900</td>\n    </tr>\n    <tr>\n      <th>9</th>\n      <td>HVC0183</td>\n      <td>fucose</td>\n      <td>CC1C(C(C(C(O1)O)O)O)O</td>\n      <td>NaN</td>\n      <td>17106.0</td>\n      <td>NaN</td>\n      <td>CIDm00000840</td>\n      <td>HBIN026805</td>\n      <td>0.35572</td>\n    </tr>\n    <tr>\n      <th>10</th>\n      <td>HVC0190</td>\n      <td>leucine</td>\n      <td>CC(C)CC(C(=O)O)N</td>\n      <td>328-38-1</td>\n      <td>439524.0</td>\n      <td>NaN</td>\n      <td>CIDm00000857</td>\n      <td>HBIN024306</td>\n      <td>0.42000</td>\n    </tr>\n    <tr>\n      <th>11</th>\n      <td>HVC0230</td>\n      <td>phenol</td>\n      <td>C1=CC=C(C=C1)O</td>\n      <td>NaN</td>\n      <td>996.0</td>\n      <td>NaN</td>\n      <td>CIDm00000996</td>\n      <td>HBIN029699</td>\n      <td>0.52100</td>\n    </tr>\n    <tr>\n      <th>12</th>\n      <td>HVC0273</td>\n      <td>tryptophan</td>\n      <td>C1=CC=C2C(=C1)C(=CN2)CC(C(=O)O)N</td>\n      <td>153-94-6</td>\n      <td>9060.0</td>\n      <td>NaN</td>\n      <td>CIDm00001148</td>\n      <td>HBIN024532</td>\n      <td>0.37400</td>\n    </tr>\n    <tr>\n      <th>13</th>\n      <td>HVC0286</td>\n      <td>L-valine</td>\n      <td>CC(C)C(C(=O)O)N</td>\n      <td>16872-32-5</td>\n      <td>6287.0</td>\n      <td>NaN</td>\n      <td>CIDm00001182</td>\n      <td>HBIN033890</td>\n      <td>0.37400</td>\n    </tr>\n    <tr>\n      <th>14</th>\n      <td>HVC0298</td>\n      <td>menthol</td>\n      <td>CC1CCC(C(C1)O)C(C)C</td>\n      <td>NaN</td>\n      <td>NaN</td>\n      <td>NaN</td>\n      <td>CIDm00001254</td>\n      <td>HBIN002278</td>\n      <td>0.25600</td>\n    </tr>\n    <tr>\n      <th>15</th>\n      <td>HVC0384</td>\n      <td>capsaicin</td>\n      <td>CC(C)C=CCCCCC(=O)NCC1=CC(=C(C=C1)O)OC</td>\n      <td>NaN</td>\n      <td>NaN</td>\n      <td>NaN</td>\n      <td>CIDm00002548</td>\n      <td>HBIN019514</td>\n      <td>0.25600</td>\n    </tr>\n    <tr>\n      <th>16</th>\n      <td>HVC0462</td>\n      <td>eugenol</td>\n      <td>COC1=C(C=CC(=C1)CC=C)O</td>\n      <td>NaN</td>\n      <td>3314.0</td>\n      <td>NaN</td>\n      <td>CIDm00003314</td>\n      <td>HBIN019831</td>\n      <td>0.25600</td>\n    </tr>\n    <tr>\n      <th>17</th>\n      <td>HVC0533</td>\n      <td>linoleic acid</td>\n      <td>CCCCCC=CCC=CCCCCCCCC(=O)O</td>\n      <td>NaN</td>\n      <td>5282797.0</td>\n      <td>NaN</td>\n      <td>CIDm00003931</td>\n      <td>HBIN013995</td>\n      <td>0.25300</td>\n    </tr>\n    <tr>\n      <th>18</th>\n      <td>HVC0610</td>\n      <td>protopine</td>\n      <td>CN1CCC2=CC3=C(C=C2C(=O)CC4=C(C1)C5=C(C=C4)OCO5...</td>\n      <td>130-86-9</td>\n      <td>4970.0</td>\n      <td>NaN</td>\n      <td>CIDm00004970</td>\n      <td>HBIN026829</td>\n      <td>0.27500</td>\n    </tr>\n    <tr>\n      <th>19</th>\n      <td>HVC0817</td>\n      <td>biphenyl</td>\n      <td>C1=CC=C(C=C1)C2=CC=CC=C2</td>\n      <td>NaN</td>\n      <td>7095.0</td>\n      <td>NaN</td>\n      <td>CIDm00007095</td>\n      <td>HBIN018538</td>\n      <td>0.25600</td>\n    </tr>\n    <tr>\n      <th>20</th>\n      <td>HVC1036</td>\n      <td>cyclohexane</td>\n      <td>C1CCCCC1</td>\n      <td>25012-93-5</td>\n      <td>8078.0</td>\n      <td>NaN</td>\n      <td>CIDm00008078</td>\n      <td>HBIN020521</td>\n      <td>0.37400</td>\n    </tr>\n    <tr>\n      <th>21</th>\n      <td>HVC2710</td>\n      <td>fangchinoline</td>\n      <td>CN1CCC2=CC(=C3C=C2C1CC4=CC=C(C=C4)OC5=C(C=CC(=...</td>\n      <td>NaN</td>\n      <td>321937.0</td>\n      <td>NaN</td>\n      <td>CIDm00073481</td>\n      <td>HBIN023260</td>\n      <td>0.25600</td>\n    </tr>\n    <tr>\n      <th>22</th>\n      <td>HVC5478</td>\n      <td>rutin</td>\n      <td>CC1C(C(C(C(O1)OCC2C(C(C(C(O2)OC3=C(OC4=CC(=CC(...</td>\n      <td>18834-75-8</td>\n      <td>10371536.0</td>\n      <td>NaN</td>\n      <td>CIDm05280805</td>\n      <td>HBIN018533</td>\n      <td>0.25600</td>\n    </tr>\n    <tr>\n      <th>23</th>\n      <td>HVC5535</td>\n      <td>wogonin</td>\n      <td>COC1=C(C=C(C2=C1OC(=CC2=O)C3=CC=CC=C3)O)O</td>\n      <td>632-85-9</td>\n      <td>5281703.0</td>\n      <td>NaN</td>\n      <td>CIDm05281703</td>\n      <td>HBIN048372</td>\n      <td>0.25600</td>\n    </tr>\n  </tbody>\n</table>\n</div>"
     },
     "execution_count": 6,
     "metadata": {},
     "output_type": "execute_result"
    }
   ],
   "source": [
    "chem"
   ],
   "metadata": {
    "collapsed": false,
    "ExecuteTime": {
     "end_time": "2023-06-03T04:20:17.927098100Z",
     "start_time": "2023-06-03T04:20:17.832104700Z"
    }
   }
  },
  {
   "cell_type": "code",
   "execution_count": 7,
   "outputs": [
    {
     "data": {
      "text/plain": "                HVCID Ensembl_ID  Combined_score\n0        acetaldehyde    TMPRSS2           0.256\n1             glucose    TMPRSS2           0.256\n2             butanol    TMPRSS2           0.256\n3            butyrate    TMPRSS2           0.374\n4           aspartate    TMPRSS2           0.256\n5   isoliquiritigenin    TMPRSS2           0.275\n6            carotene    TMPRSS2           0.253\n7             alanine    TMPRSS2           0.256\n8             ethanol    TMPRSS2           0.256\n9              fucose    TMPRSS2           0.256\n10             fucose    TMPRSS2           0.374\n11            leucine    TMPRSS2           0.374\n12             phenol    TMPRSS2           0.521\n13         tryptophan    TMPRSS2           0.420\n14           L-valine       ACE2           0.233\n15            menthol    TMPRSS2           0.160\n16          capsaicin    TMPRSS2           0.339\n17            eugenol    TMPRSS2           0.390\n18      linoleic acid    TMPRSS2           0.256\n19          protopine    TMPRSS2           0.256\n20           biphenyl    TMPRSS2           0.390\n21        cyclohexane    TMPRSS2           0.256\n22      fangchinoline    TMPRSS2           0.390\n23              rutin       ACE2           0.865\n24            wogonin    TMPRSS2           0.521",
      "text/html": "<div>\n<style scoped>\n    .dataframe tbody tr th:only-of-type {\n        vertical-align: middle;\n    }\n\n    .dataframe tbody tr th {\n        vertical-align: top;\n    }\n\n    .dataframe thead th {\n        text-align: right;\n    }\n</style>\n<table border=\"1\" class=\"dataframe\">\n  <thead>\n    <tr style=\"text-align: right;\">\n      <th></th>\n      <th>HVCID</th>\n      <th>Ensembl_ID</th>\n      <th>Combined_score</th>\n    </tr>\n  </thead>\n  <tbody>\n    <tr>\n      <th>0</th>\n      <td>acetaldehyde</td>\n      <td>TMPRSS2</td>\n      <td>0.256</td>\n    </tr>\n    <tr>\n      <th>1</th>\n      <td>glucose</td>\n      <td>TMPRSS2</td>\n      <td>0.256</td>\n    </tr>\n    <tr>\n      <th>2</th>\n      <td>butanol</td>\n      <td>TMPRSS2</td>\n      <td>0.256</td>\n    </tr>\n    <tr>\n      <th>3</th>\n      <td>butyrate</td>\n      <td>TMPRSS2</td>\n      <td>0.374</td>\n    </tr>\n    <tr>\n      <th>4</th>\n      <td>aspartate</td>\n      <td>TMPRSS2</td>\n      <td>0.256</td>\n    </tr>\n    <tr>\n      <th>5</th>\n      <td>isoliquiritigenin</td>\n      <td>TMPRSS2</td>\n      <td>0.275</td>\n    </tr>\n    <tr>\n      <th>6</th>\n      <td>carotene</td>\n      <td>TMPRSS2</td>\n      <td>0.253</td>\n    </tr>\n    <tr>\n      <th>7</th>\n      <td>alanine</td>\n      <td>TMPRSS2</td>\n      <td>0.256</td>\n    </tr>\n    <tr>\n      <th>8</th>\n      <td>ethanol</td>\n      <td>TMPRSS2</td>\n      <td>0.256</td>\n    </tr>\n    <tr>\n      <th>9</th>\n      <td>fucose</td>\n      <td>TMPRSS2</td>\n      <td>0.256</td>\n    </tr>\n    <tr>\n      <th>10</th>\n      <td>fucose</td>\n      <td>TMPRSS2</td>\n      <td>0.374</td>\n    </tr>\n    <tr>\n      <th>11</th>\n      <td>leucine</td>\n      <td>TMPRSS2</td>\n      <td>0.374</td>\n    </tr>\n    <tr>\n      <th>12</th>\n      <td>phenol</td>\n      <td>TMPRSS2</td>\n      <td>0.521</td>\n    </tr>\n    <tr>\n      <th>13</th>\n      <td>tryptophan</td>\n      <td>TMPRSS2</td>\n      <td>0.420</td>\n    </tr>\n    <tr>\n      <th>14</th>\n      <td>L-valine</td>\n      <td>ACE2</td>\n      <td>0.233</td>\n    </tr>\n    <tr>\n      <th>15</th>\n      <td>menthol</td>\n      <td>TMPRSS2</td>\n      <td>0.160</td>\n    </tr>\n    <tr>\n      <th>16</th>\n      <td>capsaicin</td>\n      <td>TMPRSS2</td>\n      <td>0.339</td>\n    </tr>\n    <tr>\n      <th>17</th>\n      <td>eugenol</td>\n      <td>TMPRSS2</td>\n      <td>0.390</td>\n    </tr>\n    <tr>\n      <th>18</th>\n      <td>linoleic acid</td>\n      <td>TMPRSS2</td>\n      <td>0.256</td>\n    </tr>\n    <tr>\n      <th>19</th>\n      <td>protopine</td>\n      <td>TMPRSS2</td>\n      <td>0.256</td>\n    </tr>\n    <tr>\n      <th>20</th>\n      <td>biphenyl</td>\n      <td>TMPRSS2</td>\n      <td>0.390</td>\n    </tr>\n    <tr>\n      <th>21</th>\n      <td>cyclohexane</td>\n      <td>TMPRSS2</td>\n      <td>0.256</td>\n    </tr>\n    <tr>\n      <th>22</th>\n      <td>fangchinoline</td>\n      <td>TMPRSS2</td>\n      <td>0.390</td>\n    </tr>\n    <tr>\n      <th>23</th>\n      <td>rutin</td>\n      <td>ACE2</td>\n      <td>0.865</td>\n    </tr>\n    <tr>\n      <th>24</th>\n      <td>wogonin</td>\n      <td>TMPRSS2</td>\n      <td>0.521</td>\n    </tr>\n  </tbody>\n</table>\n</div>"
     },
     "execution_count": 7,
     "metadata": {},
     "output_type": "execute_result"
    }
   ],
   "source": [
    "chem_protein_links"
   ],
   "metadata": {
    "collapsed": false,
    "ExecuteTime": {
     "end_time": "2023-06-03T04:20:19.038467200Z",
     "start_time": "2023-06-03T04:20:18.980434900Z"
    }
   }
  },
  {
   "cell_type": "code",
   "execution_count": 8,
   "outputs": [
    {
     "data": {
      "text/plain": "        Ensembl_ID protein_name gene_name\n0  ENSP00000381588          NaN   TMPRSS2\n1  ENSP00000252519          NaN      ACE2",
      "text/html": "<div>\n<style scoped>\n    .dataframe tbody tr th:only-of-type {\n        vertical-align: middle;\n    }\n\n    .dataframe tbody tr th {\n        vertical-align: top;\n    }\n\n    .dataframe thead th {\n        text-align: right;\n    }\n</style>\n<table border=\"1\" class=\"dataframe\">\n  <thead>\n    <tr style=\"text-align: right;\">\n      <th></th>\n      <th>Ensembl_ID</th>\n      <th>protein_name</th>\n      <th>gene_name</th>\n    </tr>\n  </thead>\n  <tbody>\n    <tr>\n      <th>0</th>\n      <td>ENSP00000381588</td>\n      <td>NaN</td>\n      <td>TMPRSS2</td>\n    </tr>\n    <tr>\n      <th>1</th>\n      <td>ENSP00000252519</td>\n      <td>NaN</td>\n      <td>ACE2</td>\n    </tr>\n  </tbody>\n</table>\n</div>"
     },
     "execution_count": 8,
     "metadata": {},
     "output_type": "execute_result"
    }
   ],
   "source": [
    "proteins"
   ],
   "metadata": {
    "collapsed": false,
    "ExecuteTime": {
     "end_time": "2023-06-03T04:20:20.613702900Z",
     "start_time": "2023-06-03T04:20:20.578105600Z"
    }
   }
  },
  {
   "cell_type": "code",
   "execution_count": 31,
   "outputs": [],
   "source": [],
   "metadata": {
    "collapsed": false,
    "ExecuteTime": {
     "end_time": "2023-05-30T02:15:01.225207100Z",
     "start_time": "2023-05-30T02:15:01.061630Z"
    }
   }
  }
 ],
 "metadata": {
  "kernelspec": {
   "display_name": "Python 3",
   "language": "python",
   "name": "python3"
  },
  "language_info": {
   "codemirror_mode": {
    "name": "ipython",
    "version": 2
   },
   "file_extension": ".py",
   "mimetype": "text/x-python",
   "name": "python",
   "nbconvert_exporter": "python",
   "pygments_lexer": "ipython2",
   "version": "2.7.6"
  }
 },
 "nbformat": 4,
 "nbformat_minor": 0
}
